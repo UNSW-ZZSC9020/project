{
 "cells": [
  {
   "cell_type": "markdown",
   "id": "b62e6d87-a025-46e8-8914-64bf9be8d066",
   "metadata": {},
   "source": [
    "# 2024 Project"
   ]
  },
  {
   "cell_type": "markdown",
   "id": "3010a285-3e9f-4ae3-b2f4-6dde75c55bb6",
   "metadata": {},
   "source": [
    "# NSW Electricity Demand Forecast"
   ]
  },
  {
   "cell_type": "markdown",
   "id": "827ff847-18b1-4bd1-8001-b5d8fc8d4859",
   "metadata": {},
   "source": [
    "## Methods\n",
    "There are multiple methods to be used for this problem, all of which have pros and cons. We used the following ones in our modeling after reseaching the data: \n",
    "\n",
    "\n",
    "**Linear Regression**\n",
    "\n",
    "Linear regression is a widely used statistical method for modeling relationships between variables. Compared to other models, it has following advantages: \n",
    "\n",
    "* Simplicity and Interpretability: Linear regression models are straightforward to understand and interpret. They provide clear insights into how each predictor variable impacts the target variable. This simplicity makes it easy to understand model outputs and decisions based on these outputs.\n",
    "\n",
    "* Efficiency: Linear regression can be computationally less intensive compared to more complex models. This makes it suitable for situations where computational resources are limited.\n",
    "\n",
    "* Speed: Due to its simplicity, linear regression models can be trained very quickly.\n",
    "\n",
    "* Less Data Required: Linear regression can perform well with a relatively small amount of data and does not require as much data as more complex models to provide useful insights.\n",
    "\n",
    "However when the relationship between variables is non-linear, Linear Regression does not work very well. In that case, we can consider an alternative to Linear Regression, such as XG-boost or others.\n",
    "\n",
    "**ARIMA (Autoregressive Integrated Moving Average)**\n",
    "\n",
    "ARIMA is a popular statistical method for forecasting time series data. This model incorporates both autoregressive (AR) and moving average (MA) components, along with a differencing pre-processing step to make the series stationary. Here are the advantages of using ARIMA modeling:\n",
    "\n",
    "* Flexibility: ARIMA models can be configured in numerous ways to adapt to the specific characteristics of a time series, such as the presence of trends or seasonal patterns. By adjusting its parameters (p, d, q) and seasonal components (P, D, Q, s), ARIMA can be tailored to fit a wide range of time series.\n",
    "\n",
    "* Predictive Power: When properly fitted, ARIMA models can provide highly accurate forecasts for time series data, assuming that future patterns and trends will follow those in the past.\n",
    "\n",
    "* Statistical Foundation: ARIMA is based on solid statistical foundations, providing confidence intervals and significance tests for its forecasts, which are valuable for understanding the reliability of predictions."
   ]
  },
  {
   "cell_type": "markdown",
   "id": "636346b9-e851-450d-9b15-51127275341b",
   "metadata": {},
   "source": [
    "## Tools\n",
    "\n",
    "1. GitHub\n",
    "\n",
    "GitHub is a platform for version control and collaboration. It allows our team to work together on projects from anywhere, managing the code in repositories.\n",
    "\n",
    "We used it to track changes in software development projects, manage code histories, and facilitate collaboration among multiple contributors through features like issues, pull requests, and code reviews.\n",
    "\n",
    "2. Monday.com\n",
    "\n",
    "Monday.com is a versatile project management tool that helps teams plan, organize, and track work in a customizable workflow.\n",
    "\n",
    "We usede it for managing projects and tasks, tracking progress, and collaboration across teams.\n",
    "\n",
    "3. MS Office 365\n",
    "\n",
    "Function: Office 365 is a suite of cloud-based productivity and collaboration applications that includes Microsoft Word, Excel and others.\n",
    "\n",
    "We used the application Excel for to view datasets. \n",
    "\n",
    "4. Python\n",
    "\n",
    "Python is a high-level, interpreted programming language known for its easy readability and vast ecosystem of libraries.\n",
    "It is the major programing language we used in this project. \n",
    "\n",
    "5. Pandas\n",
    "\n",
    "Pandas is a Python library for data manipulation and analysis.It provides data structures and functions for working with structured data primarily used for data cleaning, transformation, and analysis. \n",
    "\n",
    "6. Matplotlib\n",
    "\n",
    "Matplotlib is a plotting library for the Python programming language.It is very flexible and powerful. We used it to do data visualization.\n",
    "\n",
    "7. Statsmodels\n",
    "\n",
    "Statsmodels is a Python module that provides classes and functions for the estimation of many different statistical models, as well as for conducting statistical tests and statistical data exploration.\n",
    "We used the time-series analysis model ARIMA to do the modeling.\n",
    "\n",
    "8. Scikit-learn\n",
    "\n",
    "Scikit-learn is a Python library for machine learning that provides simple and efficient tools for data mining and data analysis.\n",
    "\n",
    "We used Scikit-learn to do tran-test-split, Linear Regresison modeling, Polynomial Regression modeling, and check the errors of the models. \n",
    "\n",
    "9. Jupyter Notebook\n",
    "\n",
    "Jupyter Notebook is an open-source web application that allows us to create and share documents that contain live code, equations, visualizations, and narrative text.\n",
    "\n",
    "We used it for data cleaning and transformation, numerical simulation, statistical modeling, data visualization, machine learning, and much more. It supports interactive data science and scientific computing Python. We can also use it to export reports. "
   ]
  },
  {
   "cell_type": "markdown",
   "id": "dc430d97-9267-4567-ab5f-e05201606a32",
   "metadata": {
    "tags": []
   },
   "source": [
    "## Data Exploration"
   ]
  },
  {
   "cell_type": "markdown",
   "id": "cc467fa7-8acb-4b02-93e8-22f02341f636",
   "metadata": {},
   "source": [
    "### Read Data"
   ]
  },
  {
   "cell_type": "markdown",
   "id": "4261fa6d-2711-4b7f-a12e-7f3585a3cbce",
   "metadata": {},
   "source": [
    "We use 6 data sources: \n",
    "\n",
    "* temperature_nsw.csv (provided by the course)\n",
    "\n",
    "This dataset has 3 columns: location, datetime and temperature. \"location\" is always Bankstown so we don't need to include it in our analysis or modeling. \"datetime\" has a granuality of roughly 30mins, and that is the granulity in our short-term models. \"temperature\" column contains the temperature column. From the dataset, it is reasonable to believe the unit is celsius degree.\n",
    "\n",
    "* totaldemand_nsw.csv (provided by the course)\n",
    "\n",
    "This dataset has 3 columns: datetime, totaldemand, regionid. \"datetime\" has a granuality of roughly 30mins, the same as temperature_nsw.csv. \"totoldemand\" is the Y value we want to predict. Although the unit is unclear, it does no impact us on modeling. \"regeionid\" is always \"NSW1\" and we don't need to include it into our models.\n",
    "\n",
    "* population_nsw.csv (collected from the [website of Austraian Bureau of Statistics](https://www.abs.gov.au/statistics/people/population/national-state-and-territory-population/dec-2022))\n",
    "\n",
    "This dataset has 2 columns: time and population. \"time\" has a granuality of 3 months, which is very different from the dataset of temperature_nse.csv or totaldemand_nsw.csv. Even though the time granuality of this dataset is different, we still want to include it into out modeling, because it is reasonable to believe there is a correlation between population and totaldemand. So to do the prediction correctly, we can transfer the granuality of the totaldemand to 3 months and creat new Y values. This process will be displayed in following sections.\n",
    "\n",
    "\n",
    "* GDP.csv (collected from the [website of Austraian Bureau of Statistics](https://www.abs.gov.au/statistics/economy/national-accounts/australian-national-accounts-national-income-expenditure-and-product/latest-release#state-and-territory-final-demand))\n",
    "\n",
    "This dataset has two columns: time and gdp. Same as population_nsw.csv, the granuality of time is also 3 months. We found this dataset online. We could only found GDP of the whole Australia but not NSW. Forturenatley the absolution value of GDP is not important. What matters is the change/trend. We can assume NSW consistently take a fixed portion of the whole Australian GDP and include this variable into our modeling.\n",
    "\n",
    "* electricity_price_nsw.csv (collected from [CEIC's website](https://www.ceicdata.com/en/australia/electricity-prices/electricity-average-peak-price-new-south-wales))\n",
    "\n",
    "This dataset has 3 columns: year, region, avgrrp. \"year\" has a granuality of 1 year, which is different from the above 30mins or 3 months. So to inlcude this in our long-term modeling, we can assume the change is linear within each year. In this way we can convert the yearly data to quarterly data. \"region\" is always \"NSW\". \"avgrrp\" is the price.\n",
    "\n",
    "* home_solar_nsw.csv (collected from [Clean Energy Regulator, Australian Government](https://cleanenergyregulator.gov.au/markets/reports-and-data/small-scale-installation-postcode-data#installation-numbers-for-small-scale-systems-by-state/territory)). \n",
    "\n",
    "This dataset has 3 columns: year, nsw, solar_install. \"nsw\" is the yearly installation of small-scale solar panels in NSW. And \"solar_install\" is the accumulated solr panel installation. We can also convert this yearly data to quarterly data for modeling.\n",
    "\n",
    "These datasets encompass crucial variables for our analysis, namely temperature, population, GDP, and energy demand. However, the GDP data reflects the national figure rather than being specific to New South Wales (NSW), as such detailed state-level data was not accessible. To adjust for this, we proceed under the assumption that GDP trends in NSW are representative of the national average, thereby applying the Australia-wide GDP statistics to our NSW-centric forecasting model."
   ]
  },
  {
   "cell_type": "code",
   "execution_count": 143,
   "id": "ff56ee96-734a-415e-9164-94d46a28c735",
   "metadata": {},
   "outputs": [],
   "source": [
    "# Import necessary libaraies\n",
    "import numpy as np\n",
    "import pandas as pd\n",
    "import matplotlib.pyplot as plt\n",
    "import seaborn as sns\n",
    "\n",
    "from sklearn.model_selection import train_test_split\n",
    "from sklearn.linear_model import LinearRegression\n",
    "from sklearn.metrics import mean_absolute_error, mean_absolute_percentage_error, mean_squared_error, r2_score\n",
    "from sklearn.preprocessing import PolynomialFeatures\n",
    "from statsmodels.tsa.stattools import adfuller\n",
    "from statsmodels.graphics.tsaplots import plot_acf, plot_pacf\n",
    "from statsmodels.tsa.arima.model import ARIMA\n",
    "from scipy import stats"
   ]
  },
  {
   "cell_type": "code",
   "execution_count": 2,
   "id": "daafd725-b333-42c0-b361-ed96c581464c",
   "metadata": {},
   "outputs": [],
   "source": [
    "# Read Temperature file\n",
    "df_temp = pd.read_csv('../data/NSW/temperature_nsw.csv')\n",
    "df_temp.columns = df_temp.columns.str.lower()"
   ]
  },
  {
   "cell_type": "code",
   "execution_count": 3,
   "id": "7e72dab0-6d44-4e24-920a-f46f91693b34",
   "metadata": {},
   "outputs": [],
   "source": [
    "# Read totaldemand file\n",
    "df_demand = pd.read_csv('../data/NSW/totaldemand_nsw.csv')\n",
    "df_demand.columns = df_demand.columns.str.lower()"
   ]
  },
  {
   "cell_type": "code",
   "execution_count": 4,
   "id": "a0105768-40fe-4de9-acaf-b6f2fd765ccc",
   "metadata": {},
   "outputs": [],
   "source": [
    "# Read population file\n",
    "df_population = pd.read_csv('../data/NSW/population_nsw.csv')\n",
    "df_population.columns = df_population.columns.str.lower()"
   ]
  },
  {
   "cell_type": "code",
   "execution_count": 5,
   "id": "085d6071-1026-44a1-931c-77a84144cef5",
   "metadata": {},
   "outputs": [],
   "source": [
    "# Read GDP file\n",
    "df_gdp = pd.read_csv('../data/NSW/GDP.csv')\n",
    "df_gdp.columns = df_gdp.columns.str.lower()"
   ]
  },
  {
   "cell_type": "code",
   "execution_count": 74,
   "id": "2caddc3a-6710-40c8-ad98-f7ad6ed80dcd",
   "metadata": {},
   "outputs": [],
   "source": [
    "# Read Eelectricity price file\n",
    "df_electricity_price = pd.read_csv('../data/NSW/electricity_price_nsw.csv')\n",
    "df_electricity_price.columns = df_electricity_price.columns.str.lower()"
   ]
  },
  {
   "cell_type": "code",
   "execution_count": 77,
   "id": "084aa114-203f-4f47-a610-30be0728c507",
   "metadata": {},
   "outputs": [],
   "source": [
    "# Read Small Scall Solar Install file \n",
    "df_solar_install = pd.read_csv('../data/NSW/home_solar_nsw.csv')\n",
    "df_solar_install.columns = df_solar_install.columns.str.lower()"
   ]
  },
  {
   "cell_type": "markdown",
   "id": "fd323c3a-0c7e-42e0-8462-860f065a3641",
   "metadata": {},
   "source": [
    "### First glance at the data"
   ]
  },
  {
   "cell_type": "code",
   "execution_count": 6,
   "id": "58459234-39f8-4139-94c6-b22ac2cf13dd",
   "metadata": {},
   "outputs": [
    {
     "data": {
      "text/html": [
       "<div>\n",
       "<style scoped>\n",
       "    .dataframe tbody tr th:only-of-type {\n",
       "        vertical-align: middle;\n",
       "    }\n",
       "\n",
       "    .dataframe tbody tr th {\n",
       "        vertical-align: top;\n",
       "    }\n",
       "\n",
       "    .dataframe thead th {\n",
       "        text-align: right;\n",
       "    }\n",
       "</style>\n",
       "<table border=\"1\" class=\"dataframe\">\n",
       "  <thead>\n",
       "    <tr style=\"text-align: right;\">\n",
       "      <th></th>\n",
       "      <th>location</th>\n",
       "      <th>datetime</th>\n",
       "      <th>temperature</th>\n",
       "    </tr>\n",
       "  </thead>\n",
       "  <tbody>\n",
       "    <tr>\n",
       "      <th>0</th>\n",
       "      <td>Bankstown</td>\n",
       "      <td>1/1/2010 0:00</td>\n",
       "      <td>23.1</td>\n",
       "    </tr>\n",
       "    <tr>\n",
       "      <th>1</th>\n",
       "      <td>Bankstown</td>\n",
       "      <td>1/1/2010 0:01</td>\n",
       "      <td>23.1</td>\n",
       "    </tr>\n",
       "    <tr>\n",
       "      <th>2</th>\n",
       "      <td>Bankstown</td>\n",
       "      <td>1/1/2010 0:30</td>\n",
       "      <td>22.9</td>\n",
       "    </tr>\n",
       "    <tr>\n",
       "      <th>3</th>\n",
       "      <td>Bankstown</td>\n",
       "      <td>1/1/2010 0:50</td>\n",
       "      <td>22.7</td>\n",
       "    </tr>\n",
       "    <tr>\n",
       "      <th>4</th>\n",
       "      <td>Bankstown</td>\n",
       "      <td>1/1/2010 1:00</td>\n",
       "      <td>22.6</td>\n",
       "    </tr>\n",
       "  </tbody>\n",
       "</table>\n",
       "</div>"
      ],
      "text/plain": [
       "    location       datetime  temperature\n",
       "0  Bankstown  1/1/2010 0:00         23.1\n",
       "1  Bankstown  1/1/2010 0:01         23.1\n",
       "2  Bankstown  1/1/2010 0:30         22.9\n",
       "3  Bankstown  1/1/2010 0:50         22.7\n",
       "4  Bankstown  1/1/2010 1:00         22.6"
      ]
     },
     "execution_count": 6,
     "metadata": {},
     "output_type": "execute_result"
    }
   ],
   "source": [
    "df_temp.head()"
   ]
  },
  {
   "cell_type": "code",
   "execution_count": 7,
   "id": "5a10c801-60af-46d5-afad-347950ffe055",
   "metadata": {},
   "outputs": [
    {
     "data": {
      "text/plain": [
       "1"
      ]
     },
     "execution_count": 7,
     "metadata": {},
     "output_type": "execute_result"
    }
   ],
   "source": [
    "df_temp['location'].nunique()"
   ]
  },
  {
   "cell_type": "code",
   "execution_count": 8,
   "id": "cb0be7a1-6846-4279-98de-8c8c0dffb05d",
   "metadata": {},
   "outputs": [
    {
     "data": {
      "text/html": [
       "<div>\n",
       "<style scoped>\n",
       "    .dataframe tbody tr th:only-of-type {\n",
       "        vertical-align: middle;\n",
       "    }\n",
       "\n",
       "    .dataframe tbody tr th {\n",
       "        vertical-align: top;\n",
       "    }\n",
       "\n",
       "    .dataframe thead th {\n",
       "        text-align: right;\n",
       "    }\n",
       "</style>\n",
       "<table border=\"1\" class=\"dataframe\">\n",
       "  <thead>\n",
       "    <tr style=\"text-align: right;\">\n",
       "      <th></th>\n",
       "      <th>datetime</th>\n",
       "      <th>totaldemand</th>\n",
       "      <th>regionid</th>\n",
       "    </tr>\n",
       "  </thead>\n",
       "  <tbody>\n",
       "    <tr>\n",
       "      <th>0</th>\n",
       "      <td>1/1/2010 0:00</td>\n",
       "      <td>8038.00</td>\n",
       "      <td>NSW1</td>\n",
       "    </tr>\n",
       "    <tr>\n",
       "      <th>1</th>\n",
       "      <td>1/1/2010 0:30</td>\n",
       "      <td>7809.31</td>\n",
       "      <td>NSW1</td>\n",
       "    </tr>\n",
       "    <tr>\n",
       "      <th>2</th>\n",
       "      <td>1/1/2010 1:00</td>\n",
       "      <td>7483.69</td>\n",
       "      <td>NSW1</td>\n",
       "    </tr>\n",
       "    <tr>\n",
       "      <th>3</th>\n",
       "      <td>1/1/2010 1:30</td>\n",
       "      <td>7117.23</td>\n",
       "      <td>NSW1</td>\n",
       "    </tr>\n",
       "    <tr>\n",
       "      <th>4</th>\n",
       "      <td>1/1/2010 2:00</td>\n",
       "      <td>6812.03</td>\n",
       "      <td>NSW1</td>\n",
       "    </tr>\n",
       "  </tbody>\n",
       "</table>\n",
       "</div>"
      ],
      "text/plain": [
       "        datetime  totaldemand regionid\n",
       "0  1/1/2010 0:00      8038.00     NSW1\n",
       "1  1/1/2010 0:30      7809.31     NSW1\n",
       "2  1/1/2010 1:00      7483.69     NSW1\n",
       "3  1/1/2010 1:30      7117.23     NSW1\n",
       "4  1/1/2010 2:00      6812.03     NSW1"
      ]
     },
     "execution_count": 8,
     "metadata": {},
     "output_type": "execute_result"
    }
   ],
   "source": [
    "df_demand.head()"
   ]
  },
  {
   "cell_type": "code",
   "execution_count": 9,
   "id": "60c0d408-f444-447b-89ed-44a85c142d4b",
   "metadata": {},
   "outputs": [
    {
     "data": {
      "text/plain": [
       "1"
      ]
     },
     "execution_count": 9,
     "metadata": {},
     "output_type": "execute_result"
    }
   ],
   "source": [
    "df_demand['regionid'].nunique()"
   ]
  },
  {
   "cell_type": "code",
   "execution_count": 10,
   "id": "46bca85a-11b5-4ab2-a028-ee9fbaa0456e",
   "metadata": {},
   "outputs": [
    {
     "data": {
      "text/html": [
       "<div>\n",
       "<style scoped>\n",
       "    .dataframe tbody tr th:only-of-type {\n",
       "        vertical-align: middle;\n",
       "    }\n",
       "\n",
       "    .dataframe tbody tr th {\n",
       "        vertical-align: top;\n",
       "    }\n",
       "\n",
       "    .dataframe thead th {\n",
       "        text-align: right;\n",
       "    }\n",
       "</style>\n",
       "<table border=\"1\" class=\"dataframe\">\n",
       "  <thead>\n",
       "    <tr style=\"text-align: right;\">\n",
       "      <th></th>\n",
       "      <th>time</th>\n",
       "      <th>population</th>\n",
       "    </tr>\n",
       "  </thead>\n",
       "  <tbody>\n",
       "    <tr>\n",
       "      <th>0</th>\n",
       "      <td>Dec-2009</td>\n",
       "      <td>7101504</td>\n",
       "    </tr>\n",
       "    <tr>\n",
       "      <th>1</th>\n",
       "      <td>Mar-2010</td>\n",
       "      <td>7128356</td>\n",
       "    </tr>\n",
       "    <tr>\n",
       "      <th>2</th>\n",
       "      <td>Jun-2010</td>\n",
       "      <td>7144292</td>\n",
       "    </tr>\n",
       "    <tr>\n",
       "      <th>3</th>\n",
       "      <td>Sep-2010</td>\n",
       "      <td>7162726</td>\n",
       "    </tr>\n",
       "    <tr>\n",
       "      <th>4</th>\n",
       "      <td>Dec-2010</td>\n",
       "      <td>7179891</td>\n",
       "    </tr>\n",
       "  </tbody>\n",
       "</table>\n",
       "</div>"
      ],
      "text/plain": [
       "       time  population\n",
       "0  Dec-2009     7101504\n",
       "1  Mar-2010     7128356\n",
       "2  Jun-2010     7144292\n",
       "3  Sep-2010     7162726\n",
       "4  Dec-2010     7179891"
      ]
     },
     "execution_count": 10,
     "metadata": {},
     "output_type": "execute_result"
    }
   ],
   "source": [
    "df_population.head()"
   ]
  },
  {
   "cell_type": "code",
   "execution_count": 11,
   "id": "6463a209-7740-411f-a314-b85e697d0ac9",
   "metadata": {},
   "outputs": [
    {
     "data": {
      "text/html": [
       "<div>\n",
       "<style scoped>\n",
       "    .dataframe tbody tr th:only-of-type {\n",
       "        vertical-align: middle;\n",
       "    }\n",
       "\n",
       "    .dataframe tbody tr th {\n",
       "        vertical-align: top;\n",
       "    }\n",
       "\n",
       "    .dataframe thead th {\n",
       "        text-align: right;\n",
       "    }\n",
       "</style>\n",
       "<table border=\"1\" class=\"dataframe\">\n",
       "  <thead>\n",
       "    <tr style=\"text-align: right;\">\n",
       "      <th></th>\n",
       "      <th>time</th>\n",
       "      <th>gdp</th>\n",
       "    </tr>\n",
       "  </thead>\n",
       "  <tbody>\n",
       "    <tr>\n",
       "      <th>0</th>\n",
       "      <td>Dec-2009</td>\n",
       "      <td>334934</td>\n",
       "    </tr>\n",
       "    <tr>\n",
       "      <th>1</th>\n",
       "      <td>Mar-2010</td>\n",
       "      <td>314838</td>\n",
       "    </tr>\n",
       "    <tr>\n",
       "      <th>2</th>\n",
       "      <td>Jun-2010</td>\n",
       "      <td>340575</td>\n",
       "    </tr>\n",
       "    <tr>\n",
       "      <th>3</th>\n",
       "      <td>Sep-2010</td>\n",
       "      <td>345512</td>\n",
       "    </tr>\n",
       "    <tr>\n",
       "      <th>4</th>\n",
       "      <td>Dec-2010</td>\n",
       "      <td>365403</td>\n",
       "    </tr>\n",
       "  </tbody>\n",
       "</table>\n",
       "</div>"
      ],
      "text/plain": [
       "       time     gdp\n",
       "0  Dec-2009  334934\n",
       "1  Mar-2010  314838\n",
       "2  Jun-2010  340575\n",
       "3  Sep-2010  345512\n",
       "4  Dec-2010  365403"
      ]
     },
     "execution_count": 11,
     "metadata": {},
     "output_type": "execute_result"
    }
   ],
   "source": [
    "df_gdp.head()"
   ]
  },
  {
   "cell_type": "code",
   "execution_count": 75,
   "id": "be7af436-3960-4c48-8fbf-5d0311e9bfee",
   "metadata": {},
   "outputs": [
    {
     "data": {
      "text/html": [
       "<div>\n",
       "<style scoped>\n",
       "    .dataframe tbody tr th:only-of-type {\n",
       "        vertical-align: middle;\n",
       "    }\n",
       "\n",
       "    .dataframe tbody tr th {\n",
       "        vertical-align: top;\n",
       "    }\n",
       "\n",
       "    .dataframe thead th {\n",
       "        text-align: right;\n",
       "    }\n",
       "</style>\n",
       "<table border=\"1\" class=\"dataframe\">\n",
       "  <thead>\n",
       "    <tr style=\"text-align: right;\">\n",
       "      <th></th>\n",
       "      <th>year</th>\n",
       "      <th>region</th>\n",
       "      <th>avgrrp</th>\n",
       "    </tr>\n",
       "  </thead>\n",
       "  <tbody>\n",
       "    <tr>\n",
       "      <th>0</th>\n",
       "      <td>2010</td>\n",
       "      <td>NSW</td>\n",
       "      <td>44.19</td>\n",
       "    </tr>\n",
       "    <tr>\n",
       "      <th>1</th>\n",
       "      <td>2011</td>\n",
       "      <td>NSW</td>\n",
       "      <td>36.74</td>\n",
       "    </tr>\n",
       "    <tr>\n",
       "      <th>2</th>\n",
       "      <td>2012</td>\n",
       "      <td>NSW</td>\n",
       "      <td>29.67</td>\n",
       "    </tr>\n",
       "    <tr>\n",
       "      <th>3</th>\n",
       "      <td>2013</td>\n",
       "      <td>NSW</td>\n",
       "      <td>55.10</td>\n",
       "    </tr>\n",
       "    <tr>\n",
       "      <th>4</th>\n",
       "      <td>2014</td>\n",
       "      <td>NSW</td>\n",
       "      <td>52.26</td>\n",
       "    </tr>\n",
       "  </tbody>\n",
       "</table>\n",
       "</div>"
      ],
      "text/plain": [
       "   year region  avgrrp\n",
       "0  2010    NSW   44.19\n",
       "1  2011    NSW   36.74\n",
       "2  2012    NSW   29.67\n",
       "3  2013    NSW   55.10\n",
       "4  2014    NSW   52.26"
      ]
     },
     "execution_count": 75,
     "metadata": {},
     "output_type": "execute_result"
    }
   ],
   "source": [
    "df_electricity_price.head()"
   ]
  },
  {
   "cell_type": "code",
   "execution_count": 78,
   "id": "4ae66507-a67e-4d52-b8ea-26f66523f09c",
   "metadata": {},
   "outputs": [
    {
     "data": {
      "text/html": [
       "<div>\n",
       "<style scoped>\n",
       "    .dataframe tbody tr th:only-of-type {\n",
       "        vertical-align: middle;\n",
       "    }\n",
       "\n",
       "    .dataframe tbody tr th {\n",
       "        vertical-align: top;\n",
       "    }\n",
       "\n",
       "    .dataframe thead th {\n",
       "        text-align: right;\n",
       "    }\n",
       "</style>\n",
       "<table border=\"1\" class=\"dataframe\">\n",
       "  <thead>\n",
       "    <tr style=\"text-align: right;\">\n",
       "      <th></th>\n",
       "      <th>year</th>\n",
       "      <th>nsw</th>\n",
       "      <th>solar_install</th>\n",
       "    </tr>\n",
       "  </thead>\n",
       "  <tbody>\n",
       "    <tr>\n",
       "      <th>0</th>\n",
       "      <td>2009</td>\n",
       "      <td>14,008</td>\n",
       "      <td>14,008</td>\n",
       "    </tr>\n",
       "    <tr>\n",
       "      <th>1</th>\n",
       "      <td>2010</td>\n",
       "      <td>69,988</td>\n",
       "      <td>83,996</td>\n",
       "    </tr>\n",
       "    <tr>\n",
       "      <th>2</th>\n",
       "      <td>2011</td>\n",
       "      <td>80,272</td>\n",
       "      <td>164,268</td>\n",
       "    </tr>\n",
       "    <tr>\n",
       "      <th>3</th>\n",
       "      <td>2012</td>\n",
       "      <td>53,961</td>\n",
       "      <td>218,229</td>\n",
       "    </tr>\n",
       "    <tr>\n",
       "      <th>4</th>\n",
       "      <td>2013</td>\n",
       "      <td>33,998</td>\n",
       "      <td>252,227</td>\n",
       "    </tr>\n",
       "  </tbody>\n",
       "</table>\n",
       "</div>"
      ],
      "text/plain": [
       "   year     nsw solar_install\n",
       "0  2009  14,008        14,008\n",
       "1  2010  69,988        83,996\n",
       "2  2011  80,272       164,268\n",
       "3  2012  53,961       218,229\n",
       "4  2013  33,998       252,227"
      ]
     },
     "execution_count": 78,
     "metadata": {},
     "output_type": "execute_result"
    }
   ],
   "source": [
    "df_solar_install.head()"
   ]
  },
  {
   "cell_type": "markdown",
   "id": "5d270c1a-0e9a-47ac-aae7-bc97278cddbf",
   "metadata": {},
   "source": [
    "#### Data Cleaning"
   ]
  },
  {
   "cell_type": "markdown",
   "id": "35efe736-2920-4237-ae59-8a48c8432f51",
   "metadata": {},
   "source": [
    "When looking into the temperature data, we see that for most of the data, the granuality is 30 mins. However there are some cases that the time does not fall into that range. So we need to process the data to make it more clean."
   ]
  },
  {
   "cell_type": "code",
   "execution_count": 193,
   "id": "356decd7-19c2-4fe7-b5f6-65675f8e6e16",
   "metadata": {},
   "outputs": [
    {
     "data": {
      "text/html": [
       "<div>\n",
       "<style scoped>\n",
       "    .dataframe tbody tr th:only-of-type {\n",
       "        vertical-align: middle;\n",
       "    }\n",
       "\n",
       "    .dataframe tbody tr th {\n",
       "        vertical-align: top;\n",
       "    }\n",
       "\n",
       "    .dataframe thead th {\n",
       "        text-align: right;\n",
       "    }\n",
       "</style>\n",
       "<table border=\"1\" class=\"dataframe\">\n",
       "  <thead>\n",
       "    <tr style=\"text-align: right;\">\n",
       "      <th></th>\n",
       "      <th>time</th>\n",
       "      <th>location</th>\n",
       "      <th>datetime</th>\n",
       "      <th>temperature</th>\n",
       "    </tr>\n",
       "  </thead>\n",
       "  <tbody>\n",
       "    <tr>\n",
       "      <th>0</th>\n",
       "      <td>2010-01-01 00:00:00</td>\n",
       "      <td>Bankstown</td>\n",
       "      <td>1/1/2010 0:00</td>\n",
       "      <td>23.1</td>\n",
       "    </tr>\n",
       "    <tr>\n",
       "      <th>1</th>\n",
       "      <td>2010-01-01 00:01:00</td>\n",
       "      <td>Bankstown</td>\n",
       "      <td>1/1/2010 0:01</td>\n",
       "      <td>23.1</td>\n",
       "    </tr>\n",
       "    <tr>\n",
       "      <th>2</th>\n",
       "      <td>2010-01-01 00:30:00</td>\n",
       "      <td>Bankstown</td>\n",
       "      <td>1/1/2010 0:30</td>\n",
       "      <td>22.9</td>\n",
       "    </tr>\n",
       "    <tr>\n",
       "      <th>3</th>\n",
       "      <td>2010-01-01 00:50:00</td>\n",
       "      <td>Bankstown</td>\n",
       "      <td>1/1/2010 0:50</td>\n",
       "      <td>22.7</td>\n",
       "    </tr>\n",
       "    <tr>\n",
       "      <th>4</th>\n",
       "      <td>2010-01-01 01:00:00</td>\n",
       "      <td>Bankstown</td>\n",
       "      <td>1/1/2010 1:00</td>\n",
       "      <td>22.6</td>\n",
       "    </tr>\n",
       "  </tbody>\n",
       "</table>\n",
       "</div>"
      ],
      "text/plain": [
       "                 time   location       datetime  temperature\n",
       "0 2010-01-01 00:00:00  Bankstown  1/1/2010 0:00         23.1\n",
       "1 2010-01-01 00:01:00  Bankstown  1/1/2010 0:01         23.1\n",
       "2 2010-01-01 00:30:00  Bankstown  1/1/2010 0:30         22.9\n",
       "3 2010-01-01 00:50:00  Bankstown  1/1/2010 0:50         22.7\n",
       "4 2010-01-01 01:00:00  Bankstown  1/1/2010 1:00         22.6"
      ]
     },
     "execution_count": 193,
     "metadata": {},
     "output_type": "execute_result"
    }
   ],
   "source": [
    "df_temp.head()"
   ]
  },
  {
   "cell_type": "code",
   "execution_count": 192,
   "id": "19c330cf-868e-4ee4-be29-498735905510",
   "metadata": {},
   "outputs": [
    {
     "data": {
      "text/html": [
       "<div>\n",
       "<style scoped>\n",
       "    .dataframe tbody tr th:only-of-type {\n",
       "        vertical-align: middle;\n",
       "    }\n",
       "\n",
       "    .dataframe tbody tr th {\n",
       "        vertical-align: top;\n",
       "    }\n",
       "\n",
       "    .dataframe thead th {\n",
       "        text-align: right;\n",
       "    }\n",
       "</style>\n",
       "<table border=\"1\" class=\"dataframe\">\n",
       "  <thead>\n",
       "    <tr style=\"text-align: right;\">\n",
       "      <th></th>\n",
       "      <th>temperature</th>\n",
       "    </tr>\n",
       "  </thead>\n",
       "  <tbody>\n",
       "    <tr>\n",
       "      <th>count</th>\n",
       "      <td>220326.000000</td>\n",
       "    </tr>\n",
       "    <tr>\n",
       "      <th>mean</th>\n",
       "      <td>17.418827</td>\n",
       "    </tr>\n",
       "    <tr>\n",
       "      <th>std</th>\n",
       "      <td>5.849763</td>\n",
       "    </tr>\n",
       "    <tr>\n",
       "      <th>min</th>\n",
       "      <td>-1.300000</td>\n",
       "    </tr>\n",
       "    <tr>\n",
       "      <th>25%</th>\n",
       "      <td>13.400000</td>\n",
       "    </tr>\n",
       "    <tr>\n",
       "      <th>50%</th>\n",
       "      <td>17.700000</td>\n",
       "    </tr>\n",
       "    <tr>\n",
       "      <th>75%</th>\n",
       "      <td>21.300000</td>\n",
       "    </tr>\n",
       "    <tr>\n",
       "      <th>max</th>\n",
       "      <td>44.700000</td>\n",
       "    </tr>\n",
       "  </tbody>\n",
       "</table>\n",
       "</div>"
      ],
      "text/plain": [
       "         temperature\n",
       "count  220326.000000\n",
       "mean       17.418827\n",
       "std         5.849763\n",
       "min        -1.300000\n",
       "25%        13.400000\n",
       "50%        17.700000\n",
       "75%        21.300000\n",
       "max        44.700000"
      ]
     },
     "execution_count": 192,
     "metadata": {},
     "output_type": "execute_result"
    }
   ],
   "source": [
    "df_temp.describe()"
   ]
  },
  {
   "cell_type": "code",
   "execution_count": 194,
   "id": "19206adb-460d-43a4-9bf4-5353fceea02f",
   "metadata": {},
   "outputs": [],
   "source": [
    "df_temp = df_temp[df_temp['time'].dt.minute.isin([0, 30])]"
   ]
  },
  {
   "cell_type": "code",
   "execution_count": 195,
   "id": "a620f2ea-bf03-465f-a647-712670d2cb64",
   "metadata": {},
   "outputs": [
    {
     "data": {
      "text/html": [
       "<div>\n",
       "<style scoped>\n",
       "    .dataframe tbody tr th:only-of-type {\n",
       "        vertical-align: middle;\n",
       "    }\n",
       "\n",
       "    .dataframe tbody tr th {\n",
       "        vertical-align: top;\n",
       "    }\n",
       "\n",
       "    .dataframe thead th {\n",
       "        text-align: right;\n",
       "    }\n",
       "</style>\n",
       "<table border=\"1\" class=\"dataframe\">\n",
       "  <thead>\n",
       "    <tr style=\"text-align: right;\">\n",
       "      <th></th>\n",
       "      <th>temperature</th>\n",
       "    </tr>\n",
       "  </thead>\n",
       "  <tbody>\n",
       "    <tr>\n",
       "      <th>count</th>\n",
       "      <td>195947.000000</td>\n",
       "    </tr>\n",
       "    <tr>\n",
       "      <th>mean</th>\n",
       "      <td>17.530995</td>\n",
       "    </tr>\n",
       "    <tr>\n",
       "      <th>std</th>\n",
       "      <td>5.884212</td>\n",
       "    </tr>\n",
       "    <tr>\n",
       "      <th>min</th>\n",
       "      <td>-1.300000</td>\n",
       "    </tr>\n",
       "    <tr>\n",
       "      <th>25%</th>\n",
       "      <td>13.500000</td>\n",
       "    </tr>\n",
       "    <tr>\n",
       "      <th>50%</th>\n",
       "      <td>17.900000</td>\n",
       "    </tr>\n",
       "    <tr>\n",
       "      <th>75%</th>\n",
       "      <td>21.500000</td>\n",
       "    </tr>\n",
       "    <tr>\n",
       "      <th>max</th>\n",
       "      <td>44.700000</td>\n",
       "    </tr>\n",
       "  </tbody>\n",
       "</table>\n",
       "</div>"
      ],
      "text/plain": [
       "         temperature\n",
       "count  195947.000000\n",
       "mean       17.530995\n",
       "std         5.884212\n",
       "min        -1.300000\n",
       "25%        13.500000\n",
       "50%        17.900000\n",
       "75%        21.500000\n",
       "max        44.700000"
      ]
     },
     "execution_count": 195,
     "metadata": {},
     "output_type": "execute_result"
    }
   ],
   "source": [
    "df_temp.describe()"
   ]
  },
  {
   "cell_type": "code",
   "execution_count": 196,
   "id": "5a61b8d0-534d-45ae-b3da-535f88c42070",
   "metadata": {},
   "outputs": [
    {
     "data": {
      "text/html": [
       "<div>\n",
       "<style scoped>\n",
       "    .dataframe tbody tr th:only-of-type {\n",
       "        vertical-align: middle;\n",
       "    }\n",
       "\n",
       "    .dataframe tbody tr th {\n",
       "        vertical-align: top;\n",
       "    }\n",
       "\n",
       "    .dataframe thead th {\n",
       "        text-align: right;\n",
       "    }\n",
       "</style>\n",
       "<table border=\"1\" class=\"dataframe\">\n",
       "  <thead>\n",
       "    <tr style=\"text-align: right;\">\n",
       "      <th></th>\n",
       "      <th>time</th>\n",
       "      <th>location</th>\n",
       "      <th>datetime</th>\n",
       "      <th>temperature</th>\n",
       "    </tr>\n",
       "  </thead>\n",
       "  <tbody>\n",
       "    <tr>\n",
       "      <th>0</th>\n",
       "      <td>2010-01-01 00:00:00</td>\n",
       "      <td>Bankstown</td>\n",
       "      <td>1/1/2010 0:00</td>\n",
       "      <td>23.1</td>\n",
       "    </tr>\n",
       "    <tr>\n",
       "      <th>2</th>\n",
       "      <td>2010-01-01 00:30:00</td>\n",
       "      <td>Bankstown</td>\n",
       "      <td>1/1/2010 0:30</td>\n",
       "      <td>22.9</td>\n",
       "    </tr>\n",
       "    <tr>\n",
       "      <th>4</th>\n",
       "      <td>2010-01-01 01:00:00</td>\n",
       "      <td>Bankstown</td>\n",
       "      <td>1/1/2010 1:00</td>\n",
       "      <td>22.6</td>\n",
       "    </tr>\n",
       "    <tr>\n",
       "      <th>5</th>\n",
       "      <td>2010-01-01 01:30:00</td>\n",
       "      <td>Bankstown</td>\n",
       "      <td>1/1/2010 1:30</td>\n",
       "      <td>22.5</td>\n",
       "    </tr>\n",
       "    <tr>\n",
       "      <th>6</th>\n",
       "      <td>2010-01-01 02:00:00</td>\n",
       "      <td>Bankstown</td>\n",
       "      <td>1/1/2010 2:00</td>\n",
       "      <td>22.5</td>\n",
       "    </tr>\n",
       "  </tbody>\n",
       "</table>\n",
       "</div>"
      ],
      "text/plain": [
       "                 time   location       datetime  temperature\n",
       "0 2010-01-01 00:00:00  Bankstown  1/1/2010 0:00         23.1\n",
       "2 2010-01-01 00:30:00  Bankstown  1/1/2010 0:30         22.9\n",
       "4 2010-01-01 01:00:00  Bankstown  1/1/2010 1:00         22.6\n",
       "5 2010-01-01 01:30:00  Bankstown  1/1/2010 1:30         22.5\n",
       "6 2010-01-01 02:00:00  Bankstown  1/1/2010 2:00         22.5"
      ]
     },
     "execution_count": 196,
     "metadata": {},
     "output_type": "execute_result"
    }
   ],
   "source": [
    "df_temp.head()"
   ]
  },
  {
   "cell_type": "code",
   "execution_count": 212,
   "id": "cedd276e-f2d2-45ff-9bd3-4a6605fff0c1",
   "metadata": {},
   "outputs": [
    {
     "name": "stderr",
     "output_type": "stream",
     "text": [
      "/var/folders/qy/537649fn1j10lk5___qp8vxc0000gn/T/ipykernel_83422/3666101214.py:1: SettingWithCopyWarning: \n",
      "A value is trying to be set on a copy of a slice from a DataFrame.\n",
      "Try using .loc[row_indexer,col_indexer] = value instead\n",
      "\n",
      "See the caveats in the documentation: https://pandas.pydata.org/pandas-docs/stable/user_guide/indexing.html#returning-a-view-versus-a-copy\n",
      "  df_temp['time_diff'] = df_temp['time'].diff()\n",
      "/var/folders/qy/537649fn1j10lk5___qp8vxc0000gn/T/ipykernel_83422/3666101214.py:2: SettingWithCopyWarning: \n",
      "A value is trying to be set on a copy of a slice from a DataFrame.\n",
      "Try using .loc[row_indexer,col_indexer] = value instead\n",
      "\n",
      "See the caveats in the documentation: https://pandas.pydata.org/pandas-docs/stable/user_guide/indexing.html#returning-a-view-versus-a-copy\n",
      "  df_temp['time_diff_minutes'] = df_temp['time_diff'].dt.total_seconds() / 60\n"
     ]
    }
   ],
   "source": [
    "df_temp['time_diff'] = df_temp['time'].diff()\n",
    "df_temp['time_diff_minutes'] = df_temp['time_diff'].dt.total_seconds() / 60"
   ]
  },
  {
   "cell_type": "code",
   "execution_count": 213,
   "id": "0d718a44-b266-4ff6-bac0-9c6663151827",
   "metadata": {},
   "outputs": [
    {
     "data": {
      "text/plain": [
       "array([  nan,   30.,   60.,   90.,  300.,  150.,  600.,  810.,  120.,\n",
       "        180.,  330.,  240.,  690.,    0.,  210., 1050., 5430.,  450.])"
      ]
     },
     "execution_count": 213,
     "metadata": {},
     "output_type": "execute_result"
    }
   ],
   "source": [
    "df_temp['time_diff_minutes'].unique()"
   ]
  },
  {
   "cell_type": "markdown",
   "id": "4898bd30-e2c7-4e93-8fe2-af47fbd62ba4",
   "metadata": {},
   "source": [
    "We can see after cleaning, the temperate data is still not continuous."
   ]
  },
  {
   "cell_type": "markdown",
   "id": "3fa18fbe-093a-42ab-aa4e-bb210c406411",
   "metadata": {},
   "source": [
    "### Check Correlation between demand and each variables"
   ]
  },
  {
   "cell_type": "markdown",
   "id": "fbb8030d-ab21-450e-bf73-c3119db11223",
   "metadata": {},
   "source": [
    "#### Temperature and Demand"
   ]
  },
  {
   "cell_type": "code",
   "execution_count": 214,
   "id": "fd1b15e1-ba53-42e2-a01b-222b0b33e0f2",
   "metadata": {},
   "outputs": [],
   "source": [
    "df_temp_demand = pd.merge(df_temp, df_demand, on='datetime')"
   ]
  },
  {
   "cell_type": "code",
   "execution_count": 215,
   "id": "0e8304d1-d8d6-4deb-ab18-ce2de69d92f6",
   "metadata": {},
   "outputs": [
    {
     "data": {
      "image/png": "[encoded data removed]",
      "text/plain": [
       "<Figure size 1000x600 with 1 Axes>"
      ]
     },
     "metadata": {},
     "output_type": "display_data"
    }
   ],
   "source": [
    "plt.figure(figsize=(10, 6))\n",
    "plt.scatter(df_temp_demand['temperature'], df_temp_demand['totaldemand'])\n",
    "plt.title('Temperature NSW vs. Electricity Demand NSW')\n",
    "plt.xlabel('Temperature (degree)')\n",
    "plt.ylabel('Electricity Demand')\n",
    "plt.grid(True)\n",
    "plt.show()"
   ]
  },
  {
   "cell_type": "markdown",
   "id": "9e2e29b0-40d0-4bbe-9959-8ede69d4d5db",
   "metadata": {},
   "source": [
    "As depicted in the graph, it resembles a V shape. Below approximately 20 degrees, the demand increases as the temperature decreases; above 20 degrees, the demand rises with increasing temperature. This pattern aligns with our everyday experience. Temperature is useful in our modeling. "
   ]
  },
  {
   "cell_type": "markdown",
   "id": "ef91cef9-3743-41bc-aef9-7648d1ba939d",
   "metadata": {},
   "source": [
    "#### Population and Demand"
   ]
  },
  {
   "cell_type": "markdown",
   "id": "1b5fe574-45bf-4279-af1f-6a02897e4f7c",
   "metadata": {},
   "source": [
    "The demand is recorded every 30 mins while GDP quarterly. We shall aggregate the electricity demand to a quarterly frequency. We can calculate the average demand for each quarter. "
   ]
  },
  {
   "cell_type": "code",
   "execution_count": 14,
   "id": "2f0f4748-9f48-4aa4-932a-fa21b117df6a",
   "metadata": {},
   "outputs": [],
   "source": [
    "df_demand['time'] = pd.to_datetime(df_demand['datetime'], format='%d/%m/%Y %H:%M') "
   ]
  },
  {
   "cell_type": "code",
   "execution_count": 15,
   "id": "fe350aa6-f470-46c6-ac16-a4bf41588316",
   "metadata": {},
   "outputs": [],
   "source": [
    "df_demand.set_index('time', inplace=True) \n",
    "total_demand_quarterly = df_demand['totaldemand'].resample('Q').mean()\n",
    "df_total_demand_quarterly = total_demand_quarterly.reset_index()"
   ]
  },
  {
   "cell_type": "code",
   "execution_count": 16,
   "id": "7eda5f07-fc29-4805-a102-bb7173b030a8",
   "metadata": {},
   "outputs": [],
   "source": [
    "df_total_demand_quarterly['normalized_demand'] = (df_total_demand_quarterly['totaldemand'] - df_total_demand_quarterly['totaldemand'].mean()) / df_total_demand_quarterly['totaldemand'].std()"
   ]
  },
  {
   "cell_type": "code",
   "execution_count": 17,
   "id": "2f447cc5-e7cb-46da-8089-410ce5f5f8a1",
   "metadata": {},
   "outputs": [],
   "source": [
    "df_population['time'] = pd.to_datetime(df_population['time'], format='%b-%Y')\n",
    "df_population['time'] = df_population['time'] + pd.offsets.MonthEnd(1)\n",
    "df_population['normalized_population'] = (df_population['population'] - df_population['population'].mean()) / df_population['population'].std()"
   ]
  },
  {
   "cell_type": "code",
   "execution_count": 18,
   "id": "79de5ee6-b500-4898-926e-40ee7f119d12",
   "metadata": {},
   "outputs": [
    {
     "data": {
      "image/png": "[encoded data removed]",
      "text/plain": [
       "<Figure size 1000x600 with 1 Axes>"
      ]
     },
     "metadata": {},
     "output_type": "display_data"
    }
   ],
   "source": [
    "plt.figure(figsize=(10, 6))\n",
    "plt.plot(df_total_demand_quarterly['time'], df_total_demand_quarterly['normalized_demand'], label='Electricity Demand', color='blue')\n",
    "plt.plot(df_population['time'], df_population['normalized_population'], label='Population', color='red')\n",
    "plt.legend(loc='upper left')\n",
    "plt.title('Population vs. Electricity Demand')\n",
    "plt.show()"
   ]
  },
  {
   "cell_type": "markdown",
   "id": "0a075bcb-2f25-4e4b-b0a4-9d527344f759",
   "metadata": {},
   "source": [
    "This is very interesting. As the population grows, we would typically expect electricity demand to rise, assuming individual consumption remains steady. Contrary to this expectation, we observe a decline in electricity demand. This suggests that the per capita electricity demand is decreasing. Possible explanations for this trend might include a relative decrease in personal income against the cost of electricity, prompting individuals to limit usage, or the adoption of alternative energy sources, like residential solar panels, reducing reliance on traditional electricity supplies."
   ]
  },
  {
   "cell_type": "markdown",
   "id": "5599cc21-33be-4356-beac-0a61738725b7",
   "metadata": {},
   "source": [
    "GDP can rougly (if not totally) represent the income of citizens. Let's check GDP trend first."
   ]
  },
  {
   "cell_type": "markdown",
   "id": "b85e034d-b614-4ccd-96c5-71f9642d5e15",
   "metadata": {},
   "source": [
    "#### GDP and Demand"
   ]
  },
  {
   "cell_type": "code",
   "execution_count": 19,
   "id": "b64dcf25-4ebd-41ab-9667-bad44cfd1548",
   "metadata": {},
   "outputs": [],
   "source": [
    "df_gdp['time'] = pd.to_datetime(df_gdp['time'], format='%b-%Y') + pd.offsets.MonthEnd(1)\n",
    "df_gdp['normalized_gdp'] = (df_gdp['gdp'] - df_gdp['gdp'].mean()) / df_gdp['gdp'].std()"
   ]
  },
  {
   "cell_type": "code",
   "execution_count": 20,
   "id": "a15c06f6-9fc2-4be8-97af-7cf55f29bf61",
   "metadata": {},
   "outputs": [
    {
     "data": {
      "image/png": "[encoded data removed]",
      "text/plain": [
       "<Figure size 1000x600 with 1 Axes>"
      ]
     },
     "metadata": {},
     "output_type": "display_data"
    }
   ],
   "source": [
    "plt.figure(figsize=(10, 6))\n",
    "plt.plot(df_total_demand_quarterly['time'], df_total_demand_quarterly['normalized_demand'], label='Electricity Demand', color='blue')\n",
    "plt.plot(df_gdp['time'], df_gdp['normalized_gdp'], label='GDP', color='red')\n",
    "plt.legend(loc='upper left')\n",
    "plt.title('GDP vs. Electricity Demand')\n",
    "plt.show()"
   ]
  },
  {
   "cell_type": "markdown",
   "id": "cf261302-934a-48e1-b04c-d224eac4257c",
   "metadata": {},
   "source": [
    "GDP kept increasing from 2010 to 2020. So could it be that the electricity price increased a lot during that period? "
   ]
  },
  {
   "cell_type": "markdown",
   "id": "4753cfb6-9b09-4192-9cea-2b5d1b198a8b",
   "metadata": {},
   "source": [
    "So let's check the price over the last decade. "
   ]
  },
  {
   "cell_type": "markdown",
   "id": "64363e81-56b6-477f-8387-92fd99332ef6",
   "metadata": {},
   "source": [
    "### Electricity Price over the last decade"
   ]
  },
  {
   "cell_type": "code",
   "execution_count": 22,
   "id": "09177b30-b937-4971-bf26-4b68dd7beb4b",
   "metadata": {},
   "outputs": [
    {
     "data": {
      "text/html": [
       "<div>\n",
       "<style scoped>\n",
       "    .dataframe tbody tr th:only-of-type {\n",
       "        vertical-align: middle;\n",
       "    }\n",
       "\n",
       "    .dataframe tbody tr th {\n",
       "        vertical-align: top;\n",
       "    }\n",
       "\n",
       "    .dataframe thead th {\n",
       "        text-align: right;\n",
       "    }\n",
       "</style>\n",
       "<table border=\"1\" class=\"dataframe\">\n",
       "  <thead>\n",
       "    <tr style=\"text-align: right;\">\n",
       "      <th></th>\n",
       "      <th>year</th>\n",
       "      <th>region</th>\n",
       "      <th>avgrrp</th>\n",
       "    </tr>\n",
       "  </thead>\n",
       "  <tbody>\n",
       "    <tr>\n",
       "      <th>0</th>\n",
       "      <td>2010</td>\n",
       "      <td>NSW</td>\n",
       "      <td>44.19</td>\n",
       "    </tr>\n",
       "    <tr>\n",
       "      <th>1</th>\n",
       "      <td>2011</td>\n",
       "      <td>NSW</td>\n",
       "      <td>36.74</td>\n",
       "    </tr>\n",
       "    <tr>\n",
       "      <th>2</th>\n",
       "      <td>2012</td>\n",
       "      <td>NSW</td>\n",
       "      <td>29.67</td>\n",
       "    </tr>\n",
       "    <tr>\n",
       "      <th>3</th>\n",
       "      <td>2013</td>\n",
       "      <td>NSW</td>\n",
       "      <td>55.10</td>\n",
       "    </tr>\n",
       "    <tr>\n",
       "      <th>4</th>\n",
       "      <td>2014</td>\n",
       "      <td>NSW</td>\n",
       "      <td>52.26</td>\n",
       "    </tr>\n",
       "    <tr>\n",
       "      <th>5</th>\n",
       "      <td>2015</td>\n",
       "      <td>NSW</td>\n",
       "      <td>35.17</td>\n",
       "    </tr>\n",
       "    <tr>\n",
       "      <th>6</th>\n",
       "      <td>2016</td>\n",
       "      <td>NSW</td>\n",
       "      <td>51.60</td>\n",
       "    </tr>\n",
       "    <tr>\n",
       "      <th>7</th>\n",
       "      <td>2017</td>\n",
       "      <td>NSW</td>\n",
       "      <td>81.22</td>\n",
       "    </tr>\n",
       "    <tr>\n",
       "      <th>8</th>\n",
       "      <td>2018</td>\n",
       "      <td>NSW</td>\n",
       "      <td>82.27</td>\n",
       "    </tr>\n",
       "    <tr>\n",
       "      <th>9</th>\n",
       "      <td>2019</td>\n",
       "      <td>NSW</td>\n",
       "      <td>88.56</td>\n",
       "    </tr>\n",
       "    <tr>\n",
       "      <th>10</th>\n",
       "      <td>2020</td>\n",
       "      <td>NSW</td>\n",
       "      <td>71.95</td>\n",
       "    </tr>\n",
       "    <tr>\n",
       "      <th>11</th>\n",
       "      <td>2021</td>\n",
       "      <td>NSW</td>\n",
       "      <td>64.81</td>\n",
       "    </tr>\n",
       "  </tbody>\n",
       "</table>\n",
       "</div>"
      ],
      "text/plain": [
       "    year region  avgrrp\n",
       "0   2010    NSW   44.19\n",
       "1   2011    NSW   36.74\n",
       "2   2012    NSW   29.67\n",
       "3   2013    NSW   55.10\n",
       "4   2014    NSW   52.26\n",
       "5   2015    NSW   35.17\n",
       "6   2016    NSW   51.60\n",
       "7   2017    NSW   81.22\n",
       "8   2018    NSW   82.27\n",
       "9   2019    NSW   88.56\n",
       "10  2020    NSW   71.95\n",
       "11  2021    NSW   64.81"
      ]
     },
     "execution_count": 22,
     "metadata": {},
     "output_type": "execute_result"
    }
   ],
   "source": [
    "df_electricity_price"
   ]
  },
  {
   "cell_type": "code",
   "execution_count": 23,
   "id": "a5af525e-717d-486c-9690-8a03c90353b5",
   "metadata": {},
   "outputs": [
    {
     "data": {
      "image/png": "[encoded data removed]",
      "text/plain": [
       "<Figure size 1000x600 with 1 Axes>"
      ]
     },
     "metadata": {},
     "output_type": "display_data"
    }
   ],
   "source": [
    "plt.figure(figsize=(10, 6))\n",
    "plt.plot(df_electricity_price['year'], df_electricity_price['avgrrp'])\n",
    "plt.title('Year vs. Average Recommended Retail Price ')\n",
    "plt.xlabel('Year')\n",
    "plt.ylabel('Average RRP')\n",
    "plt.grid(True)\n",
    "plt.show()"
   ]
  },
  {
   "cell_type": "markdown",
   "id": "5c60f358-1436-4447-b193-36302c895e86",
   "metadata": {},
   "source": [
    "We do see the price increased over the last decade. So in our modeling, it is better to include the factor of pricing. "
   ]
  },
  {
   "cell_type": "markdown",
   "id": "76b5a14f-cb06-490b-a189-2584c163ba3f",
   "metadata": {},
   "source": [
    "The increased adoption of residential solar panels might be another factor to consider, as this can lead to a reduction in dependency on conventional electricity grids. As more households install solar panels, the aggregate demand on traditional energy providers is likely to diminish. "
   ]
  },
  {
   "cell_type": "markdown",
   "id": "303c037c-30ae-4997-8eb6-781d1b8c767b",
   "metadata": {},
   "source": [
    "### Home Solar Installation over the last decade"
   ]
  },
  {
   "cell_type": "markdown",
   "id": "124baee7-59d1-48c0-b2a4-9cccabc0289f",
   "metadata": {},
   "source": [
    "Let's see how many small-scall solar installation was done in the past a decade."
   ]
  },
  {
   "cell_type": "code",
   "execution_count": 25,
   "id": "b04a9821-e4a0-407a-99f0-3f9f445c6694",
   "metadata": {},
   "outputs": [
    {
     "data": {
      "text/html": [
       "<div>\n",
       "<style scoped>\n",
       "    .dataframe tbody tr th:only-of-type {\n",
       "        vertical-align: middle;\n",
       "    }\n",
       "\n",
       "    .dataframe tbody tr th {\n",
       "        vertical-align: top;\n",
       "    }\n",
       "\n",
       "    .dataframe thead th {\n",
       "        text-align: right;\n",
       "    }\n",
       "</style>\n",
       "<table border=\"1\" class=\"dataframe\">\n",
       "  <thead>\n",
       "    <tr style=\"text-align: right;\">\n",
       "      <th></th>\n",
       "      <th>year</th>\n",
       "      <th>nsw</th>\n",
       "      <th>solar_install</th>\n",
       "    </tr>\n",
       "  </thead>\n",
       "  <tbody>\n",
       "    <tr>\n",
       "      <th>0</th>\n",
       "      <td>2009</td>\n",
       "      <td>14,008</td>\n",
       "      <td>14,008</td>\n",
       "    </tr>\n",
       "    <tr>\n",
       "      <th>1</th>\n",
       "      <td>2010</td>\n",
       "      <td>69,988</td>\n",
       "      <td>83,996</td>\n",
       "    </tr>\n",
       "    <tr>\n",
       "      <th>2</th>\n",
       "      <td>2011</td>\n",
       "      <td>80,272</td>\n",
       "      <td>164,268</td>\n",
       "    </tr>\n",
       "    <tr>\n",
       "      <th>3</th>\n",
       "      <td>2012</td>\n",
       "      <td>53,961</td>\n",
       "      <td>218,229</td>\n",
       "    </tr>\n",
       "    <tr>\n",
       "      <th>4</th>\n",
       "      <td>2013</td>\n",
       "      <td>33,998</td>\n",
       "      <td>252,227</td>\n",
       "    </tr>\n",
       "    <tr>\n",
       "      <th>5</th>\n",
       "      <td>2014</td>\n",
       "      <td>37,210</td>\n",
       "      <td>289,437</td>\n",
       "    </tr>\n",
       "    <tr>\n",
       "      <th>6</th>\n",
       "      <td>2015</td>\n",
       "      <td>33,478</td>\n",
       "      <td>322,915</td>\n",
       "    </tr>\n",
       "    <tr>\n",
       "      <th>7</th>\n",
       "      <td>2016</td>\n",
       "      <td>29,498</td>\n",
       "      <td>352,413</td>\n",
       "    </tr>\n",
       "    <tr>\n",
       "      <th>8</th>\n",
       "      <td>2017</td>\n",
       "      <td>43,253</td>\n",
       "      <td>395,666</td>\n",
       "    </tr>\n",
       "    <tr>\n",
       "      <th>9</th>\n",
       "      <td>2018</td>\n",
       "      <td>59,329</td>\n",
       "      <td>454,995</td>\n",
       "    </tr>\n",
       "    <tr>\n",
       "      <th>10</th>\n",
       "      <td>2019</td>\n",
       "      <td>77,630</td>\n",
       "      <td>532,625</td>\n",
       "    </tr>\n",
       "    <tr>\n",
       "      <th>11</th>\n",
       "      <td>2020</td>\n",
       "      <td>110,788</td>\n",
       "      <td>643,413</td>\n",
       "    </tr>\n",
       "  </tbody>\n",
       "</table>\n",
       "</div>"
      ],
      "text/plain": [
       "    year      nsw solar_install\n",
       "0   2009   14,008        14,008\n",
       "1   2010   69,988        83,996\n",
       "2   2011   80,272       164,268\n",
       "3   2012   53,961       218,229\n",
       "4   2013   33,998       252,227\n",
       "5   2014   37,210       289,437\n",
       "6   2015   33,478       322,915\n",
       "7   2016   29,498       352,413\n",
       "8   2017   43,253       395,666\n",
       "9   2018   59,329       454,995\n",
       "10  2019   77,630       532,625\n",
       "11  2020  110,788       643,413"
      ]
     },
     "execution_count": 25,
     "metadata": {},
     "output_type": "execute_result"
    }
   ],
   "source": [
    "df_solar_install"
   ]
  },
  {
   "cell_type": "code",
   "execution_count": 26,
   "id": "42cfa45f-7c59-403b-a5a1-f2ea833ebbf8",
   "metadata": {},
   "outputs": [],
   "source": [
    "df_solar_install['solar_install'] = df_solar_install['solar_install'].str.replace(',', '')\n",
    "df_solar_install['solar_install'] = df_solar_install['solar_install'].astype(int)"
   ]
  },
  {
   "cell_type": "code",
   "execution_count": 27,
   "id": "f55e7598-a171-4b5d-9197-30e0316f8749",
   "metadata": {},
   "outputs": [
    {
     "data": {
      "image/png": "[encoded data removed]",
      "text/plain": [
       "<Figure size 1000x600 with 1 Axes>"
      ]
     },
     "metadata": {},
     "output_type": "display_data"
    }
   ],
   "source": [
    "plt.figure(figsize=(10, 6))\n",
    "plt.plot(df_solar_install['year'], df_solar_install['solar_install'])\n",
    "plt.title('Year vs. Total Installation')\n",
    "plt.xlabel('Year')\n",
    "plt.ylabel('Installation')\n",
    "plt.grid(True)\n",
    "plt.show()"
   ]
  },
  {
   "cell_type": "markdown",
   "id": "9933ce48-052a-4758-9ad9-f7cc006a6347",
   "metadata": {},
   "source": [
    "We can see the installation increased over the last decase. It is reasonable to include the total installation in NSW into our model too. "
   ]
  },
  {
   "cell_type": "markdown",
   "id": "7c626a58-d15f-455a-aec5-9afcb6c6fa1a",
   "metadata": {},
   "source": [
    "## Data Preperation For Modeling"
   ]
  },
  {
   "cell_type": "markdown",
   "id": "e0572a34-ad28-417b-bbc5-e6652be1d80b",
   "metadata": {},
   "source": [
    "### Which kind of prediction we want to do"
   ]
  },
  {
   "cell_type": "markdown",
   "id": "6b2c79f1-1362-4743-8ee1-a99aea666d7e",
   "metadata": {},
   "source": [
    "We can predict the average demand for a quarter. As discussed above, such a prediction should consider factors including time, quarterly average temperature, population, GDP, price, and solar installations. "
   ]
  },
  {
   "cell_type": "markdown",
   "id": "51e0663a-3d2f-42cb-867f-21c337767156",
   "metadata": {},
   "source": [
    "We can also predict short-term demand every 30 minutes. For such predictions, long-term factors such as population, GDP, price, or solar installations will not play a significant role. Therefore, we will exclude them from our modeling."
   ]
  },
  {
   "cell_type": "markdown",
   "id": "ce650511-14b9-4197-afa3-b589e03af924",
   "metadata": {},
   "source": [
    "### Long Term Data For Modeling"
   ]
  },
  {
   "cell_type": "markdown",
   "id": "804a8a32-69a7-4e55-addf-9f7bba55c7a4",
   "metadata": {},
   "source": [
    "When predicting quartly demand, we should use population, average temperate, and GDP. In reality we can not get the data of these features before the end of the quarter we want to predict. So to compose the data for training and testing, we need to modify our dataset a bit. "
   ]
  },
  {
   "cell_type": "markdown",
   "id": "a2ce329c-9991-4e06-b56f-ba504bdab7af",
   "metadata": {},
   "source": [
    "#### Population"
   ]
  },
  {
   "cell_type": "code",
   "execution_count": 28,
   "id": "8c781b5c-175d-4148-abe3-d944f5bb76ab",
   "metadata": {},
   "outputs": [
    {
     "data": {
      "text/html": [
       "<div>\n",
       "<style scoped>\n",
       "    .dataframe tbody tr th:only-of-type {\n",
       "        vertical-align: middle;\n",
       "    }\n",
       "\n",
       "    .dataframe tbody tr th {\n",
       "        vertical-align: top;\n",
       "    }\n",
       "\n",
       "    .dataframe thead th {\n",
       "        text-align: right;\n",
       "    }\n",
       "</style>\n",
       "<table border=\"1\" class=\"dataframe\">\n",
       "  <thead>\n",
       "    <tr style=\"text-align: right;\">\n",
       "      <th></th>\n",
       "      <th>time</th>\n",
       "      <th>population</th>\n",
       "      <th>normalized_population</th>\n",
       "    </tr>\n",
       "  </thead>\n",
       "  <tbody>\n",
       "    <tr>\n",
       "      <th>0</th>\n",
       "      <td>2009-12-31</td>\n",
       "      <td>7101504</td>\n",
       "      <td>-1.582523</td>\n",
       "    </tr>\n",
       "    <tr>\n",
       "      <th>1</th>\n",
       "      <td>2010-03-31</td>\n",
       "      <td>7128356</td>\n",
       "      <td>-1.501659</td>\n",
       "    </tr>\n",
       "    <tr>\n",
       "      <th>2</th>\n",
       "      <td>2010-06-30</td>\n",
       "      <td>7144292</td>\n",
       "      <td>-1.453668</td>\n",
       "    </tr>\n",
       "    <tr>\n",
       "      <th>3</th>\n",
       "      <td>2010-09-30</td>\n",
       "      <td>7162726</td>\n",
       "      <td>-1.398155</td>\n",
       "    </tr>\n",
       "    <tr>\n",
       "      <th>4</th>\n",
       "      <td>2010-12-31</td>\n",
       "      <td>7179891</td>\n",
       "      <td>-1.346464</td>\n",
       "    </tr>\n",
       "  </tbody>\n",
       "</table>\n",
       "</div>"
      ],
      "text/plain": [
       "        time  population  normalized_population\n",
       "0 2009-12-31     7101504              -1.582523\n",
       "1 2010-03-31     7128356              -1.501659\n",
       "2 2010-06-30     7144292              -1.453668\n",
       "3 2010-09-30     7162726              -1.398155\n",
       "4 2010-12-31     7179891              -1.346464"
      ]
     },
     "execution_count": 28,
     "metadata": {},
     "output_type": "execute_result"
    }
   ],
   "source": [
    "df_population.head()"
   ]
  },
  {
   "cell_type": "code",
   "execution_count": 29,
   "id": "04c756a9-4c56-4e2d-a793-2078cdb6f162",
   "metadata": {},
   "outputs": [],
   "source": [
    "df_population_quarterly = df_population.copy(deep=True)"
   ]
  },
  {
   "cell_type": "code",
   "execution_count": 30,
   "id": "82cc37b4-be20-43fe-b306-a43c9ecc6543",
   "metadata": {},
   "outputs": [],
   "source": [
    "# offset the time by 3 months\n",
    "df_population_quarterly['time'] = df_population['time'] + pd.DateOffset(months=3)\n",
    "df_population_quarterly['time'] = df_population_quarterly['time'] + pd.offsets.MonthEnd(0)"
   ]
  },
  {
   "cell_type": "markdown",
   "id": "4011c922-479f-43d8-b9a3-bf8ae1d9ffc0",
   "metadata": {},
   "source": [
    "#### GDP"
   ]
  },
  {
   "cell_type": "code",
   "execution_count": 31,
   "id": "c21b6cf9-1cc2-41b1-ab4d-157509b970e3",
   "metadata": {},
   "outputs": [
    {
     "data": {
      "text/html": [
       "<div>\n",
       "<style scoped>\n",
       "    .dataframe tbody tr th:only-of-type {\n",
       "        vertical-align: middle;\n",
       "    }\n",
       "\n",
       "    .dataframe tbody tr th {\n",
       "        vertical-align: top;\n",
       "    }\n",
       "\n",
       "    .dataframe thead th {\n",
       "        text-align: right;\n",
       "    }\n",
       "</style>\n",
       "<table border=\"1\" class=\"dataframe\">\n",
       "  <thead>\n",
       "    <tr style=\"text-align: right;\">\n",
       "      <th></th>\n",
       "      <th>time</th>\n",
       "      <th>gdp</th>\n",
       "      <th>normalized_gdp</th>\n",
       "    </tr>\n",
       "  </thead>\n",
       "  <tbody>\n",
       "    <tr>\n",
       "      <th>0</th>\n",
       "      <td>2009-12-31</td>\n",
       "      <td>334934</td>\n",
       "      <td>-1.557029</td>\n",
       "    </tr>\n",
       "    <tr>\n",
       "      <th>1</th>\n",
       "      <td>2010-03-31</td>\n",
       "      <td>314838</td>\n",
       "      <td>-1.925885</td>\n",
       "    </tr>\n",
       "    <tr>\n",
       "      <th>2</th>\n",
       "      <td>2010-06-30</td>\n",
       "      <td>340575</td>\n",
       "      <td>-1.453491</td>\n",
       "    </tr>\n",
       "    <tr>\n",
       "      <th>3</th>\n",
       "      <td>2010-09-30</td>\n",
       "      <td>345512</td>\n",
       "      <td>-1.362874</td>\n",
       "    </tr>\n",
       "    <tr>\n",
       "      <th>4</th>\n",
       "      <td>2010-12-31</td>\n",
       "      <td>365403</td>\n",
       "      <td>-0.997781</td>\n",
       "    </tr>\n",
       "  </tbody>\n",
       "</table>\n",
       "</div>"
      ],
      "text/plain": [
       "        time     gdp  normalized_gdp\n",
       "0 2009-12-31  334934       -1.557029\n",
       "1 2010-03-31  314838       -1.925885\n",
       "2 2010-06-30  340575       -1.453491\n",
       "3 2010-09-30  345512       -1.362874\n",
       "4 2010-12-31  365403       -0.997781"
      ]
     },
     "execution_count": 31,
     "metadata": {},
     "output_type": "execute_result"
    }
   ],
   "source": [
    "df_gdp.head()"
   ]
  },
  {
   "cell_type": "code",
   "execution_count": 32,
   "id": "6a93ca9f-2942-42e5-a075-c6b6b6efe858",
   "metadata": {},
   "outputs": [],
   "source": [
    "df_gdp_quarterly = df_gdp.copy(deep=True)"
   ]
  },
  {
   "cell_type": "code",
   "execution_count": 33,
   "id": "2aa7e92e-0e15-44ae-8da9-a9ee60c725af",
   "metadata": {},
   "outputs": [],
   "source": [
    "df_gdp_quarterly['time'] = df_gdp['time'] + pd.DateOffset(months=3)\n",
    "df_gdp_quarterly['time'] = df_gdp_quarterly['time'] + pd.offsets.MonthEnd(0)"
   ]
  },
  {
   "cell_type": "markdown",
   "id": "7a9390ea-5d54-4b82-9490-518bf9595dbc",
   "metadata": {},
   "source": [
    "#### Solar Installation"
   ]
  },
  {
   "cell_type": "code",
   "execution_count": 34,
   "id": "2f680d65-fdd6-4b03-bf9c-f63357b41e1d",
   "metadata": {},
   "outputs": [
    {
     "data": {
      "text/html": [
       "<div>\n",
       "<style scoped>\n",
       "    .dataframe tbody tr th:only-of-type {\n",
       "        vertical-align: middle;\n",
       "    }\n",
       "\n",
       "    .dataframe tbody tr th {\n",
       "        vertical-align: top;\n",
       "    }\n",
       "\n",
       "    .dataframe thead th {\n",
       "        text-align: right;\n",
       "    }\n",
       "</style>\n",
       "<table border=\"1\" class=\"dataframe\">\n",
       "  <thead>\n",
       "    <tr style=\"text-align: right;\">\n",
       "      <th></th>\n",
       "      <th>year</th>\n",
       "      <th>nsw</th>\n",
       "      <th>solar_install</th>\n",
       "    </tr>\n",
       "  </thead>\n",
       "  <tbody>\n",
       "    <tr>\n",
       "      <th>0</th>\n",
       "      <td>2009</td>\n",
       "      <td>14,008</td>\n",
       "      <td>14008</td>\n",
       "    </tr>\n",
       "    <tr>\n",
       "      <th>1</th>\n",
       "      <td>2010</td>\n",
       "      <td>69,988</td>\n",
       "      <td>83996</td>\n",
       "    </tr>\n",
       "    <tr>\n",
       "      <th>2</th>\n",
       "      <td>2011</td>\n",
       "      <td>80,272</td>\n",
       "      <td>164268</td>\n",
       "    </tr>\n",
       "    <tr>\n",
       "      <th>3</th>\n",
       "      <td>2012</td>\n",
       "      <td>53,961</td>\n",
       "      <td>218229</td>\n",
       "    </tr>\n",
       "    <tr>\n",
       "      <th>4</th>\n",
       "      <td>2013</td>\n",
       "      <td>33,998</td>\n",
       "      <td>252227</td>\n",
       "    </tr>\n",
       "  </tbody>\n",
       "</table>\n",
       "</div>"
      ],
      "text/plain": [
       "   year     nsw  solar_install\n",
       "0  2009  14,008          14008\n",
       "1  2010  69,988          83996\n",
       "2  2011  80,272         164268\n",
       "3  2012  53,961         218229\n",
       "4  2013  33,998         252227"
      ]
     },
     "execution_count": 34,
     "metadata": {},
     "output_type": "execute_result"
    }
   ],
   "source": [
    "df_solar_install.head()"
   ]
  },
  {
   "cell_type": "markdown",
   "id": "caa03de1-364c-4d7c-9c9c-dc73d53983c9",
   "metadata": {},
   "source": [
    "We only have annual data. We can convert yearly solar installation data to quarterly data using linear interpolation within each year."
   ]
  },
  {
   "cell_type": "code",
   "execution_count": 35,
   "id": "e7c94fff-f662-42e3-86ec-ad0a65c0313e",
   "metadata": {},
   "outputs": [],
   "source": [
    "quarterly_solar_install = {'year_quarter': [], 'solar_install': []}\n",
    "\n",
    "for i in range(len(df_solar_install)):\n",
    "    if i == 0:\n",
    "        growth = (df_solar_install.loc[i + 1, 'solar_install'] - df_solar_install.loc[i, 'solar_install']) / 4\n",
    "        for q in range(1, 5):\n",
    "            quarterly_solar_install['year_quarter'].append(f\"{df_solar_install.loc[i, 'year']}-Q{q}\")\n",
    "            quarterly_solar_install['solar_install'].append(int(df_solar_install.loc[i, 'solar_install'] + growth * (q - 1)))\n",
    "    else:\n",
    "        growth = (df_solar_install.loc[i, 'solar_install'] - df_solar_install.loc[i - 1, 'solar_install']) / 4\n",
    "        for q in range(1, 5):\n",
    "            quarterly_solar_install['year_quarter'].append(f\"{df_solar_install.loc[i, 'year']}-Q{q}\")\n",
    "            quarterly_solar_install['solar_install'].append(int(df_solar_install.loc[i, 'solar_install'] + growth * (q - 1)))\n",
    "\n",
    "df_quarterly_solar_install = pd.DataFrame(quarterly_solar_install)"
   ]
  },
  {
   "cell_type": "code",
   "execution_count": 36,
   "id": "de8ab150-8b4d-4407-bfdd-922bd4b919dc",
   "metadata": {},
   "outputs": [
    {
     "data": {
      "text/html": [
       "<div>\n",
       "<style scoped>\n",
       "    .dataframe tbody tr th:only-of-type {\n",
       "        vertical-align: middle;\n",
       "    }\n",
       "\n",
       "    .dataframe tbody tr th {\n",
       "        vertical-align: top;\n",
       "    }\n",
       "\n",
       "    .dataframe thead th {\n",
       "        text-align: right;\n",
       "    }\n",
       "</style>\n",
       "<table border=\"1\" class=\"dataframe\">\n",
       "  <thead>\n",
       "    <tr style=\"text-align: right;\">\n",
       "      <th></th>\n",
       "      <th>year_quarter</th>\n",
       "      <th>solar_install</th>\n",
       "    </tr>\n",
       "  </thead>\n",
       "  <tbody>\n",
       "    <tr>\n",
       "      <th>0</th>\n",
       "      <td>2009-Q1</td>\n",
       "      <td>14008</td>\n",
       "    </tr>\n",
       "    <tr>\n",
       "      <th>1</th>\n",
       "      <td>2009-Q2</td>\n",
       "      <td>31505</td>\n",
       "    </tr>\n",
       "    <tr>\n",
       "      <th>2</th>\n",
       "      <td>2009-Q3</td>\n",
       "      <td>49002</td>\n",
       "    </tr>\n",
       "    <tr>\n",
       "      <th>3</th>\n",
       "      <td>2009-Q4</td>\n",
       "      <td>66499</td>\n",
       "    </tr>\n",
       "    <tr>\n",
       "      <th>4</th>\n",
       "      <td>2010-Q1</td>\n",
       "      <td>83996</td>\n",
       "    </tr>\n",
       "  </tbody>\n",
       "</table>\n",
       "</div>"
      ],
      "text/plain": [
       "  year_quarter  solar_install\n",
       "0      2009-Q1          14008\n",
       "1      2009-Q2          31505\n",
       "2      2009-Q3          49002\n",
       "3      2009-Q4          66499\n",
       "4      2010-Q1          83996"
      ]
     },
     "execution_count": 36,
     "metadata": {},
     "output_type": "execute_result"
    }
   ],
   "source": [
    "df_quarterly_solar_install.head()"
   ]
  },
  {
   "cell_type": "code",
   "execution_count": 37,
   "id": "e9a69f9f-5671-43c3-8919-8fd8d5cb532b",
   "metadata": {},
   "outputs": [],
   "source": [
    "def quarter_to_date(quarter_str):\n",
    "    year, q = quarter_str.split('-')\n",
    "    if q == 'Q1':\n",
    "        return f'{year}-03-31'\n",
    "    elif q == 'Q2':\n",
    "        return f'{year}-06-30'\n",
    "    elif q == 'Q3':\n",
    "        return f'{year}-09-30'\n",
    "    elif q == 'Q4':\n",
    "        return f'{year}-12-31'"
   ]
  },
  {
   "cell_type": "code",
   "execution_count": 38,
   "id": "85dc9905-9c88-4647-b8eb-1bad12f8d348",
   "metadata": {},
   "outputs": [],
   "source": [
    "df_quarterly_solar_install['time'] = df_quarterly_solar_install['year_quarter'].apply(quarter_to_date)\n",
    "\n",
    "# Convert the 'end_of_quarter' column to datetime\n",
    "df_quarterly_solar_install['time'] = pd.to_datetime(df_quarterly_solar_install['time'])\n",
    "# Offset the time by 1 year\n",
    "df_quarterly_solar_install['time'] = df_quarterly_solar_install['time'] + pd.DateOffset(months=12)"
   ]
  },
  {
   "cell_type": "code",
   "execution_count": 39,
   "id": "4acba6b3-97f8-41da-90ba-7da4554e5a98",
   "metadata": {},
   "outputs": [
    {
     "data": {
      "text/html": [
       "<div>\n",
       "<style scoped>\n",
       "    .dataframe tbody tr th:only-of-type {\n",
       "        vertical-align: middle;\n",
       "    }\n",
       "\n",
       "    .dataframe tbody tr th {\n",
       "        vertical-align: top;\n",
       "    }\n",
       "\n",
       "    .dataframe thead th {\n",
       "        text-align: right;\n",
       "    }\n",
       "</style>\n",
       "<table border=\"1\" class=\"dataframe\">\n",
       "  <thead>\n",
       "    <tr style=\"text-align: right;\">\n",
       "      <th></th>\n",
       "      <th>year_quarter</th>\n",
       "      <th>solar_install</th>\n",
       "      <th>time</th>\n",
       "    </tr>\n",
       "  </thead>\n",
       "  <tbody>\n",
       "    <tr>\n",
       "      <th>0</th>\n",
       "      <td>2009-Q1</td>\n",
       "      <td>14008</td>\n",
       "      <td>2010-03-31</td>\n",
       "    </tr>\n",
       "    <tr>\n",
       "      <th>1</th>\n",
       "      <td>2009-Q2</td>\n",
       "      <td>31505</td>\n",
       "      <td>2010-06-30</td>\n",
       "    </tr>\n",
       "    <tr>\n",
       "      <th>2</th>\n",
       "      <td>2009-Q3</td>\n",
       "      <td>49002</td>\n",
       "      <td>2010-09-30</td>\n",
       "    </tr>\n",
       "    <tr>\n",
       "      <th>3</th>\n",
       "      <td>2009-Q4</td>\n",
       "      <td>66499</td>\n",
       "      <td>2010-12-31</td>\n",
       "    </tr>\n",
       "    <tr>\n",
       "      <th>4</th>\n",
       "      <td>2010-Q1</td>\n",
       "      <td>83996</td>\n",
       "      <td>2011-03-31</td>\n",
       "    </tr>\n",
       "  </tbody>\n",
       "</table>\n",
       "</div>"
      ],
      "text/plain": [
       "  year_quarter  solar_install       time\n",
       "0      2009-Q1          14008 2010-03-31\n",
       "1      2009-Q2          31505 2010-06-30\n",
       "2      2009-Q3          49002 2010-09-30\n",
       "3      2009-Q4          66499 2010-12-31\n",
       "4      2010-Q1          83996 2011-03-31"
      ]
     },
     "execution_count": 39,
     "metadata": {},
     "output_type": "execute_result"
    }
   ],
   "source": [
    "df_quarterly_solar_install.head()"
   ]
  },
  {
   "cell_type": "markdown",
   "id": "070fc3fa-8e3c-4f66-ad00-bf113281da63",
   "metadata": {},
   "source": [
    "#### Price"
   ]
  },
  {
   "cell_type": "code",
   "execution_count": 41,
   "id": "baf75d0c-38d9-46e8-b5f1-6d36e4689903",
   "metadata": {},
   "outputs": [],
   "source": [
    "# Same as what we did to solar install, convert price to quartely data\n",
    "quarterly_price = {'year_quarter': [], 'avgrrp': []}\n",
    "\n",
    "for i in range(len(df_electricity_price)):\n",
    "    if i == 0:\n",
    "        growth = (df_electricity_price.loc[i + 1, 'avgrrp'] - df_electricity_price.loc[i, 'avgrrp']) / 4\n",
    "        for q in range(1, 5):\n",
    "            quarterly_price['year_quarter'].append(f\"{df_electricity_price.loc[i, 'year']}-Q{q}\")\n",
    "            quarterly_price['avgrrp'].append(df_electricity_price.loc[i, 'avgrrp'] + growth * (q - 1))\n",
    "    else:\n",
    "        growth = (df_electricity_price.loc[i, 'avgrrp'] - df_electricity_price.loc[i - 1, 'avgrrp']) / 4\n",
    "        for q in range(1, 5):\n",
    "            quarterly_price['year_quarter'].append(f\"{df_electricity_price.loc[i, 'year']}-Q{q}\")\n",
    "            quarterly_price['avgrrp'].append(df_electricity_price.loc[i, 'avgrrp'] + growth * (q - 1))\n",
    "\n",
    "df_quarterly_electricity_price = pd.DataFrame(quarterly_price)"
   ]
  },
  {
   "cell_type": "code",
   "execution_count": 42,
   "id": "414aaf89-d67b-408a-936d-7cd7c9cab31e",
   "metadata": {},
   "outputs": [],
   "source": [
    "df_quarterly_electricity_price['time'] = df_quarterly_electricity_price['year_quarter'].apply(quarter_to_date)\n",
    "\n",
    "# Convert the 'end_of_quarter' column to datetime\n",
    "df_quarterly_electricity_price['time'] = pd.to_datetime(df_quarterly_electricity_price['time'])\n",
    "# Offset the time by 1 year\n",
    "df_quarterly_electricity_price['time'] = df_quarterly_electricity_price['time'] + pd.DateOffset(months=12)"
   ]
  },
  {
   "cell_type": "markdown",
   "id": "f35fe485-d4ea-40b3-9196-ffac5c6e53ed",
   "metadata": {},
   "source": [
    "#### Temperature"
   ]
  },
  {
   "cell_type": "code",
   "execution_count": 43,
   "id": "1547b067-89e6-46bb-aa3a-8efedf52fff1",
   "metadata": {},
   "outputs": [],
   "source": [
    "df_temp['time'] = pd.to_datetime(df_temp['datetime'], format='%d/%m/%Y %H:%M') \n",
    "df_temp.set_index('time', inplace=True) \n",
    "temp_quarterly = df_temp['temperature'].resample('Q').mean()\n",
    "df_temp_quarterly = temp_quarterly.reset_index()\n",
    "df_temp_quarterly['time'] = df_temp_quarterly['time'] + pd.DateOffset(months=3)\n",
    "df_temp_quarterly['time'] = df_temp_quarterly['time'] + pd.offsets.MonthEnd(0)"
   ]
  },
  {
   "cell_type": "markdown",
   "id": "de80ba6d-06a9-4dcd-8808-b5922ed986f6",
   "metadata": {},
   "source": [
    "#### Create the long term quarterly dataset for training and testing"
   ]
  },
  {
   "cell_type": "code",
   "execution_count": 44,
   "id": "04b8ded2-dab3-4f1e-83e4-1ad7d97b9b4c",
   "metadata": {},
   "outputs": [],
   "source": [
    "df_temp_install = pd.merge(df_temp_quarterly, df_quarterly_solar_install, on='time', how='inner')\n",
    "df_temp_install_price = pd.merge(df_temp_install, df_quarterly_electricity_price, on='time', how='inner')\n",
    "df_temp_install_price_gdp = pd.merge(df_temp_install_price, df_gdp_quarterly, on='time', how='inner')\n",
    "df_temp_install_price_gdp_population = pd.merge(df_temp_install_price_gdp, df_population_quarterly, on='time', how='inner')\n",
    "df_temp_install_price_gdp_population_demand = pd.merge(df_temp_install_price_gdp_population, df_total_demand_quarterly, on='time', how='inner')"
   ]
  },
  {
   "cell_type": "markdown",
   "id": "d8dc895c-1141-4c80-a4d3-2151fb26cbf1",
   "metadata": {},
   "source": [
    "**NOTE:** Depending on which model to use, 'time' may not be used in some models."
   ]
  },
  {
   "cell_type": "code",
   "execution_count": 45,
   "id": "8dfe733f-507a-4e5b-925c-38cad7ecb1bb",
   "metadata": {},
   "outputs": [],
   "source": [
    "df_long_term = df_temp_install_price_gdp_population_demand[['temperature', 'solar_install', 'avgrrp', 'gdp', 'population', 'totaldemand']]"
   ]
  },
  {
   "cell_type": "code",
   "execution_count": 46,
   "id": "e3ec47e0-0505-4a06-9319-5f31b1dde1dd",
   "metadata": {},
   "outputs": [
    {
     "data": {
      "image/png": "[encoded data removed]",
      "text/plain": [
       "<Figure size 640x480 with 2 Axes>"
      ]
     },
     "metadata": {},
     "output_type": "display_data"
    }
   ],
   "source": [
    "sns.heatmap(df_long_term.corr(), annot=True, cmap='coolwarm')\n",
    "plt.show()"
   ]
  },
  {
   "cell_type": "markdown",
   "id": "cea2a28d-2ef7-473a-a665-4358c4d7c733",
   "metadata": {},
   "source": [
    "From the above graph, we can see the solar_instrall has the highest correlation with totaldemand. However, the other variables also have non-trivial correlations with totaldemand. So we should considder include all the variables in our modeling, inf"
   ]
  },
  {
   "cell_type": "code",
   "execution_count": 47,
   "id": "133b9a0e-69db-4803-b242-e8e554b0737a",
   "metadata": {},
   "outputs": [],
   "source": [
    "y_long_term = df_long_term['totaldemand']\n",
    "X_long_term = df_long_term.drop('totaldemand', axis = 1)"
   ]
  },
  {
   "cell_type": "code",
   "execution_count": 179,
   "id": "4a18b7b2-ed7b-4347-8dd3-dee6e5e4f28d",
   "metadata": {},
   "outputs": [
    {
     "data": {
      "text/html": [
       "<div>\n",
       "<style scoped>\n",
       "    .dataframe tbody tr th:only-of-type {\n",
       "        vertical-align: middle;\n",
       "    }\n",
       "\n",
       "    .dataframe tbody tr th {\n",
       "        vertical-align: top;\n",
       "    }\n",
       "\n",
       "    .dataframe thead th {\n",
       "        text-align: right;\n",
       "    }\n",
       "</style>\n",
       "<table border=\"1\" class=\"dataframe\">\n",
       "  <thead>\n",
       "    <tr style=\"text-align: right;\">\n",
       "      <th></th>\n",
       "      <th>temperature</th>\n",
       "      <th>solar_install</th>\n",
       "      <th>avgrrp</th>\n",
       "      <th>gdp</th>\n",
       "      <th>population</th>\n",
       "      <th>totaldemand</th>\n",
       "    </tr>\n",
       "  </thead>\n",
       "  <tbody>\n",
       "    <tr>\n",
       "      <th>count</th>\n",
       "      <td>41.000000</td>\n",
       "      <td>41.000000</td>\n",
       "      <td>41.000000</td>\n",
       "      <td>41.000000</td>\n",
       "      <td>4.100000e+01</td>\n",
       "      <td>41.000000</td>\n",
       "    </tr>\n",
       "    <tr>\n",
       "      <th>mean</th>\n",
       "      <td>17.364313</td>\n",
       "      <td>333863.731707</td>\n",
       "      <td>57.425610</td>\n",
       "      <td>428134.780488</td>\n",
       "      <td>7.675081e+06</td>\n",
       "      <td>8043.876519</td>\n",
       "    </tr>\n",
       "    <tr>\n",
       "      <th>std</th>\n",
       "      <td>3.728465</td>\n",
       "      <td>137842.484320</td>\n",
       "      <td>24.195789</td>\n",
       "      <td>49432.295099</td>\n",
       "      <td>3.075560e+05</td>\n",
       "      <td>403.434825</td>\n",
       "    </tr>\n",
       "    <tr>\n",
       "      <th>min</th>\n",
       "      <td>12.184779</td>\n",
       "      <td>83996.000000</td>\n",
       "      <td>22.352500</td>\n",
       "      <td>341094.000000</td>\n",
       "      <td>7.179891e+06</td>\n",
       "      <td>7164.215854</td>\n",
       "    </tr>\n",
       "    <tr>\n",
       "      <th>25%</th>\n",
       "      <td>13.931928</td>\n",
       "      <td>245209.000000</td>\n",
       "      <td>35.170000</td>\n",
       "      <td>391216.000000</td>\n",
       "      <td>7.404032e+06</td>\n",
       "      <td>7736.964693</td>\n",
       "    </tr>\n",
       "    <tr>\n",
       "      <th>50%</th>\n",
       "      <td>18.634972</td>\n",
       "      <td>322915.000000</td>\n",
       "      <td>52.260000</td>\n",
       "      <td>421533.000000</td>\n",
       "      <td>7.671401e+06</td>\n",
       "      <td>8086.523677</td>\n",
       "    </tr>\n",
       "    <tr>\n",
       "      <th>75%</th>\n",
       "      <td>20.303908</td>\n",
       "      <td>417292.000000</td>\n",
       "      <td>82.270000</td>\n",
       "      <td>471736.000000</td>\n",
       "      <td>7.954476e+06</td>\n",
       "      <td>8255.030188</td>\n",
       "    </tr>\n",
       "    <tr>\n",
       "      <th>max</th>\n",
       "      <td>22.943624</td>\n",
       "      <td>643413.000000</td>\n",
       "      <td>103.435000</td>\n",
       "      <td>531962.000000</td>\n",
       "      <td>8.112001e+06</td>\n",
       "      <td>9016.652115</td>\n",
       "    </tr>\n",
       "  </tbody>\n",
       "</table>\n",
       "</div>"
      ],
      "text/plain": [
       "       temperature  solar_install      avgrrp            gdp    population  \\\n",
       "count    41.000000      41.000000   41.000000      41.000000  4.100000e+01   \n",
       "mean     17.364313  333863.731707   57.425610  428134.780488  7.675081e+06   \n",
       "std       3.728465  137842.484320   24.195789   49432.295099  3.075560e+05   \n",
       "min      12.184779   83996.000000   22.352500  341094.000000  7.179891e+06   \n",
       "25%      13.931928  245209.000000   35.170000  391216.000000  7.404032e+06   \n",
       "50%      18.634972  322915.000000   52.260000  421533.000000  7.671401e+06   \n",
       "75%      20.303908  417292.000000   82.270000  471736.000000  7.954476e+06   \n",
       "max      22.943624  643413.000000  103.435000  531962.000000  8.112001e+06   \n",
       "\n",
       "       totaldemand  \n",
       "count    41.000000  \n",
       "mean   8043.876519  \n",
       "std     403.434825  \n",
       "min    7164.215854  \n",
       "25%    7736.964693  \n",
       "50%    8086.523677  \n",
       "75%    8255.030188  \n",
       "max    9016.652115  "
      ]
     },
     "execution_count": 179,
     "metadata": {},
     "output_type": "execute_result"
    }
   ],
   "source": [
    "df_long_term.describe()"
   ]
  },
  {
   "cell_type": "code",
   "execution_count": 170,
   "id": "ef2a3233-4b19-4267-a58c-d1165ee5515f",
   "metadata": {},
   "outputs": [],
   "source": [
    "X_long_term_train, X_long_term_test, y_long_term_train, y_long_term_test = train_test_split(X_long_term, y_long_term, test_size=0.2, random_state=2)"
   ]
  },
  {
   "cell_type": "markdown",
   "id": "cec49ef4-fe15-4cf5-94fa-aa1e70774464",
   "metadata": {},
   "source": [
    "### Short Term Data For Modeling"
   ]
  },
  {
   "cell_type": "code",
   "execution_count": 49,
   "id": "0a1298ba-a3a4-4127-a98d-54674f15d3cc",
   "metadata": {},
   "outputs": [],
   "source": [
    "df_temp = df_temp.reset_index()"
   ]
  },
  {
   "cell_type": "code",
   "execution_count": 50,
   "id": "756fa54e-6dae-4f25-94a1-81bfbd58e435",
   "metadata": {},
   "outputs": [],
   "source": [
    "df_demand = df_demand.reset_index()"
   ]
  },
  {
   "cell_type": "code",
   "execution_count": 51,
   "id": "4047e1f7-a778-47c1-b8ed-a6d23bbb600b",
   "metadata": {},
   "outputs": [],
   "source": [
    "df_temp_demand_short_term = pd.merge(df_temp, df_demand, on='time', how='inner')"
   ]
  },
  {
   "cell_type": "markdown",
   "id": "edd71ed0-cc99-4786-ad01-ed2a9bf6a614",
   "metadata": {},
   "source": [
    "**NOTE:** Depending on which model to use, 'time' may not be used in some models. "
   ]
  },
  {
   "cell_type": "code",
   "execution_count": 52,
   "id": "251dd3d0-90dd-4f6c-a614-8d1e9e583f4c",
   "metadata": {},
   "outputs": [],
   "source": [
    "df_short_term = df_temp_demand_short_term[['time', 'temperature', 'totaldemand']]"
   ]
  },
  {
   "cell_type": "code",
   "execution_count": 180,
   "id": "fe5ac72b-b8dd-4ade-b1c0-5f9ef3ba9022",
   "metadata": {},
   "outputs": [
    {
     "data": {
      "text/html": [
       "<div>\n",
       "<style scoped>\n",
       "    .dataframe tbody tr th:only-of-type {\n",
       "        vertical-align: middle;\n",
       "    }\n",
       "\n",
       "    .dataframe tbody tr th {\n",
       "        vertical-align: top;\n",
       "    }\n",
       "\n",
       "    .dataframe thead th {\n",
       "        text-align: right;\n",
       "    }\n",
       "</style>\n",
       "<table border=\"1\" class=\"dataframe\">\n",
       "  <thead>\n",
       "    <tr style=\"text-align: right;\">\n",
       "      <th></th>\n",
       "      <th>temperature</th>\n",
       "      <th>totaldemand</th>\n",
       "    </tr>\n",
       "  </thead>\n",
       "  <tbody>\n",
       "    <tr>\n",
       "      <th>count</th>\n",
       "      <td>195947.000000</td>\n",
       "      <td>195947.000000</td>\n",
       "    </tr>\n",
       "    <tr>\n",
       "      <th>mean</th>\n",
       "      <td>17.530995</td>\n",
       "      <td>8111.924589</td>\n",
       "    </tr>\n",
       "    <tr>\n",
       "      <th>std</th>\n",
       "      <td>5.884212</td>\n",
       "      <td>1299.171401</td>\n",
       "    </tr>\n",
       "    <tr>\n",
       "      <th>min</th>\n",
       "      <td>-1.300000</td>\n",
       "      <td>5074.630000</td>\n",
       "    </tr>\n",
       "    <tr>\n",
       "      <th>25%</th>\n",
       "      <td>13.500000</td>\n",
       "      <td>7149.430000</td>\n",
       "    </tr>\n",
       "    <tr>\n",
       "      <th>50%</th>\n",
       "      <td>17.900000</td>\n",
       "      <td>8052.180000</td>\n",
       "    </tr>\n",
       "    <tr>\n",
       "      <th>75%</th>\n",
       "      <td>21.500000</td>\n",
       "      <td>8956.985000</td>\n",
       "    </tr>\n",
       "    <tr>\n",
       "      <th>max</th>\n",
       "      <td>44.700000</td>\n",
       "      <td>14579.860000</td>\n",
       "    </tr>\n",
       "  </tbody>\n",
       "</table>\n",
       "</div>"
      ],
      "text/plain": [
       "         temperature    totaldemand\n",
       "count  195947.000000  195947.000000\n",
       "mean       17.530995    8111.924589\n",
       "std         5.884212    1299.171401\n",
       "min        -1.300000    5074.630000\n",
       "25%        13.500000    7149.430000\n",
       "50%        17.900000    8052.180000\n",
       "75%        21.500000    8956.985000\n",
       "max        44.700000   14579.860000"
      ]
     },
     "execution_count": 180,
     "metadata": {},
     "output_type": "execute_result"
    }
   ],
   "source": [
    "df_short_term.describe()"
   ]
  },
  {
   "cell_type": "code",
   "execution_count": 53,
   "id": "1d03f3b5-e491-4fe6-aa6d-844e19e77fac",
   "metadata": {},
   "outputs": [],
   "source": [
    "y_short_term = df_short_term['totaldemand']\n",
    "X_short_term = df_short_term.drop('totaldemand', axis = 1)"
   ]
  },
  {
   "cell_type": "code",
   "execution_count": 54,
   "id": "2e934a9c-cc85-4b02-a1f3-ef2b5e08edc2",
   "metadata": {},
   "outputs": [],
   "source": [
    "X_short_term_train, X_short_term_test, y_short_term_train, y_short_term_test = train_test_split(X_short_term, y_short_term, test_size=0.2, random_state=42)"
   ]
  },
  {
   "cell_type": "markdown",
   "id": "8588b6b4-f114-4068-97e5-709a4365d916",
   "metadata": {},
   "source": [
    "## Modeling"
   ]
  },
  {
   "cell_type": "markdown",
   "id": "b544d89d-656c-4021-a465-288adcffce28",
   "metadata": {},
   "source": [
    "### Modeling on the long term dataset"
   ]
  },
  {
   "cell_type": "markdown",
   "id": "7b9d2ccc-ed01-4bbd-b4e5-a41d110f2d00",
   "metadata": {},
   "source": [
    "#### Linear Regression"
   ]
  },
  {
   "cell_type": "markdown",
   "id": "417a2517-9777-4526-9cd7-83f925bb5893",
   "metadata": {},
   "source": [
    "For the long term data set, it is not very big. We can start from a simple Linear Regression model. It is easy to understand and interpret, works well with small datasets."
   ]
  },
  {
   "cell_type": "markdown",
   "id": "1444d99b-04fb-48eb-a396-15b353fb1209",
   "metadata": {},
   "source": [
    "\"time\" is not a suitable variable in a linear regression. We can exclude it from out modeling. "
   ]
  },
  {
   "cell_type": "code",
   "execution_count": 171,
   "id": "e0281eef-9e24-47ec-9330-46630caec636",
   "metadata": {},
   "outputs": [],
   "source": [
    "X_long_term_train_lr = X_long_term_train[['temperature', 'solar_install', 'avgrrp', 'gdp', 'population']]\n",
    "X_long_term_test_lr = X_long_term_test[['temperature', 'solar_install', 'avgrrp', 'gdp', 'population']]\n",
    "y_long_term_train_lr = y_long_term_train\n",
    "y_long_term_test_lr = y_long_term_test"
   ]
  },
  {
   "cell_type": "code",
   "execution_count": 189,
   "id": "e2421983-52a6-41a6-b980-212fae1ebc6f",
   "metadata": {},
   "outputs": [
    {
     "name": "stdout",
     "output_type": "stream",
     "text": [
      "Testing MSE: 138534.71772970693\n",
      "Testing R²: 0.2887027575440213\n",
      "Coefficients: [ 3.83165460e+01 -3.16708423e-03  2.51994561e-01  1.28970916e-03\n",
      "  5.85898868e-04]\n"
     ]
    }
   ],
   "source": [
    "model_simple_lr = LinearRegression()\n",
    "\n",
    "model_simple_lr.fit(X_long_term_train_lr, y_long_term_train_lr)\n",
    "\n",
    "y_long_term_pred_simple_lr = model_simple_lr.predict(X_long_term_test_lr)\n",
    "\n",
    "# Calculate metrics\n",
    "test_mse = mean_squared_error(y_long_term_test_lr, y_long_term_pred_simple_lr)\n",
    "test_r2 = r2_score(y_long_term_test_lr, y_long_term_pred_simple_lr)\n",
    "\n",
    "print(\"Testing MSE:\", test_mse)\n",
    "print(\"Testing R²:\", test_r2)\n",
    "print(\"Coefficients:\", model_simple_lr.coef_)"
   ]
  },
  {
   "cell_type": "code",
   "execution_count": 217,
   "id": "16a611f9-5327-4e00-8d86-15c837a8a2c5",
   "metadata": {},
   "outputs": [
    {
     "data": {
      "text/plain": [
       "<Axes: >"
      ]
     },
     "execution_count": 217,
     "metadata": {},
     "output_type": "execute_result"
    },
    {
     "data": {
      "image/png": "[encoded data removed]",
      "text/plain": [
       "<Figure size 640x480 with 1 Axes>"
      ]
     },
     "metadata": {},
     "output_type": "display_data"
    }
   ],
   "source": [
    "# Visualization \n",
    "df_simple_lr = pd.DataFrame()\n",
    "df_simple_lr['totaldemand'] = list(y_long_term_test_lr)\n",
    "df_simple_lr['prediction'] = list(y_long_term_pred_simple_lr)\n",
    "df_simple_lr.plot()"
   ]
  },
  {
   "cell_type": "markdown",
   "id": "848893ff-c946-415e-8bb4-7e1331eb2ffc",
   "metadata": {},
   "source": [
    "This is a very simple model, assuming the totaldemand is proportional to the other varibles. However, from the above analysis of relationship between temperature and totaldemand (which is a V shaped correlation), it is reasonable to update the linear regression model and assume the degree is 2. "
   ]
  },
  {
   "cell_type": "markdown",
   "id": "d409c5e1-783b-405f-b1fe-b3a958ed8228",
   "metadata": {},
   "source": [
    "#### Polynomial Regression"
   ]
  },
  {
   "cell_type": "code",
   "execution_count": 172,
   "id": "bbab88d6-62e9-4de3-8b28-972f78482655",
   "metadata": {},
   "outputs": [
    {
     "name": "stdout",
     "output_type": "stream",
     "text": [
      "Training MSE: 12755.866166025673\n",
      "Testing MSE: 80677.60724745081\n",
      "Training R²: 0.9082678270741155\n",
      "Testing R²: 0.5857662216122405\n",
      "                            Coefficient  Standard Error   t-Statistic  \\\n",
      "Intercept                  2.043204e-01    2.732602e+05  7.477135e-07   \n",
      "temperature                2.549383e+01    7.788865e+02  3.273112e-02   \n",
      "solar_install             -2.135360e-01    1.672235e-01 -1.276949e+00   \n",
      "avgrrp                    -3.149584e+02    2.982657e+02 -1.055966e+00   \n",
      "gdp                        5.285557e-01    3.380861e-01  1.563376e+00   \n",
      "population                -2.111775e-02    8.220685e-02 -2.568855e-01   \n",
      "temperature^2             -4.224170e+01    5.447200e+00 -7.754755e+00   \n",
      "temperature solar_install -9.142415e-04    3.496029e-04 -2.615085e+00   \n",
      "temperature avgrrp        -1.820487e+00    6.242766e-01 -2.916154e+00   \n",
      "temperature gdp            3.514688e-03    1.052394e-03  3.339706e+00   \n",
      "temperature population     4.675365e-05    1.279655e-04  3.653615e-01   \n",
      "solar_install^2           -8.030416e-08    3.754239e-08 -2.139026e+00   \n",
      "solar_install avgrrp       8.651826e-06    1.682757e-04  5.141458e-02   \n",
      "solar_install gdp          3.328595e-07    1.382236e-07  2.408123e+00   \n",
      "solar_install population   1.704753e-08    2.231261e-08  7.640313e-01   \n",
      "avgrrp^2                  -3.791214e-01    9.704343e-02 -3.906720e+00   \n",
      "avgrrp gdp                -4.762623e-05    2.082392e-04 -2.287092e-01   \n",
      "avgrrp population          5.295075e-05    4.255786e-05  1.244206e+00   \n",
      "gdp^2                     -8.025126e-08    1.677476e-07 -4.784047e-01   \n",
      "gdp population            -8.509481e-08    5.385124e-08 -1.580183e+00   \n",
      "population^2               3.590642e-09    6.526457e-09  5.501672e-01   \n",
      "\n",
      "                            p-Value  \n",
      "Intercept                  0.999999  \n",
      "temperature                0.974475  \n",
      "solar_install              0.227917  \n",
      "avgrrp                     0.313624  \n",
      "gdp                        0.146258  \n",
      "population                 0.802009  \n",
      "temperature^2              0.000009  \n",
      "temperature solar_install  0.024038  \n",
      "temperature avgrrp         0.014034  \n",
      "temperature gdp            0.006597  \n",
      "temperature population     0.721770  \n",
      "solar_install^2            0.055699  \n",
      "solar_install avgrrp       0.959917  \n",
      "solar_install gdp          0.034730  \n",
      "solar_install population   0.460923  \n",
      "avgrrp^2                   0.002448  \n",
      "avgrrp gdp                 0.823291  \n",
      "avgrrp population          0.239283  \n",
      "gdp^2                      0.641729  \n",
      "gdp population             0.142371  \n",
      "population^2               0.593200  \n"
     ]
    }
   ],
   "source": [
    "# Create polynomial features with degree = 2\n",
    "poly = PolynomialFeatures(degree=2, include_bias=False)\n",
    "X_train_poly = poly.fit_transform(X_long_term_train_lr)\n",
    "X_test_poly = poly.transform(X_long_term_test_lr)\n",
    "\n",
    "# Add a constant to the arrays for the intercept\n",
    "X_train_poly = np.c_[np.ones(X_train_poly.shape[0]), X_train_poly]\n",
    "X_test_poly = np.c_[np.ones(X_test_poly.shape[0]), X_test_poly]\n",
    "\n",
    "# Fit the regression model on training data\n",
    "model_lr = LinearRegression(fit_intercept=False).fit(X_train_poly, y_long_term_train_lr)\n",
    "train_predictions = model_lr.predict(X_train_poly)\n",
    "test_predictions = model_lr.predict(X_test_poly)\n",
    "\n",
    "# Calculate metrics\n",
    "train_mse = mean_squared_error(y_long_term_train_lr, train_predictions)\n",
    "test_mse = mean_squared_error(y_long_term_test_lr, test_predictions)\n",
    "train_r2 = r2_score(y_long_term_train_lr, train_predictions)\n",
    "test_r2 = r2_score(y_long_term_test_lr, test_predictions)\n",
    "\n",
    "# Compute standard errors of the parameters\n",
    "mse = mean_squared_error(y_long_term_train_lr, train_predictions)\n",
    "N = X_train_poly.shape[0]\n",
    "P = X_train_poly.shape[1]\n",
    "dof = N - P  # Degrees of freedom\n",
    "XtX_inv = np.linalg.inv(X_train_poly.T.dot(X_train_poly))\n",
    "variance_est = mse * np.diag(XtX_inv)\n",
    "standard_errors = np.sqrt(variance_est)\n",
    "\n",
    "# Compute t-statistics and p-values for each coefficient\n",
    "t_stats = model_lr.coef_ / standard_errors\n",
    "p_values = [2 * (1 - stats.t.cdf(np.abs(t), dof)) if t != 0 else 1.0 for t in t_stats]\n",
    "\n",
    "# Display results\n",
    "coefficients_df = pd.DataFrame({\n",
    "    'Coefficient': model_lr.coef_,\n",
    "    'Standard Error': standard_errors,\n",
    "    't-Statistic': t_stats,\n",
    "    'p-Value': p_values\n",
    "}, index = np.concatenate((np.array(['Intercept']), poly.get_feature_names_out())))\n",
    "\n",
    "print(\"Training MSE:\", train_mse)\n",
    "print(\"Testing MSE:\", test_mse)\n",
    "print(\"Training R²:\", train_r2)\n",
    "print(\"Testing R²:\", test_r2)s\n",
    "print(coefficients_df)"
   ]
  },
  {
   "cell_type": "code",
   "execution_count": 173,
   "id": "52664ccb-bd12-4535-b725-0607f3c6fb55",
   "metadata": {},
   "outputs": [],
   "source": [
    "# Visualization \n",
    "df_lr = pd.DataFrame()\n",
    "df_lr['totaldemand'] = list(y_long_term_test_lr)\n",
    "df_lr['prediction'] = list(test_predictions)"
   ]
  },
  {
   "cell_type": "code",
   "execution_count": 174,
   "id": "86b4501e-b14e-4a05-b7c2-22f479bfda08",
   "metadata": {},
   "outputs": [
    {
     "data": {
      "text/plain": [
       "<Axes: >"
      ]
     },
     "execution_count": 174,
     "metadata": {},
     "output_type": "execute_result"
    },
    {
     "data": {
      "image/png": "[encoded data removed]",
      "text/plain": [
       "<Figure size 640x480 with 1 Axes>"
      ]
     },
     "metadata": {},
     "output_type": "display_data"
    }
   ],
   "source": [
    "df_lr.plot()"
   ]
  },
  {
   "cell_type": "markdown",
   "id": "bbc78f33-044f-4ab7-a169-26f2bb5ed779",
   "metadata": {},
   "source": [
    "We can see the Polynomial Regression prediction is better than the simple Linear Regression model."
   ]
  },
  {
   "cell_type": "markdown",
   "id": "70d587b9-1049-481d-b819-e1f8720475d2",
   "metadata": {},
   "source": [
    "Linear Regression is a pretty simple model but from the graph we can see the result is pretty good. We can try some other models."
   ]
  },
  {
   "cell_type": "markdown",
   "id": "8b254b22-97b8-4ef9-adbf-4b938e33775f",
   "metadata": {},
   "source": [
    "### Modeling on the short term dataset"
   ]
  },
  {
   "cell_type": "markdown",
   "id": "85371de0-051f-47e2-a1ae-e7a7c2d944d1",
   "metadata": {},
   "source": [
    "For the short term data set, it is a big one. We can start with ARIMA. "
   ]
  },
  {
   "cell_type": "markdown",
   "id": "9bb21001-be51-43d7-93cb-53cb7b483806",
   "metadata": {},
   "source": [
    "#### ARIMA"
   ]
  },
  {
   "cell_type": "code",
   "execution_count": 106,
   "id": "439eddb9-838a-4d1c-875b-b1762b6980cb",
   "metadata": {},
   "outputs": [],
   "source": [
    "df_temp_demand_short_term_arima = df_temp_demand_short_term.copy(deep=True)"
   ]
  },
  {
   "cell_type": "code",
   "execution_count": 107,
   "id": "af27b9e8-824c-495c-8534-d06234c8e09a",
   "metadata": {},
   "outputs": [],
   "source": [
    "y_arima = df_temp_demand_short_term['totaldemand']"
   ]
  },
  {
   "cell_type": "code",
   "execution_count": 108,
   "id": "2cc57081-7e63-4b24-bc4e-a9905f7e9473",
   "metadata": {},
   "outputs": [],
   "source": [
    "msk = (y_arima.index < len(y_arima) - 336) # 48 * 7 = 336, corresponding to 7 days prediction with 30mins granuality. \n",
    "df_arima_train = y_arima[msk].copy()\n",
    "df_arima_test = y_arima[~msk].copy()"
   ]
  },
  {
   "cell_type": "markdown",
   "id": "de7b4051-926f-4bb5-afc3-9aa1e0adbbbf",
   "metadata": {},
   "source": [
    "ARIMA requires the time series to be stationary."
   ]
  },
  {
   "cell_type": "code",
   "execution_count": 64,
   "id": "e8dcb427-9709-4159-be0f-43b6b177c11e",
   "metadata": {},
   "outputs": [],
   "source": [
    "def check_stationarity(timeseries):\n",
    "    # Determing rolling statistics\n",
    "    rolling_mean = timeseries.rolling(window=12).mean()\n",
    "    rolling_std = timeseries.rolling(window=12).std()\n",
    "\n",
    "    # Plot rolling statistics:\n",
    "    plt.plot(timeseries, color='blue',label='Original')\n",
    "    plt.plot(rolling_mean, color='red', label='Rolling Mean')\n",
    "    plt.plot(rolling_std, color='black', label='Rolling Std')\n",
    "    plt.legend(loc='best')\n",
    "    plt.title('Rolling Mean & Standard Deviation')\n",
    "    plt.show(block=False)\n",
    "    \n",
    "    # Perform Dickey-Fuller test:\n",
    "    print('Results of Dickey-Fuller Test:')\n",
    "    adf_test = adfuller(timeseries, autolag='AIC')\n",
    "    df_results = pd.Series(adf_test[0:4], index=['Test Statistic','p-value','#Lags Used','Number of Observations Used'])\n",
    "    for key,value in adf_test[4].items():\n",
    "        df_results['Critical Value (%s)'%key] = value\n",
    "    print(df_results)"
   ]
  },
  {
   "cell_type": "code",
   "execution_count": 65,
   "id": "950aff88-b1fa-4904-8542-fbbe9300d2cc",
   "metadata": {},
   "outputs": [
    {
     "data": {
      "image/png": "[encoded data removed]",
      "text/plain": [
       "<Figure size 640x480 with 1 Axes>"
      ]
     },
     "metadata": {},
     "output_type": "display_data"
    },
    {
     "name": "stdout",
     "output_type": "stream",
     "text": [
      "Results of Dickey-Fuller Test:\n",
      "Test Statistic                    -25.483385\n",
      "p-value                             0.000000\n",
      "#Lags Used                         80.000000\n",
      "Number of Observations Used    195530.000000\n",
      "Critical Value (1%)                -3.430383\n",
      "Critical Value (5%)                -2.861555\n",
      "Critical Value (10%)               -2.566778\n",
      "dtype: float64\n"
     ]
    }
   ],
   "source": [
    "check_stationarity(df_arima_train)"
   ]
  },
  {
   "cell_type": "markdown",
   "id": "24500c20-ea7a-49ed-85fb-4d658611e0b3",
   "metadata": {},
   "source": [
    "The p-value is low (<0.05) and the Test Statistic is lower than the Critical values, so this dataset has passed the stationarity check. We could apply the ARIMA model. The next step in preparing an ARIMA model is to determine the appropriate parameters: \n",
    "* p (autoregressive term), \n",
    "* d (differencing order),\n",
    "* q (moving average term). "
   ]
  },
  {
   "cell_type": "markdown",
   "id": "69d84ca8-d9da-4825-a39b-6c87b37fdd02",
   "metadata": {},
   "source": [
    "Since it is a stationary dataset, we can easily see that d = 0. Let's try to find p and q using ACF and PACF plots."
   ]
  },
  {
   "cell_type": "code",
   "execution_count": 181,
   "id": "c49c8c26-7835-4226-8a3c-090dda81e270",
   "metadata": {},
   "outputs": [
    {
     "data": {
      "text/plain": [
       "<Figure size 1000x600 with 0 Axes>"
      ]
     },
     "metadata": {},
     "output_type": "display_data"
    },
    {
     "data": {
      "image/png": "[encoded data removed]",
      "text/plain": [
       "<Figure size 640x480 with 1 Axes>"
      ]
     },
     "metadata": {},
     "output_type": "display_data"
    }
   ],
   "source": [
    "# ACF plot\n",
    "plt.figure(figsize=(10, 6))\n",
    "plot_acf(df_arima_train, lags=60)  # Change the number of lags as needed\n",
    "plt.title('Autocorrelation Function (ACF)')\n",
    "plt.xlabel('Lag')\n",
    "plt.ylabel('Autocorrelation')\n",
    "plt.grid(True)\n",
    "plt.show()"
   ]
  },
  {
   "cell_type": "code",
   "execution_count": 182,
   "id": "1632c7ce-127b-4f99-9e3f-4c0641c40607",
   "metadata": {},
   "outputs": [
    {
     "name": "stderr",
     "output_type": "stream",
     "text": [
      "/Users/aileen/anaconda3/lib/python3.10/site-packages/statsmodels/graphics/tsaplots.py:348: FutureWarning: The default method 'yw' can produce PACF values outside of the [-1,1] interval. After 0.13, the default will change tounadjusted Yule-Walker ('ywm'). You can use this method now by setting method='ywm'.\n",
      "  warnings.warn(\n"
     ]
    },
    {
     "data": {
      "text/plain": [
       "<Figure size 1000x600 with 0 Axes>"
      ]
     },
     "metadata": {},
     "output_type": "display_data"
    },
    {
     "data": {
      "image/png": "[encoded data removed]",
      "text/plain": [
       "<Figure size 640x480 with 1 Axes>"
      ]
     },
     "metadata": {},
     "output_type": "display_data"
    }
   ],
   "source": [
    "# PACF Plot\n",
    "plt.figure(figsize=(10, 6))\n",
    "plot_pacf(df_arima_train, lags=48)  #\n",
    "plt.title('Partial Autocorrelation Function (PACF)')\n",
    "plt.xlabel('Lag')\n",
    "plt.ylabel('Partial Autocorrelation')\n",
    "plt.grid(True)\n",
    "plt.show()"
   ]
  },
  {
   "cell_type": "markdown",
   "id": "8cdbc0ea-4b5a-42f3-86f3-f4778257c6c9",
   "metadata": {},
   "source": [
    "We can use Grid Search to find the best values of p and q."
   ]
  },
  {
   "cell_type": "code",
   "execution_count": 66,
   "id": "ffca9a0b-48d6-426d-9675-fe6c9c6e5563",
   "metadata": {},
   "outputs": [
    {
     "name": "stdout",
     "output_type": "stream",
     "text": [
      "p: 1, q: 1\n",
      "mae: 858.5320837401423\n",
      "mape: 0.10727100291962295\n",
      "mse: 1077240.28469661\n",
      "--------------\n",
      "p: 1, q: 2\n",
      "mae: 858.7995151670829\n",
      "mape: 0.10689342717477945\n",
      "mse: 1088581.9715770255\n",
      "--------------\n",
      "p: 1, q: 4\n",
      "mae: 853.0423050406838\n",
      "mape: 0.10570724632798555\n",
      "mse: 1094407.0624887603\n",
      "--------------\n",
      "p: 1, q: 6\n",
      "mae: 848.1004664814209\n",
      "mape: 0.10499590330099082\n",
      "mse: 1091067.832302769\n",
      "--------------\n",
      "p: 1, q: 12\n",
      "mae: 840.8731226435692\n",
      "mape: 0.1039793002312394\n",
      "mse: 1090094.9022970044\n",
      "--------------\n",
      "p: 2, q: 1\n",
      "mae: 837.3825038985121\n",
      "mape: 0.10353140133577243\n",
      "mse: 1086945.7252286521\n",
      "--------------\n",
      "p: 2, q: 2\n",
      "mae: 837.3785909602777\n",
      "mape: 0.10353035363959677\n",
      "mse: 1088135.188852388\n",
      "--------------\n",
      "p: 2, q: 4\n",
      "mae: 837.7093340689217\n",
      "mape: 0.10357121231749841\n",
      "mse: 1088670.579056152\n",
      "--------------\n",
      "p: 2, q: 6\n",
      "mae: 838.6219222748523\n",
      "mape: 0.10369204145693195\n",
      "mse: 1088853.1501495603\n",
      "--------------\n",
      "p: 2, q: 12\n",
      "mae: 839.5334388548075\n",
      "mape: 0.10380588420173636\n",
      "mse: 1089558.6725872064\n",
      "--------------\n",
      "p: 3, q: 1\n",
      "mae: 837.5042326725613\n",
      "mape: 0.10354621768095566\n",
      "mse: 1086947.2379436742\n",
      "--------------\n",
      "p: 3, q: 2\n",
      "mae: 838.3160664275135\n",
      "mape: 0.10365040297626514\n",
      "mse: 1089041.2275047398\n",
      "--------------\n"
     ]
    },
    {
     "name": "stderr",
     "output_type": "stream",
     "text": [
      "/Users/aileen/anaconda3/lib/python3.10/site-packages/statsmodels/base/model.py:604: ConvergenceWarning: Maximum Likelihood optimization failed to converge. Check mle_retvals\n",
      "  warnings.warn(\"Maximum Likelihood optimization failed to \"\n"
     ]
    },
    {
     "name": "stdout",
     "output_type": "stream",
     "text": [
      "p: 3, q: 4\n",
      "mae: 744.8948708887336\n",
      "mape: 0.09567718860816564\n",
      "mse: 827112.7846404535\n",
      "--------------\n",
      "p: 3, q: 6\n",
      "mae: 838.0468659864977\n",
      "mape: 0.10361498194932234\n",
      "mse: 1088968.9577091704\n",
      "--------------\n",
      "p: 3, q: 12\n",
      "mae: 839.740240976778\n",
      "mape: 0.1038316885925118\n",
      "mse: 1089782.6748246253\n",
      "--------------\n",
      "p: 4, q: 1\n",
      "mae: 840.0408300178552\n",
      "mape: 0.10386850851842377\n",
      "mse: 1090240.9209135498\n",
      "--------------\n",
      "p: 4, q: 2\n",
      "mae: 839.3265449287248\n",
      "mape: 0.10377848203688107\n",
      "mse: 1089667.4080496803\n",
      "--------------\n"
     ]
    },
    {
     "name": "stderr",
     "output_type": "stream",
     "text": [
      "/Users/aileen/anaconda3/lib/python3.10/site-packages/statsmodels/base/model.py:604: ConvergenceWarning: Maximum Likelihood optimization failed to converge. Check mle_retvals\n",
      "  warnings.warn(\"Maximum Likelihood optimization failed to \"\n"
     ]
    },
    {
     "name": "stdout",
     "output_type": "stream",
     "text": [
      "p: 4, q: 4\n",
      "mae: 744.3533432285332\n",
      "mape: 0.09561541619829106\n",
      "mse: 826159.9977009211\n",
      "--------------\n",
      "p: 4, q: 6\n",
      "mae: 840.2981915238332\n",
      "mape: 0.10390177501960747\n",
      "mse: 1090248.4863155002\n",
      "--------------\n"
     ]
    },
    {
     "name": "stderr",
     "output_type": "stream",
     "text": [
      "/Users/aileen/anaconda3/lib/python3.10/site-packages/statsmodels/base/model.py:604: ConvergenceWarning: Maximum Likelihood optimization failed to converge. Check mle_retvals\n",
      "  warnings.warn(\"Maximum Likelihood optimization failed to \"\n"
     ]
    },
    {
     "name": "stdout",
     "output_type": "stream",
     "text": [
      "p: 4, q: 12\n",
      "mae: 844.8680163968522\n",
      "mape: 0.10453233984702133\n",
      "mse: 1092021.2469697949\n",
      "--------------\n",
      "p: 6, q: 1\n",
      "mae: 838.9338176008112\n",
      "mape: 0.10372661740967694\n",
      "mse: 1089701.1903781998\n",
      "--------------\n"
     ]
    },
    {
     "name": "stderr",
     "output_type": "stream",
     "text": [
      "/Users/aileen/anaconda3/lib/python3.10/site-packages/statsmodels/base/model.py:604: ConvergenceWarning: Maximum Likelihood optimization failed to converge. Check mle_retvals\n",
      "  warnings.warn(\"Maximum Likelihood optimization failed to \"\n"
     ]
    },
    {
     "name": "stdout",
     "output_type": "stream",
     "text": [
      "p: 6, q: 2\n",
      "mae: 840.6990862257919\n",
      "mape: 0.10394882687594902\n",
      "mse: 1091324.31030014\n",
      "--------------\n"
     ]
    },
    {
     "name": "stderr",
     "output_type": "stream",
     "text": [
      "/Users/aileen/anaconda3/lib/python3.10/site-packages/statsmodels/tsa/statespace/sarimax.py:966: UserWarning: Non-stationary starting autoregressive parameters found. Using zeros as starting parameters.\n",
      "  warn('Non-stationary starting autoregressive parameters'\n",
      "/Users/aileen/anaconda3/lib/python3.10/site-packages/statsmodels/tsa/statespace/sarimax.py:978: UserWarning: Non-invertible starting MA parameters found. Using zeros as starting parameters.\n",
      "  warn('Non-invertible starting MA parameters found.'\n",
      "/Users/aileen/anaconda3/lib/python3.10/site-packages/statsmodels/base/model.py:604: ConvergenceWarning: Maximum Likelihood optimization failed to converge. Check mle_retvals\n",
      "  warnings.warn(\"Maximum Likelihood optimization failed to \"\n"
     ]
    },
    {
     "name": "stdout",
     "output_type": "stream",
     "text": [
      "p: 6, q: 4\n",
      "mae: 835.9571489371828\n",
      "mape: 0.10336446487343326\n",
      "mse: 1084443.702395379\n",
      "--------------\n"
     ]
    },
    {
     "name": "stderr",
     "output_type": "stream",
     "text": [
      "/Users/aileen/anaconda3/lib/python3.10/site-packages/statsmodels/base/model.py:604: ConvergenceWarning: Maximum Likelihood optimization failed to converge. Check mle_retvals\n",
      "  warnings.warn(\"Maximum Likelihood optimization failed to \"\n"
     ]
    },
    {
     "name": "stdout",
     "output_type": "stream",
     "text": [
      "p: 6, q: 6\n",
      "mae: 838.014744499517\n",
      "mape: 0.10362348523853526\n",
      "mse: 1087519.0845989364\n",
      "--------------\n"
     ]
    },
    {
     "name": "stderr",
     "output_type": "stream",
     "text": [
      "/Users/aileen/anaconda3/lib/python3.10/site-packages/statsmodels/base/model.py:604: ConvergenceWarning: Maximum Likelihood optimization failed to converge. Check mle_retvals\n",
      "  warnings.warn(\"Maximum Likelihood optimization failed to \"\n"
     ]
    },
    {
     "name": "stdout",
     "output_type": "stream",
     "text": [
      "p: 6, q: 12\n",
      "mae: 845.7953653139788\n",
      "mape: 0.10493554639545237\n",
      "mse: 1078142.3821862245\n",
      "--------------\n"
     ]
    }
   ],
   "source": [
    "for p in (1, 2, 3, 4, 6): \n",
    "    for q in (1, 2, 4, 6, 12): \n",
    "        model = ARIMA(df_arima_train, order=(p, 0, q))\n",
    "        pred = model.fit().forecast(len(df_arima_test))\n",
    "        mae = mean_absolute_error(pred, df_arima_test)\n",
    "        mape = mean_absolute_percentage_error(pred, df_arima_test)\n",
    "        mse = mean_squared_error(pred, df_arima_test)\n",
    "\n",
    "        print(f'p: {p}, q: {q}')\n",
    "        print(f'mae: {mae}')\n",
    "        print(f'mape: {mape}')\n",
    "        print(f'mse: {mse}')\n",
    "        print('--------------')"
   ]
  },
  {
   "cell_type": "markdown",
   "id": "795ee0e5-b8d6-442c-87bf-b628cf1e0a95",
   "metadata": {},
   "source": [
    "We can see select p = 3 and q = 4. "
   ]
  },
  {
   "cell_type": "code",
   "execution_count": 185,
   "id": "5a16be18-f110-4880-aefb-4b2fa7c0b373",
   "metadata": {},
   "outputs": [
    {
     "name": "stderr",
     "output_type": "stream",
     "text": [
      "/Users/aileen/anaconda3/lib/python3.10/site-packages/statsmodels/base/model.py:604: ConvergenceWarning: Maximum Likelihood optimization failed to converge. Check mle_retvals\n",
      "  warnings.warn(\"Maximum Likelihood optimization failed to \"\n"
     ]
    }
   ],
   "source": [
    "model_arima = ARIMA(df_arima_train, order=(3, 0, 4))\n",
    "pred_arima = model_arima.fit().forecast(len(df_arima_test))"
   ]
  },
  {
   "cell_type": "code",
   "execution_count": 186,
   "id": "bae46fee-417c-4080-9d5e-3585ade28587",
   "metadata": {},
   "outputs": [
    {
     "name": "stdout",
     "output_type": "stream",
     "text": [
      "mae: 744.8948708887336\n",
      "mape: 0.09567718860816564\n",
      "mse: 827112.7846404535\n"
     ]
    }
   ],
   "source": [
    "# Check Errors\n",
    "mae = mean_absolute_error(pred_arima, df_arima_test)\n",
    "mape = mean_absolute_percentage_error(pred_arima, df_arima_test)\n",
    "mse = mean_squared_error(pred_arima, df_arima_test)\n",
    "\n",
    "print(f'mae: {mae}')\n",
    "print(f'mape: {mape}')\n",
    "print(f'mse: {mse}')"
   ]
  },
  {
   "cell_type": "markdown",
   "id": "93587737-c5f8-49a9-9480-c005c7b1c28f",
   "metadata": {},
   "source": [
    "Let's visualize the prediction and see whether it matches the test. "
   ]
  },
  {
   "cell_type": "code",
   "execution_count": 68,
   "id": "847a6892-0caf-4c52-be78-bb2e0a318e29",
   "metadata": {},
   "outputs": [],
   "source": [
    "df_temp_demand_short_term_arima['prediction'] = [None] * len(df_arima_train) + list(pred)"
   ]
  },
  {
   "cell_type": "code",
   "execution_count": 69,
   "id": "a82c68d8-015c-4eae-be81-7f8a080bdb3d",
   "metadata": {},
   "outputs": [
    {
     "data": {
      "text/plain": [
       "<Axes: >"
      ]
     },
     "execution_count": 69,
     "metadata": {},
     "output_type": "execute_result"
    },
    {
     "data": {
      "image/png": "[encoded data removed]",
      "text/plain": [
       "<Figure size 640x480 with 1 Axes>"
      ]
     },
     "metadata": {},
     "output_type": "display_data"
    }
   ],
   "source": [
    "df_temp_demand_short_term_arima[['totaldemand', 'prediction']].tail(len(df_arima_test) * 3).plot()"
   ]
  },
  {
   "cell_type": "markdown",
   "id": "7f1073c4-7365-4417-9bac-fe8a59513ad6",
   "metadata": {},
   "source": [
    "We can see the prediction is almost a straight line which does not match the actual demand very well. The most possible reason is that we have not found the optimized p and q. From the ACF plot, the optimized q should be around 48, which makes sense because 48 is corresponding to 1 day recurrion. We have tried training a model with q = 48 but it just took too long and we gave up. We could try using a short period of data to see if the prediction improves.  "
   ]
  },
  {
   "cell_type": "code",
   "execution_count": 125,
   "id": "b94e4262-dd11-422f-b260-331df9af0676",
   "metadata": {},
   "outputs": [],
   "source": [
    "# Choose 3 months of data for training and 1 week of data for testing\n",
    "msk_train_3_months = ((y_arima.index >= (len(y_arima) - (48 * 30 * 3  + 48 * 7))) & (y_arima.index < (len(y_arima) - 48 * 7))) \n",
    "df_arima_train_3_months = y_arima[msk_train_3_months].copy`()\n",
    "msk_test_1_week = (y_arima.index >= len(y_arima) - 48 * 7)\n",
    "df_arima_test_1_week = y_arima[msk_test_1_week].copy()"
   ]
  },
  {
   "cell_type": "code",
   "execution_count": 127,
   "id": "23a403f3-ab1e-473d-9d24-495553e91470",
   "metadata": {},
   "outputs": [
    {
     "name": "stderr",
     "output_type": "stream",
     "text": [
      "/Users/aileen/anaconda3/lib/python3.10/site-packages/statsmodels/tsa/base/tsa_model.py:471: ValueWarning: An unsupported index was provided and will be ignored when e.g. forecasting.\n",
      "  self._init_dates(dates, freq)\n",
      "/Users/aileen/anaconda3/lib/python3.10/site-packages/statsmodels/tsa/base/tsa_model.py:471: ValueWarning: An unsupported index was provided and will be ignored when e.g. forecasting.\n",
      "  self._init_dates(dates, freq)\n",
      "/Users/aileen/anaconda3/lib/python3.10/site-packages/statsmodels/tsa/base/tsa_model.py:471: ValueWarning: An unsupported index was provided and will be ignored when e.g. forecasting.\n",
      "  self._init_dates(dates, freq)\n",
      "/Users/aileen/anaconda3/lib/python3.10/site-packages/statsmodels/tsa/base/tsa_model.py:834: ValueWarning: No supported index is available. Prediction results will be given with an integer index beginning at `start`.\n",
      "  return get_prediction_index(\n",
      "/Users/aileen/anaconda3/lib/python3.10/site-packages/statsmodels/tsa/base/tsa_model.py:471: ValueWarning: An unsupported index was provided and will be ignored when e.g. forecasting.\n",
      "  self._init_dates(dates, freq)\n",
      "/Users/aileen/anaconda3/lib/python3.10/site-packages/statsmodels/tsa/base/tsa_model.py:471: ValueWarning: An unsupported index was provided and will be ignored when e.g. forecasting.\n",
      "  self._init_dates(dates, freq)\n",
      "/Users/aileen/anaconda3/lib/python3.10/site-packages/statsmodels/tsa/base/tsa_model.py:471: ValueWarning: An unsupported index was provided and will be ignored when e.g. forecasting.\n",
      "  self._init_dates(dates, freq)\n"
     ]
    },
    {
     "name": "stdout",
     "output_type": "stream",
     "text": [
      "p: 1, q: 1\n",
      "mae: 690.1143481144973\n",
      "mape: 0.09351449924396599\n",
      "mse: 708743.7940082331\n",
      "--------------\n"
     ]
    },
    {
     "name": "stderr",
     "output_type": "stream",
     "text": [
      "/Users/aileen/anaconda3/lib/python3.10/site-packages/statsmodels/tsa/base/tsa_model.py:834: ValueWarning: No supported index is available. Prediction results will be given with an integer index beginning at `start`.\n",
      "  return get_prediction_index(\n",
      "/Users/aileen/anaconda3/lib/python3.10/site-packages/statsmodels/tsa/base/tsa_model.py:471: ValueWarning: An unsupported index was provided and will be ignored when e.g. forecasting.\n",
      "  self._init_dates(dates, freq)\n",
      "/Users/aileen/anaconda3/lib/python3.10/site-packages/statsmodels/tsa/base/tsa_model.py:471: ValueWarning: An unsupported index was provided and will be ignored when e.g. forecasting.\n",
      "  self._init_dates(dates, freq)\n",
      "/Users/aileen/anaconda3/lib/python3.10/site-packages/statsmodels/tsa/base/tsa_model.py:471: ValueWarning: An unsupported index was provided and will be ignored when e.g. forecasting.\n",
      "  self._init_dates(dates, freq)\n"
     ]
    },
    {
     "name": "stdout",
     "output_type": "stream",
     "text": [
      "p: 1, q: 2\n",
      "mae: 688.8394725346699\n",
      "mape: 0.09326381510476348\n",
      "mse: 705709.1576903064\n",
      "--------------\n"
     ]
    },
    {
     "name": "stderr",
     "output_type": "stream",
     "text": [
      "/Users/aileen/anaconda3/lib/python3.10/site-packages/statsmodels/tsa/base/tsa_model.py:834: ValueWarning: No supported index is available. Prediction results will be given with an integer index beginning at `start`.\n",
      "  return get_prediction_index(\n",
      "/Users/aileen/anaconda3/lib/python3.10/site-packages/statsmodels/tsa/base/tsa_model.py:471: ValueWarning: An unsupported index was provided and will be ignored when e.g. forecasting.\n",
      "  self._init_dates(dates, freq)\n",
      "/Users/aileen/anaconda3/lib/python3.10/site-packages/statsmodels/tsa/base/tsa_model.py:471: ValueWarning: An unsupported index was provided and will be ignored when e.g. forecasting.\n",
      "  self._init_dates(dates, freq)\n",
      "/Users/aileen/anaconda3/lib/python3.10/site-packages/statsmodels/tsa/base/tsa_model.py:471: ValueWarning: An unsupported index was provided and will be ignored when e.g. forecasting.\n",
      "  self._init_dates(dates, freq)\n"
     ]
    },
    {
     "name": "stdout",
     "output_type": "stream",
     "text": [
      "p: 1, q: 4\n",
      "mae: 685.5212916387003\n",
      "mape: 0.09268449055026536\n",
      "mse: 698591.5904309219\n",
      "--------------\n"
     ]
    },
    {
     "name": "stderr",
     "output_type": "stream",
     "text": [
      "/Users/aileen/anaconda3/lib/python3.10/site-packages/statsmodels/tsa/base/tsa_model.py:834: ValueWarning: No supported index is available. Prediction results will be given with an integer index beginning at `start`.\n",
      "  return get_prediction_index(\n",
      "/Users/aileen/anaconda3/lib/python3.10/site-packages/statsmodels/tsa/base/tsa_model.py:471: ValueWarning: An unsupported index was provided and will be ignored when e.g. forecasting.\n",
      "  self._init_dates(dates, freq)\n",
      "/Users/aileen/anaconda3/lib/python3.10/site-packages/statsmodels/tsa/base/tsa_model.py:471: ValueWarning: An unsupported index was provided and will be ignored when e.g. forecasting.\n",
      "  self._init_dates(dates, freq)\n",
      "/Users/aileen/anaconda3/lib/python3.10/site-packages/statsmodels/tsa/base/tsa_model.py:471: ValueWarning: An unsupported index was provided and will be ignored when e.g. forecasting.\n",
      "  self._init_dates(dates, freq)\n"
     ]
    },
    {
     "name": "stdout",
     "output_type": "stream",
     "text": [
      "p: 1, q: 6\n",
      "mae: 683.9086455247177\n",
      "mape: 0.09254984778994055\n",
      "mse: 696840.1658097584\n",
      "--------------\n"
     ]
    },
    {
     "name": "stderr",
     "output_type": "stream",
     "text": [
      "/Users/aileen/anaconda3/lib/python3.10/site-packages/statsmodels/tsa/base/tsa_model.py:834: ValueWarning: No supported index is available. Prediction results will be given with an integer index beginning at `start`.\n",
      "  return get_prediction_index(\n",
      "/Users/aileen/anaconda3/lib/python3.10/site-packages/statsmodels/tsa/base/tsa_model.py:471: ValueWarning: An unsupported index was provided and will be ignored when e.g. forecasting.\n",
      "  self._init_dates(dates, freq)\n",
      "/Users/aileen/anaconda3/lib/python3.10/site-packages/statsmodels/tsa/base/tsa_model.py:471: ValueWarning: An unsupported index was provided and will be ignored when e.g. forecasting.\n",
      "  self._init_dates(dates, freq)\n",
      "/Users/aileen/anaconda3/lib/python3.10/site-packages/statsmodels/tsa/base/tsa_model.py:471: ValueWarning: An unsupported index was provided and will be ignored when e.g. forecasting.\n",
      "  self._init_dates(dates, freq)\n"
     ]
    },
    {
     "name": "stdout",
     "output_type": "stream",
     "text": [
      "p: 1, q: 12\n",
      "mae: 677.092454564875\n",
      "mape: 0.09149979535653113\n",
      "mse: 683940.4237624115\n",
      "--------------\n"
     ]
    },
    {
     "name": "stderr",
     "output_type": "stream",
     "text": [
      "/Users/aileen/anaconda3/lib/python3.10/site-packages/statsmodels/base/model.py:604: ConvergenceWarning: Maximum Likelihood optimization failed to converge. Check mle_retvals\n",
      "  warnings.warn(\"Maximum Likelihood optimization failed to \"\n",
      "/Users/aileen/anaconda3/lib/python3.10/site-packages/statsmodels/tsa/base/tsa_model.py:834: ValueWarning: No supported index is available. Prediction results will be given with an integer index beginning at `start`.\n",
      "  return get_prediction_index(\n",
      "/Users/aileen/anaconda3/lib/python3.10/site-packages/statsmodels/tsa/base/tsa_model.py:471: ValueWarning: An unsupported index was provided and will be ignored when e.g. forecasting.\n",
      "  self._init_dates(dates, freq)\n",
      "/Users/aileen/anaconda3/lib/python3.10/site-packages/statsmodels/tsa/base/tsa_model.py:471: ValueWarning: An unsupported index was provided and will be ignored when e.g. forecasting.\n",
      "  self._init_dates(dates, freq)\n",
      "/Users/aileen/anaconda3/lib/python3.10/site-packages/statsmodels/tsa/base/tsa_model.py:471: ValueWarning: An unsupported index was provided and will be ignored when e.g. forecasting.\n",
      "  self._init_dates(dates, freq)\n"
     ]
    },
    {
     "name": "stdout",
     "output_type": "stream",
     "text": [
      "p: 1, q: 24\n",
      "mae: 672.420504049116\n",
      "mape: 0.09049033184916593\n",
      "mse: 674626.5982644415\n",
      "--------------\n"
     ]
    },
    {
     "name": "stderr",
     "output_type": "stream",
     "text": [
      "/Users/aileen/anaconda3/lib/python3.10/site-packages/statsmodels/base/model.py:604: ConvergenceWarning: Maximum Likelihood optimization failed to converge. Check mle_retvals\n",
      "  warnings.warn(\"Maximum Likelihood optimization failed to \"\n",
      "/Users/aileen/anaconda3/lib/python3.10/site-packages/statsmodels/tsa/base/tsa_model.py:834: ValueWarning: No supported index is available. Prediction results will be given with an integer index beginning at `start`.\n",
      "  return get_prediction_index(\n",
      "/Users/aileen/anaconda3/lib/python3.10/site-packages/statsmodels/tsa/base/tsa_model.py:471: ValueWarning: An unsupported index was provided and will be ignored when e.g. forecasting.\n",
      "  self._init_dates(dates, freq)\n",
      "/Users/aileen/anaconda3/lib/python3.10/site-packages/statsmodels/tsa/base/tsa_model.py:471: ValueWarning: An unsupported index was provided and will be ignored when e.g. forecasting.\n",
      "  self._init_dates(dates, freq)\n",
      "/Users/aileen/anaconda3/lib/python3.10/site-packages/statsmodels/tsa/base/tsa_model.py:471: ValueWarning: An unsupported index was provided and will be ignored when e.g. forecasting.\n",
      "  self._init_dates(dates, freq)\n"
     ]
    },
    {
     "name": "stdout",
     "output_type": "stream",
     "text": [
      "p: 1, q: 48\n",
      "mae: 662.7482943397666\n",
      "mape: 0.08975258599357698\n",
      "mse: 674738.5777439935\n",
      "--------------\n"
     ]
    },
    {
     "name": "stderr",
     "output_type": "stream",
     "text": [
      "/Users/aileen/anaconda3/lib/python3.10/site-packages/statsmodels/tsa/base/tsa_model.py:834: ValueWarning: No supported index is available. Prediction results will be given with an integer index beginning at `start`.\n",
      "  return get_prediction_index(\n",
      "/Users/aileen/anaconda3/lib/python3.10/site-packages/statsmodels/tsa/base/tsa_model.py:471: ValueWarning: An unsupported index was provided and will be ignored when e.g. forecasting.\n",
      "  self._init_dates(dates, freq)\n",
      "/Users/aileen/anaconda3/lib/python3.10/site-packages/statsmodels/tsa/base/tsa_model.py:471: ValueWarning: An unsupported index was provided and will be ignored when e.g. forecasting.\n",
      "  self._init_dates(dates, freq)\n",
      "/Users/aileen/anaconda3/lib/python3.10/site-packages/statsmodels/tsa/base/tsa_model.py:471: ValueWarning: An unsupported index was provided and will be ignored when e.g. forecasting.\n",
      "  self._init_dates(dates, freq)\n"
     ]
    },
    {
     "name": "stdout",
     "output_type": "stream",
     "text": [
      "p: 2, q: 1\n",
      "mae: 672.5652056457975\n",
      "mape: 0.09083508309704574\n",
      "mse: 674892.6721343884\n",
      "--------------\n"
     ]
    },
    {
     "name": "stderr",
     "output_type": "stream",
     "text": [
      "/Users/aileen/anaconda3/lib/python3.10/site-packages/statsmodels/tsa/base/tsa_model.py:834: ValueWarning: No supported index is available. Prediction results will be given with an integer index beginning at `start`.\n",
      "  return get_prediction_index(\n",
      "/Users/aileen/anaconda3/lib/python3.10/site-packages/statsmodels/tsa/base/tsa_model.py:471: ValueWarning: An unsupported index was provided and will be ignored when e.g. forecasting.\n",
      "  self._init_dates(dates, freq)\n",
      "/Users/aileen/anaconda3/lib/python3.10/site-packages/statsmodels/tsa/base/tsa_model.py:471: ValueWarning: An unsupported index was provided and will be ignored when e.g. forecasting.\n",
      "  self._init_dates(dates, freq)\n",
      "/Users/aileen/anaconda3/lib/python3.10/site-packages/statsmodels/tsa/base/tsa_model.py:471: ValueWarning: An unsupported index was provided and will be ignored when e.g. forecasting.\n",
      "  self._init_dates(dates, freq)\n"
     ]
    },
    {
     "name": "stdout",
     "output_type": "stream",
     "text": [
      "p: 2, q: 2\n",
      "mae: 674.1382490083843\n",
      "mape: 0.09105116504876415\n",
      "mse: 678060.5652299412\n",
      "--------------\n"
     ]
    },
    {
     "name": "stderr",
     "output_type": "stream",
     "text": [
      "/Users/aileen/anaconda3/lib/python3.10/site-packages/statsmodels/tsa/base/tsa_model.py:834: ValueWarning: No supported index is available. Prediction results will be given with an integer index beginning at `start`.\n",
      "  return get_prediction_index(\n",
      "/Users/aileen/anaconda3/lib/python3.10/site-packages/statsmodels/tsa/base/tsa_model.py:471: ValueWarning: An unsupported index was provided and will be ignored when e.g. forecasting.\n",
      "  self._init_dates(dates, freq)\n",
      "/Users/aileen/anaconda3/lib/python3.10/site-packages/statsmodels/tsa/base/tsa_model.py:471: ValueWarning: An unsupported index was provided and will be ignored when e.g. forecasting.\n",
      "  self._init_dates(dates, freq)\n",
      "/Users/aileen/anaconda3/lib/python3.10/site-packages/statsmodels/tsa/base/tsa_model.py:471: ValueWarning: An unsupported index was provided and will be ignored when e.g. forecasting.\n",
      "  self._init_dates(dates, freq)\n"
     ]
    },
    {
     "name": "stdout",
     "output_type": "stream",
     "text": [
      "p: 2, q: 4\n",
      "mae: 674.7268005381799\n",
      "mape: 0.09114157208188058\n",
      "mse: 679489.876949357\n",
      "--------------\n"
     ]
    },
    {
     "name": "stderr",
     "output_type": "stream",
     "text": [
      "/Users/aileen/anaconda3/lib/python3.10/site-packages/statsmodels/tsa/base/tsa_model.py:834: ValueWarning: No supported index is available. Prediction results will be given with an integer index beginning at `start`.\n",
      "  return get_prediction_index(\n",
      "/Users/aileen/anaconda3/lib/python3.10/site-packages/statsmodels/tsa/base/tsa_model.py:471: ValueWarning: An unsupported index was provided and will be ignored when e.g. forecasting.\n",
      "  self._init_dates(dates, freq)\n",
      "/Users/aileen/anaconda3/lib/python3.10/site-packages/statsmodels/tsa/base/tsa_model.py:471: ValueWarning: An unsupported index was provided and will be ignored when e.g. forecasting.\n",
      "  self._init_dates(dates, freq)\n",
      "/Users/aileen/anaconda3/lib/python3.10/site-packages/statsmodels/tsa/base/tsa_model.py:471: ValueWarning: An unsupported index was provided and will be ignored when e.g. forecasting.\n",
      "  self._init_dates(dates, freq)\n"
     ]
    },
    {
     "name": "stdout",
     "output_type": "stream",
     "text": [
      "p: 2, q: 6\n",
      "mae: 676.5909160374463\n",
      "mape: 0.09140908351618561\n",
      "mse: 682712.2502562569\n",
      "--------------\n"
     ]
    },
    {
     "name": "stderr",
     "output_type": "stream",
     "text": [
      "/Users/aileen/anaconda3/lib/python3.10/site-packages/statsmodels/tsa/base/tsa_model.py:834: ValueWarning: No supported index is available. Prediction results will be given with an integer index beginning at `start`.\n",
      "  return get_prediction_index(\n",
      "/Users/aileen/anaconda3/lib/python3.10/site-packages/statsmodels/tsa/base/tsa_model.py:471: ValueWarning: An unsupported index was provided and will be ignored when e.g. forecasting.\n",
      "  self._init_dates(dates, freq)\n",
      "/Users/aileen/anaconda3/lib/python3.10/site-packages/statsmodels/tsa/base/tsa_model.py:471: ValueWarning: An unsupported index was provided and will be ignored when e.g. forecasting.\n",
      "  self._init_dates(dates, freq)\n",
      "/Users/aileen/anaconda3/lib/python3.10/site-packages/statsmodels/tsa/base/tsa_model.py:471: ValueWarning: An unsupported index was provided and will be ignored when e.g. forecasting.\n",
      "  self._init_dates(dates, freq)\n"
     ]
    },
    {
     "name": "stdout",
     "output_type": "stream",
     "text": [
      "p: 2, q: 12\n",
      "mae: 676.9501789394199\n",
      "mape: 0.0914814485191799\n",
      "mse: 683591.4822912944\n",
      "--------------\n"
     ]
    },
    {
     "name": "stderr",
     "output_type": "stream",
     "text": [
      "/Users/aileen/anaconda3/lib/python3.10/site-packages/statsmodels/base/model.py:604: ConvergenceWarning: Maximum Likelihood optimization failed to converge. Check mle_retvals\n",
      "  warnings.warn(\"Maximum Likelihood optimization failed to \"\n",
      "/Users/aileen/anaconda3/lib/python3.10/site-packages/statsmodels/tsa/base/tsa_model.py:834: ValueWarning: No supported index is available. Prediction results will be given with an integer index beginning at `start`.\n",
      "  return get_prediction_index(\n",
      "/Users/aileen/anaconda3/lib/python3.10/site-packages/statsmodels/tsa/base/tsa_model.py:471: ValueWarning: An unsupported index was provided and will be ignored when e.g. forecasting.\n",
      "  self._init_dates(dates, freq)\n",
      "/Users/aileen/anaconda3/lib/python3.10/site-packages/statsmodels/tsa/base/tsa_model.py:471: ValueWarning: An unsupported index was provided and will be ignored when e.g. forecasting.\n",
      "  self._init_dates(dates, freq)\n",
      "/Users/aileen/anaconda3/lib/python3.10/site-packages/statsmodels/tsa/base/tsa_model.py:471: ValueWarning: An unsupported index was provided and will be ignored when e.g. forecasting.\n",
      "  self._init_dates(dates, freq)\n",
      "/Users/aileen/anaconda3/lib/python3.10/site-packages/statsmodels/tsa/statespace/sarimax.py:978: UserWarning: Non-invertible starting MA parameters found. Using zeros as starting parameters.\n",
      "  warn('Non-invertible starting MA parameters found.'\n"
     ]
    },
    {
     "name": "stdout",
     "output_type": "stream",
     "text": [
      "p: 2, q: 24\n",
      "mae: 668.7256125834061\n",
      "mape: 0.09047191008677731\n",
      "mse: 667938.621101437\n",
      "--------------\n"
     ]
    },
    {
     "name": "stderr",
     "output_type": "stream",
     "text": [
      "/Users/aileen/anaconda3/lib/python3.10/site-packages/statsmodels/base/model.py:604: ConvergenceWarning: Maximum Likelihood optimization failed to converge. Check mle_retvals\n",
      "  warnings.warn(\"Maximum Likelihood optimization failed to \"\n",
      "/Users/aileen/anaconda3/lib/python3.10/site-packages/statsmodels/tsa/base/tsa_model.py:834: ValueWarning: No supported index is available. Prediction results will be given with an integer index beginning at `start`.\n",
      "  return get_prediction_index(\n",
      "/Users/aileen/anaconda3/lib/python3.10/site-packages/statsmodels/tsa/base/tsa_model.py:471: ValueWarning: An unsupported index was provided and will be ignored when e.g. forecasting.\n",
      "  self._init_dates(dates, freq)\n",
      "/Users/aileen/anaconda3/lib/python3.10/site-packages/statsmodels/tsa/base/tsa_model.py:471: ValueWarning: An unsupported index was provided and will be ignored when e.g. forecasting.\n",
      "  self._init_dates(dates, freq)\n",
      "/Users/aileen/anaconda3/lib/python3.10/site-packages/statsmodels/tsa/base/tsa_model.py:471: ValueWarning: An unsupported index was provided and will be ignored when e.g. forecasting.\n",
      "  self._init_dates(dates, freq)\n"
     ]
    },
    {
     "name": "stdout",
     "output_type": "stream",
     "text": [
      "p: 2, q: 48\n",
      "mae: 644.2868473067565\n",
      "mape: 0.0870490892422945\n",
      "mse: 623648.1993345426\n",
      "--------------\n"
     ]
    },
    {
     "name": "stderr",
     "output_type": "stream",
     "text": [
      "/Users/aileen/anaconda3/lib/python3.10/site-packages/statsmodels/tsa/base/tsa_model.py:834: ValueWarning: No supported index is available. Prediction results will be given with an integer index beginning at `start`.\n",
      "  return get_prediction_index(\n",
      "/Users/aileen/anaconda3/lib/python3.10/site-packages/statsmodels/tsa/base/tsa_model.py:471: ValueWarning: An unsupported index was provided and will be ignored when e.g. forecasting.\n",
      "  self._init_dates(dates, freq)\n",
      "/Users/aileen/anaconda3/lib/python3.10/site-packages/statsmodels/tsa/base/tsa_model.py:471: ValueWarning: An unsupported index was provided and will be ignored when e.g. forecasting.\n",
      "  self._init_dates(dates, freq)\n",
      "/Users/aileen/anaconda3/lib/python3.10/site-packages/statsmodels/tsa/base/tsa_model.py:471: ValueWarning: An unsupported index was provided and will be ignored when e.g. forecasting.\n",
      "  self._init_dates(dates, freq)\n"
     ]
    },
    {
     "name": "stdout",
     "output_type": "stream",
     "text": [
      "p: 3, q: 1\n",
      "mae: 672.9478460339592\n",
      "mape: 0.09088709784197349\n",
      "mse: 675700.4336383506\n",
      "--------------\n"
     ]
    },
    {
     "name": "stderr",
     "output_type": "stream",
     "text": [
      "/Users/aileen/anaconda3/lib/python3.10/site-packages/statsmodels/tsa/base/tsa_model.py:834: ValueWarning: No supported index is available. Prediction results will be given with an integer index beginning at `start`.\n",
      "  return get_prediction_index(\n",
      "/Users/aileen/anaconda3/lib/python3.10/site-packages/statsmodels/tsa/base/tsa_model.py:471: ValueWarning: An unsupported index was provided and will be ignored when e.g. forecasting.\n",
      "  self._init_dates(dates, freq)\n",
      "/Users/aileen/anaconda3/lib/python3.10/site-packages/statsmodels/tsa/base/tsa_model.py:471: ValueWarning: An unsupported index was provided and will be ignored when e.g. forecasting.\n",
      "  self._init_dates(dates, freq)\n",
      "/Users/aileen/anaconda3/lib/python3.10/site-packages/statsmodels/tsa/base/tsa_model.py:471: ValueWarning: An unsupported index was provided and will be ignored when e.g. forecasting.\n",
      "  self._init_dates(dates, freq)\n"
     ]
    },
    {
     "name": "stdout",
     "output_type": "stream",
     "text": [
      "p: 3, q: 2\n",
      "mae: 676.6728630329416\n",
      "mape: 0.09139560599602792\n",
      "mse: 682888.5605308583\n",
      "--------------\n"
     ]
    },
    {
     "name": "stderr",
     "output_type": "stream",
     "text": [
      "/Users/aileen/anaconda3/lib/python3.10/site-packages/statsmodels/tsa/base/tsa_model.py:834: ValueWarning: No supported index is available. Prediction results will be given with an integer index beginning at `start`.\n",
      "  return get_prediction_index(\n",
      "/Users/aileen/anaconda3/lib/python3.10/site-packages/statsmodels/tsa/base/tsa_model.py:471: ValueWarning: An unsupported index was provided and will be ignored when e.g. forecasting.\n",
      "  self._init_dates(dates, freq)\n",
      "/Users/aileen/anaconda3/lib/python3.10/site-packages/statsmodels/tsa/base/tsa_model.py:471: ValueWarning: An unsupported index was provided and will be ignored when e.g. forecasting.\n",
      "  self._init_dates(dates, freq)\n",
      "/Users/aileen/anaconda3/lib/python3.10/site-packages/statsmodels/tsa/base/tsa_model.py:471: ValueWarning: An unsupported index was provided and will be ignored when e.g. forecasting.\n",
      "  self._init_dates(dates, freq)\n"
     ]
    },
    {
     "name": "stdout",
     "output_type": "stream",
     "text": [
      "p: 3, q: 4\n",
      "mae: 677.0780438308462\n",
      "mape: 0.0914732893441587\n",
      "mse: 683555.7787278013\n",
      "--------------\n"
     ]
    },
    {
     "name": "stderr",
     "output_type": "stream",
     "text": [
      "/Users/aileen/anaconda3/lib/python3.10/site-packages/statsmodels/tsa/base/tsa_model.py:834: ValueWarning: No supported index is available. Prediction results will be given with an integer index beginning at `start`.\n",
      "  return get_prediction_index(\n",
      "/Users/aileen/anaconda3/lib/python3.10/site-packages/statsmodels/tsa/base/tsa_model.py:471: ValueWarning: An unsupported index was provided and will be ignored when e.g. forecasting.\n",
      "  self._init_dates(dates, freq)\n",
      "/Users/aileen/anaconda3/lib/python3.10/site-packages/statsmodels/tsa/base/tsa_model.py:471: ValueWarning: An unsupported index was provided and will be ignored when e.g. forecasting.\n",
      "  self._init_dates(dates, freq)\n",
      "/Users/aileen/anaconda3/lib/python3.10/site-packages/statsmodels/tsa/base/tsa_model.py:471: ValueWarning: An unsupported index was provided and will be ignored when e.g. forecasting.\n",
      "  self._init_dates(dates, freq)\n"
     ]
    },
    {
     "name": "stdout",
     "output_type": "stream",
     "text": [
      "p: 3, q: 6\n",
      "mae: 675.9022958593844\n",
      "mape: 0.09131043365925033\n",
      "mse: 681562.9043874094\n",
      "--------------\n"
     ]
    },
    {
     "name": "stderr",
     "output_type": "stream",
     "text": [
      "/Users/aileen/anaconda3/lib/python3.10/site-packages/statsmodels/tsa/base/tsa_model.py:834: ValueWarning: No supported index is available. Prediction results will be given with an integer index beginning at `start`.\n",
      "  return get_prediction_index(\n",
      "/Users/aileen/anaconda3/lib/python3.10/site-packages/statsmodels/tsa/base/tsa_model.py:471: ValueWarning: An unsupported index was provided and will be ignored when e.g. forecasting.\n",
      "  self._init_dates(dates, freq)\n",
      "/Users/aileen/anaconda3/lib/python3.10/site-packages/statsmodels/tsa/base/tsa_model.py:471: ValueWarning: An unsupported index was provided and will be ignored when e.g. forecasting.\n",
      "  self._init_dates(dates, freq)\n",
      "/Users/aileen/anaconda3/lib/python3.10/site-packages/statsmodels/tsa/base/tsa_model.py:471: ValueWarning: An unsupported index was provided and will be ignored when e.g. forecasting.\n",
      "  self._init_dates(dates, freq)\n"
     ]
    },
    {
     "name": "stdout",
     "output_type": "stream",
     "text": [
      "p: 3, q: 12\n",
      "mae: 677.5201763399416\n",
      "mape: 0.09156666735654011\n",
      "mse: 684671.1560643397\n",
      "--------------\n"
     ]
    },
    {
     "name": "stderr",
     "output_type": "stream",
     "text": [
      "/Users/aileen/anaconda3/lib/python3.10/site-packages/statsmodels/base/model.py:604: ConvergenceWarning: Maximum Likelihood optimization failed to converge. Check mle_retvals\n",
      "  warnings.warn(\"Maximum Likelihood optimization failed to \"\n",
      "/Users/aileen/anaconda3/lib/python3.10/site-packages/statsmodels/tsa/base/tsa_model.py:834: ValueWarning: No supported index is available. Prediction results will be given with an integer index beginning at `start`.\n",
      "  return get_prediction_index(\n",
      "/Users/aileen/anaconda3/lib/python3.10/site-packages/statsmodels/tsa/base/tsa_model.py:471: ValueWarning: An unsupported index was provided and will be ignored when e.g. forecasting.\n",
      "  self._init_dates(dates, freq)\n",
      "/Users/aileen/anaconda3/lib/python3.10/site-packages/statsmodels/tsa/base/tsa_model.py:471: ValueWarning: An unsupported index was provided and will be ignored when e.g. forecasting.\n",
      "  self._init_dates(dates, freq)\n",
      "/Users/aileen/anaconda3/lib/python3.10/site-packages/statsmodels/tsa/base/tsa_model.py:471: ValueWarning: An unsupported index was provided and will be ignored when e.g. forecasting.\n",
      "  self._init_dates(dates, freq)\n",
      "/Users/aileen/anaconda3/lib/python3.10/site-packages/statsmodels/tsa/statespace/sarimax.py:978: UserWarning: Non-invertible starting MA parameters found. Using zeros as starting parameters.\n",
      "  warn('Non-invertible starting MA parameters found.'\n"
     ]
    },
    {
     "name": "stdout",
     "output_type": "stream",
     "text": [
      "p: 3, q: 24\n",
      "mae: 671.8018414654921\n",
      "mape: 0.09074946685420478\n",
      "mse: 681402.4034141927\n",
      "--------------\n"
     ]
    },
    {
     "name": "stderr",
     "output_type": "stream",
     "text": [
      "/Users/aileen/anaconda3/lib/python3.10/site-packages/statsmodels/base/model.py:604: ConvergenceWarning: Maximum Likelihood optimization failed to converge. Check mle_retvals\n",
      "  warnings.warn(\"Maximum Likelihood optimization failed to \"\n",
      "/Users/aileen/anaconda3/lib/python3.10/site-packages/statsmodels/tsa/base/tsa_model.py:834: ValueWarning: No supported index is available. Prediction results will be given with an integer index beginning at `start`.\n",
      "  return get_prediction_index(\n",
      "/Users/aileen/anaconda3/lib/python3.10/site-packages/statsmodels/tsa/base/tsa_model.py:471: ValueWarning: An unsupported index was provided and will be ignored when e.g. forecasting.\n",
      "  self._init_dates(dates, freq)\n",
      "/Users/aileen/anaconda3/lib/python3.10/site-packages/statsmodels/tsa/base/tsa_model.py:471: ValueWarning: An unsupported index was provided and will be ignored when e.g. forecasting.\n",
      "  self._init_dates(dates, freq)\n",
      "/Users/aileen/anaconda3/lib/python3.10/site-packages/statsmodels/tsa/base/tsa_model.py:471: ValueWarning: An unsupported index was provided and will be ignored when e.g. forecasting.\n",
      "  self._init_dates(dates, freq)\n"
     ]
    },
    {
     "name": "stdout",
     "output_type": "stream",
     "text": [
      "p: 3, q: 48\n",
      "mae: 642.0508049783491\n",
      "mape: 0.08658117576405155\n",
      "mse: 633261.3601098548\n",
      "--------------\n"
     ]
    },
    {
     "name": "stderr",
     "output_type": "stream",
     "text": [
      "/Users/aileen/anaconda3/lib/python3.10/site-packages/statsmodels/tsa/base/tsa_model.py:834: ValueWarning: No supported index is available. Prediction results will be given with an integer index beginning at `start`.\n",
      "  return get_prediction_index(\n",
      "/Users/aileen/anaconda3/lib/python3.10/site-packages/statsmodels/tsa/base/tsa_model.py:471: ValueWarning: An unsupported index was provided and will be ignored when e.g. forecasting.\n",
      "  self._init_dates(dates, freq)\n",
      "/Users/aileen/anaconda3/lib/python3.10/site-packages/statsmodels/tsa/base/tsa_model.py:471: ValueWarning: An unsupported index was provided and will be ignored when e.g. forecasting.\n",
      "  self._init_dates(dates, freq)\n",
      "/Users/aileen/anaconda3/lib/python3.10/site-packages/statsmodels/tsa/base/tsa_model.py:471: ValueWarning: An unsupported index was provided and will be ignored when e.g. forecasting.\n",
      "  self._init_dates(dates, freq)\n",
      "/Users/aileen/anaconda3/lib/python3.10/site-packages/statsmodels/tsa/statespace/sarimax.py:966: UserWarning: Non-stationary starting autoregressive parameters found. Using zeros as starting parameters.\n",
      "  warn('Non-stationary starting autoregressive parameters'\n",
      "/Users/aileen/anaconda3/lib/python3.10/site-packages/statsmodels/tsa/statespace/sarimax.py:978: UserWarning: Non-invertible starting MA parameters found. Using zeros as starting parameters.\n",
      "  warn('Non-invertible starting MA parameters found.'\n"
     ]
    },
    {
     "name": "stdout",
     "output_type": "stream",
     "text": [
      "p: 4, q: 1\n",
      "mae: 676.2452072719221\n",
      "mape: 0.0913180857370797\n",
      "mse: 682303.7168552736\n",
      "--------------\n"
     ]
    },
    {
     "name": "stderr",
     "output_type": "stream",
     "text": [
      "/Users/aileen/anaconda3/lib/python3.10/site-packages/statsmodels/tsa/base/tsa_model.py:834: ValueWarning: No supported index is available. Prediction results will be given with an integer index beginning at `start`.\n",
      "  return get_prediction_index(\n",
      "/Users/aileen/anaconda3/lib/python3.10/site-packages/statsmodels/tsa/base/tsa_model.py:471: ValueWarning: An unsupported index was provided and will be ignored when e.g. forecasting.\n",
      "  self._init_dates(dates, freq)\n",
      "/Users/aileen/anaconda3/lib/python3.10/site-packages/statsmodels/tsa/base/tsa_model.py:471: ValueWarning: An unsupported index was provided and will be ignored when e.g. forecasting.\n",
      "  self._init_dates(dates, freq)\n",
      "/Users/aileen/anaconda3/lib/python3.10/site-packages/statsmodels/tsa/base/tsa_model.py:471: ValueWarning: An unsupported index was provided and will be ignored when e.g. forecasting.\n",
      "  self._init_dates(dates, freq)\n"
     ]
    },
    {
     "name": "stdout",
     "output_type": "stream",
     "text": [
      "p: 4, q: 2\n",
      "mae: 673.418729869335\n",
      "mape: 0.09095624437608221\n",
      "mse: 676629.6374851896\n",
      "--------------\n"
     ]
    },
    {
     "name": "stderr",
     "output_type": "stream",
     "text": [
      "/Users/aileen/anaconda3/lib/python3.10/site-packages/statsmodels/base/model.py:604: ConvergenceWarning: Maximum Likelihood optimization failed to converge. Check mle_retvals\n",
      "  warnings.warn(\"Maximum Likelihood optimization failed to \"\n",
      "/Users/aileen/anaconda3/lib/python3.10/site-packages/statsmodels/tsa/base/tsa_model.py:834: ValueWarning: No supported index is available. Prediction results will be given with an integer index beginning at `start`.\n",
      "  return get_prediction_index(\n",
      "/Users/aileen/anaconda3/lib/python3.10/site-packages/statsmodels/tsa/base/tsa_model.py:471: ValueWarning: An unsupported index was provided and will be ignored when e.g. forecasting.\n",
      "  self._init_dates(dates, freq)\n",
      "/Users/aileen/anaconda3/lib/python3.10/site-packages/statsmodels/tsa/base/tsa_model.py:471: ValueWarning: An unsupported index was provided and will be ignored when e.g. forecasting.\n",
      "  self._init_dates(dates, freq)\n",
      "/Users/aileen/anaconda3/lib/python3.10/site-packages/statsmodels/tsa/base/tsa_model.py:471: ValueWarning: An unsupported index was provided and will be ignored when e.g. forecasting.\n",
      "  self._init_dates(dates, freq)\n"
     ]
    },
    {
     "name": "stdout",
     "output_type": "stream",
     "text": [
      "p: 4, q: 4\n",
      "mae: 669.171128480766\n",
      "mape: 0.0904577429419812\n",
      "mse: 669401.6886148382\n",
      "--------------\n"
     ]
    },
    {
     "name": "stderr",
     "output_type": "stream",
     "text": [
      "/Users/aileen/anaconda3/lib/python3.10/site-packages/statsmodels/tsa/base/tsa_model.py:834: ValueWarning: No supported index is available. Prediction results will be given with an integer index beginning at `start`.\n",
      "  return get_prediction_index(\n",
      "/Users/aileen/anaconda3/lib/python3.10/site-packages/statsmodels/tsa/base/tsa_model.py:471: ValueWarning: An unsupported index was provided and will be ignored when e.g. forecasting.\n",
      "  self._init_dates(dates, freq)\n",
      "/Users/aileen/anaconda3/lib/python3.10/site-packages/statsmodels/tsa/base/tsa_model.py:471: ValueWarning: An unsupported index was provided and will be ignored when e.g. forecasting.\n",
      "  self._init_dates(dates, freq)\n",
      "/Users/aileen/anaconda3/lib/python3.10/site-packages/statsmodels/tsa/base/tsa_model.py:471: ValueWarning: An unsupported index was provided and will be ignored when e.g. forecasting.\n",
      "  self._init_dates(dates, freq)\n"
     ]
    },
    {
     "name": "stdout",
     "output_type": "stream",
     "text": [
      "p: 4, q: 6\n",
      "mae: 677.1978856175765\n",
      "mape: 0.09148968689287879\n",
      "mse: 683653.1852813874\n",
      "--------------\n"
     ]
    },
    {
     "name": "stderr",
     "output_type": "stream",
     "text": [
      "/Users/aileen/anaconda3/lib/python3.10/site-packages/statsmodels/base/model.py:604: ConvergenceWarning: Maximum Likelihood optimization failed to converge. Check mle_retvals\n",
      "  warnings.warn(\"Maximum Likelihood optimization failed to \"\n",
      "/Users/aileen/anaconda3/lib/python3.10/site-packages/statsmodels/tsa/base/tsa_model.py:834: ValueWarning: No supported index is available. Prediction results will be given with an integer index beginning at `start`.\n",
      "  return get_prediction_index(\n",
      "/Users/aileen/anaconda3/lib/python3.10/site-packages/statsmodels/tsa/base/tsa_model.py:471: ValueWarning: An unsupported index was provided and will be ignored when e.g. forecasting.\n",
      "  self._init_dates(dates, freq)\n",
      "/Users/aileen/anaconda3/lib/python3.10/site-packages/statsmodels/tsa/base/tsa_model.py:471: ValueWarning: An unsupported index was provided and will be ignored when e.g. forecasting.\n",
      "  self._init_dates(dates, freq)\n",
      "/Users/aileen/anaconda3/lib/python3.10/site-packages/statsmodels/tsa/base/tsa_model.py:471: ValueWarning: An unsupported index was provided and will be ignored when e.g. forecasting.\n",
      "  self._init_dates(dates, freq)\n",
      "/Users/aileen/anaconda3/lib/python3.10/site-packages/statsmodels/tsa/statespace/sarimax.py:978: UserWarning: Non-invertible starting MA parameters found. Using zeros as starting parameters.\n",
      "  warn('Non-invertible starting MA parameters found.'\n"
     ]
    },
    {
     "name": "stdout",
     "output_type": "stream",
     "text": [
      "p: 4, q: 12\n",
      "mae: 681.2081077595278\n",
      "mape: 0.09215722941221463\n",
      "mse: 692223.7349629679\n",
      "--------------\n"
     ]
    },
    {
     "name": "stderr",
     "output_type": "stream",
     "text": [
      "/Users/aileen/anaconda3/lib/python3.10/site-packages/statsmodels/base/model.py:604: ConvergenceWarning: Maximum Likelihood optimization failed to converge. Check mle_retvals\n",
      "  warnings.warn(\"Maximum Likelihood optimization failed to \"\n",
      "/Users/aileen/anaconda3/lib/python3.10/site-packages/statsmodels/tsa/base/tsa_model.py:834: ValueWarning: No supported index is available. Prediction results will be given with an integer index beginning at `start`.\n",
      "  return get_prediction_index(\n",
      "/Users/aileen/anaconda3/lib/python3.10/site-packages/statsmodels/tsa/base/tsa_model.py:471: ValueWarning: An unsupported index was provided and will be ignored when e.g. forecasting.\n",
      "  self._init_dates(dates, freq)\n",
      "/Users/aileen/anaconda3/lib/python3.10/site-packages/statsmodels/tsa/base/tsa_model.py:471: ValueWarning: An unsupported index was provided and will be ignored when e.g. forecasting.\n",
      "  self._init_dates(dates, freq)\n",
      "/Users/aileen/anaconda3/lib/python3.10/site-packages/statsmodels/tsa/base/tsa_model.py:471: ValueWarning: An unsupported index was provided and will be ignored when e.g. forecasting.\n",
      "  self._init_dates(dates, freq)\n",
      "/Users/aileen/anaconda3/lib/python3.10/site-packages/statsmodels/tsa/statespace/sarimax.py:978: UserWarning: Non-invertible starting MA parameters found. Using zeros as starting parameters.\n",
      "  warn('Non-invertible starting MA parameters found.'\n"
     ]
    },
    {
     "name": "stdout",
     "output_type": "stream",
     "text": [
      "p: 4, q: 24\n",
      "mae: 607.585128167355\n",
      "mape: 0.08036184049856107\n",
      "mse: 577072.4196678264\n",
      "--------------\n"
     ]
    },
    {
     "name": "stderr",
     "output_type": "stream",
     "text": [
      "/Users/aileen/anaconda3/lib/python3.10/site-packages/statsmodels/base/model.py:604: ConvergenceWarning: Maximum Likelihood optimization failed to converge. Check mle_retvals\n",
      "  warnings.warn(\"Maximum Likelihood optimization failed to \"\n",
      "/Users/aileen/anaconda3/lib/python3.10/site-packages/statsmodels/tsa/base/tsa_model.py:834: ValueWarning: No supported index is available. Prediction results will be given with an integer index beginning at `start`.\n",
      "  return get_prediction_index(\n",
      "/Users/aileen/anaconda3/lib/python3.10/site-packages/statsmodels/tsa/base/tsa_model.py:471: ValueWarning: An unsupported index was provided and will be ignored when e.g. forecasting.\n",
      "  self._init_dates(dates, freq)\n",
      "/Users/aileen/anaconda3/lib/python3.10/site-packages/statsmodels/tsa/base/tsa_model.py:471: ValueWarning: An unsupported index was provided and will be ignored when e.g. forecasting.\n",
      "  self._init_dates(dates, freq)\n",
      "/Users/aileen/anaconda3/lib/python3.10/site-packages/statsmodels/tsa/base/tsa_model.py:471: ValueWarning: An unsupported index was provided and will be ignored when e.g. forecasting.\n",
      "  self._init_dates(dates, freq)\n"
     ]
    },
    {
     "name": "stdout",
     "output_type": "stream",
     "text": [
      "p: 4, q: 48\n",
      "mae: 636.8263363728636\n",
      "mape: 0.08584009809587757\n",
      "mse: 627843.3410083594\n",
      "--------------\n"
     ]
    },
    {
     "name": "stderr",
     "output_type": "stream",
     "text": [
      "/Users/aileen/anaconda3/lib/python3.10/site-packages/statsmodels/tsa/base/tsa_model.py:834: ValueWarning: No supported index is available. Prediction results will be given with an integer index beginning at `start`.\n",
      "  return get_prediction_index(\n",
      "/Users/aileen/anaconda3/lib/python3.10/site-packages/statsmodels/tsa/base/tsa_model.py:471: ValueWarning: An unsupported index was provided and will be ignored when e.g. forecasting.\n",
      "  self._init_dates(dates, freq)\n",
      "/Users/aileen/anaconda3/lib/python3.10/site-packages/statsmodels/tsa/base/tsa_model.py:471: ValueWarning: An unsupported index was provided and will be ignored when e.g. forecasting.\n",
      "  self._init_dates(dates, freq)\n",
      "/Users/aileen/anaconda3/lib/python3.10/site-packages/statsmodels/tsa/base/tsa_model.py:471: ValueWarning: An unsupported index was provided and will be ignored when e.g. forecasting.\n",
      "  self._init_dates(dates, freq)\n"
     ]
    },
    {
     "name": "stdout",
     "output_type": "stream",
     "text": [
      "p: 6, q: 1\n",
      "mae: 676.5814619168956\n",
      "mape: 0.09137214389989635\n",
      "mse: 682797.4325719699\n",
      "--------------\n"
     ]
    },
    {
     "name": "stderr",
     "output_type": "stream",
     "text": [
      "/Users/aileen/anaconda3/lib/python3.10/site-packages/statsmodels/tsa/base/tsa_model.py:834: ValueWarning: No supported index is available. Prediction results will be given with an integer index beginning at `start`.\n",
      "  return get_prediction_index(\n",
      "/Users/aileen/anaconda3/lib/python3.10/site-packages/statsmodels/tsa/base/tsa_model.py:471: ValueWarning: An unsupported index was provided and will be ignored when e.g. forecasting.\n",
      "  self._init_dates(dates, freq)\n",
      "/Users/aileen/anaconda3/lib/python3.10/site-packages/statsmodels/tsa/base/tsa_model.py:471: ValueWarning: An unsupported index was provided and will be ignored when e.g. forecasting.\n",
      "  self._init_dates(dates, freq)\n",
      "/Users/aileen/anaconda3/lib/python3.10/site-packages/statsmodels/tsa/base/tsa_model.py:471: ValueWarning: An unsupported index was provided and will be ignored when e.g. forecasting.\n",
      "  self._init_dates(dates, freq)\n",
      "/Users/aileen/anaconda3/lib/python3.10/site-packages/statsmodels/tsa/statespace/sarimax.py:966: UserWarning: Non-stationary starting autoregressive parameters found. Using zeros as starting parameters.\n",
      "  warn('Non-stationary starting autoregressive parameters'\n",
      "/Users/aileen/anaconda3/lib/python3.10/site-packages/statsmodels/tsa/statespace/sarimax.py:978: UserWarning: Non-invertible starting MA parameters found. Using zeros as starting parameters.\n",
      "  warn('Non-invertible starting MA parameters found.'\n"
     ]
    },
    {
     "name": "stdout",
     "output_type": "stream",
     "text": [
      "p: 6, q: 2\n",
      "mae: 676.4587306324892\n",
      "mape: 0.09134714204207467\n",
      "mse: 682583.047284994\n",
      "--------------\n"
     ]
    },
    {
     "name": "stderr",
     "output_type": "stream",
     "text": [
      "/Users/aileen/anaconda3/lib/python3.10/site-packages/statsmodels/base/model.py:604: ConvergenceWarning: Maximum Likelihood optimization failed to converge. Check mle_retvals\n",
      "  warnings.warn(\"Maximum Likelihood optimization failed to \"\n",
      "/Users/aileen/anaconda3/lib/python3.10/site-packages/statsmodels/tsa/base/tsa_model.py:834: ValueWarning: No supported index is available. Prediction results will be given with an integer index beginning at `start`.\n",
      "  return get_prediction_index(\n"
     ]
    },
    {
     "name": "stdout",
     "output_type": "stream",
     "text": [
      "p: 6, q: 4\n",
      "mae: 673.7893441811166\n",
      "mape: 0.0910067323674994\n",
      "mse: 677257.1141241895\n",
      "--------------\n"
     ]
    },
    {
     "name": "stderr",
     "output_type": "stream",
     "text": [
      "/Users/aileen/anaconda3/lib/python3.10/site-packages/statsmodels/tsa/base/tsa_model.py:471: ValueWarning: An unsupported index was provided and will be ignored when e.g. forecasting.\n",
      "  self._init_dates(dates, freq)\n",
      "/Users/aileen/anaconda3/lib/python3.10/site-packages/statsmodels/tsa/base/tsa_model.py:471: ValueWarning: An unsupported index was provided and will be ignored when e.g. forecasting.\n",
      "  self._init_dates(dates, freq)\n",
      "/Users/aileen/anaconda3/lib/python3.10/site-packages/statsmodels/tsa/base/tsa_model.py:471: ValueWarning: An unsupported index was provided and will be ignored when e.g. forecasting.\n",
      "  self._init_dates(dates, freq)\n",
      "/Users/aileen/anaconda3/lib/python3.10/site-packages/statsmodels/base/model.py:604: ConvergenceWarning: Maximum Likelihood optimization failed to converge. Check mle_retvals\n",
      "  warnings.warn(\"Maximum Likelihood optimization failed to \"\n",
      "/Users/aileen/anaconda3/lib/python3.10/site-packages/statsmodels/tsa/base/tsa_model.py:834: ValueWarning: No supported index is available. Prediction results will be given with an integer index beginning at `start`.\n",
      "  return get_prediction_index(\n"
     ]
    },
    {
     "name": "stdout",
     "output_type": "stream",
     "text": [
      "p: 6, q: 6\n",
      "mae: 674.3727240063293\n",
      "mape: 0.09115114165482313\n",
      "mse: 678898.8185289277\n",
      "--------------\n"
     ]
    },
    {
     "name": "stderr",
     "output_type": "stream",
     "text": [
      "/Users/aileen/anaconda3/lib/python3.10/site-packages/statsmodels/tsa/base/tsa_model.py:471: ValueWarning: An unsupported index was provided and will be ignored when e.g. forecasting.\n",
      "  self._init_dates(dates, freq)\n",
      "/Users/aileen/anaconda3/lib/python3.10/site-packages/statsmodels/tsa/base/tsa_model.py:471: ValueWarning: An unsupported index was provided and will be ignored when e.g. forecasting.\n",
      "  self._init_dates(dates, freq)\n",
      "/Users/aileen/anaconda3/lib/python3.10/site-packages/statsmodels/tsa/base/tsa_model.py:471: ValueWarning: An unsupported index was provided and will be ignored when e.g. forecasting.\n",
      "  self._init_dates(dates, freq)\n",
      "/Users/aileen/anaconda3/lib/python3.10/site-packages/statsmodels/base/model.py:604: ConvergenceWarning: Maximum Likelihood optimization failed to converge. Check mle_retvals\n",
      "  warnings.warn(\"Maximum Likelihood optimization failed to \"\n",
      "/Users/aileen/anaconda3/lib/python3.10/site-packages/statsmodels/tsa/base/tsa_model.py:834: ValueWarning: No supported index is available. Prediction results will be given with an integer index beginning at `start`.\n",
      "  return get_prediction_index(\n",
      "/Users/aileen/anaconda3/lib/python3.10/site-packages/statsmodels/tsa/base/tsa_model.py:471: ValueWarning: An unsupported index was provided and will be ignored when e.g. forecasting.\n",
      "  self._init_dates(dates, freq)\n",
      "/Users/aileen/anaconda3/lib/python3.10/site-packages/statsmodels/tsa/base/tsa_model.py:471: ValueWarning: An unsupported index was provided and will be ignored when e.g. forecasting.\n",
      "  self._init_dates(dates, freq)\n",
      "/Users/aileen/anaconda3/lib/python3.10/site-packages/statsmodels/tsa/base/tsa_model.py:471: ValueWarning: An unsupported index was provided and will be ignored when e.g. forecasting.\n",
      "  self._init_dates(dates, freq)\n",
      "/Users/aileen/anaconda3/lib/python3.10/site-packages/statsmodels/tsa/statespace/sarimax.py:978: UserWarning: Non-invertible starting MA parameters found. Using zeros as starting parameters.\n",
      "  warn('Non-invertible starting MA parameters found.'\n"
     ]
    },
    {
     "name": "stdout",
     "output_type": "stream",
     "text": [
      "p: 6, q: 12\n",
      "mae: 678.9312379747188\n",
      "mape: 0.09179708366867405\n",
      "mse: 686834.8472855961\n",
      "--------------\n"
     ]
    },
    {
     "name": "stderr",
     "output_type": "stream",
     "text": [
      "/Users/aileen/anaconda3/lib/python3.10/site-packages/statsmodels/base/model.py:604: ConvergenceWarning: Maximum Likelihood optimization failed to converge. Check mle_retvals\n",
      "  warnings.warn(\"Maximum Likelihood optimization failed to \"\n",
      "/Users/aileen/anaconda3/lib/python3.10/site-packages/statsmodels/tsa/base/tsa_model.py:834: ValueWarning: No supported index is available. Prediction results will be given with an integer index beginning at `start`.\n",
      "  return get_prediction_index(\n",
      "/Users/aileen/anaconda3/lib/python3.10/site-packages/statsmodels/tsa/base/tsa_model.py:471: ValueWarning: An unsupported index was provided and will be ignored when e.g. forecasting.\n",
      "  self._init_dates(dates, freq)\n",
      "/Users/aileen/anaconda3/lib/python3.10/site-packages/statsmodels/tsa/base/tsa_model.py:471: ValueWarning: An unsupported index was provided and will be ignored when e.g. forecasting.\n",
      "  self._init_dates(dates, freq)\n",
      "/Users/aileen/anaconda3/lib/python3.10/site-packages/statsmodels/tsa/base/tsa_model.py:471: ValueWarning: An unsupported index was provided and will be ignored when e.g. forecasting.\n",
      "  self._init_dates(dates, freq)\n",
      "/Users/aileen/anaconda3/lib/python3.10/site-packages/statsmodels/tsa/statespace/sarimax.py:978: UserWarning: Non-invertible starting MA parameters found. Using zeros as starting parameters.\n",
      "  warn('Non-invertible starting MA parameters found.'\n"
     ]
    },
    {
     "name": "stdout",
     "output_type": "stream",
     "text": [
      "p: 6, q: 24\n",
      "mae: 651.8487386794578\n",
      "mape: 0.08709708233523503\n",
      "mse: 642064.3496108626\n",
      "--------------\n"
     ]
    },
    {
     "name": "stderr",
     "output_type": "stream",
     "text": [
      "/Users/aileen/anaconda3/lib/python3.10/site-packages/statsmodels/base/model.py:604: ConvergenceWarning: Maximum Likelihood optimization failed to converge. Check mle_retvals\n",
      "  warnings.warn(\"Maximum Likelihood optimization failed to \"\n",
      "/Users/aileen/anaconda3/lib/python3.10/site-packages/statsmodels/tsa/base/tsa_model.py:834: ValueWarning: No supported index is available. Prediction results will be given with an integer index beginning at `start`.\n",
      "  return get_prediction_index(\n"
     ]
    },
    {
     "name": "stdout",
     "output_type": "stream",
     "text": [
      "p: 6, q: 48\n",
      "mae: 632.9786741540286\n",
      "mape: 0.0852624097897076\n",
      "mse: 623345.4955216222\n",
      "--------------\n"
     ]
    }
   ],
   "source": [
    "# Grid search to find the best p and q\n",
    "for p in (1, 2, 3, 4, 6): \n",
    "    for q in (1, 2, 4, 6, 12, 24, 48): \n",
    "        model = ARIMA(df_arima_train_3_months, order=(p, 0, q))\n",
    "        pred = model.fit().forecast(len(df_arima_test_1_week))\n",
    "        mae = mean_absolute_error(pred, df_arima_test_1_week)\n",
    "        mape = mean_absolute_percentage_error(pred, df_arima_test_1_week)\n",
    "        mse = mean_squared_error(pred, df_arima_test_1_week)\n",
    "\n",
    "        print(f'p: {p}, q: {q}')\n",
    "        print(f'mae: {mae}')\n",
    "        print(f'mape: {mape}')\n",
    "        print(f'mse: {mse}')\n",
    "        print('--------------')"
   ]
  },
  {
   "cell_type": "markdown",
   "id": "7afd02e2-c864-40f4-b85a-89775df597ba",
   "metadata": {},
   "source": [
    "We can choose p = 4 and q = 24. "
   ]
  },
  {
   "cell_type": "code",
   "execution_count": 128,
   "id": "6697bccd-0a77-42a1-88aa-701c99ec2557",
   "metadata": {},
   "outputs": [
    {
     "name": "stderr",
     "output_type": "stream",
     "text": [
      "/Users/aileen/anaconda3/lib/python3.10/site-packages/statsmodels/tsa/base/tsa_model.py:471: ValueWarning: An unsupported index was provided and will be ignored when e.g. forecasting.\n",
      "  self._init_dates(dates, freq)\n",
      "/Users/aileen/anaconda3/lib/python3.10/site-packages/statsmodels/tsa/base/tsa_model.py:471: ValueWarning: An unsupported index was provided and will be ignored when e.g. forecasting.\n",
      "  self._init_dates(dates, freq)\n",
      "/Users/aileen/anaconda3/lib/python3.10/site-packages/statsmodels/tsa/base/tsa_model.py:471: ValueWarning: An unsupported index was provided and will be ignored when e.g. forecasting.\n",
      "  self._init_dates(dates, freq)\n",
      "/Users/aileen/anaconda3/lib/python3.10/site-packages/statsmodels/tsa/statespace/sarimax.py:978: UserWarning: Non-invertible starting MA parameters found. Using zeros as starting parameters.\n",
      "  warn('Non-invertible starting MA parameters found.'\n",
      "/Users/aileen/anaconda3/lib/python3.10/site-packages/statsmodels/base/model.py:604: ConvergenceWarning: Maximum Likelihood optimization failed to converge. Check mle_retvals\n",
      "  warnings.warn(\"Maximum Likelihood optimization failed to \"\n",
      "/Users/aileen/anaconda3/lib/python3.10/site-packages/statsmodels/tsa/base/tsa_model.py:834: ValueWarning: No supported index is available. Prediction results will be given with an integer index beginning at `start`.\n",
      "  return get_prediction_index(\n"
     ]
    }
   ],
   "source": [
    "model_armia_v2 = ARIMA(df_arima_train_3_months, order=(4, 0, 24))\n",
    "pred_v2 = model_armia_v2.fit().forecast(len(df_arima_test_1_week))"
   ]
  },
  {
   "cell_type": "code",
   "execution_count": 183,
   "id": "49a56187-82ac-4275-aa31-f5d04221f7ba",
   "metadata": {},
   "outputs": [
    {
     "name": "stdout",
     "output_type": "stream",
     "text": [
      "mae: 607.585128167355\n",
      "mape: 0.08036184049856107\n",
      "mse: 577072.4196678264\n"
     ]
    }
   ],
   "source": [
    "# Check Errors\n",
    "mae = mean_absolute_error(pred_v2, df_arima_test_1_week)\n",
    "mape = mean_absolute_percentage_error(pred_v2, df_arima_test_1_week)\n",
    "mse = mean_squared_error(pred_v2, df_arima_test_1_week)\n",
    "\n",
    "print(f'mae: {mae}')\n",
    "print(f'mape: {mape}')\n",
    "print(f'mse: {mse}')"
   ]
  },
  {
   "cell_type": "markdown",
   "id": "5b97b7f2-b4d0-4ae3-ac5e-72f910902c79",
   "metadata": {},
   "source": [
    "Compared to the model with longer training data, errors with the shorter training data is actually smaller. We can also check the visualization. "
   ]
  },
  {
   "cell_type": "code",
   "execution_count": 129,
   "id": "42162803-5cf0-409b-99d5-ad5a7d19bcd9",
   "metadata": {},
   "outputs": [
    {
     "data": {
      "text/plain": [
       "<Axes: >"
      ]
     },
     "execution_count": 129,
     "metadata": {},
     "output_type": "execute_result"
    },
    {
     "data": {
      "image/png": "[encoded data removed]",
      "text/plain": [
       "<Figure size 640x480 with 1 Axes>"
      ]
     },
     "metadata": {},
     "output_type": "display_data"
    }
   ],
   "source": [
    "df_temp_demand_short_term_arima['prediction_v2'] = [None] * (len(df_temp_demand_short_term_arima) - len(pred_v2)) + list(pred_v2)\n",
    "df_temp_demand_short_term_arima[['totaldemand', 'prediction_v2']].tail(len(df_arima_test_1_week) * 3).plot()"
   ]
  },
  {
   "cell_type": "markdown",
   "id": "1a9089ec-c89f-432c-bb04-718898f276d9",
   "metadata": {},
   "source": [
    "From the graph we can see the result is better than the model trained with longer data. This may be due to the fact that it is easier to find the optimized parameters for the shorter dataset."
   ]
  },
  {
   "cell_type": "code",
   "execution_count": null,
   "id": "88136b32-1db9-417b-a57e-671edac293e2",
   "metadata": {},
   "outputs": [],
   "source": []
  }
 ],
 "metadata": {
  "kernelspec": {
   "display_name": "Python 3 (ipykernel)",
   "language": "python",
   "name": "python3"
  },
  "language_info": {
   "codemirror_mode": {
    "name": "ipython",
    "version": 3
   },
   "file_extension": ".py",
   "mimetype": "text/x-python",
   "name": "python",
   "nbconvert_exporter": "python",
   "pygments_lexer": "ipython3",
   "version": "3.10.9"
  }
 },
 "nbformat": 4,
 "nbformat_minor": 5
}
