{
 "cells": [
  {
   "cell_type": "code",
   "execution_count": 18,
   "metadata": {},
   "outputs": [],
   "source": [
    "import pandas as pd"
   ]
  },
  {
   "cell_type": "code",
   "execution_count": 19,
   "metadata": {},
   "outputs": [
    {
     "data": {
      "text/html": [
       "<div>\n",
       "<style scoped>\n",
       "    .dataframe tbody tr th:only-of-type {\n",
       "        vertical-align: middle;\n",
       "    }\n",
       "\n",
       "    .dataframe tbody tr th {\n",
       "        vertical-align: top;\n",
       "    }\n",
       "\n",
       "    .dataframe thead th {\n",
       "        text-align: right;\n",
       "    }\n",
       "</style>\n",
       "<table border=\"1\" class=\"dataframe\">\n",
       "  <thead>\n",
       "    <tr style=\"text-align: right;\">\n",
       "      <th></th>\n",
       "      <th>DATETIME</th>\n",
       "      <th>TOTALDEMAND</th>\n",
       "      <th>REGIONID</th>\n",
       "    </tr>\n",
       "  </thead>\n",
       "  <tbody>\n",
       "    <tr>\n",
       "      <th>0</th>\n",
       "      <td>1/1/2010 0:00</td>\n",
       "      <td>8038.00</td>\n",
       "      <td>NSW1</td>\n",
       "    </tr>\n",
       "    <tr>\n",
       "      <th>1</th>\n",
       "      <td>1/1/2010 0:30</td>\n",
       "      <td>7809.31</td>\n",
       "      <td>NSW1</td>\n",
       "    </tr>\n",
       "    <tr>\n",
       "      <th>2</th>\n",
       "      <td>1/1/2010 1:00</td>\n",
       "      <td>7483.69</td>\n",
       "      <td>NSW1</td>\n",
       "    </tr>\n",
       "    <tr>\n",
       "      <th>3</th>\n",
       "      <td>1/1/2010 1:30</td>\n",
       "      <td>7117.23</td>\n",
       "      <td>NSW1</td>\n",
       "    </tr>\n",
       "    <tr>\n",
       "      <th>4</th>\n",
       "      <td>1/1/2010 2:00</td>\n",
       "      <td>6812.03</td>\n",
       "      <td>NSW1</td>\n",
       "    </tr>\n",
       "  </tbody>\n",
       "</table>\n",
       "</div>"
      ],
      "text/plain": [
       "        DATETIME  TOTALDEMAND REGIONID\n",
       "0  1/1/2010 0:00      8038.00     NSW1\n",
       "1  1/1/2010 0:30      7809.31     NSW1\n",
       "2  1/1/2010 1:00      7483.69     NSW1\n",
       "3  1/1/2010 1:30      7117.23     NSW1\n",
       "4  1/1/2010 2:00      6812.03     NSW1"
      ]
     },
     "execution_count": 19,
     "metadata": {},
     "output_type": "execute_result"
    }
   ],
   "source": [
    "#read totaldemand_nsw csv file\n",
    "totaldemand = pd.read_csv('../data/totaldemand_nsw.csv')\n",
    "totaldemand.head()"
   ]
  },
  {
   "cell_type": "code",
   "execution_count": 20,
   "metadata": {},
   "outputs": [
    {
     "data": {
      "text/html": [
       "<div>\n",
       "<style scoped>\n",
       "    .dataframe tbody tr th:only-of-type {\n",
       "        vertical-align: middle;\n",
       "    }\n",
       "\n",
       "    .dataframe tbody tr th {\n",
       "        vertical-align: top;\n",
       "    }\n",
       "\n",
       "    .dataframe thead th {\n",
       "        text-align: right;\n",
       "    }\n",
       "</style>\n",
       "<table border=\"1\" class=\"dataframe\">\n",
       "  <thead>\n",
       "    <tr style=\"text-align: right;\">\n",
       "      <th></th>\n",
       "      <th>DATETIME</th>\n",
       "      <th>TOTALDEMAND</th>\n",
       "    </tr>\n",
       "  </thead>\n",
       "  <tbody>\n",
       "    <tr>\n",
       "      <th>0</th>\n",
       "      <td>1/1/2010 0:00</td>\n",
       "      <td>8038.00</td>\n",
       "    </tr>\n",
       "    <tr>\n",
       "      <th>1</th>\n",
       "      <td>1/1/2010 0:30</td>\n",
       "      <td>7809.31</td>\n",
       "    </tr>\n",
       "    <tr>\n",
       "      <th>2</th>\n",
       "      <td>1/1/2010 1:00</td>\n",
       "      <td>7483.69</td>\n",
       "    </tr>\n",
       "    <tr>\n",
       "      <th>3</th>\n",
       "      <td>1/1/2010 1:30</td>\n",
       "      <td>7117.23</td>\n",
       "    </tr>\n",
       "    <tr>\n",
       "      <th>4</th>\n",
       "      <td>1/1/2010 2:00</td>\n",
       "      <td>6812.03</td>\n",
       "    </tr>\n",
       "  </tbody>\n",
       "</table>\n",
       "</div>"
      ],
      "text/plain": [
       "        DATETIME  TOTALDEMAND\n",
       "0  1/1/2010 0:00      8038.00\n",
       "1  1/1/2010 0:30      7809.31\n",
       "2  1/1/2010 1:00      7483.69\n",
       "3  1/1/2010 1:30      7117.23\n",
       "4  1/1/2010 2:00      6812.03"
      ]
     },
     "execution_count": 20,
     "metadata": {},
     "output_type": "execute_result"
    }
   ],
   "source": [
    "#drop REGIONID column\n",
    "totaldemand = totaldemand.drop(columns=['REGIONID'])\n",
    "totaldemand.head()"
   ]
  },
  {
   "cell_type": "code",
   "execution_count": 21,
   "metadata": {},
   "outputs": [
    {
     "data": {
      "text/plain": [
       "(196513, 2)"
      ]
     },
     "execution_count": 21,
     "metadata": {},
     "output_type": "execute_result"
    }
   ],
   "source": [
    "#dimension of the data\n",
    "totaldemand.shape"
   ]
  },
  {
   "cell_type": "code",
   "execution_count": 22,
   "metadata": {},
   "outputs": [
    {
     "data": {
      "text/html": [
       "<div>\n",
       "<style scoped>\n",
       "    .dataframe tbody tr th:only-of-type {\n",
       "        vertical-align: middle;\n",
       "    }\n",
       "\n",
       "    .dataframe tbody tr th {\n",
       "        vertical-align: top;\n",
       "    }\n",
       "\n",
       "    .dataframe thead th {\n",
       "        text-align: right;\n",
       "    }\n",
       "</style>\n",
       "<table border=\"1\" class=\"dataframe\">\n",
       "  <thead>\n",
       "    <tr style=\"text-align: right;\">\n",
       "      <th></th>\n",
       "      <th>LOCATION</th>\n",
       "      <th>DATETIME</th>\n",
       "      <th>TEMPERATURE</th>\n",
       "    </tr>\n",
       "  </thead>\n",
       "  <tbody>\n",
       "    <tr>\n",
       "      <th>0</th>\n",
       "      <td>Bankstown</td>\n",
       "      <td>1/1/2010 0:00</td>\n",
       "      <td>23.1</td>\n",
       "    </tr>\n",
       "    <tr>\n",
       "      <th>1</th>\n",
       "      <td>Bankstown</td>\n",
       "      <td>1/1/2010 0:01</td>\n",
       "      <td>23.1</td>\n",
       "    </tr>\n",
       "    <tr>\n",
       "      <th>2</th>\n",
       "      <td>Bankstown</td>\n",
       "      <td>1/1/2010 0:30</td>\n",
       "      <td>22.9</td>\n",
       "    </tr>\n",
       "    <tr>\n",
       "      <th>3</th>\n",
       "      <td>Bankstown</td>\n",
       "      <td>1/1/2010 0:50</td>\n",
       "      <td>22.7</td>\n",
       "    </tr>\n",
       "    <tr>\n",
       "      <th>4</th>\n",
       "      <td>Bankstown</td>\n",
       "      <td>1/1/2010 1:00</td>\n",
       "      <td>22.6</td>\n",
       "    </tr>\n",
       "  </tbody>\n",
       "</table>\n",
       "</div>"
      ],
      "text/plain": [
       "    LOCATION       DATETIME  TEMPERATURE\n",
       "0  Bankstown  1/1/2010 0:00         23.1\n",
       "1  Bankstown  1/1/2010 0:01         23.1\n",
       "2  Bankstown  1/1/2010 0:30         22.9\n",
       "3  Bankstown  1/1/2010 0:50         22.7\n",
       "4  Bankstown  1/1/2010 1:00         22.6"
      ]
     },
     "execution_count": 22,
     "metadata": {},
     "output_type": "execute_result"
    }
   ],
   "source": [
    "#read temperature_nsw csv file\n",
    "temperature = pd.read_csv('../data/temperature_nsw.csv')\n",
    "temperature.head()"
   ]
  },
  {
   "cell_type": "code",
   "execution_count": 23,
   "metadata": {},
   "outputs": [
    {
     "data": {
      "text/html": [
       "<div>\n",
       "<style scoped>\n",
       "    .dataframe tbody tr th:only-of-type {\n",
       "        vertical-align: middle;\n",
       "    }\n",
       "\n",
       "    .dataframe tbody tr th {\n",
       "        vertical-align: top;\n",
       "    }\n",
       "\n",
       "    .dataframe thead th {\n",
       "        text-align: right;\n",
       "    }\n",
       "</style>\n",
       "<table border=\"1\" class=\"dataframe\">\n",
       "  <thead>\n",
       "    <tr style=\"text-align: right;\">\n",
       "      <th></th>\n",
       "      <th>DATETIME</th>\n",
       "      <th>TEMPERATURE</th>\n",
       "    </tr>\n",
       "  </thead>\n",
       "  <tbody>\n",
       "    <tr>\n",
       "      <th>0</th>\n",
       "      <td>1/1/2010 0:00</td>\n",
       "      <td>23.1</td>\n",
       "    </tr>\n",
       "    <tr>\n",
       "      <th>1</th>\n",
       "      <td>1/1/2010 0:01</td>\n",
       "      <td>23.1</td>\n",
       "    </tr>\n",
       "    <tr>\n",
       "      <th>2</th>\n",
       "      <td>1/1/2010 0:30</td>\n",
       "      <td>22.9</td>\n",
       "    </tr>\n",
       "    <tr>\n",
       "      <th>3</th>\n",
       "      <td>1/1/2010 0:50</td>\n",
       "      <td>22.7</td>\n",
       "    </tr>\n",
       "    <tr>\n",
       "      <th>4</th>\n",
       "      <td>1/1/2010 1:00</td>\n",
       "      <td>22.6</td>\n",
       "    </tr>\n",
       "  </tbody>\n",
       "</table>\n",
       "</div>"
      ],
      "text/plain": [
       "        DATETIME  TEMPERATURE\n",
       "0  1/1/2010 0:00         23.1\n",
       "1  1/1/2010 0:01         23.1\n",
       "2  1/1/2010 0:30         22.9\n",
       "3  1/1/2010 0:50         22.7\n",
       "4  1/1/2010 1:00         22.6"
      ]
     },
     "execution_count": 23,
     "metadata": {},
     "output_type": "execute_result"
    }
   ],
   "source": [
    "#drop LOCATION column\n",
    "temperature = temperature.drop(columns=['LOCATION'])\n",
    "temperature.head()\n"
   ]
  },
  {
   "cell_type": "code",
   "execution_count": 24,
   "metadata": {},
   "outputs": [
    {
     "data": {
      "text/plain": [
       "(220326, 2)"
      ]
     },
     "execution_count": 24,
     "metadata": {},
     "output_type": "execute_result"
    }
   ],
   "source": [
    "#dimension of the data\n",
    "temperature.shape"
   ]
  },
  {
   "cell_type": "code",
   "execution_count": 6,
   "metadata": {},
   "outputs": [
    {
     "name": "stdout",
     "output_type": "stream",
     "text": [
      "DATETIME       0\n",
      "TOTALDEMAND    0\n",
      "REGIONID       0\n",
      "dtype: int64\n",
      "DATETIME       0\n",
      "TEMPERATURE    0\n",
      "dtype: int64\n"
     ]
    }
   ],
   "source": [
    "#check for missing values\n",
    "print(totaldemand.isnull().sum())\n",
    "print(temperature.isnull().sum())"
   ]
  },
  {
   "cell_type": "code",
   "execution_count": 25,
   "metadata": {},
   "outputs": [
    {
     "data": {
      "text/html": [
       "<div>\n",
       "<style scoped>\n",
       "    .dataframe tbody tr th:only-of-type {\n",
       "        vertical-align: middle;\n",
       "    }\n",
       "\n",
       "    .dataframe tbody tr th {\n",
       "        vertical-align: top;\n",
       "    }\n",
       "\n",
       "    .dataframe thead th {\n",
       "        text-align: right;\n",
       "    }\n",
       "</style>\n",
       "<table border=\"1\" class=\"dataframe\">\n",
       "  <thead>\n",
       "    <tr style=\"text-align: right;\">\n",
       "      <th></th>\n",
       "      <th>DATETIME</th>\n",
       "      <th>TOTALDEMAND</th>\n",
       "      <th>TEMPERATURE</th>\n",
       "    </tr>\n",
       "  </thead>\n",
       "  <tbody>\n",
       "    <tr>\n",
       "      <th>0</th>\n",
       "      <td>1/1/2010 0:00</td>\n",
       "      <td>8038.00</td>\n",
       "      <td>23.1</td>\n",
       "    </tr>\n",
       "    <tr>\n",
       "      <th>1</th>\n",
       "      <td>1/1/2010 0:30</td>\n",
       "      <td>7809.31</td>\n",
       "      <td>22.9</td>\n",
       "    </tr>\n",
       "    <tr>\n",
       "      <th>2</th>\n",
       "      <td>1/1/2010 1:00</td>\n",
       "      <td>7483.69</td>\n",
       "      <td>22.6</td>\n",
       "    </tr>\n",
       "    <tr>\n",
       "      <th>3</th>\n",
       "      <td>1/1/2010 1:30</td>\n",
       "      <td>7117.23</td>\n",
       "      <td>22.5</td>\n",
       "    </tr>\n",
       "    <tr>\n",
       "      <th>4</th>\n",
       "      <td>1/1/2010 2:00</td>\n",
       "      <td>6812.03</td>\n",
       "      <td>22.5</td>\n",
       "    </tr>\n",
       "  </tbody>\n",
       "</table>\n",
       "</div>"
      ],
      "text/plain": [
       "        DATETIME  TOTALDEMAND  TEMPERATURE\n",
       "0  1/1/2010 0:00      8038.00         23.1\n",
       "1  1/1/2010 0:30      7809.31         22.9\n",
       "2  1/1/2010 1:00      7483.69         22.6\n",
       "3  1/1/2010 1:30      7117.23         22.5\n",
       "4  1/1/2010 2:00      6812.03         22.5"
      ]
     },
     "execution_count": 25,
     "metadata": {},
     "output_type": "execute_result"
    }
   ],
   "source": [
    "#join the two dataframes on the DATETIME column\n",
    "data = pd.merge(totaldemand, temperature, on='DATETIME')\n",
    "data.head()\n"
   ]
  },
  {
   "cell_type": "code",
   "execution_count": 26,
   "metadata": {},
   "outputs": [
    {
     "data": {
      "text/plain": [
       "(195947, 3)"
      ]
     },
     "execution_count": 26,
     "metadata": {},
     "output_type": "execute_result"
    }
   ],
   "source": [
    "data.shape"
   ]
  },
  {
   "cell_type": "code",
   "execution_count": 27,
   "metadata": {},
   "outputs": [
    {
     "data": {
      "text/plain": [
       "DATETIME       0\n",
       "TOTALDEMAND    0\n",
       "TEMPERATURE    0\n",
       "dtype: int64"
      ]
     },
     "execution_count": 27,
     "metadata": {},
     "output_type": "execute_result"
    }
   ],
   "source": [
    "data.isna().sum()"
   ]
  },
  {
   "cell_type": "code",
   "execution_count": 28,
   "metadata": {},
   "outputs": [
    {
     "data": {
      "text/html": [
       "<div>\n",
       "<style scoped>\n",
       "    .dataframe tbody tr th:only-of-type {\n",
       "        vertical-align: middle;\n",
       "    }\n",
       "\n",
       "    .dataframe tbody tr th {\n",
       "        vertical-align: top;\n",
       "    }\n",
       "\n",
       "    .dataframe thead th {\n",
       "        text-align: right;\n",
       "    }\n",
       "</style>\n",
       "<table border=\"1\" class=\"dataframe\">\n",
       "  <thead>\n",
       "    <tr style=\"text-align: right;\">\n",
       "      <th></th>\n",
       "      <th>DATETIME</th>\n",
       "      <th>TOTALDEMAND</th>\n",
       "      <th>TEMPERATURE</th>\n",
       "      <th>SEASON</th>\n",
       "    </tr>\n",
       "  </thead>\n",
       "  <tbody>\n",
       "    <tr>\n",
       "      <th>0</th>\n",
       "      <td>2010-01-01 00:00:00</td>\n",
       "      <td>8038.00</td>\n",
       "      <td>23.1</td>\n",
       "      <td>Summer</td>\n",
       "    </tr>\n",
       "    <tr>\n",
       "      <th>1</th>\n",
       "      <td>2010-01-01 00:30:00</td>\n",
       "      <td>7809.31</td>\n",
       "      <td>22.9</td>\n",
       "      <td>Summer</td>\n",
       "    </tr>\n",
       "    <tr>\n",
       "      <th>2</th>\n",
       "      <td>2010-01-01 01:00:00</td>\n",
       "      <td>7483.69</td>\n",
       "      <td>22.6</td>\n",
       "      <td>Summer</td>\n",
       "    </tr>\n",
       "    <tr>\n",
       "      <th>3</th>\n",
       "      <td>2010-01-01 01:30:00</td>\n",
       "      <td>7117.23</td>\n",
       "      <td>22.5</td>\n",
       "      <td>Summer</td>\n",
       "    </tr>\n",
       "    <tr>\n",
       "      <th>4</th>\n",
       "      <td>2010-01-01 02:00:00</td>\n",
       "      <td>6812.03</td>\n",
       "      <td>22.5</td>\n",
       "      <td>Summer</td>\n",
       "    </tr>\n",
       "  </tbody>\n",
       "</table>\n",
       "</div>"
      ],
      "text/plain": [
       "             DATETIME  TOTALDEMAND  TEMPERATURE  SEASON\n",
       "0 2010-01-01 00:00:00      8038.00         23.1  Summer\n",
       "1 2010-01-01 00:30:00      7809.31         22.9  Summer\n",
       "2 2010-01-01 01:00:00      7483.69         22.6  Summer\n",
       "3 2010-01-01 01:30:00      7117.23         22.5  Summer\n",
       "4 2010-01-01 02:00:00      6812.03         22.5  Summer"
      ]
     },
     "execution_count": 28,
     "metadata": {},
     "output_type": "execute_result"
    }
   ],
   "source": [
    "#create a new column 'SEASON' based on the month\n",
    "data['DATETIME'] = pd.to_datetime(data['DATETIME'], format='%d/%m/%Y %H:%M')\n",
    "data['SEASON'] = data['DATETIME'].dt.month\n",
    "data['SEASON'] = data['SEASON'].apply(lambda x: 'Summer' if x in [12, 1, 2] else ('Autumn' if x in [3, 4, 5] else ('Winter' if x in [6, 7, 8] else 'Spring')))\n",
    "data.head()\n"
   ]
  },
  {
   "cell_type": "code",
   "execution_count": 30,
   "metadata": {},
   "outputs": [
    {
     "data": {
      "text/html": [
       "<div>\n",
       "<style scoped>\n",
       "    .dataframe tbody tr th:only-of-type {\n",
       "        vertical-align: middle;\n",
       "    }\n",
       "\n",
       "    .dataframe tbody tr th {\n",
       "        vertical-align: top;\n",
       "    }\n",
       "\n",
       "    .dataframe thead th {\n",
       "        text-align: right;\n",
       "    }\n",
       "</style>\n",
       "<table border=\"1\" class=\"dataframe\">\n",
       "  <thead>\n",
       "    <tr style=\"text-align: right;\">\n",
       "      <th></th>\n",
       "      <th>DATETIME</th>\n",
       "      <th>TOTALDEMAND</th>\n",
       "      <th>TEMPERATURE</th>\n",
       "      <th>SEASON</th>\n",
       "      <th>WEEKDAY</th>\n",
       "    </tr>\n",
       "  </thead>\n",
       "  <tbody>\n",
       "    <tr>\n",
       "      <th>0</th>\n",
       "      <td>2010-01-01 00:00:00</td>\n",
       "      <td>8038.00</td>\n",
       "      <td>23.1</td>\n",
       "      <td>Summer</td>\n",
       "      <td>Friday</td>\n",
       "    </tr>\n",
       "    <tr>\n",
       "      <th>1</th>\n",
       "      <td>2010-01-01 00:30:00</td>\n",
       "      <td>7809.31</td>\n",
       "      <td>22.9</td>\n",
       "      <td>Summer</td>\n",
       "      <td>Friday</td>\n",
       "    </tr>\n",
       "    <tr>\n",
       "      <th>2</th>\n",
       "      <td>2010-01-01 01:00:00</td>\n",
       "      <td>7483.69</td>\n",
       "      <td>22.6</td>\n",
       "      <td>Summer</td>\n",
       "      <td>Friday</td>\n",
       "    </tr>\n",
       "    <tr>\n",
       "      <th>3</th>\n",
       "      <td>2010-01-01 01:30:00</td>\n",
       "      <td>7117.23</td>\n",
       "      <td>22.5</td>\n",
       "      <td>Summer</td>\n",
       "      <td>Friday</td>\n",
       "    </tr>\n",
       "    <tr>\n",
       "      <th>4</th>\n",
       "      <td>2010-01-01 02:00:00</td>\n",
       "      <td>6812.03</td>\n",
       "      <td>22.5</td>\n",
       "      <td>Summer</td>\n",
       "      <td>Friday</td>\n",
       "    </tr>\n",
       "  </tbody>\n",
       "</table>\n",
       "</div>"
      ],
      "text/plain": [
       "             DATETIME  TOTALDEMAND  TEMPERATURE  SEASON WEEKDAY\n",
       "0 2010-01-01 00:00:00      8038.00         23.1  Summer  Friday\n",
       "1 2010-01-01 00:30:00      7809.31         22.9  Summer  Friday\n",
       "2 2010-01-01 01:00:00      7483.69         22.6  Summer  Friday\n",
       "3 2010-01-01 01:30:00      7117.23         22.5  Summer  Friday\n",
       "4 2010-01-01 02:00:00      6812.03         22.5  Summer  Friday"
      ]
     },
     "execution_count": 30,
     "metadata": {},
     "output_type": "execute_result"
    }
   ],
   "source": [
    "#create a new column 'Weekday' based on the day of the week \n",
    "data['WEEKDAY'] = data['DATETIME'].dt.day_name()\n",
    "data.head()\n"
   ]
  },
  {
   "cell_type": "code",
   "execution_count": 31,
   "metadata": {},
   "outputs": [],
   "source": [
    "#export the data to a new csv file\n",
    "data.to_csv('../data/totaldemand_temperature_nsw.csv', index=False)\n"
   ]
  },
  {
   "cell_type": "code",
   "execution_count": 32,
   "metadata": {},
   "outputs": [],
   "source": [
    "#export the data to a new zip file\n",
    "data.to_csv('../data/totaldemand_temperature_nsw.zip', index=False, compression='zip')\n"
   ]
  }
 ],
 "metadata": {
  "kernelspec": {
   "display_name": "zzsc9020-group3",
   "language": "python",
   "name": "python3"
  },
  "language_info": {
   "codemirror_mode": {
    "name": "ipython",
    "version": 3
   },
   "file_extension": ".py",
   "mimetype": "text/x-python",
   "name": "python",
   "nbconvert_exporter": "python",
   "pygments_lexer": "ipython3",
   "version": "3.10.13"
  }
 },
 "nbformat": 4,
 "nbformat_minor": 2
}
