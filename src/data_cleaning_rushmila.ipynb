{
 "cells": [
  {
   "cell_type": "code",
   "execution_count": 1,
   "metadata": {},
   "outputs": [],
   "source": [
    "import pandas as pd"
   ]
  },
  {
   "cell_type": "code",
   "execution_count": 92,
   "metadata": {},
   "outputs": [
    {
     "data": {
      "text/html": [
       "<div>\n",
       "<style scoped>\n",
       "    .dataframe tbody tr th:only-of-type {\n",
       "        vertical-align: middle;\n",
       "    }\n",
       "\n",
       "    .dataframe tbody tr th {\n",
       "        vertical-align: top;\n",
       "    }\n",
       "\n",
       "    .dataframe thead th {\n",
       "        text-align: right;\n",
       "    }\n",
       "</style>\n",
       "<table border=\"1\" class=\"dataframe\">\n",
       "  <thead>\n",
       "    <tr style=\"text-align: right;\">\n",
       "      <th></th>\n",
       "      <th>DATETIME</th>\n",
       "      <th>TOTALDEMAND</th>\n",
       "      <th>REGIONID</th>\n",
       "    </tr>\n",
       "  </thead>\n",
       "  <tbody>\n",
       "    <tr>\n",
       "      <th>0</th>\n",
       "      <td>1/1/2010 0:00</td>\n",
       "      <td>8038.00</td>\n",
       "      <td>NSW1</td>\n",
       "    </tr>\n",
       "    <tr>\n",
       "      <th>1</th>\n",
       "      <td>1/1/2010 0:30</td>\n",
       "      <td>7809.31</td>\n",
       "      <td>NSW1</td>\n",
       "    </tr>\n",
       "    <tr>\n",
       "      <th>2</th>\n",
       "      <td>1/1/2010 1:00</td>\n",
       "      <td>7483.69</td>\n",
       "      <td>NSW1</td>\n",
       "    </tr>\n",
       "    <tr>\n",
       "      <th>3</th>\n",
       "      <td>1/1/2010 1:30</td>\n",
       "      <td>7117.23</td>\n",
       "      <td>NSW1</td>\n",
       "    </tr>\n",
       "    <tr>\n",
       "      <th>4</th>\n",
       "      <td>1/1/2010 2:00</td>\n",
       "      <td>6812.03</td>\n",
       "      <td>NSW1</td>\n",
       "    </tr>\n",
       "  </tbody>\n",
       "</table>\n",
       "</div>"
      ],
      "text/plain": [
       "        DATETIME  TOTALDEMAND REGIONID\n",
       "0  1/1/2010 0:00      8038.00     NSW1\n",
       "1  1/1/2010 0:30      7809.31     NSW1\n",
       "2  1/1/2010 1:00      7483.69     NSW1\n",
       "3  1/1/2010 1:30      7117.23     NSW1\n",
       "4  1/1/2010 2:00      6812.03     NSW1"
      ]
     },
     "execution_count": 92,
     "metadata": {},
     "output_type": "execute_result"
    }
   ],
   "source": [
    "#read totaldemand_nsw csv file\n",
    "totaldemand = pd.read_csv('../data/totaldemand_nsw.csv')\n",
    "totaldemand.head()"
   ]
  },
  {
   "cell_type": "code",
   "execution_count": 93,
   "metadata": {},
   "outputs": [
    {
     "data": {
      "text/html": [
       "<div>\n",
       "<style scoped>\n",
       "    .dataframe tbody tr th:only-of-type {\n",
       "        vertical-align: middle;\n",
       "    }\n",
       "\n",
       "    .dataframe tbody tr th {\n",
       "        vertical-align: top;\n",
       "    }\n",
       "\n",
       "    .dataframe thead th {\n",
       "        text-align: right;\n",
       "    }\n",
       "</style>\n",
       "<table border=\"1\" class=\"dataframe\">\n",
       "  <thead>\n",
       "    <tr style=\"text-align: right;\">\n",
       "      <th></th>\n",
       "      <th>DATETIME</th>\n",
       "      <th>TOTALDEMAND</th>\n",
       "    </tr>\n",
       "  </thead>\n",
       "  <tbody>\n",
       "    <tr>\n",
       "      <th>0</th>\n",
       "      <td>1/1/2010 0:00</td>\n",
       "      <td>8038.00</td>\n",
       "    </tr>\n",
       "    <tr>\n",
       "      <th>1</th>\n",
       "      <td>1/1/2010 0:30</td>\n",
       "      <td>7809.31</td>\n",
       "    </tr>\n",
       "    <tr>\n",
       "      <th>2</th>\n",
       "      <td>1/1/2010 1:00</td>\n",
       "      <td>7483.69</td>\n",
       "    </tr>\n",
       "    <tr>\n",
       "      <th>3</th>\n",
       "      <td>1/1/2010 1:30</td>\n",
       "      <td>7117.23</td>\n",
       "    </tr>\n",
       "    <tr>\n",
       "      <th>4</th>\n",
       "      <td>1/1/2010 2:00</td>\n",
       "      <td>6812.03</td>\n",
       "    </tr>\n",
       "  </tbody>\n",
       "</table>\n",
       "</div>"
      ],
      "text/plain": [
       "        DATETIME  TOTALDEMAND\n",
       "0  1/1/2010 0:00      8038.00\n",
       "1  1/1/2010 0:30      7809.31\n",
       "2  1/1/2010 1:00      7483.69\n",
       "3  1/1/2010 1:30      7117.23\n",
       "4  1/1/2010 2:00      6812.03"
      ]
     },
     "execution_count": 93,
     "metadata": {},
     "output_type": "execute_result"
    }
   ],
   "source": [
    "#drop REGIONID column\n",
    "totaldemand = totaldemand.drop(columns=['REGIONID'])\n",
    "totaldemand.head()"
   ]
  },
  {
   "cell_type": "code",
   "execution_count": 94,
   "metadata": {},
   "outputs": [
    {
     "data": {
      "text/plain": [
       "(196513, 2)"
      ]
     },
     "execution_count": 94,
     "metadata": {},
     "output_type": "execute_result"
    }
   ],
   "source": [
    "#dimension of the data\n",
    "totaldemand.shape"
   ]
  },
  {
   "cell_type": "code",
   "execution_count": 95,
   "metadata": {},
   "outputs": [
    {
     "data": {
      "text/plain": [
       "DATETIME       0\n",
       "TOTALDEMAND    0\n",
       "dtype: int64"
      ]
     },
     "execution_count": 95,
     "metadata": {},
     "output_type": "execute_result"
    }
   ],
   "source": [
    "#check for missing values\n",
    "totaldemand.isnull().sum()"
   ]
  },
  {
   "cell_type": "code",
   "execution_count": 100,
   "metadata": {},
   "outputs": [
    {
     "data": {
      "text/plain": [
       "(0, 2)"
      ]
     },
     "execution_count": 100,
     "metadata": {},
     "output_type": "execute_result"
    }
   ],
   "source": [
    "#check for duplicates\n",
    "totaldemand_duplicate = totaldemand[totaldemand.duplicated(subset='DATETIME')]\n",
    "totaldemand_duplicate.shape"
   ]
  },
  {
   "cell_type": "markdown",
   "metadata": {},
   "source": [
    "### Temperature Data "
   ]
  },
  {
   "cell_type": "code",
   "execution_count": 101,
   "metadata": {},
   "outputs": [
    {
     "data": {
      "text/html": [
       "<div>\n",
       "<style scoped>\n",
       "    .dataframe tbody tr th:only-of-type {\n",
       "        vertical-align: middle;\n",
       "    }\n",
       "\n",
       "    .dataframe tbody tr th {\n",
       "        vertical-align: top;\n",
       "    }\n",
       "\n",
       "    .dataframe thead th {\n",
       "        text-align: right;\n",
       "    }\n",
       "</style>\n",
       "<table border=\"1\" class=\"dataframe\">\n",
       "  <thead>\n",
       "    <tr style=\"text-align: right;\">\n",
       "      <th></th>\n",
       "      <th>LOCATION</th>\n",
       "      <th>DATETIME</th>\n",
       "      <th>TEMPERATURE</th>\n",
       "    </tr>\n",
       "  </thead>\n",
       "  <tbody>\n",
       "    <tr>\n",
       "      <th>0</th>\n",
       "      <td>Bankstown</td>\n",
       "      <td>1/1/2010 0:00</td>\n",
       "      <td>23.1</td>\n",
       "    </tr>\n",
       "    <tr>\n",
       "      <th>1</th>\n",
       "      <td>Bankstown</td>\n",
       "      <td>1/1/2010 0:01</td>\n",
       "      <td>23.1</td>\n",
       "    </tr>\n",
       "    <tr>\n",
       "      <th>2</th>\n",
       "      <td>Bankstown</td>\n",
       "      <td>1/1/2010 0:30</td>\n",
       "      <td>22.9</td>\n",
       "    </tr>\n",
       "    <tr>\n",
       "      <th>3</th>\n",
       "      <td>Bankstown</td>\n",
       "      <td>1/1/2010 0:50</td>\n",
       "      <td>22.7</td>\n",
       "    </tr>\n",
       "    <tr>\n",
       "      <th>4</th>\n",
       "      <td>Bankstown</td>\n",
       "      <td>1/1/2010 1:00</td>\n",
       "      <td>22.6</td>\n",
       "    </tr>\n",
       "  </tbody>\n",
       "</table>\n",
       "</div>"
      ],
      "text/plain": [
       "    LOCATION       DATETIME  TEMPERATURE\n",
       "0  Bankstown  1/1/2010 0:00         23.1\n",
       "1  Bankstown  1/1/2010 0:01         23.1\n",
       "2  Bankstown  1/1/2010 0:30         22.9\n",
       "3  Bankstown  1/1/2010 0:50         22.7\n",
       "4  Bankstown  1/1/2010 1:00         22.6"
      ]
     },
     "execution_count": 101,
     "metadata": {},
     "output_type": "execute_result"
    }
   ],
   "source": [
    "#read temperature_nsw csv file\n",
    "temperature = pd.read_csv('../data/temperature_nsw.csv')\n",
    "temperature.head()"
   ]
  },
  {
   "cell_type": "code",
   "execution_count": 102,
   "metadata": {},
   "outputs": [
    {
     "data": {
      "text/html": [
       "<div>\n",
       "<style scoped>\n",
       "    .dataframe tbody tr th:only-of-type {\n",
       "        vertical-align: middle;\n",
       "    }\n",
       "\n",
       "    .dataframe tbody tr th {\n",
       "        vertical-align: top;\n",
       "    }\n",
       "\n",
       "    .dataframe thead th {\n",
       "        text-align: right;\n",
       "    }\n",
       "</style>\n",
       "<table border=\"1\" class=\"dataframe\">\n",
       "  <thead>\n",
       "    <tr style=\"text-align: right;\">\n",
       "      <th></th>\n",
       "      <th>DATETIME</th>\n",
       "      <th>TEMPERATURE</th>\n",
       "    </tr>\n",
       "  </thead>\n",
       "  <tbody>\n",
       "    <tr>\n",
       "      <th>0</th>\n",
       "      <td>1/1/2010 0:00</td>\n",
       "      <td>23.1</td>\n",
       "    </tr>\n",
       "    <tr>\n",
       "      <th>1</th>\n",
       "      <td>1/1/2010 0:01</td>\n",
       "      <td>23.1</td>\n",
       "    </tr>\n",
       "    <tr>\n",
       "      <th>2</th>\n",
       "      <td>1/1/2010 0:30</td>\n",
       "      <td>22.9</td>\n",
       "    </tr>\n",
       "    <tr>\n",
       "      <th>3</th>\n",
       "      <td>1/1/2010 0:50</td>\n",
       "      <td>22.7</td>\n",
       "    </tr>\n",
       "    <tr>\n",
       "      <th>4</th>\n",
       "      <td>1/1/2010 1:00</td>\n",
       "      <td>22.6</td>\n",
       "    </tr>\n",
       "  </tbody>\n",
       "</table>\n",
       "</div>"
      ],
      "text/plain": [
       "        DATETIME  TEMPERATURE\n",
       "0  1/1/2010 0:00         23.1\n",
       "1  1/1/2010 0:01         23.1\n",
       "2  1/1/2010 0:30         22.9\n",
       "3  1/1/2010 0:50         22.7\n",
       "4  1/1/2010 1:00         22.6"
      ]
     },
     "execution_count": 102,
     "metadata": {},
     "output_type": "execute_result"
    }
   ],
   "source": [
    "#drop LOCATION column\n",
    "temperature = temperature.drop(columns=['LOCATION'])\n",
    "temperature.head()\n"
   ]
  },
  {
   "cell_type": "code",
   "execution_count": 103,
   "metadata": {},
   "outputs": [
    {
     "data": {
      "text/plain": [
       "(220326, 2)"
      ]
     },
     "execution_count": 103,
     "metadata": {},
     "output_type": "execute_result"
    }
   ],
   "source": [
    "#dimension of the data\n",
    "temperature.shape"
   ]
  },
  {
   "cell_type": "code",
   "execution_count": 104,
   "metadata": {},
   "outputs": [
    {
     "name": "stdout",
     "output_type": "stream",
     "text": [
      "DATETIME       0\n",
      "TOTALDEMAND    0\n",
      "dtype: int64\n",
      "DATETIME       0\n",
      "TEMPERATURE    0\n",
      "dtype: int64\n"
     ]
    }
   ],
   "source": [
    "#check for missing values\n",
    "print(totaldemand.isnull().sum())\n",
    "print(temperature.isnull().sum())"
   ]
  },
  {
   "cell_type": "code",
   "execution_count": 105,
   "metadata": {},
   "outputs": [
    {
     "data": {
      "text/plain": [
       "(13, 2)"
      ]
     },
     "execution_count": 105,
     "metadata": {},
     "output_type": "execute_result"
    }
   ],
   "source": [
    "#check for duplicates\n",
    "temp_duplicate = temperature[temperature.duplicated(subset='DATETIME')]\n",
    "temp_duplicate.shape"
   ]
  },
  {
   "cell_type": "code",
   "execution_count": 106,
   "metadata": {},
   "outputs": [
    {
     "data": {
      "text/html": [
       "<div>\n",
       "<style scoped>\n",
       "    .dataframe tbody tr th:only-of-type {\n",
       "        vertical-align: middle;\n",
       "    }\n",
       "\n",
       "    .dataframe tbody tr th {\n",
       "        vertical-align: top;\n",
       "    }\n",
       "\n",
       "    .dataframe thead th {\n",
       "        text-align: right;\n",
       "    }\n",
       "</style>\n",
       "<table border=\"1\" class=\"dataframe\">\n",
       "  <thead>\n",
       "    <tr style=\"text-align: right;\">\n",
       "      <th></th>\n",
       "      <th>DATETIME</th>\n",
       "      <th>TEMPERATURE</th>\n",
       "    </tr>\n",
       "  </thead>\n",
       "  <tbody>\n",
       "    <tr>\n",
       "      <th>19006</th>\n",
       "      <td>1/1/2011 0:00</td>\n",
       "      <td>21.0</td>\n",
       "    </tr>\n",
       "    <tr>\n",
       "      <th>34282</th>\n",
       "      <td>10/10/2011 10:30</td>\n",
       "      <td>18.9</td>\n",
       "    </tr>\n",
       "    <tr>\n",
       "      <th>34299</th>\n",
       "      <td>10/10/2011 18:30</td>\n",
       "      <td>16.1</td>\n",
       "    </tr>\n",
       "    <tr>\n",
       "      <th>34302</th>\n",
       "      <td>10/10/2011 19:30</td>\n",
       "      <td>15.5</td>\n",
       "    </tr>\n",
       "    <tr>\n",
       "      <th>38655</th>\n",
       "      <td>1/1/2012 0:00</td>\n",
       "      <td>15.4</td>\n",
       "    </tr>\n",
       "    <tr>\n",
       "      <th>58293</th>\n",
       "      <td>1/1/2013 0:00</td>\n",
       "      <td>21.0</td>\n",
       "    </tr>\n",
       "    <tr>\n",
       "      <th>78276</th>\n",
       "      <td>1/1/2014 0:00</td>\n",
       "      <td>20.4</td>\n",
       "    </tr>\n",
       "    <tr>\n",
       "      <th>97917</th>\n",
       "      <td>1/1/2015 0:00</td>\n",
       "      <td>20.9</td>\n",
       "    </tr>\n",
       "    <tr>\n",
       "      <th>117699</th>\n",
       "      <td>1/1/2016 0:00</td>\n",
       "      <td>16.9</td>\n",
       "    </tr>\n",
       "    <tr>\n",
       "      <th>137200</th>\n",
       "      <td>1/1/2017 0:00</td>\n",
       "      <td>22.6</td>\n",
       "    </tr>\n",
       "    <tr>\n",
       "      <th>157015</th>\n",
       "      <td>1/1/2018 0:00</td>\n",
       "      <td>22.4</td>\n",
       "    </tr>\n",
       "    <tr>\n",
       "      <th>176797</th>\n",
       "      <td>1/1/2019 0:00</td>\n",
       "      <td>22.3</td>\n",
       "    </tr>\n",
       "    <tr>\n",
       "      <th>196230</th>\n",
       "      <td>1/1/2020 0:00</td>\n",
       "      <td>19.4</td>\n",
       "    </tr>\n",
       "  </tbody>\n",
       "</table>\n",
       "</div>"
      ],
      "text/plain": [
       "                DATETIME  TEMPERATURE\n",
       "19006      1/1/2011 0:00         21.0\n",
       "34282   10/10/2011 10:30         18.9\n",
       "34299   10/10/2011 18:30         16.1\n",
       "34302   10/10/2011 19:30         15.5\n",
       "38655      1/1/2012 0:00         15.4\n",
       "58293      1/1/2013 0:00         21.0\n",
       "78276      1/1/2014 0:00         20.4\n",
       "97917      1/1/2015 0:00         20.9\n",
       "117699     1/1/2016 0:00         16.9\n",
       "137200     1/1/2017 0:00         22.6\n",
       "157015     1/1/2018 0:00         22.4\n",
       "176797     1/1/2019 0:00         22.3\n",
       "196230     1/1/2020 0:00         19.4"
      ]
     },
     "execution_count": 106,
     "metadata": {},
     "output_type": "execute_result"
    }
   ],
   "source": [
    "temp_duplicate"
   ]
  },
  {
   "cell_type": "code",
   "execution_count": 107,
   "metadata": {},
   "outputs": [
    {
     "data": {
      "text/html": [
       "<div>\n",
       "<style scoped>\n",
       "    .dataframe tbody tr th:only-of-type {\n",
       "        vertical-align: middle;\n",
       "    }\n",
       "\n",
       "    .dataframe tbody tr th {\n",
       "        vertical-align: top;\n",
       "    }\n",
       "\n",
       "    .dataframe thead th {\n",
       "        text-align: right;\n",
       "    }\n",
       "</style>\n",
       "<table border=\"1\" class=\"dataframe\">\n",
       "  <thead>\n",
       "    <tr style=\"text-align: right;\">\n",
       "      <th></th>\n",
       "      <th>DATETIME</th>\n",
       "      <th>TEMPERATURE</th>\n",
       "    </tr>\n",
       "  </thead>\n",
       "  <tbody>\n",
       "    <tr>\n",
       "      <th>19005</th>\n",
       "      <td>1/1/2011 0:00</td>\n",
       "      <td>21.0</td>\n",
       "    </tr>\n",
       "    <tr>\n",
       "      <th>19006</th>\n",
       "      <td>1/1/2011 0:00</td>\n",
       "      <td>21.0</td>\n",
       "    </tr>\n",
       "    <tr>\n",
       "      <th>34281</th>\n",
       "      <td>10/10/2011 10:30</td>\n",
       "      <td>18.9</td>\n",
       "    </tr>\n",
       "    <tr>\n",
       "      <th>34282</th>\n",
       "      <td>10/10/2011 10:30</td>\n",
       "      <td>18.9</td>\n",
       "    </tr>\n",
       "    <tr>\n",
       "      <th>34298</th>\n",
       "      <td>10/10/2011 18:30</td>\n",
       "      <td>16.1</td>\n",
       "    </tr>\n",
       "    <tr>\n",
       "      <th>34299</th>\n",
       "      <td>10/10/2011 18:30</td>\n",
       "      <td>16.1</td>\n",
       "    </tr>\n",
       "    <tr>\n",
       "      <th>34301</th>\n",
       "      <td>10/10/2011 19:30</td>\n",
       "      <td>15.5</td>\n",
       "    </tr>\n",
       "    <tr>\n",
       "      <th>34302</th>\n",
       "      <td>10/10/2011 19:30</td>\n",
       "      <td>15.5</td>\n",
       "    </tr>\n",
       "    <tr>\n",
       "      <th>38654</th>\n",
       "      <td>1/1/2012 0:00</td>\n",
       "      <td>15.4</td>\n",
       "    </tr>\n",
       "    <tr>\n",
       "      <th>38655</th>\n",
       "      <td>1/1/2012 0:00</td>\n",
       "      <td>15.4</td>\n",
       "    </tr>\n",
       "    <tr>\n",
       "      <th>58292</th>\n",
       "      <td>1/1/2013 0:00</td>\n",
       "      <td>21.0</td>\n",
       "    </tr>\n",
       "    <tr>\n",
       "      <th>58293</th>\n",
       "      <td>1/1/2013 0:00</td>\n",
       "      <td>21.0</td>\n",
       "    </tr>\n",
       "    <tr>\n",
       "      <th>78275</th>\n",
       "      <td>1/1/2014 0:00</td>\n",
       "      <td>20.4</td>\n",
       "    </tr>\n",
       "    <tr>\n",
       "      <th>78276</th>\n",
       "      <td>1/1/2014 0:00</td>\n",
       "      <td>20.4</td>\n",
       "    </tr>\n",
       "    <tr>\n",
       "      <th>97916</th>\n",
       "      <td>1/1/2015 0:00</td>\n",
       "      <td>20.9</td>\n",
       "    </tr>\n",
       "    <tr>\n",
       "      <th>97917</th>\n",
       "      <td>1/1/2015 0:00</td>\n",
       "      <td>20.9</td>\n",
       "    </tr>\n",
       "    <tr>\n",
       "      <th>117698</th>\n",
       "      <td>1/1/2016 0:00</td>\n",
       "      <td>16.9</td>\n",
       "    </tr>\n",
       "    <tr>\n",
       "      <th>117699</th>\n",
       "      <td>1/1/2016 0:00</td>\n",
       "      <td>16.9</td>\n",
       "    </tr>\n",
       "    <tr>\n",
       "      <th>137199</th>\n",
       "      <td>1/1/2017 0:00</td>\n",
       "      <td>22.6</td>\n",
       "    </tr>\n",
       "    <tr>\n",
       "      <th>137200</th>\n",
       "      <td>1/1/2017 0:00</td>\n",
       "      <td>22.6</td>\n",
       "    </tr>\n",
       "    <tr>\n",
       "      <th>157014</th>\n",
       "      <td>1/1/2018 0:00</td>\n",
       "      <td>22.4</td>\n",
       "    </tr>\n",
       "    <tr>\n",
       "      <th>157015</th>\n",
       "      <td>1/1/2018 0:00</td>\n",
       "      <td>22.4</td>\n",
       "    </tr>\n",
       "    <tr>\n",
       "      <th>176796</th>\n",
       "      <td>1/1/2019 0:00</td>\n",
       "      <td>22.3</td>\n",
       "    </tr>\n",
       "    <tr>\n",
       "      <th>176797</th>\n",
       "      <td>1/1/2019 0:00</td>\n",
       "      <td>22.3</td>\n",
       "    </tr>\n",
       "    <tr>\n",
       "      <th>196229</th>\n",
       "      <td>1/1/2020 0:00</td>\n",
       "      <td>19.4</td>\n",
       "    </tr>\n",
       "    <tr>\n",
       "      <th>196230</th>\n",
       "      <td>1/1/2020 0:00</td>\n",
       "      <td>19.4</td>\n",
       "    </tr>\n",
       "  </tbody>\n",
       "</table>\n",
       "</div>"
      ],
      "text/plain": [
       "                DATETIME  TEMPERATURE\n",
       "19005      1/1/2011 0:00         21.0\n",
       "19006      1/1/2011 0:00         21.0\n",
       "34281   10/10/2011 10:30         18.9\n",
       "34282   10/10/2011 10:30         18.9\n",
       "34298   10/10/2011 18:30         16.1\n",
       "34299   10/10/2011 18:30         16.1\n",
       "34301   10/10/2011 19:30         15.5\n",
       "34302   10/10/2011 19:30         15.5\n",
       "38654      1/1/2012 0:00         15.4\n",
       "38655      1/1/2012 0:00         15.4\n",
       "58292      1/1/2013 0:00         21.0\n",
       "58293      1/1/2013 0:00         21.0\n",
       "78275      1/1/2014 0:00         20.4\n",
       "78276      1/1/2014 0:00         20.4\n",
       "97916      1/1/2015 0:00         20.9\n",
       "97917      1/1/2015 0:00         20.9\n",
       "117698     1/1/2016 0:00         16.9\n",
       "117699     1/1/2016 0:00         16.9\n",
       "137199     1/1/2017 0:00         22.6\n",
       "137200     1/1/2017 0:00         22.6\n",
       "157014     1/1/2018 0:00         22.4\n",
       "157015     1/1/2018 0:00         22.4\n",
       "176796     1/1/2019 0:00         22.3\n",
       "176797     1/1/2019 0:00         22.3\n",
       "196229     1/1/2020 0:00         19.4\n",
       "196230     1/1/2020 0:00         19.4"
      ]
     },
     "execution_count": 107,
     "metadata": {},
     "output_type": "execute_result"
    }
   ],
   "source": [
    "#show all the duplicates rows\n",
    "temperature[temperature.duplicated(subset='DATETIME', keep=False)]\n"
   ]
  },
  {
   "cell_type": "code",
   "execution_count": 108,
   "metadata": {},
   "outputs": [
    {
     "data": {
      "text/plain": [
       "(220326, 2)"
      ]
     },
     "execution_count": 108,
     "metadata": {},
     "output_type": "execute_result"
    }
   ],
   "source": [
    "temperature.shape"
   ]
  },
  {
   "cell_type": "code",
   "execution_count": 109,
   "metadata": {},
   "outputs": [
    {
     "data": {
      "text/plain": [
       "(220313, 2)"
      ]
     },
     "execution_count": 109,
     "metadata": {},
     "output_type": "execute_result"
    }
   ],
   "source": [
    "#drop duplicates\n",
    "temperature = temperature.drop_duplicates(subset='DATETIME')\n",
    "temperature.shape"
   ]
  },
  {
   "cell_type": "markdown",
   "metadata": {},
   "source": [
    "### Merge temperature and demand "
   ]
  },
  {
   "cell_type": "code",
   "execution_count": 110,
   "metadata": {},
   "outputs": [
    {
     "data": {
      "text/html": [
       "<div>\n",
       "<style scoped>\n",
       "    .dataframe tbody tr th:only-of-type {\n",
       "        vertical-align: middle;\n",
       "    }\n",
       "\n",
       "    .dataframe tbody tr th {\n",
       "        vertical-align: top;\n",
       "    }\n",
       "\n",
       "    .dataframe thead th {\n",
       "        text-align: right;\n",
       "    }\n",
       "</style>\n",
       "<table border=\"1\" class=\"dataframe\">\n",
       "  <thead>\n",
       "    <tr style=\"text-align: right;\">\n",
       "      <th></th>\n",
       "      <th>DATETIME</th>\n",
       "      <th>TOTALDEMAND</th>\n",
       "      <th>TEMPERATURE</th>\n",
       "    </tr>\n",
       "  </thead>\n",
       "  <tbody>\n",
       "    <tr>\n",
       "      <th>0</th>\n",
       "      <td>1/1/2010 0:00</td>\n",
       "      <td>8038.00</td>\n",
       "      <td>23.1</td>\n",
       "    </tr>\n",
       "    <tr>\n",
       "      <th>1</th>\n",
       "      <td>1/1/2010 0:30</td>\n",
       "      <td>7809.31</td>\n",
       "      <td>22.9</td>\n",
       "    </tr>\n",
       "    <tr>\n",
       "      <th>2</th>\n",
       "      <td>1/1/2010 1:00</td>\n",
       "      <td>7483.69</td>\n",
       "      <td>22.6</td>\n",
       "    </tr>\n",
       "    <tr>\n",
       "      <th>3</th>\n",
       "      <td>1/1/2010 1:30</td>\n",
       "      <td>7117.23</td>\n",
       "      <td>22.5</td>\n",
       "    </tr>\n",
       "    <tr>\n",
       "      <th>4</th>\n",
       "      <td>1/1/2010 2:00</td>\n",
       "      <td>6812.03</td>\n",
       "      <td>22.5</td>\n",
       "    </tr>\n",
       "  </tbody>\n",
       "</table>\n",
       "</div>"
      ],
      "text/plain": [
       "        DATETIME  TOTALDEMAND  TEMPERATURE\n",
       "0  1/1/2010 0:00      8038.00         23.1\n",
       "1  1/1/2010 0:30      7809.31         22.9\n",
       "2  1/1/2010 1:00      7483.69         22.6\n",
       "3  1/1/2010 1:30      7117.23         22.5\n",
       "4  1/1/2010 2:00      6812.03         22.5"
      ]
     },
     "execution_count": 110,
     "metadata": {},
     "output_type": "execute_result"
    }
   ],
   "source": [
    "#join the two dataframes on the DATETIME column\n",
    "data = pd.merge(totaldemand, temperature, on='DATETIME')\n",
    "data.head()\n"
   ]
  },
  {
   "cell_type": "code",
   "execution_count": 111,
   "metadata": {},
   "outputs": [
    {
     "data": {
      "text/plain": [
       "(195934, 3)"
      ]
     },
     "execution_count": 111,
     "metadata": {},
     "output_type": "execute_result"
    }
   ],
   "source": [
    "data.shape"
   ]
  },
  {
   "cell_type": "code",
   "execution_count": 112,
   "metadata": {},
   "outputs": [
    {
     "data": {
      "text/plain": [
       "DATETIME       0\n",
       "TOTALDEMAND    0\n",
       "TEMPERATURE    0\n",
       "dtype: int64"
      ]
     },
     "execution_count": 112,
     "metadata": {},
     "output_type": "execute_result"
    }
   ],
   "source": [
    "data.isna().sum()"
   ]
  },
  {
   "cell_type": "code",
   "execution_count": 113,
   "metadata": {},
   "outputs": [
    {
     "data": {
      "text/plain": [
       "(0, 3)"
      ]
     },
     "execution_count": 113,
     "metadata": {},
     "output_type": "execute_result"
    }
   ],
   "source": [
    "#check for duplicates\n",
    "data_duplicate = data[data.duplicated(subset='DATETIME')]\n",
    "data_duplicate.shape\n"
   ]
  },
  {
   "cell_type": "code",
   "execution_count": 114,
   "metadata": {},
   "outputs": [
    {
     "data": {
      "text/html": [
       "<div>\n",
       "<style scoped>\n",
       "    .dataframe tbody tr th:only-of-type {\n",
       "        vertical-align: middle;\n",
       "    }\n",
       "\n",
       "    .dataframe tbody tr th {\n",
       "        vertical-align: top;\n",
       "    }\n",
       "\n",
       "    .dataframe thead th {\n",
       "        text-align: right;\n",
       "    }\n",
       "</style>\n",
       "<table border=\"1\" class=\"dataframe\">\n",
       "  <thead>\n",
       "    <tr style=\"text-align: right;\">\n",
       "      <th></th>\n",
       "      <th>DATETIME</th>\n",
       "      <th>TOTALDEMAND</th>\n",
       "      <th>TEMPERATURE</th>\n",
       "      <th>SEASON</th>\n",
       "    </tr>\n",
       "  </thead>\n",
       "  <tbody>\n",
       "    <tr>\n",
       "      <th>0</th>\n",
       "      <td>2010-01-01 00:00:00</td>\n",
       "      <td>8038.00</td>\n",
       "      <td>23.1</td>\n",
       "      <td>Summer</td>\n",
       "    </tr>\n",
       "    <tr>\n",
       "      <th>1</th>\n",
       "      <td>2010-01-01 00:30:00</td>\n",
       "      <td>7809.31</td>\n",
       "      <td>22.9</td>\n",
       "      <td>Summer</td>\n",
       "    </tr>\n",
       "    <tr>\n",
       "      <th>2</th>\n",
       "      <td>2010-01-01 01:00:00</td>\n",
       "      <td>7483.69</td>\n",
       "      <td>22.6</td>\n",
       "      <td>Summer</td>\n",
       "    </tr>\n",
       "    <tr>\n",
       "      <th>3</th>\n",
       "      <td>2010-01-01 01:30:00</td>\n",
       "      <td>7117.23</td>\n",
       "      <td>22.5</td>\n",
       "      <td>Summer</td>\n",
       "    </tr>\n",
       "    <tr>\n",
       "      <th>4</th>\n",
       "      <td>2010-01-01 02:00:00</td>\n",
       "      <td>6812.03</td>\n",
       "      <td>22.5</td>\n",
       "      <td>Summer</td>\n",
       "    </tr>\n",
       "  </tbody>\n",
       "</table>\n",
       "</div>"
      ],
      "text/plain": [
       "             DATETIME  TOTALDEMAND  TEMPERATURE  SEASON\n",
       "0 2010-01-01 00:00:00      8038.00         23.1  Summer\n",
       "1 2010-01-01 00:30:00      7809.31         22.9  Summer\n",
       "2 2010-01-01 01:00:00      7483.69         22.6  Summer\n",
       "3 2010-01-01 01:30:00      7117.23         22.5  Summer\n",
       "4 2010-01-01 02:00:00      6812.03         22.5  Summer"
      ]
     },
     "execution_count": 114,
     "metadata": {},
     "output_type": "execute_result"
    }
   ],
   "source": [
    "#create a new column 'SEASON' based on the month\n",
    "data['DATETIME'] = pd.to_datetime(data['DATETIME'], format='%d/%m/%Y %H:%M')\n",
    "data['SEASON'] = data['DATETIME'].dt.month\n",
    "data['SEASON'] = data['SEASON'].apply(lambda x: 'Summer' if x in [12, 1, 2] else ('Autumn' if x in [3, 4, 5] else ('Winter' if x in [6, 7, 8] else 'Spring')))\n",
    "data.head()\n"
   ]
  },
  {
   "cell_type": "code",
   "execution_count": 115,
   "metadata": {},
   "outputs": [
    {
     "data": {
      "text/html": [
       "<div>\n",
       "<style scoped>\n",
       "    .dataframe tbody tr th:only-of-type {\n",
       "        vertical-align: middle;\n",
       "    }\n",
       "\n",
       "    .dataframe tbody tr th {\n",
       "        vertical-align: top;\n",
       "    }\n",
       "\n",
       "    .dataframe thead th {\n",
       "        text-align: right;\n",
       "    }\n",
       "</style>\n",
       "<table border=\"1\" class=\"dataframe\">\n",
       "  <thead>\n",
       "    <tr style=\"text-align: right;\">\n",
       "      <th></th>\n",
       "      <th>DATETIME</th>\n",
       "      <th>TOTALDEMAND</th>\n",
       "      <th>TEMPERATURE</th>\n",
       "      <th>SEASON</th>\n",
       "      <th>WEEKDAY</th>\n",
       "    </tr>\n",
       "  </thead>\n",
       "  <tbody>\n",
       "    <tr>\n",
       "      <th>0</th>\n",
       "      <td>2010-01-01 00:00:00</td>\n",
       "      <td>8038.00</td>\n",
       "      <td>23.1</td>\n",
       "      <td>Summer</td>\n",
       "      <td>Friday</td>\n",
       "    </tr>\n",
       "    <tr>\n",
       "      <th>1</th>\n",
       "      <td>2010-01-01 00:30:00</td>\n",
       "      <td>7809.31</td>\n",
       "      <td>22.9</td>\n",
       "      <td>Summer</td>\n",
       "      <td>Friday</td>\n",
       "    </tr>\n",
       "    <tr>\n",
       "      <th>2</th>\n",
       "      <td>2010-01-01 01:00:00</td>\n",
       "      <td>7483.69</td>\n",
       "      <td>22.6</td>\n",
       "      <td>Summer</td>\n",
       "      <td>Friday</td>\n",
       "    </tr>\n",
       "    <tr>\n",
       "      <th>3</th>\n",
       "      <td>2010-01-01 01:30:00</td>\n",
       "      <td>7117.23</td>\n",
       "      <td>22.5</td>\n",
       "      <td>Summer</td>\n",
       "      <td>Friday</td>\n",
       "    </tr>\n",
       "    <tr>\n",
       "      <th>4</th>\n",
       "      <td>2010-01-01 02:00:00</td>\n",
       "      <td>6812.03</td>\n",
       "      <td>22.5</td>\n",
       "      <td>Summer</td>\n",
       "      <td>Friday</td>\n",
       "    </tr>\n",
       "  </tbody>\n",
       "</table>\n",
       "</div>"
      ],
      "text/plain": [
       "             DATETIME  TOTALDEMAND  TEMPERATURE  SEASON WEEKDAY\n",
       "0 2010-01-01 00:00:00      8038.00         23.1  Summer  Friday\n",
       "1 2010-01-01 00:30:00      7809.31         22.9  Summer  Friday\n",
       "2 2010-01-01 01:00:00      7483.69         22.6  Summer  Friday\n",
       "3 2010-01-01 01:30:00      7117.23         22.5  Summer  Friday\n",
       "4 2010-01-01 02:00:00      6812.03         22.5  Summer  Friday"
      ]
     },
     "execution_count": 115,
     "metadata": {},
     "output_type": "execute_result"
    }
   ],
   "source": [
    "#create a new column 'Weekday' based on the day of the week \n",
    "data['WEEKDAY'] = data['DATETIME'].dt.day_name()\n",
    "data.head()\n"
   ]
  },
  {
   "cell_type": "code",
   "execution_count": 116,
   "metadata": {},
   "outputs": [],
   "source": [
    "#export the data to a new csv file\n",
    "data.to_csv('../data/totaldemand_temperature_nsw.csv', index=False)\n"
   ]
  },
  {
   "cell_type": "code",
   "execution_count": 117,
   "metadata": {},
   "outputs": [],
   "source": [
    "#export the data to a new zip file\n",
    "data.to_csv('../data/totaldemand_temperature_nsw.zip', index=False, compression='zip')\n"
   ]
  },
  {
   "cell_type": "markdown",
   "metadata": {},
   "source": [
    "Combining temperature and demand data with holiday data"
   ]
  },
  {
   "cell_type": "code",
   "execution_count": 118,
   "metadata": {},
   "outputs": [
    {
     "data": {
      "text/html": [
       "<div>\n",
       "<style scoped>\n",
       "    .dataframe tbody tr th:only-of-type {\n",
       "        vertical-align: middle;\n",
       "    }\n",
       "\n",
       "    .dataframe tbody tr th {\n",
       "        vertical-align: top;\n",
       "    }\n",
       "\n",
       "    .dataframe thead th {\n",
       "        text-align: right;\n",
       "    }\n",
       "</style>\n",
       "<table border=\"1\" class=\"dataframe\">\n",
       "  <thead>\n",
       "    <tr style=\"text-align: right;\">\n",
       "      <th></th>\n",
       "      <th>Unnamed: 0</th>\n",
       "      <th>Calendar_Date</th>\n",
       "      <th>DayOfWeek</th>\n",
       "      <th>Week</th>\n",
       "      <th>Quarter</th>\n",
       "      <th>Month</th>\n",
       "      <th>Year</th>\n",
       "      <th>Year_half</th>\n",
       "      <th>Summer</th>\n",
       "      <th>Autumn</th>\n",
       "      <th>Winter</th>\n",
       "      <th>Spring</th>\n",
       "      <th>is_weekday</th>\n",
       "      <th>Description</th>\n",
       "      <th>is_holiday</th>\n",
       "    </tr>\n",
       "  </thead>\n",
       "  <tbody>\n",
       "    <tr>\n",
       "      <th>0</th>\n",
       "      <td>0</td>\n",
       "      <td>2014-01-01</td>\n",
       "      <td>3</td>\n",
       "      <td>1</td>\n",
       "      <td>1</td>\n",
       "      <td>1</td>\n",
       "      <td>2014</td>\n",
       "      <td>1</td>\n",
       "      <td>1</td>\n",
       "      <td>0</td>\n",
       "      <td>0</td>\n",
       "      <td>0</td>\n",
       "      <td>1</td>\n",
       "      <td>New Year's Day</td>\n",
       "      <td>1</td>\n",
       "    </tr>\n",
       "    <tr>\n",
       "      <th>1</th>\n",
       "      <td>1</td>\n",
       "      <td>2014-01-02</td>\n",
       "      <td>4</td>\n",
       "      <td>1</td>\n",
       "      <td>1</td>\n",
       "      <td>1</td>\n",
       "      <td>2014</td>\n",
       "      <td>1</td>\n",
       "      <td>1</td>\n",
       "      <td>0</td>\n",
       "      <td>0</td>\n",
       "      <td>0</td>\n",
       "      <td>1</td>\n",
       "      <td>NaN</td>\n",
       "      <td>0</td>\n",
       "    </tr>\n",
       "    <tr>\n",
       "      <th>2</th>\n",
       "      <td>2</td>\n",
       "      <td>2014-01-03</td>\n",
       "      <td>5</td>\n",
       "      <td>1</td>\n",
       "      <td>1</td>\n",
       "      <td>1</td>\n",
       "      <td>2014</td>\n",
       "      <td>1</td>\n",
       "      <td>1</td>\n",
       "      <td>0</td>\n",
       "      <td>0</td>\n",
       "      <td>0</td>\n",
       "      <td>1</td>\n",
       "      <td>NaN</td>\n",
       "      <td>0</td>\n",
       "    </tr>\n",
       "    <tr>\n",
       "      <th>3</th>\n",
       "      <td>3</td>\n",
       "      <td>2014-01-04</td>\n",
       "      <td>6</td>\n",
       "      <td>1</td>\n",
       "      <td>1</td>\n",
       "      <td>1</td>\n",
       "      <td>2014</td>\n",
       "      <td>1</td>\n",
       "      <td>1</td>\n",
       "      <td>0</td>\n",
       "      <td>0</td>\n",
       "      <td>0</td>\n",
       "      <td>0</td>\n",
       "      <td>NaN</td>\n",
       "      <td>0</td>\n",
       "    </tr>\n",
       "    <tr>\n",
       "      <th>4</th>\n",
       "      <td>4</td>\n",
       "      <td>2014-01-05</td>\n",
       "      <td>7</td>\n",
       "      <td>1</td>\n",
       "      <td>1</td>\n",
       "      <td>1</td>\n",
       "      <td>2014</td>\n",
       "      <td>1</td>\n",
       "      <td>1</td>\n",
       "      <td>0</td>\n",
       "      <td>0</td>\n",
       "      <td>0</td>\n",
       "      <td>0</td>\n",
       "      <td>NaN</td>\n",
       "      <td>0</td>\n",
       "    </tr>\n",
       "  </tbody>\n",
       "</table>\n",
       "</div>"
      ],
      "text/plain": [
       "   Unnamed: 0 Calendar_Date  DayOfWeek  Week  Quarter  Month  Year  Year_half  \\\n",
       "0           0    2014-01-01          3     1        1      1  2014          1   \n",
       "1           1    2014-01-02          4     1        1      1  2014          1   \n",
       "2           2    2014-01-03          5     1        1      1  2014          1   \n",
       "3           3    2014-01-04          6     1        1      1  2014          1   \n",
       "4           4    2014-01-05          7     1        1      1  2014          1   \n",
       "\n",
       "   Summer  Autumn  Winter  Spring  is_weekday     Description  is_holiday  \n",
       "0       1       0       0       0           1  New Year's Day           1  \n",
       "1       1       0       0       0           1             NaN           0  \n",
       "2       1       0       0       0           1             NaN           0  \n",
       "3       1       0       0       0           0             NaN           0  \n",
       "4       1       0       0       0           0             NaN           0  "
      ]
     },
     "execution_count": 118,
     "metadata": {},
     "output_type": "execute_result"
    }
   ],
   "source": [
    "#read the data from the csv file\n",
    "datedata = pd.read_csv('../data/date_dim.csv')\n",
    "datedata.head()"
   ]
  },
  {
   "cell_type": "code",
   "execution_count": 119,
   "metadata": {},
   "outputs": [
    {
     "data": {
      "text/html": [
       "<div>\n",
       "<style scoped>\n",
       "    .dataframe tbody tr th:only-of-type {\n",
       "        vertical-align: middle;\n",
       "    }\n",
       "\n",
       "    .dataframe tbody tr th {\n",
       "        vertical-align: top;\n",
       "    }\n",
       "\n",
       "    .dataframe thead th {\n",
       "        text-align: right;\n",
       "    }\n",
       "</style>\n",
       "<table border=\"1\" class=\"dataframe\">\n",
       "  <thead>\n",
       "    <tr style=\"text-align: right;\">\n",
       "      <th></th>\n",
       "      <th>Calendar_Date</th>\n",
       "      <th>DayOfWeek</th>\n",
       "      <th>Summer</th>\n",
       "      <th>Autumn</th>\n",
       "      <th>Winter</th>\n",
       "      <th>Spring</th>\n",
       "      <th>is_weekday</th>\n",
       "      <th>is_holiday</th>\n",
       "    </tr>\n",
       "  </thead>\n",
       "  <tbody>\n",
       "    <tr>\n",
       "      <th>0</th>\n",
       "      <td>2014-01-01</td>\n",
       "      <td>3</td>\n",
       "      <td>1</td>\n",
       "      <td>0</td>\n",
       "      <td>0</td>\n",
       "      <td>0</td>\n",
       "      <td>1</td>\n",
       "      <td>1</td>\n",
       "    </tr>\n",
       "    <tr>\n",
       "      <th>1</th>\n",
       "      <td>2014-01-02</td>\n",
       "      <td>4</td>\n",
       "      <td>1</td>\n",
       "      <td>0</td>\n",
       "      <td>0</td>\n",
       "      <td>0</td>\n",
       "      <td>1</td>\n",
       "      <td>0</td>\n",
       "    </tr>\n",
       "    <tr>\n",
       "      <th>2</th>\n",
       "      <td>2014-01-03</td>\n",
       "      <td>5</td>\n",
       "      <td>1</td>\n",
       "      <td>0</td>\n",
       "      <td>0</td>\n",
       "      <td>0</td>\n",
       "      <td>1</td>\n",
       "      <td>0</td>\n",
       "    </tr>\n",
       "    <tr>\n",
       "      <th>3</th>\n",
       "      <td>2014-01-04</td>\n",
       "      <td>6</td>\n",
       "      <td>1</td>\n",
       "      <td>0</td>\n",
       "      <td>0</td>\n",
       "      <td>0</td>\n",
       "      <td>0</td>\n",
       "      <td>0</td>\n",
       "    </tr>\n",
       "    <tr>\n",
       "      <th>4</th>\n",
       "      <td>2014-01-05</td>\n",
       "      <td>7</td>\n",
       "      <td>1</td>\n",
       "      <td>0</td>\n",
       "      <td>0</td>\n",
       "      <td>0</td>\n",
       "      <td>0</td>\n",
       "      <td>0</td>\n",
       "    </tr>\n",
       "  </tbody>\n",
       "</table>\n",
       "</div>"
      ],
      "text/plain": [
       "  Calendar_Date  DayOfWeek  Summer  Autumn  Winter  Spring  is_weekday  \\\n",
       "0    2014-01-01          3       1       0       0       0           1   \n",
       "1    2014-01-02          4       1       0       0       0           1   \n",
       "2    2014-01-03          5       1       0       0       0           1   \n",
       "3    2014-01-04          6       1       0       0       0           0   \n",
       "4    2014-01-05          7       1       0       0       0           0   \n",
       "\n",
       "   is_holiday  \n",
       "0           1  \n",
       "1           0  \n",
       "2           0  \n",
       "3           0  \n",
       "4           0  "
      ]
     },
     "execution_count": 119,
     "metadata": {},
     "output_type": "execute_result"
    }
   ],
   "source": [
    "#copy the data to a new dataframe with calender_date, DayOfWeek, Summer, Autumn, Winter, Spring, is_weekday, is_holiday columns\n",
    "new_date_data = datedata.copy()\n",
    "#drop the columns not needed\n",
    "new_date_data = new_date_data.drop(columns=['Unnamed: 0','Week', 'Quarter', 'Month', 'Year', 'Year_half', 'Description'])\n",
    "new_date_data.head()"
   ]
  },
  {
   "cell_type": "code",
   "execution_count": 124,
   "metadata": {},
   "outputs": [
    {
     "data": {
      "text/html": [
       "<div>\n",
       "<style scoped>\n",
       "    .dataframe tbody tr th:only-of-type {\n",
       "        vertical-align: middle;\n",
       "    }\n",
       "\n",
       "    .dataframe tbody tr th {\n",
       "        vertical-align: top;\n",
       "    }\n",
       "\n",
       "    .dataframe thead th {\n",
       "        text-align: right;\n",
       "    }\n",
       "</style>\n",
       "<table border=\"1\" class=\"dataframe\">\n",
       "  <thead>\n",
       "    <tr style=\"text-align: right;\">\n",
       "      <th></th>\n",
       "      <th>Calendar_Date</th>\n",
       "      <th>DayOfWeek</th>\n",
       "      <th>Summer</th>\n",
       "      <th>Autumn</th>\n",
       "      <th>Winter</th>\n",
       "      <th>Spring</th>\n",
       "      <th>is_weekday</th>\n",
       "      <th>is_holiday</th>\n",
       "    </tr>\n",
       "  </thead>\n",
       "  <tbody>\n",
       "    <tr>\n",
       "      <th>358</th>\n",
       "      <td>2014-12-25</td>\n",
       "      <td>4</td>\n",
       "      <td>1</td>\n",
       "      <td>0</td>\n",
       "      <td>0</td>\n",
       "      <td>0</td>\n",
       "      <td>1</td>\n",
       "      <td>1</td>\n",
       "    </tr>\n",
       "  </tbody>\n",
       "</table>\n",
       "</div>"
      ],
      "text/plain": [
       "    Calendar_Date  DayOfWeek  Summer  Autumn  Winter  Spring  is_weekday  \\\n",
       "358    2014-12-25          4       1       0       0       0           1   \n",
       "\n",
       "     is_holiday  \n",
       "358           1  "
      ]
     },
     "execution_count": 124,
     "metadata": {},
     "output_type": "execute_result"
    }
   ],
   "source": [
    "new_date_data[new_date_data['Calendar_Date'] == '2014-12-25']\n"
   ]
  },
  {
   "cell_type": "code",
   "execution_count": 125,
   "metadata": {},
   "outputs": [
    {
     "data": {
      "text/html": [
       "<div>\n",
       "<style scoped>\n",
       "    .dataframe tbody tr th:only-of-type {\n",
       "        vertical-align: middle;\n",
       "    }\n",
       "\n",
       "    .dataframe tbody tr th {\n",
       "        vertical-align: top;\n",
       "    }\n",
       "\n",
       "    .dataframe thead th {\n",
       "        text-align: right;\n",
       "    }\n",
       "</style>\n",
       "<table border=\"1\" class=\"dataframe\">\n",
       "  <thead>\n",
       "    <tr style=\"text-align: right;\">\n",
       "      <th></th>\n",
       "      <th>DATE</th>\n",
       "      <th>DayOfWeek</th>\n",
       "      <th>Summer</th>\n",
       "      <th>Autumn</th>\n",
       "      <th>Winter</th>\n",
       "      <th>Spring</th>\n",
       "      <th>is_weekday</th>\n",
       "      <th>is_holiday</th>\n",
       "    </tr>\n",
       "  </thead>\n",
       "  <tbody>\n",
       "    <tr>\n",
       "      <th>0</th>\n",
       "      <td>2014-01-01</td>\n",
       "      <td>3</td>\n",
       "      <td>1</td>\n",
       "      <td>0</td>\n",
       "      <td>0</td>\n",
       "      <td>0</td>\n",
       "      <td>1</td>\n",
       "      <td>1</td>\n",
       "    </tr>\n",
       "    <tr>\n",
       "      <th>1</th>\n",
       "      <td>2014-01-02</td>\n",
       "      <td>4</td>\n",
       "      <td>1</td>\n",
       "      <td>0</td>\n",
       "      <td>0</td>\n",
       "      <td>0</td>\n",
       "      <td>1</td>\n",
       "      <td>0</td>\n",
       "    </tr>\n",
       "    <tr>\n",
       "      <th>2</th>\n",
       "      <td>2014-01-03</td>\n",
       "      <td>5</td>\n",
       "      <td>1</td>\n",
       "      <td>0</td>\n",
       "      <td>0</td>\n",
       "      <td>0</td>\n",
       "      <td>1</td>\n",
       "      <td>0</td>\n",
       "    </tr>\n",
       "    <tr>\n",
       "      <th>3</th>\n",
       "      <td>2014-01-04</td>\n",
       "      <td>6</td>\n",
       "      <td>1</td>\n",
       "      <td>0</td>\n",
       "      <td>0</td>\n",
       "      <td>0</td>\n",
       "      <td>0</td>\n",
       "      <td>0</td>\n",
       "    </tr>\n",
       "    <tr>\n",
       "      <th>4</th>\n",
       "      <td>2014-01-05</td>\n",
       "      <td>7</td>\n",
       "      <td>1</td>\n",
       "      <td>0</td>\n",
       "      <td>0</td>\n",
       "      <td>0</td>\n",
       "      <td>0</td>\n",
       "      <td>0</td>\n",
       "    </tr>\n",
       "  </tbody>\n",
       "</table>\n",
       "</div>"
      ],
      "text/plain": [
       "         DATE  DayOfWeek  Summer  Autumn  Winter  Spring  is_weekday  \\\n",
       "0  2014-01-01          3       1       0       0       0           1   \n",
       "1  2014-01-02          4       1       0       0       0           1   \n",
       "2  2014-01-03          5       1       0       0       0           1   \n",
       "3  2014-01-04          6       1       0       0       0           0   \n",
       "4  2014-01-05          7       1       0       0       0           0   \n",
       "\n",
       "   is_holiday  \n",
       "0           1  \n",
       "1           0  \n",
       "2           0  \n",
       "3           0  \n",
       "4           0  "
      ]
     },
     "execution_count": 125,
     "metadata": {},
     "output_type": "execute_result"
    }
   ],
   "source": [
    "#remane one column\n",
    "new_date_data = new_date_data.rename(columns={'Calendar_Date': 'DATE'})\n",
    "new_date_data.head()\n"
   ]
  },
  {
   "cell_type": "code",
   "execution_count": 126,
   "metadata": {},
   "outputs": [
    {
     "data": {
      "text/plain": [
       "DATE          0\n",
       "DayOfWeek     0\n",
       "Summer        0\n",
       "Autumn        0\n",
       "Winter        0\n",
       "Spring        0\n",
       "is_weekday    0\n",
       "is_holiday    0\n",
       "dtype: int64"
      ]
     },
     "execution_count": 126,
     "metadata": {},
     "output_type": "execute_result"
    }
   ],
   "source": [
    "new_date_data.isna().sum() "
   ]
  },
  {
   "cell_type": "code",
   "execution_count": 127,
   "metadata": {},
   "outputs": [
    {
     "data": {
      "text/plain": [
       "DATE          object\n",
       "DayOfWeek      int64\n",
       "Summer         int64\n",
       "Autumn         int64\n",
       "Winter         int64\n",
       "Spring         int64\n",
       "is_weekday     int64\n",
       "is_holiday     int64\n",
       "dtype: object"
      ]
     },
     "execution_count": 127,
     "metadata": {},
     "output_type": "execute_result"
    }
   ],
   "source": [
    "new_date_data.dtypes"
   ]
  },
  {
   "cell_type": "code",
   "execution_count": 128,
   "metadata": {},
   "outputs": [
    {
     "data": {
      "text/plain": [
       "('2022-12-31', '2014-01-01')"
      ]
     },
     "execution_count": 128,
     "metadata": {},
     "output_type": "execute_result"
    }
   ],
   "source": [
    "#max and min value of the DATE column\n",
    "new_date_data['DATE'].max(), new_date_data['DATE'].min()\n"
   ]
  },
  {
   "cell_type": "code",
   "execution_count": 129,
   "metadata": {},
   "outputs": [
    {
     "data": {
      "text/plain": [
       "('2021-03-18', '2014-01-01')"
      ]
     },
     "execution_count": 129,
     "metadata": {},
     "output_type": "execute_result"
    }
   ],
   "source": [
    "#remove the rows after 2020-12-31\n",
    "new_date_data = new_date_data[new_date_data['DATE'] <= '2021-03-18']\n",
    "new_date_data['DATE'].max(), new_date_data['DATE'].min()"
   ]
  },
  {
   "cell_type": "code",
   "execution_count": 130,
   "metadata": {},
   "outputs": [
    {
     "data": {
      "text/html": [
       "<div>\n",
       "<style scoped>\n",
       "    .dataframe tbody tr th:only-of-type {\n",
       "        vertical-align: middle;\n",
       "    }\n",
       "\n",
       "    .dataframe tbody tr th {\n",
       "        vertical-align: top;\n",
       "    }\n",
       "\n",
       "    .dataframe thead th {\n",
       "        text-align: right;\n",
       "    }\n",
       "</style>\n",
       "<table border=\"1\" class=\"dataframe\">\n",
       "  <thead>\n",
       "    <tr style=\"text-align: right;\">\n",
       "      <th></th>\n",
       "      <th>DATETIME</th>\n",
       "      <th>TOTALDEMAND</th>\n",
       "      <th>TEMPERATURE</th>\n",
       "      <th>SEASON</th>\n",
       "      <th>WEEKDAY</th>\n",
       "    </tr>\n",
       "  </thead>\n",
       "  <tbody>\n",
       "    <tr>\n",
       "      <th>0</th>\n",
       "      <td>2010-01-01 00:00:00</td>\n",
       "      <td>8038.00</td>\n",
       "      <td>23.1</td>\n",
       "      <td>Summer</td>\n",
       "      <td>Friday</td>\n",
       "    </tr>\n",
       "    <tr>\n",
       "      <th>1</th>\n",
       "      <td>2010-01-01 00:30:00</td>\n",
       "      <td>7809.31</td>\n",
       "      <td>22.9</td>\n",
       "      <td>Summer</td>\n",
       "      <td>Friday</td>\n",
       "    </tr>\n",
       "    <tr>\n",
       "      <th>2</th>\n",
       "      <td>2010-01-01 01:00:00</td>\n",
       "      <td>7483.69</td>\n",
       "      <td>22.6</td>\n",
       "      <td>Summer</td>\n",
       "      <td>Friday</td>\n",
       "    </tr>\n",
       "    <tr>\n",
       "      <th>3</th>\n",
       "      <td>2010-01-01 01:30:00</td>\n",
       "      <td>7117.23</td>\n",
       "      <td>22.5</td>\n",
       "      <td>Summer</td>\n",
       "      <td>Friday</td>\n",
       "    </tr>\n",
       "    <tr>\n",
       "      <th>4</th>\n",
       "      <td>2010-01-01 02:00:00</td>\n",
       "      <td>6812.03</td>\n",
       "      <td>22.5</td>\n",
       "      <td>Summer</td>\n",
       "      <td>Friday</td>\n",
       "    </tr>\n",
       "  </tbody>\n",
       "</table>\n",
       "</div>"
      ],
      "text/plain": [
       "              DATETIME  TOTALDEMAND  TEMPERATURE  SEASON WEEKDAY\n",
       "0  2010-01-01 00:00:00      8038.00         23.1  Summer  Friday\n",
       "1  2010-01-01 00:30:00      7809.31         22.9  Summer  Friday\n",
       "2  2010-01-01 01:00:00      7483.69         22.6  Summer  Friday\n",
       "3  2010-01-01 01:30:00      7117.23         22.5  Summer  Friday\n",
       "4  2010-01-01 02:00:00      6812.03         22.5  Summer  Friday"
      ]
     },
     "execution_count": 130,
     "metadata": {},
     "output_type": "execute_result"
    }
   ],
   "source": [
    "#read the data from the csv file\n",
    "demand_temperature_data = pd.read_csv('../data/totaldemand_temperature_nsw.csv')\n",
    "demand_temperature_data.head()"
   ]
  },
  {
   "cell_type": "code",
   "execution_count": 131,
   "metadata": {},
   "outputs": [
    {
     "data": {
      "text/plain": [
       "(195934, 5)"
      ]
     },
     "execution_count": 131,
     "metadata": {},
     "output_type": "execute_result"
    }
   ],
   "source": [
    "demand_temperature_data.shape"
   ]
  },
  {
   "cell_type": "code",
   "execution_count": 132,
   "metadata": {},
   "outputs": [
    {
     "data": {
      "text/html": [
       "<div>\n",
       "<style scoped>\n",
       "    .dataframe tbody tr th:only-of-type {\n",
       "        vertical-align: middle;\n",
       "    }\n",
       "\n",
       "    .dataframe tbody tr th {\n",
       "        vertical-align: top;\n",
       "    }\n",
       "\n",
       "    .dataframe thead th {\n",
       "        text-align: right;\n",
       "    }\n",
       "</style>\n",
       "<table border=\"1\" class=\"dataframe\">\n",
       "  <thead>\n",
       "    <tr style=\"text-align: right;\">\n",
       "      <th></th>\n",
       "      <th>DATETIME</th>\n",
       "      <th>TOTALDEMAND</th>\n",
       "      <th>TEMPERATURE</th>\n",
       "      <th>SEASON</th>\n",
       "      <th>WEEKDAY</th>\n",
       "    </tr>\n",
       "  </thead>\n",
       "  <tbody>\n",
       "    <tr>\n",
       "      <th>0</th>\n",
       "      <td>2010-01-01 00:00:00</td>\n",
       "      <td>8038.00</td>\n",
       "      <td>23.1</td>\n",
       "      <td>Summer</td>\n",
       "      <td>Friday</td>\n",
       "    </tr>\n",
       "    <tr>\n",
       "      <th>1</th>\n",
       "      <td>2010-01-01 00:30:00</td>\n",
       "      <td>7809.31</td>\n",
       "      <td>22.9</td>\n",
       "      <td>Summer</td>\n",
       "      <td>Friday</td>\n",
       "    </tr>\n",
       "    <tr>\n",
       "      <th>2</th>\n",
       "      <td>2010-01-01 01:00:00</td>\n",
       "      <td>7483.69</td>\n",
       "      <td>22.6</td>\n",
       "      <td>Summer</td>\n",
       "      <td>Friday</td>\n",
       "    </tr>\n",
       "    <tr>\n",
       "      <th>3</th>\n",
       "      <td>2010-01-01 01:30:00</td>\n",
       "      <td>7117.23</td>\n",
       "      <td>22.5</td>\n",
       "      <td>Summer</td>\n",
       "      <td>Friday</td>\n",
       "    </tr>\n",
       "    <tr>\n",
       "      <th>4</th>\n",
       "      <td>2010-01-01 02:00:00</td>\n",
       "      <td>6812.03</td>\n",
       "      <td>22.5</td>\n",
       "      <td>Summer</td>\n",
       "      <td>Friday</td>\n",
       "    </tr>\n",
       "  </tbody>\n",
       "</table>\n",
       "</div>"
      ],
      "text/plain": [
       "             DATETIME  TOTALDEMAND  TEMPERATURE  SEASON WEEKDAY\n",
       "0 2010-01-01 00:00:00      8038.00         23.1  Summer  Friday\n",
       "1 2010-01-01 00:30:00      7809.31         22.9  Summer  Friday\n",
       "2 2010-01-01 01:00:00      7483.69         22.6  Summer  Friday\n",
       "3 2010-01-01 01:30:00      7117.23         22.5  Summer  Friday\n",
       "4 2010-01-01 02:00:00      6812.03         22.5  Summer  Friday"
      ]
     },
     "execution_count": 132,
     "metadata": {},
     "output_type": "execute_result"
    }
   ],
   "source": [
    "#create a new column 'DATE' based on the DATETIME column\n",
    "demand_temperature_data['DATETIME'] = pd.to_datetime(demand_temperature_data['DATETIME'], format='%Y-%m-%d %H:%M:%S')\n",
    "demand_temperature_data.head()"
   ]
  },
  {
   "cell_type": "code",
   "execution_count": 134,
   "metadata": {},
   "outputs": [
    {
     "data": {
      "text/html": [
       "<div>\n",
       "<style scoped>\n",
       "    .dataframe tbody tr th:only-of-type {\n",
       "        vertical-align: middle;\n",
       "    }\n",
       "\n",
       "    .dataframe tbody tr th {\n",
       "        vertical-align: top;\n",
       "    }\n",
       "\n",
       "    .dataframe thead th {\n",
       "        text-align: right;\n",
       "    }\n",
       "</style>\n",
       "<table border=\"1\" class=\"dataframe\">\n",
       "  <thead>\n",
       "    <tr style=\"text-align: right;\">\n",
       "      <th></th>\n",
       "      <th>DATETIME</th>\n",
       "      <th>TOTALDEMAND</th>\n",
       "      <th>TEMPERATURE</th>\n",
       "      <th>SEASON</th>\n",
       "      <th>WEEKDAY</th>\n",
       "      <th>DATE</th>\n",
       "    </tr>\n",
       "  </thead>\n",
       "  <tbody>\n",
       "    <tr>\n",
       "      <th>0</th>\n",
       "      <td>2010-01-01 00:00:00</td>\n",
       "      <td>8038.00</td>\n",
       "      <td>23.1</td>\n",
       "      <td>Summer</td>\n",
       "      <td>Friday</td>\n",
       "      <td>2010-01-01</td>\n",
       "    </tr>\n",
       "    <tr>\n",
       "      <th>1</th>\n",
       "      <td>2010-01-01 00:30:00</td>\n",
       "      <td>7809.31</td>\n",
       "      <td>22.9</td>\n",
       "      <td>Summer</td>\n",
       "      <td>Friday</td>\n",
       "      <td>2010-01-01</td>\n",
       "    </tr>\n",
       "    <tr>\n",
       "      <th>2</th>\n",
       "      <td>2010-01-01 01:00:00</td>\n",
       "      <td>7483.69</td>\n",
       "      <td>22.6</td>\n",
       "      <td>Summer</td>\n",
       "      <td>Friday</td>\n",
       "      <td>2010-01-01</td>\n",
       "    </tr>\n",
       "    <tr>\n",
       "      <th>3</th>\n",
       "      <td>2010-01-01 01:30:00</td>\n",
       "      <td>7117.23</td>\n",
       "      <td>22.5</td>\n",
       "      <td>Summer</td>\n",
       "      <td>Friday</td>\n",
       "      <td>2010-01-01</td>\n",
       "    </tr>\n",
       "    <tr>\n",
       "      <th>4</th>\n",
       "      <td>2010-01-01 02:00:00</td>\n",
       "      <td>6812.03</td>\n",
       "      <td>22.5</td>\n",
       "      <td>Summer</td>\n",
       "      <td>Friday</td>\n",
       "      <td>2010-01-01</td>\n",
       "    </tr>\n",
       "  </tbody>\n",
       "</table>\n",
       "</div>"
      ],
      "text/plain": [
       "             DATETIME  TOTALDEMAND  TEMPERATURE  SEASON WEEKDAY        DATE\n",
       "0 2010-01-01 00:00:00      8038.00         23.1  Summer  Friday  2010-01-01\n",
       "1 2010-01-01 00:30:00      7809.31         22.9  Summer  Friday  2010-01-01\n",
       "2 2010-01-01 01:00:00      7483.69         22.6  Summer  Friday  2010-01-01\n",
       "3 2010-01-01 01:30:00      7117.23         22.5  Summer  Friday  2010-01-01\n",
       "4 2010-01-01 02:00:00      6812.03         22.5  Summer  Friday  2010-01-01"
      ]
     },
     "execution_count": 134,
     "metadata": {},
     "output_type": "execute_result"
    }
   ],
   "source": [
    "#create a new column 'DATE' and get the date from the DATETIME column\n",
    "demand_temperature_data['DATE'] = demand_temperature_data['DATETIME'].dt.date\n",
    "demand_temperature_data.head()\n"
   ]
  },
  {
   "cell_type": "code",
   "execution_count": 135,
   "metadata": {},
   "outputs": [
    {
     "data": {
      "text/plain": [
       "(Timestamp('2021-03-18 00:00:00'), Timestamp('2014-01-01 00:00:00'))"
      ]
     },
     "execution_count": 135,
     "metadata": {},
     "output_type": "execute_result"
    }
   ],
   "source": [
    "#remove the rows before 2014-01-01\n",
    "demand_temperature_data = demand_temperature_data[demand_temperature_data['DATETIME'] >= '2014-01-01']\n",
    "demand_temperature_data['DATETIME'].max(), demand_temperature_data['DATETIME'].min()"
   ]
  },
  {
   "cell_type": "code",
   "execution_count": 136,
   "metadata": {},
   "outputs": [
    {
     "data": {
      "text/plain": [
       "(126129, 6)"
      ]
     },
     "execution_count": 136,
     "metadata": {},
     "output_type": "execute_result"
    }
   ],
   "source": [
    "demand_temperature_data.shape"
   ]
  },
  {
   "cell_type": "code",
   "execution_count": 137,
   "metadata": {},
   "outputs": [
    {
     "data": {
      "text/plain": [
       "(DATETIME       datetime64[ns]\n",
       " TOTALDEMAND           float64\n",
       " TEMPERATURE           float64\n",
       " SEASON                 object\n",
       " WEEKDAY                object\n",
       " DATE                   object\n",
       " dtype: object,\n",
       " DATE          object\n",
       " DayOfWeek      int64\n",
       " Summer         int64\n",
       " Autumn         int64\n",
       " Winter         int64\n",
       " Spring         int64\n",
       " is_weekday     int64\n",
       " is_holiday     int64\n",
       " dtype: object)"
      ]
     },
     "execution_count": 137,
     "metadata": {},
     "output_type": "execute_result"
    }
   ],
   "source": [
    "demand_temperature_data.dtypes, new_date_data.dtypes"
   ]
  },
  {
   "cell_type": "code",
   "execution_count": 138,
   "metadata": {},
   "outputs": [
    {
     "data": {
      "text/html": [
       "<div>\n",
       "<style scoped>\n",
       "    .dataframe tbody tr th:only-of-type {\n",
       "        vertical-align: middle;\n",
       "    }\n",
       "\n",
       "    .dataframe tbody tr th {\n",
       "        vertical-align: top;\n",
       "    }\n",
       "\n",
       "    .dataframe thead th {\n",
       "        text-align: right;\n",
       "    }\n",
       "</style>\n",
       "<table border=\"1\" class=\"dataframe\">\n",
       "  <thead>\n",
       "    <tr style=\"text-align: right;\">\n",
       "      <th></th>\n",
       "      <th>DATETIME</th>\n",
       "      <th>TOTALDEMAND</th>\n",
       "      <th>TEMPERATURE</th>\n",
       "      <th>SEASON</th>\n",
       "      <th>WEEKDAY</th>\n",
       "      <th>DATE</th>\n",
       "    </tr>\n",
       "  </thead>\n",
       "  <tbody>\n",
       "    <tr>\n",
       "      <th>69805</th>\n",
       "      <td>2014-01-01 00:00:00</td>\n",
       "      <td>7009.91</td>\n",
       "      <td>20.4</td>\n",
       "      <td>Summer</td>\n",
       "      <td>Wednesday</td>\n",
       "      <td>2014-01-01</td>\n",
       "    </tr>\n",
       "    <tr>\n",
       "      <th>69806</th>\n",
       "      <td>2014-01-01 00:30:00</td>\n",
       "      <td>6840.01</td>\n",
       "      <td>19.8</td>\n",
       "      <td>Summer</td>\n",
       "      <td>Wednesday</td>\n",
       "      <td>2014-01-01</td>\n",
       "    </tr>\n",
       "    <tr>\n",
       "      <th>69807</th>\n",
       "      <td>2014-01-01 01:00:00</td>\n",
       "      <td>6580.75</td>\n",
       "      <td>19.5</td>\n",
       "      <td>Summer</td>\n",
       "      <td>Wednesday</td>\n",
       "      <td>2014-01-01</td>\n",
       "    </tr>\n",
       "    <tr>\n",
       "      <th>69808</th>\n",
       "      <td>2014-01-01 01:30:00</td>\n",
       "      <td>6212.79</td>\n",
       "      <td>19.2</td>\n",
       "      <td>Summer</td>\n",
       "      <td>Wednesday</td>\n",
       "      <td>2014-01-01</td>\n",
       "    </tr>\n",
       "    <tr>\n",
       "      <th>69809</th>\n",
       "      <td>2014-01-01 02:00:00</td>\n",
       "      <td>5988.92</td>\n",
       "      <td>18.8</td>\n",
       "      <td>Summer</td>\n",
       "      <td>Wednesday</td>\n",
       "      <td>2014-01-01</td>\n",
       "    </tr>\n",
       "  </tbody>\n",
       "</table>\n",
       "</div>"
      ],
      "text/plain": [
       "                 DATETIME  TOTALDEMAND  TEMPERATURE  SEASON    WEEKDAY  \\\n",
       "69805 2014-01-01 00:00:00      7009.91         20.4  Summer  Wednesday   \n",
       "69806 2014-01-01 00:30:00      6840.01         19.8  Summer  Wednesday   \n",
       "69807 2014-01-01 01:00:00      6580.75         19.5  Summer  Wednesday   \n",
       "69808 2014-01-01 01:30:00      6212.79         19.2  Summer  Wednesday   \n",
       "69809 2014-01-01 02:00:00      5988.92         18.8  Summer  Wednesday   \n",
       "\n",
       "             DATE  \n",
       "69805  2014-01-01  \n",
       "69806  2014-01-01  \n",
       "69807  2014-01-01  \n",
       "69808  2014-01-01  \n",
       "69809  2014-01-01  "
      ]
     },
     "execution_count": 138,
     "metadata": {},
     "output_type": "execute_result"
    }
   ],
   "source": [
    "demand_temperature_data.head()"
   ]
  },
  {
   "cell_type": "code",
   "execution_count": 139,
   "metadata": {},
   "outputs": [
    {
     "data": {
      "text/plain": [
       "0"
      ]
     },
     "execution_count": 139,
     "metadata": {},
     "output_type": "execute_result"
    }
   ],
   "source": [
    "# find duplicates\n",
    "demand_temperature_data.duplicated().sum()"
   ]
  },
  {
   "cell_type": "code",
   "execution_count": 140,
   "metadata": {},
   "outputs": [
    {
     "data": {
      "text/plain": [
       "((126129, 6), (2636, 8))"
      ]
     },
     "execution_count": 140,
     "metadata": {},
     "output_type": "execute_result"
    }
   ],
   "source": [
    "# dimension of the data\n",
    "demand_temperature_data.shape, new_date_data.shape"
   ]
  },
  {
   "cell_type": "code",
   "execution_count": 141,
   "metadata": {},
   "outputs": [
    {
     "data": {
      "text/plain": [
       "DATE          datetime64[ns]\n",
       "DayOfWeek              int64\n",
       "Summer                 int64\n",
       "Autumn                 int64\n",
       "Winter                 int64\n",
       "Spring                 int64\n",
       "is_weekday             int64\n",
       "is_holiday             int64\n",
       "dtype: object"
      ]
     },
     "execution_count": 141,
     "metadata": {},
     "output_type": "execute_result"
    }
   ],
   "source": [
    "new_date_data['DATE'] = pd.to_datetime(new_date_data['DATE'])\n",
    "new_date_data.dtypes"
   ]
  },
  {
   "cell_type": "code",
   "execution_count": 142,
   "metadata": {},
   "outputs": [
    {
     "data": {
      "text/html": [
       "<div>\n",
       "<style scoped>\n",
       "    .dataframe tbody tr th:only-of-type {\n",
       "        vertical-align: middle;\n",
       "    }\n",
       "\n",
       "    .dataframe tbody tr th {\n",
       "        vertical-align: top;\n",
       "    }\n",
       "\n",
       "    .dataframe thead th {\n",
       "        text-align: right;\n",
       "    }\n",
       "</style>\n",
       "<table border=\"1\" class=\"dataframe\">\n",
       "  <thead>\n",
       "    <tr style=\"text-align: right;\">\n",
       "      <th></th>\n",
       "      <th>DATE</th>\n",
       "      <th>DayOfWeek</th>\n",
       "      <th>Summer</th>\n",
       "      <th>Autumn</th>\n",
       "      <th>Winter</th>\n",
       "      <th>Spring</th>\n",
       "      <th>is_weekday</th>\n",
       "      <th>is_holiday</th>\n",
       "    </tr>\n",
       "  </thead>\n",
       "  <tbody>\n",
       "    <tr>\n",
       "      <th>0</th>\n",
       "      <td>2014-01-01</td>\n",
       "      <td>3</td>\n",
       "      <td>1</td>\n",
       "      <td>0</td>\n",
       "      <td>0</td>\n",
       "      <td>0</td>\n",
       "      <td>1</td>\n",
       "      <td>1</td>\n",
       "    </tr>\n",
       "    <tr>\n",
       "      <th>1</th>\n",
       "      <td>2014-01-02</td>\n",
       "      <td>4</td>\n",
       "      <td>1</td>\n",
       "      <td>0</td>\n",
       "      <td>0</td>\n",
       "      <td>0</td>\n",
       "      <td>1</td>\n",
       "      <td>0</td>\n",
       "    </tr>\n",
       "    <tr>\n",
       "      <th>2</th>\n",
       "      <td>2014-01-03</td>\n",
       "      <td>5</td>\n",
       "      <td>1</td>\n",
       "      <td>0</td>\n",
       "      <td>0</td>\n",
       "      <td>0</td>\n",
       "      <td>1</td>\n",
       "      <td>0</td>\n",
       "    </tr>\n",
       "    <tr>\n",
       "      <th>3</th>\n",
       "      <td>2014-01-04</td>\n",
       "      <td>6</td>\n",
       "      <td>1</td>\n",
       "      <td>0</td>\n",
       "      <td>0</td>\n",
       "      <td>0</td>\n",
       "      <td>0</td>\n",
       "      <td>0</td>\n",
       "    </tr>\n",
       "    <tr>\n",
       "      <th>4</th>\n",
       "      <td>2014-01-05</td>\n",
       "      <td>7</td>\n",
       "      <td>1</td>\n",
       "      <td>0</td>\n",
       "      <td>0</td>\n",
       "      <td>0</td>\n",
       "      <td>0</td>\n",
       "      <td>0</td>\n",
       "    </tr>\n",
       "  </tbody>\n",
       "</table>\n",
       "</div>"
      ],
      "text/plain": [
       "        DATE  DayOfWeek  Summer  Autumn  Winter  Spring  is_weekday  \\\n",
       "0 2014-01-01          3       1       0       0       0           1   \n",
       "1 2014-01-02          4       1       0       0       0           1   \n",
       "2 2014-01-03          5       1       0       0       0           1   \n",
       "3 2014-01-04          6       1       0       0       0           0   \n",
       "4 2014-01-05          7       1       0       0       0           0   \n",
       "\n",
       "   is_holiday  \n",
       "0           1  \n",
       "1           0  \n",
       "2           0  \n",
       "3           0  \n",
       "4           0  "
      ]
     },
     "execution_count": 142,
     "metadata": {},
     "output_type": "execute_result"
    }
   ],
   "source": [
    "new_date_data.head()"
   ]
  },
  {
   "cell_type": "code",
   "execution_count": 143,
   "metadata": {},
   "outputs": [
    {
     "data": {
      "text/plain": [
       "DATETIME       datetime64[ns]\n",
       "TOTALDEMAND           float64\n",
       "TEMPERATURE           float64\n",
       "SEASON                 object\n",
       "WEEKDAY                object\n",
       "DATE           datetime64[ns]\n",
       "dtype: object"
      ]
     },
     "execution_count": 143,
     "metadata": {},
     "output_type": "execute_result"
    }
   ],
   "source": [
    "demand_temperature_data['DATE'] = pd.to_datetime(demand_temperature_data['DATE'])\n",
    "demand_temperature_data.dtypes"
   ]
  },
  {
   "cell_type": "code",
   "execution_count": 144,
   "metadata": {},
   "outputs": [
    {
     "data": {
      "text/html": [
       "<div>\n",
       "<style scoped>\n",
       "    .dataframe tbody tr th:only-of-type {\n",
       "        vertical-align: middle;\n",
       "    }\n",
       "\n",
       "    .dataframe tbody tr th {\n",
       "        vertical-align: top;\n",
       "    }\n",
       "\n",
       "    .dataframe thead th {\n",
       "        text-align: right;\n",
       "    }\n",
       "</style>\n",
       "<table border=\"1\" class=\"dataframe\">\n",
       "  <thead>\n",
       "    <tr style=\"text-align: right;\">\n",
       "      <th></th>\n",
       "      <th>DATETIME</th>\n",
       "      <th>TOTALDEMAND</th>\n",
       "      <th>TEMPERATURE</th>\n",
       "      <th>SEASON</th>\n",
       "      <th>WEEKDAY</th>\n",
       "      <th>DATE</th>\n",
       "      <th>DayOfWeek</th>\n",
       "      <th>Summer</th>\n",
       "      <th>Autumn</th>\n",
       "      <th>Winter</th>\n",
       "      <th>Spring</th>\n",
       "      <th>is_weekday</th>\n",
       "      <th>is_holiday</th>\n",
       "    </tr>\n",
       "  </thead>\n",
       "  <tbody>\n",
       "    <tr>\n",
       "      <th>0</th>\n",
       "      <td>2014-01-01 00:00:00</td>\n",
       "      <td>7009.91</td>\n",
       "      <td>20.4</td>\n",
       "      <td>Summer</td>\n",
       "      <td>Wednesday</td>\n",
       "      <td>2014-01-01</td>\n",
       "      <td>3</td>\n",
       "      <td>1</td>\n",
       "      <td>0</td>\n",
       "      <td>0</td>\n",
       "      <td>0</td>\n",
       "      <td>1</td>\n",
       "      <td>1</td>\n",
       "    </tr>\n",
       "    <tr>\n",
       "      <th>1</th>\n",
       "      <td>2014-01-01 00:30:00</td>\n",
       "      <td>6840.01</td>\n",
       "      <td>19.8</td>\n",
       "      <td>Summer</td>\n",
       "      <td>Wednesday</td>\n",
       "      <td>2014-01-01</td>\n",
       "      <td>3</td>\n",
       "      <td>1</td>\n",
       "      <td>0</td>\n",
       "      <td>0</td>\n",
       "      <td>0</td>\n",
       "      <td>1</td>\n",
       "      <td>1</td>\n",
       "    </tr>\n",
       "    <tr>\n",
       "      <th>2</th>\n",
       "      <td>2014-01-01 01:00:00</td>\n",
       "      <td>6580.75</td>\n",
       "      <td>19.5</td>\n",
       "      <td>Summer</td>\n",
       "      <td>Wednesday</td>\n",
       "      <td>2014-01-01</td>\n",
       "      <td>3</td>\n",
       "      <td>1</td>\n",
       "      <td>0</td>\n",
       "      <td>0</td>\n",
       "      <td>0</td>\n",
       "      <td>1</td>\n",
       "      <td>1</td>\n",
       "    </tr>\n",
       "    <tr>\n",
       "      <th>3</th>\n",
       "      <td>2014-01-01 01:30:00</td>\n",
       "      <td>6212.79</td>\n",
       "      <td>19.2</td>\n",
       "      <td>Summer</td>\n",
       "      <td>Wednesday</td>\n",
       "      <td>2014-01-01</td>\n",
       "      <td>3</td>\n",
       "      <td>1</td>\n",
       "      <td>0</td>\n",
       "      <td>0</td>\n",
       "      <td>0</td>\n",
       "      <td>1</td>\n",
       "      <td>1</td>\n",
       "    </tr>\n",
       "    <tr>\n",
       "      <th>4</th>\n",
       "      <td>2014-01-01 02:00:00</td>\n",
       "      <td>5988.92</td>\n",
       "      <td>18.8</td>\n",
       "      <td>Summer</td>\n",
       "      <td>Wednesday</td>\n",
       "      <td>2014-01-01</td>\n",
       "      <td>3</td>\n",
       "      <td>1</td>\n",
       "      <td>0</td>\n",
       "      <td>0</td>\n",
       "      <td>0</td>\n",
       "      <td>1</td>\n",
       "      <td>1</td>\n",
       "    </tr>\n",
       "  </tbody>\n",
       "</table>\n",
       "</div>"
      ],
      "text/plain": [
       "             DATETIME  TOTALDEMAND  TEMPERATURE  SEASON    WEEKDAY       DATE  \\\n",
       "0 2014-01-01 00:00:00      7009.91         20.4  Summer  Wednesday 2014-01-01   \n",
       "1 2014-01-01 00:30:00      6840.01         19.8  Summer  Wednesday 2014-01-01   \n",
       "2 2014-01-01 01:00:00      6580.75         19.5  Summer  Wednesday 2014-01-01   \n",
       "3 2014-01-01 01:30:00      6212.79         19.2  Summer  Wednesday 2014-01-01   \n",
       "4 2014-01-01 02:00:00      5988.92         18.8  Summer  Wednesday 2014-01-01   \n",
       "\n",
       "   DayOfWeek  Summer  Autumn  Winter  Spring  is_weekday  is_holiday  \n",
       "0          3       1       0       0       0           1           1  \n",
       "1          3       1       0       0       0           1           1  \n",
       "2          3       1       0       0       0           1           1  \n",
       "3          3       1       0       0       0           1           1  \n",
       "4          3       1       0       0       0           1           1  "
      ]
     },
     "execution_count": 144,
     "metadata": {},
     "output_type": "execute_result"
    }
   ],
   "source": [
    "holiday_merged = pd.merge(demand_temperature_data, new_date_data, how='left', on='DATE')\n",
    "holiday_merged.head()"
   ]
  },
  {
   "cell_type": "code",
   "execution_count": 145,
   "metadata": {},
   "outputs": [
    {
     "data": {
      "text/plain": [
       "(126225, 13)"
      ]
     },
     "execution_count": 145,
     "metadata": {},
     "output_type": "execute_result"
    }
   ],
   "source": [
    "holiday_merged.shape"
   ]
  },
  {
   "cell_type": "code",
   "execution_count": 146,
   "metadata": {},
   "outputs": [
    {
     "data": {
      "text/plain": [
       "DATETIME       0\n",
       "TOTALDEMAND    0\n",
       "TEMPERATURE    0\n",
       "SEASON         0\n",
       "WEEKDAY        0\n",
       "DATE           0\n",
       "DayOfWeek      0\n",
       "Summer         0\n",
       "Autumn         0\n",
       "Winter         0\n",
       "Spring         0\n",
       "is_weekday     0\n",
       "is_holiday     0\n",
       "dtype: int64"
      ]
     },
     "execution_count": 146,
     "metadata": {},
     "output_type": "execute_result"
    }
   ],
   "source": [
    "holiday_merged.isna().sum()"
   ]
  },
  {
   "cell_type": "code",
   "execution_count": 147,
   "metadata": {},
   "outputs": [
    {
     "data": {
      "text/plain": [
       "(Timestamp('2021-03-18 00:00:00'), Timestamp('2014-01-01 00:00:00'))"
      ]
     },
     "execution_count": 147,
     "metadata": {},
     "output_type": "execute_result"
    }
   ],
   "source": [
    "holiday_merged['DATE'].max(), holiday_merged['DATE'].min()"
   ]
  },
  {
   "cell_type": "code",
   "execution_count": 148,
   "metadata": {},
   "outputs": [
    {
     "data": {
      "text/html": [
       "<div>\n",
       "<style scoped>\n",
       "    .dataframe tbody tr th:only-of-type {\n",
       "        vertical-align: middle;\n",
       "    }\n",
       "\n",
       "    .dataframe tbody tr th {\n",
       "        vertical-align: top;\n",
       "    }\n",
       "\n",
       "    .dataframe thead th {\n",
       "        text-align: right;\n",
       "    }\n",
       "</style>\n",
       "<table border=\"1\" class=\"dataframe\">\n",
       "  <thead>\n",
       "    <tr style=\"text-align: right;\">\n",
       "      <th></th>\n",
       "      <th>DATETIME</th>\n",
       "      <th>TOTALDEMAND</th>\n",
       "      <th>TEMPERATURE</th>\n",
       "      <th>SEASON</th>\n",
       "      <th>WEEKDAY</th>\n",
       "      <th>DATE</th>\n",
       "      <th>DayOfWeek</th>\n",
       "      <th>Summer</th>\n",
       "      <th>Autumn</th>\n",
       "      <th>Winter</th>\n",
       "      <th>Spring</th>\n",
       "      <th>is_weekday</th>\n",
       "      <th>is_holiday</th>\n",
       "    </tr>\n",
       "  </thead>\n",
       "  <tbody>\n",
       "    <tr>\n",
       "      <th>0</th>\n",
       "      <td>2014-01-01 00:00:00</td>\n",
       "      <td>7009.91</td>\n",
       "      <td>20.4</td>\n",
       "      <td>Summer</td>\n",
       "      <td>Wednesday</td>\n",
       "      <td>2014-01-01</td>\n",
       "      <td>3</td>\n",
       "      <td>1</td>\n",
       "      <td>0</td>\n",
       "      <td>0</td>\n",
       "      <td>0</td>\n",
       "      <td>1</td>\n",
       "      <td>1</td>\n",
       "    </tr>\n",
       "    <tr>\n",
       "      <th>1</th>\n",
       "      <td>2014-01-01 00:30:00</td>\n",
       "      <td>6840.01</td>\n",
       "      <td>19.8</td>\n",
       "      <td>Summer</td>\n",
       "      <td>Wednesday</td>\n",
       "      <td>2014-01-01</td>\n",
       "      <td>3</td>\n",
       "      <td>1</td>\n",
       "      <td>0</td>\n",
       "      <td>0</td>\n",
       "      <td>0</td>\n",
       "      <td>1</td>\n",
       "      <td>1</td>\n",
       "    </tr>\n",
       "    <tr>\n",
       "      <th>2</th>\n",
       "      <td>2014-01-01 01:00:00</td>\n",
       "      <td>6580.75</td>\n",
       "      <td>19.5</td>\n",
       "      <td>Summer</td>\n",
       "      <td>Wednesday</td>\n",
       "      <td>2014-01-01</td>\n",
       "      <td>3</td>\n",
       "      <td>1</td>\n",
       "      <td>0</td>\n",
       "      <td>0</td>\n",
       "      <td>0</td>\n",
       "      <td>1</td>\n",
       "      <td>1</td>\n",
       "    </tr>\n",
       "    <tr>\n",
       "      <th>3</th>\n",
       "      <td>2014-01-01 01:30:00</td>\n",
       "      <td>6212.79</td>\n",
       "      <td>19.2</td>\n",
       "      <td>Summer</td>\n",
       "      <td>Wednesday</td>\n",
       "      <td>2014-01-01</td>\n",
       "      <td>3</td>\n",
       "      <td>1</td>\n",
       "      <td>0</td>\n",
       "      <td>0</td>\n",
       "      <td>0</td>\n",
       "      <td>1</td>\n",
       "      <td>1</td>\n",
       "    </tr>\n",
       "    <tr>\n",
       "      <th>4</th>\n",
       "      <td>2014-01-01 02:00:00</td>\n",
       "      <td>5988.92</td>\n",
       "      <td>18.8</td>\n",
       "      <td>Summer</td>\n",
       "      <td>Wednesday</td>\n",
       "      <td>2014-01-01</td>\n",
       "      <td>3</td>\n",
       "      <td>1</td>\n",
       "      <td>0</td>\n",
       "      <td>0</td>\n",
       "      <td>0</td>\n",
       "      <td>1</td>\n",
       "      <td>1</td>\n",
       "    </tr>\n",
       "  </tbody>\n",
       "</table>\n",
       "</div>"
      ],
      "text/plain": [
       "             DATETIME  TOTALDEMAND  TEMPERATURE  SEASON    WEEKDAY       DATE  \\\n",
       "0 2014-01-01 00:00:00      7009.91         20.4  Summer  Wednesday 2014-01-01   \n",
       "1 2014-01-01 00:30:00      6840.01         19.8  Summer  Wednesday 2014-01-01   \n",
       "2 2014-01-01 01:00:00      6580.75         19.5  Summer  Wednesday 2014-01-01   \n",
       "3 2014-01-01 01:30:00      6212.79         19.2  Summer  Wednesday 2014-01-01   \n",
       "4 2014-01-01 02:00:00      5988.92         18.8  Summer  Wednesday 2014-01-01   \n",
       "\n",
       "   DayOfWeek  Summer  Autumn  Winter  Spring  is_weekday  is_holiday  \n",
       "0          3       1       0       0       0           1           1  \n",
       "1          3       1       0       0       0           1           1  \n",
       "2          3       1       0       0       0           1           1  \n",
       "3          3       1       0       0       0           1           1  \n",
       "4          3       1       0       0       0           1           1  "
      ]
     },
     "execution_count": 148,
     "metadata": {},
     "output_type": "execute_result"
    }
   ],
   "source": [
    "final_data = holiday_merged.copy()\n",
    "final_data.head() "
   ]
  },
  {
   "cell_type": "code",
   "execution_count": 149,
   "metadata": {},
   "outputs": [
    {
     "data": {
      "text/html": [
       "<div>\n",
       "<style scoped>\n",
       "    .dataframe tbody tr th:only-of-type {\n",
       "        vertical-align: middle;\n",
       "    }\n",
       "\n",
       "    .dataframe tbody tr th {\n",
       "        vertical-align: top;\n",
       "    }\n",
       "\n",
       "    .dataframe thead th {\n",
       "        text-align: right;\n",
       "    }\n",
       "</style>\n",
       "<table border=\"1\" class=\"dataframe\">\n",
       "  <thead>\n",
       "    <tr style=\"text-align: right;\">\n",
       "      <th></th>\n",
       "      <th>DATETIME</th>\n",
       "      <th>TOTALDEMAND</th>\n",
       "      <th>TEMPERATURE</th>\n",
       "      <th>DayOfWeek</th>\n",
       "      <th>Summer</th>\n",
       "      <th>Autumn</th>\n",
       "      <th>Winter</th>\n",
       "      <th>Spring</th>\n",
       "      <th>is_weekday</th>\n",
       "      <th>is_holiday</th>\n",
       "    </tr>\n",
       "  </thead>\n",
       "  <tbody>\n",
       "    <tr>\n",
       "      <th>0</th>\n",
       "      <td>2014-01-01 00:00:00</td>\n",
       "      <td>7009.91</td>\n",
       "      <td>20.4</td>\n",
       "      <td>3</td>\n",
       "      <td>1</td>\n",
       "      <td>0</td>\n",
       "      <td>0</td>\n",
       "      <td>0</td>\n",
       "      <td>1</td>\n",
       "      <td>1</td>\n",
       "    </tr>\n",
       "    <tr>\n",
       "      <th>1</th>\n",
       "      <td>2014-01-01 00:30:00</td>\n",
       "      <td>6840.01</td>\n",
       "      <td>19.8</td>\n",
       "      <td>3</td>\n",
       "      <td>1</td>\n",
       "      <td>0</td>\n",
       "      <td>0</td>\n",
       "      <td>0</td>\n",
       "      <td>1</td>\n",
       "      <td>1</td>\n",
       "    </tr>\n",
       "    <tr>\n",
       "      <th>2</th>\n",
       "      <td>2014-01-01 01:00:00</td>\n",
       "      <td>6580.75</td>\n",
       "      <td>19.5</td>\n",
       "      <td>3</td>\n",
       "      <td>1</td>\n",
       "      <td>0</td>\n",
       "      <td>0</td>\n",
       "      <td>0</td>\n",
       "      <td>1</td>\n",
       "      <td>1</td>\n",
       "    </tr>\n",
       "    <tr>\n",
       "      <th>3</th>\n",
       "      <td>2014-01-01 01:30:00</td>\n",
       "      <td>6212.79</td>\n",
       "      <td>19.2</td>\n",
       "      <td>3</td>\n",
       "      <td>1</td>\n",
       "      <td>0</td>\n",
       "      <td>0</td>\n",
       "      <td>0</td>\n",
       "      <td>1</td>\n",
       "      <td>1</td>\n",
       "    </tr>\n",
       "    <tr>\n",
       "      <th>4</th>\n",
       "      <td>2014-01-01 02:00:00</td>\n",
       "      <td>5988.92</td>\n",
       "      <td>18.8</td>\n",
       "      <td>3</td>\n",
       "      <td>1</td>\n",
       "      <td>0</td>\n",
       "      <td>0</td>\n",
       "      <td>0</td>\n",
       "      <td>1</td>\n",
       "      <td>1</td>\n",
       "    </tr>\n",
       "  </tbody>\n",
       "</table>\n",
       "</div>"
      ],
      "text/plain": [
       "             DATETIME  TOTALDEMAND  TEMPERATURE  DayOfWeek  Summer  Autumn  \\\n",
       "0 2014-01-01 00:00:00      7009.91         20.4          3       1       0   \n",
       "1 2014-01-01 00:30:00      6840.01         19.8          3       1       0   \n",
       "2 2014-01-01 01:00:00      6580.75         19.5          3       1       0   \n",
       "3 2014-01-01 01:30:00      6212.79         19.2          3       1       0   \n",
       "4 2014-01-01 02:00:00      5988.92         18.8          3       1       0   \n",
       "\n",
       "   Winter  Spring  is_weekday  is_holiday  \n",
       "0       0       0           1           1  \n",
       "1       0       0           1           1  \n",
       "2       0       0           1           1  \n",
       "3       0       0           1           1  \n",
       "4       0       0           1           1  "
      ]
     },
     "execution_count": 149,
     "metadata": {},
     "output_type": "execute_result"
    }
   ],
   "source": [
    "#drop columns  SEASON, WEEKDAY, DATE\n",
    "final_data = final_data.drop(columns=['SEASON', 'WEEKDAY', 'DATE'])\n",
    "final_data.head()\n"
   ]
  },
  {
   "cell_type": "code",
   "execution_count": 150,
   "metadata": {},
   "outputs": [
    {
     "data": {
      "text/html": [
       "<div>\n",
       "<style scoped>\n",
       "    .dataframe tbody tr th:only-of-type {\n",
       "        vertical-align: middle;\n",
       "    }\n",
       "\n",
       "    .dataframe tbody tr th {\n",
       "        vertical-align: top;\n",
       "    }\n",
       "\n",
       "    .dataframe thead th {\n",
       "        text-align: right;\n",
       "    }\n",
       "</style>\n",
       "<table border=\"1\" class=\"dataframe\">\n",
       "  <thead>\n",
       "    <tr style=\"text-align: right;\">\n",
       "      <th></th>\n",
       "      <th>DATETIME</th>\n",
       "      <th>TOTALDEMAND</th>\n",
       "      <th>TEMPERATURE</th>\n",
       "      <th>DAYOFWEEK</th>\n",
       "      <th>SUMMER</th>\n",
       "      <th>AUTUMN</th>\n",
       "      <th>WINTER</th>\n",
       "      <th>SPRING</th>\n",
       "      <th>WEEKDAY</th>\n",
       "      <th>HOLIDAY</th>\n",
       "    </tr>\n",
       "  </thead>\n",
       "  <tbody>\n",
       "    <tr>\n",
       "      <th>0</th>\n",
       "      <td>2014-01-01 00:00:00</td>\n",
       "      <td>7009.91</td>\n",
       "      <td>20.4</td>\n",
       "      <td>3</td>\n",
       "      <td>1</td>\n",
       "      <td>0</td>\n",
       "      <td>0</td>\n",
       "      <td>0</td>\n",
       "      <td>1</td>\n",
       "      <td>1</td>\n",
       "    </tr>\n",
       "    <tr>\n",
       "      <th>1</th>\n",
       "      <td>2014-01-01 00:30:00</td>\n",
       "      <td>6840.01</td>\n",
       "      <td>19.8</td>\n",
       "      <td>3</td>\n",
       "      <td>1</td>\n",
       "      <td>0</td>\n",
       "      <td>0</td>\n",
       "      <td>0</td>\n",
       "      <td>1</td>\n",
       "      <td>1</td>\n",
       "    </tr>\n",
       "    <tr>\n",
       "      <th>2</th>\n",
       "      <td>2014-01-01 01:00:00</td>\n",
       "      <td>6580.75</td>\n",
       "      <td>19.5</td>\n",
       "      <td>3</td>\n",
       "      <td>1</td>\n",
       "      <td>0</td>\n",
       "      <td>0</td>\n",
       "      <td>0</td>\n",
       "      <td>1</td>\n",
       "      <td>1</td>\n",
       "    </tr>\n",
       "    <tr>\n",
       "      <th>3</th>\n",
       "      <td>2014-01-01 01:30:00</td>\n",
       "      <td>6212.79</td>\n",
       "      <td>19.2</td>\n",
       "      <td>3</td>\n",
       "      <td>1</td>\n",
       "      <td>0</td>\n",
       "      <td>0</td>\n",
       "      <td>0</td>\n",
       "      <td>1</td>\n",
       "      <td>1</td>\n",
       "    </tr>\n",
       "    <tr>\n",
       "      <th>4</th>\n",
       "      <td>2014-01-01 02:00:00</td>\n",
       "      <td>5988.92</td>\n",
       "      <td>18.8</td>\n",
       "      <td>3</td>\n",
       "      <td>1</td>\n",
       "      <td>0</td>\n",
       "      <td>0</td>\n",
       "      <td>0</td>\n",
       "      <td>1</td>\n",
       "      <td>1</td>\n",
       "    </tr>\n",
       "  </tbody>\n",
       "</table>\n",
       "</div>"
      ],
      "text/plain": [
       "             DATETIME  TOTALDEMAND  TEMPERATURE  DAYOFWEEK  SUMMER  AUTUMN  \\\n",
       "0 2014-01-01 00:00:00      7009.91         20.4          3       1       0   \n",
       "1 2014-01-01 00:30:00      6840.01         19.8          3       1       0   \n",
       "2 2014-01-01 01:00:00      6580.75         19.5          3       1       0   \n",
       "3 2014-01-01 01:30:00      6212.79         19.2          3       1       0   \n",
       "4 2014-01-01 02:00:00      5988.92         18.8          3       1       0   \n",
       "\n",
       "   WINTER  SPRING  WEEKDAY  HOLIDAY  \n",
       "0       0       0        1        1  \n",
       "1       0       0        1        1  \n",
       "2       0       0        1        1  \n",
       "3       0       0        1        1  \n",
       "4       0       0        1        1  "
      ]
     },
     "execution_count": 150,
     "metadata": {},
     "output_type": "execute_result"
    }
   ],
   "source": [
    "#rename the columns\n",
    "final_data = final_data.rename(columns={'DATETIME': 'DATETIME', 'TOTALDEMAND': 'TOTALDEMAND', 'TEMPERATURE': 'TEMPERATURE', 'DayOfWeek': 'DAYOFWEEK', 'Summer': 'SUMMER', 'Autumn': 'AUTUMN', 'Winter': 'WINTER', 'Spring': 'SPRING', 'is_weekday': 'WEEKDAY', 'is_holiday': 'HOLIDAY'})\n",
    "final_data.head()"
   ]
  },
  {
   "cell_type": "code",
   "execution_count": 153,
   "metadata": {},
   "outputs": [
    {
     "data": {
      "text/plain": [
       "DATETIME       datetime64[ns]\n",
       "TOTALDEMAND           float64\n",
       "TEMPERATURE           float64\n",
       "DAYOFWEEK               int64\n",
       "SUMMER                  int64\n",
       "AUTUMN                  int64\n",
       "WINTER                  int64\n",
       "SPRING                  int64\n",
       "WEEKDAY                 int64\n",
       "HOLIDAY                 int64\n",
       "dtype: object"
      ]
     },
     "execution_count": 153,
     "metadata": {},
     "output_type": "execute_result"
    }
   ],
   "source": [
    "final_data.dtypes\n"
   ]
  },
  {
   "cell_type": "code",
   "execution_count": 154,
   "metadata": {},
   "outputs": [
    {
     "data": {
      "text/plain": [
       "52431   2017-01-02 00:00:00\n",
       "52433   2017-01-02 00:30:00\n",
       "52435   2017-01-02 01:00:00\n",
       "52437   2017-01-02 01:30:00\n",
       "52439   2017-01-02 02:00:00\n",
       "                ...        \n",
       "57988   2017-04-25 21:30:00\n",
       "57990   2017-04-25 22:00:00\n",
       "57992   2017-04-25 22:30:00\n",
       "57994   2017-04-25 23:00:00\n",
       "57996   2017-04-25 23:30:00\n",
       "Name: DATETIME, Length: 96, dtype: datetime64[ns]"
      ]
     },
     "execution_count": 154,
     "metadata": {},
     "output_type": "execute_result"
    }
   ],
   "source": [
    "duplicate_data = final_data[final_data.duplicated(subset='DATETIME')]\n",
    "duplicate_data.DATETIME.sort_values()"
   ]
  },
  {
   "cell_type": "code",
   "execution_count": 157,
   "metadata": {},
   "outputs": [
    {
     "data": {
      "text/html": [
       "<div>\n",
       "<style scoped>\n",
       "    .dataframe tbody tr th:only-of-type {\n",
       "        vertical-align: middle;\n",
       "    }\n",
       "\n",
       "    .dataframe tbody tr th {\n",
       "        vertical-align: top;\n",
       "    }\n",
       "\n",
       "    .dataframe thead th {\n",
       "        text-align: right;\n",
       "    }\n",
       "</style>\n",
       "<table border=\"1\" class=\"dataframe\">\n",
       "  <thead>\n",
       "    <tr style=\"text-align: right;\">\n",
       "      <th></th>\n",
       "      <th>DATETIME</th>\n",
       "      <th>TOTALDEMAND</th>\n",
       "      <th>TEMPERATURE</th>\n",
       "      <th>DAYOFWEEK</th>\n",
       "      <th>SUMMER</th>\n",
       "      <th>AUTUMN</th>\n",
       "      <th>WINTER</th>\n",
       "      <th>SPRING</th>\n",
       "      <th>WEEKDAY</th>\n",
       "      <th>HOLIDAY</th>\n",
       "    </tr>\n",
       "  </thead>\n",
       "  <tbody>\n",
       "    <tr>\n",
       "      <th>52430</th>\n",
       "      <td>2017-01-02 00:00:00</td>\n",
       "      <td>6847.27</td>\n",
       "      <td>22.6</td>\n",
       "      <td>1</td>\n",
       "      <td>1</td>\n",
       "      <td>0</td>\n",
       "      <td>0</td>\n",
       "      <td>0</td>\n",
       "      <td>1</td>\n",
       "      <td>1</td>\n",
       "    </tr>\n",
       "    <tr>\n",
       "      <th>52431</th>\n",
       "      <td>2017-01-02 00:00:00</td>\n",
       "      <td>6847.27</td>\n",
       "      <td>22.6</td>\n",
       "      <td>1</td>\n",
       "      <td>1</td>\n",
       "      <td>0</td>\n",
       "      <td>0</td>\n",
       "      <td>0</td>\n",
       "      <td>1</td>\n",
       "      <td>1</td>\n",
       "    </tr>\n",
       "    <tr>\n",
       "      <th>52432</th>\n",
       "      <td>2017-01-02 00:30:00</td>\n",
       "      <td>6678.33</td>\n",
       "      <td>22.9</td>\n",
       "      <td>1</td>\n",
       "      <td>1</td>\n",
       "      <td>0</td>\n",
       "      <td>0</td>\n",
       "      <td>0</td>\n",
       "      <td>1</td>\n",
       "      <td>1</td>\n",
       "    </tr>\n",
       "    <tr>\n",
       "      <th>52433</th>\n",
       "      <td>2017-01-02 00:30:00</td>\n",
       "      <td>6678.33</td>\n",
       "      <td>22.9</td>\n",
       "      <td>1</td>\n",
       "      <td>1</td>\n",
       "      <td>0</td>\n",
       "      <td>0</td>\n",
       "      <td>0</td>\n",
       "      <td>1</td>\n",
       "      <td>1</td>\n",
       "    </tr>\n",
       "    <tr>\n",
       "      <th>52434</th>\n",
       "      <td>2017-01-02 01:00:00</td>\n",
       "      <td>6487.85</td>\n",
       "      <td>22.9</td>\n",
       "      <td>1</td>\n",
       "      <td>1</td>\n",
       "      <td>0</td>\n",
       "      <td>0</td>\n",
       "      <td>0</td>\n",
       "      <td>1</td>\n",
       "      <td>1</td>\n",
       "    </tr>\n",
       "    <tr>\n",
       "      <th>...</th>\n",
       "      <td>...</td>\n",
       "      <td>...</td>\n",
       "      <td>...</td>\n",
       "      <td>...</td>\n",
       "      <td>...</td>\n",
       "      <td>...</td>\n",
       "      <td>...</td>\n",
       "      <td>...</td>\n",
       "      <td>...</td>\n",
       "      <td>...</td>\n",
       "    </tr>\n",
       "    <tr>\n",
       "      <th>57992</th>\n",
       "      <td>2017-04-25 22:30:00</td>\n",
       "      <td>7041.88</td>\n",
       "      <td>19.8</td>\n",
       "      <td>2</td>\n",
       "      <td>0</td>\n",
       "      <td>1</td>\n",
       "      <td>0</td>\n",
       "      <td>0</td>\n",
       "      <td>1</td>\n",
       "      <td>1</td>\n",
       "    </tr>\n",
       "    <tr>\n",
       "      <th>57993</th>\n",
       "      <td>2017-04-25 23:00:00</td>\n",
       "      <td>6880.41</td>\n",
       "      <td>19.5</td>\n",
       "      <td>2</td>\n",
       "      <td>0</td>\n",
       "      <td>1</td>\n",
       "      <td>0</td>\n",
       "      <td>0</td>\n",
       "      <td>1</td>\n",
       "      <td>1</td>\n",
       "    </tr>\n",
       "    <tr>\n",
       "      <th>57994</th>\n",
       "      <td>2017-04-25 23:00:00</td>\n",
       "      <td>6880.41</td>\n",
       "      <td>19.5</td>\n",
       "      <td>2</td>\n",
       "      <td>0</td>\n",
       "      <td>1</td>\n",
       "      <td>0</td>\n",
       "      <td>0</td>\n",
       "      <td>1</td>\n",
       "      <td>1</td>\n",
       "    </tr>\n",
       "    <tr>\n",
       "      <th>57995</th>\n",
       "      <td>2017-04-25 23:30:00</td>\n",
       "      <td>6877.11</td>\n",
       "      <td>18.9</td>\n",
       "      <td>2</td>\n",
       "      <td>0</td>\n",
       "      <td>1</td>\n",
       "      <td>0</td>\n",
       "      <td>0</td>\n",
       "      <td>1</td>\n",
       "      <td>1</td>\n",
       "    </tr>\n",
       "    <tr>\n",
       "      <th>57996</th>\n",
       "      <td>2017-04-25 23:30:00</td>\n",
       "      <td>6877.11</td>\n",
       "      <td>18.9</td>\n",
       "      <td>2</td>\n",
       "      <td>0</td>\n",
       "      <td>1</td>\n",
       "      <td>0</td>\n",
       "      <td>0</td>\n",
       "      <td>1</td>\n",
       "      <td>1</td>\n",
       "    </tr>\n",
       "  </tbody>\n",
       "</table>\n",
       "<p>192 rows × 10 columns</p>\n",
       "</div>"
      ],
      "text/plain": [
       "                 DATETIME  TOTALDEMAND  TEMPERATURE  DAYOFWEEK  SUMMER  \\\n",
       "52430 2017-01-02 00:00:00      6847.27         22.6          1       1   \n",
       "52431 2017-01-02 00:00:00      6847.27         22.6          1       1   \n",
       "52432 2017-01-02 00:30:00      6678.33         22.9          1       1   \n",
       "52433 2017-01-02 00:30:00      6678.33         22.9          1       1   \n",
       "52434 2017-01-02 01:00:00      6487.85         22.9          1       1   \n",
       "...                   ...          ...          ...        ...     ...   \n",
       "57992 2017-04-25 22:30:00      7041.88         19.8          2       0   \n",
       "57993 2017-04-25 23:00:00      6880.41         19.5          2       0   \n",
       "57994 2017-04-25 23:00:00      6880.41         19.5          2       0   \n",
       "57995 2017-04-25 23:30:00      6877.11         18.9          2       0   \n",
       "57996 2017-04-25 23:30:00      6877.11         18.9          2       0   \n",
       "\n",
       "       AUTUMN  WINTER  SPRING  WEEKDAY  HOLIDAY  \n",
       "52430       0       0       0        1        1  \n",
       "52431       0       0       0        1        1  \n",
       "52432       0       0       0        1        1  \n",
       "52433       0       0       0        1        1  \n",
       "52434       0       0       0        1        1  \n",
       "...       ...     ...     ...      ...      ...  \n",
       "57992       1       0       0        1        1  \n",
       "57993       1       0       0        1        1  \n",
       "57994       1       0       0        1        1  \n",
       "57995       1       0       0        1        1  \n",
       "57996       1       0       0        1        1  \n",
       "\n",
       "[192 rows x 10 columns]"
      ]
     },
     "execution_count": 157,
     "metadata": {},
     "output_type": "execute_result"
    }
   ],
   "source": [
    "#show all the duplicates rows\n",
    "final_data[final_data.duplicated(subset='DATETIME', keep=False)]"
   ]
  },
  {
   "cell_type": "code",
   "execution_count": 158,
   "metadata": {},
   "outputs": [],
   "source": [
    "#remove duplicates\n",
    "final_data = final_data.drop_duplicates(subset='DATETIME')\n"
   ]
  },
  {
   "cell_type": "code",
   "execution_count": 159,
   "metadata": {},
   "outputs": [
    {
     "data": {
      "text/plain": [
       "(126129, 10)"
      ]
     },
     "execution_count": 159,
     "metadata": {},
     "output_type": "execute_result"
    }
   ],
   "source": [
    "final_data.shape\n"
   ]
  },
  {
   "cell_type": "code",
   "execution_count": 161,
   "metadata": {},
   "outputs": [],
   "source": [
    "#export the data to a new csv file\n",
    "data.to_csv('../data/final_data_nsw.csv', index=False)"
   ]
  },
  {
   "cell_type": "code",
   "execution_count": 160,
   "metadata": {},
   "outputs": [],
   "source": [
    "#export the data to a new zip file\n",
    "final_data.to_csv('../data/final_data_nsw.zip', index=False, compression='zip')\n"
   ]
  }
 ],
 "metadata": {
  "kernelspec": {
   "display_name": "zzsc9020-group3",
   "language": "python",
   "name": "python3"
  },
  "language_info": {
   "codemirror_mode": {
    "name": "ipython",
    "version": 3
   },
   "file_extension": ".py",
   "mimetype": "text/x-python",
   "name": "python",
   "nbconvert_exporter": "python",
   "pygments_lexer": "ipython3",
   "version": "3.10.13"
  }
 },
 "nbformat": 4,
 "nbformat_minor": 2
}
