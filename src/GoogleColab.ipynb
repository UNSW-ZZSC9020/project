{
 "cells": [
  {
   "cell_type": "markdown",
   "metadata": {
    "id": "KvzS9oPYBJQZ"
   },
   "source": [
    "<a href=\"https://colab.research.google.com/github/UNSW-ZZSC9020/project/blob/main/src/GoogleColab.ipynb\" target=\"_parent\">\n",
    "  <img src=\"https://colab.research.google.com/assets/colab-badge.svg\" alt=\"Open In Colab\"/>\n",
    "</a>"
   ]
  },
  {
   "cell_type": "markdown",
   "metadata": {},
   "source": [
    "# Welcome to ZZSC9020\n",
    "\n",
    "This Python notebook shows how to clone the course GitHub repository on Google Colab.\n",
    "\n",
    "You can develop your data analysis on Google Colab without downloading the data to your computer."
   ]
  },
  {
   "cell_type": "code",
   "execution_count": null,
   "metadata": {
    "colab": {
     "base_uri": "https://localhost:8080/"
    },
    "id": "brynNOEi6FzS",
    "outputId": "41c6d4a4-bc13-4b14-c75c-951705efe1fb"
   },
   "outputs": [],
   "source": [
    "# Clone the ZZSC9020 project repository from GitHub\n",
    "!git clone https://github.com/UNSW-ZZSC9020/project.git"
   ]
  },
  {
   "cell_type": "code",
   "execution_count": null,
   "metadata": {
    "id": "44VdVtiX7Ukn"
   },
   "outputs": [],
   "source": [
    "# Create a data folder\n",
    "!mkdir -p data\n",
    "# Joint forecastdemand_nsw files into a single file. \n",
    "!cat project/data/forecastdemand_nsw.csv.zip.part* > data/forecastdemand_nsw.csv.zip"
   ]
  },
  {
   "cell_type": "code",
   "execution_count": null,
   "metadata": {
    "colab": {
     "base_uri": "https://localhost:8080/"
    },
    "id": "GdnC6dlz8agZ",
    "outputId": "fee967de-019b-44d9-83c0-526577b1baf0"
   },
   "outputs": [],
   "source": [
    "# Unzip the data files into the data folder\n",
    "!unzip data/forecastdemand_nsw.csv.zip -d data\n",
    "!unzip project/data/temperature_nsw.csv.zip -d data\n",
    "!unzip project/data/totaldemand_nsw.csv.zip -d data\n",
    "\n",
    "# Remove forecastdemand_nsw.csv.zip\n",
    "!rm data/forecastdemand_nsw.csv.zip"
   ]
  }
 ],
 "metadata": {
  "colab": {
   "collapsed_sections": [],
   "name": "GoogleColab.ipynb",
   "provenance": []
  },
  "kernelspec": {
   "display_name": "Python 3 (ipykernel)",
   "language": "python",
   "name": "python3"
  },
  "language_info": {
   "codemirror_mode": {
    "name": "ipython",
    "version": 3
   },
   "file_extension": ".py",
   "mimetype": "text/x-python",
   "name": "python",
   "nbconvert_exporter": "python",
   "pygments_lexer": "ipython3",
   "version": "3.10.9"
  }
 },
 "nbformat": 4,
 "nbformat_minor": 4
}
