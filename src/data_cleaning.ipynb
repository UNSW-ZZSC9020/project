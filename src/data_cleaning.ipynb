{
 "cells": [
  {
   "cell_type": "markdown",
   "metadata": {},
   "source": [
    "# Initial data processing"
   ]
  },
  {
   "cell_type": "markdown",
   "metadata": {},
   "source": [
    "### Unzip data "
   ]
  },
  {
   "cell_type": "code",
   "execution_count": 5,
   "metadata": {},
   "outputs": [],
   "source": [
    "import pandas as pd"
   ]
  },
  {
   "cell_type": "code",
   "execution_count": 4,
   "metadata": {},
   "outputs": [],
   "source": [
    "# Joint forecastdemand_nsw files into a single file.\n",
    "#data/NSW/forecastdemand_nsw.csv.zip.partaa\n",
    "!cat ../data/NSW/forecastdemand_nsw.csv.zip.parta* > ../data/NSW/forecastdemand_nsw.csv.zip"
   ]
  },
  {
   "cell_type": "code",
   "execution_count": 1,
   "metadata": {},
   "outputs": [
    {
     "name": "stdout",
     "output_type": "stream",
     "text": [
      "Archive:  ../data/NSW/forecastdemand_nsw.csv.zip\n",
      "  inflating: ../data/forecastdemand_nsw.csv  \n",
      "Archive:  ../data/NSW/temperature_nsw.csv.zip\n",
      "  inflating: ../data/temperature_nsw.csv  \n",
      "Archive:  ../data/NSW/totaldemand_nsw.csv.zip\n",
      "  inflating: ../data/totaldemand_nsw.csv  \n"
     ]
    }
   ],
   "source": [
    "# Unzip the data files into the data folder\n",
    "!unzip ../data/NSW/forecastdemand_nsw.csv.zip -d ../data\n",
    "!unzip ../data/NSW/temperature_nsw.csv.zip -d ../data\n",
    "!unzip ../data/NSW/totaldemand_nsw.csv.zip -d ../data"
   ]
  },
  {
   "cell_type": "markdown",
   "metadata": {},
   "source": [
    "### Forecast Demand Data"
   ]
  },
  {
   "cell_type": "code",
   "execution_count": 6,
   "metadata": {},
   "outputs": [],
   "source": [
    "#read csv files into pandas dataframes\n",
    "forecastdemand_nsw = pd.read_csv('../data/forecastdemand_nsw.csv')"
   ]
  },
  {
   "cell_type": "code",
   "execution_count": 8,
   "metadata": {},
   "outputs": [
    {
     "data": {
      "text/plain": [
       "(10906019, 6)"
      ]
     },
     "execution_count": 8,
     "metadata": {},
     "output_type": "execute_result"
    }
   ],
   "source": [
    "forecastdemand_nsw.shape"
   ]
  },
  {
   "cell_type": "code",
   "execution_count": 7,
   "metadata": {},
   "outputs": [
    {
     "data": {
      "text/html": [
       "<div>\n",
       "<style scoped>\n",
       "    .dataframe tbody tr th:only-of-type {\n",
       "        vertical-align: middle;\n",
       "    }\n",
       "\n",
       "    .dataframe tbody tr th {\n",
       "        vertical-align: top;\n",
       "    }\n",
       "\n",
       "    .dataframe thead th {\n",
       "        text-align: right;\n",
       "    }\n",
       "</style>\n",
       "<table border=\"1\" class=\"dataframe\">\n",
       "  <thead>\n",
       "    <tr style=\"text-align: right;\">\n",
       "      <th></th>\n",
       "      <th>PREDISPATCHSEQNO</th>\n",
       "      <th>REGIONID</th>\n",
       "      <th>PERIODID</th>\n",
       "      <th>FORECASTDEMAND</th>\n",
       "      <th>LASTCHANGED</th>\n",
       "      <th>DATETIME</th>\n",
       "    </tr>\n",
       "  </thead>\n",
       "  <tbody>\n",
       "    <tr>\n",
       "      <th>0</th>\n",
       "      <td>2009123018</td>\n",
       "      <td>NSW1</td>\n",
       "      <td>71</td>\n",
       "      <td>7832.04</td>\n",
       "      <td>2009-12-30 12:31:49</td>\n",
       "      <td>2010-01-01 00:00:00</td>\n",
       "    </tr>\n",
       "    <tr>\n",
       "      <th>1</th>\n",
       "      <td>2009123019</td>\n",
       "      <td>NSW1</td>\n",
       "      <td>70</td>\n",
       "      <td>7832.04</td>\n",
       "      <td>2009-12-30 13:01:43</td>\n",
       "      <td>2010-01-01 00:00:00</td>\n",
       "    </tr>\n",
       "    <tr>\n",
       "      <th>2</th>\n",
       "      <td>2009123020</td>\n",
       "      <td>NSW1</td>\n",
       "      <td>69</td>\n",
       "      <td>7832.03</td>\n",
       "      <td>2009-12-30 13:31:36</td>\n",
       "      <td>2010-01-01 00:00:00</td>\n",
       "    </tr>\n",
       "    <tr>\n",
       "      <th>3</th>\n",
       "      <td>2009123021</td>\n",
       "      <td>NSW1</td>\n",
       "      <td>68</td>\n",
       "      <td>7832.03</td>\n",
       "      <td>2009-12-30 14:01:44</td>\n",
       "      <td>2010-01-01 00:00:00</td>\n",
       "    </tr>\n",
       "    <tr>\n",
       "      <th>4</th>\n",
       "      <td>2009123022</td>\n",
       "      <td>NSW1</td>\n",
       "      <td>67</td>\n",
       "      <td>7830.96</td>\n",
       "      <td>2009-12-30 14:31:35</td>\n",
       "      <td>2010-01-01 00:00:00</td>\n",
       "    </tr>\n",
       "  </tbody>\n",
       "</table>\n",
       "</div>"
      ],
      "text/plain": [
       "   PREDISPATCHSEQNO REGIONID  PERIODID  FORECASTDEMAND          LASTCHANGED  \\\n",
       "0        2009123018     NSW1        71         7832.04  2009-12-30 12:31:49   \n",
       "1        2009123019     NSW1        70         7832.04  2009-12-30 13:01:43   \n",
       "2        2009123020     NSW1        69         7832.03  2009-12-30 13:31:36   \n",
       "3        2009123021     NSW1        68         7832.03  2009-12-30 14:01:44   \n",
       "4        2009123022     NSW1        67         7830.96  2009-12-30 14:31:35   \n",
       "\n",
       "              DATETIME  \n",
       "0  2010-01-01 00:00:00  \n",
       "1  2010-01-01 00:00:00  \n",
       "2  2010-01-01 00:00:00  \n",
       "3  2010-01-01 00:00:00  \n",
       "4  2010-01-01 00:00:00  "
      ]
     },
     "execution_count": 7,
     "metadata": {},
     "output_type": "execute_result"
    }
   ],
   "source": [
    "forecastdemand_nsw.head()\n"
   ]
  },
  {
   "cell_type": "code",
   "execution_count": 9,
   "metadata": {},
   "outputs": [
    {
     "data": {
      "text/plain": [
       "REGIONID\n",
       "NSW1    10906019\n",
       "Name: count, dtype: int64"
      ]
     },
     "execution_count": 9,
     "metadata": {},
     "output_type": "execute_result"
    }
   ],
   "source": [
    "#count unique values in the REGIONID \n",
    "forecastdemand_nsw['REGIONID'].value_counts()\n"
   ]
  },
  {
   "cell_type": "code",
   "execution_count": 10,
   "metadata": {},
   "outputs": [
    {
     "data": {
      "text/plain": [
       "PERIODID\n",
       "32    196505\n",
       "17    196505\n",
       "30    196505\n",
       "29    196505\n",
       "28    196505\n",
       "       ...  \n",
       "75     20467\n",
       "76     16373\n",
       "77     12279\n",
       "78      8187\n",
       "79      4094\n",
       "Name: count, Length: 79, dtype: int64"
      ]
     },
     "execution_count": 10,
     "metadata": {},
     "output_type": "execute_result"
    }
   ],
   "source": [
    "forecastdemand_nsw['PERIODID'].value_counts()"
   ]
  },
  {
   "cell_type": "code",
   "execution_count": 11,
   "metadata": {},
   "outputs": [
    {
     "data": {
      "text/plain": [
       "('2010-01-01 00:00:00', '2021-03-18 00:00:00')"
      ]
     },
     "execution_count": 11,
     "metadata": {},
     "output_type": "execute_result"
    }
   ],
   "source": [
    "#min and max values in the forecastdemand_nsw dataframe DATETIME column \n",
    "forecastdemand_nsw['DATETIME'].min(), forecastdemand_nsw['DATETIME'].max()\n"
   ]
  },
  {
   "cell_type": "code",
   "execution_count": 12,
   "metadata": {},
   "outputs": [
    {
     "data": {
      "text/html": [
       "<div>\n",
       "<style scoped>\n",
       "    .dataframe tbody tr th:only-of-type {\n",
       "        vertical-align: middle;\n",
       "    }\n",
       "\n",
       "    .dataframe tbody tr th {\n",
       "        vertical-align: top;\n",
       "    }\n",
       "\n",
       "    .dataframe thead th {\n",
       "        text-align: right;\n",
       "    }\n",
       "</style>\n",
       "<table border=\"1\" class=\"dataframe\">\n",
       "  <thead>\n",
       "    <tr style=\"text-align: right;\">\n",
       "      <th></th>\n",
       "      <th>PREDISPATCHSEQNO</th>\n",
       "      <th>PERIODID</th>\n",
       "      <th>FORECASTDEMAND</th>\n",
       "    </tr>\n",
       "  </thead>\n",
       "  <tbody>\n",
       "    <tr>\n",
       "      <th>count</th>\n",
       "      <td>1.090602e+07</td>\n",
       "      <td>1.090602e+07</td>\n",
       "      <td>1.090602e+07</td>\n",
       "    </tr>\n",
       "    <tr>\n",
       "      <th>mean</th>\n",
       "      <td>2.015176e+09</td>\n",
       "      <td>2.997893e+01</td>\n",
       "      <td>8.066719e+03</td>\n",
       "    </tr>\n",
       "    <tr>\n",
       "      <th>std</th>\n",
       "      <td>3.234616e+06</td>\n",
       "      <td>1.869682e+01</td>\n",
       "      <td>1.315959e+03</td>\n",
       "    </tr>\n",
       "    <tr>\n",
       "      <th>min</th>\n",
       "      <td>2.009123e+09</td>\n",
       "      <td>1.000000e+00</td>\n",
       "      <td>4.422460e+03</td>\n",
       "    </tr>\n",
       "    <tr>\n",
       "      <th>25%</th>\n",
       "      <td>2.012102e+09</td>\n",
       "      <td>1.400000e+01</td>\n",
       "      <td>7.077970e+03</td>\n",
       "    </tr>\n",
       "    <tr>\n",
       "      <th>50%</th>\n",
       "      <td>2.015081e+09</td>\n",
       "      <td>2.800000e+01</td>\n",
       "      <td>8.007550e+03</td>\n",
       "    </tr>\n",
       "    <tr>\n",
       "      <th>75%</th>\n",
       "      <td>2.018053e+09</td>\n",
       "      <td>4.300000e+01</td>\n",
       "      <td>8.925610e+03</td>\n",
       "    </tr>\n",
       "    <tr>\n",
       "      <th>max</th>\n",
       "      <td>2.021032e+09</td>\n",
       "      <td>7.900000e+01</td>\n",
       "      <td>1.473666e+04</td>\n",
       "    </tr>\n",
       "  </tbody>\n",
       "</table>\n",
       "</div>"
      ],
      "text/plain": [
       "       PREDISPATCHSEQNO      PERIODID  FORECASTDEMAND\n",
       "count      1.090602e+07  1.090602e+07    1.090602e+07\n",
       "mean       2.015176e+09  2.997893e+01    8.066719e+03\n",
       "std        3.234616e+06  1.869682e+01    1.315959e+03\n",
       "min        2.009123e+09  1.000000e+00    4.422460e+03\n",
       "25%        2.012102e+09  1.400000e+01    7.077970e+03\n",
       "50%        2.015081e+09  2.800000e+01    8.007550e+03\n",
       "75%        2.018053e+09  4.300000e+01    8.925610e+03\n",
       "max        2.021032e+09  7.900000e+01    1.473666e+04"
      ]
     },
     "execution_count": 12,
     "metadata": {},
     "output_type": "execute_result"
    }
   ],
   "source": [
    "#show summary statistics\n",
    "forecastdemand_nsw.describe()"
   ]
  },
  {
   "cell_type": "code",
   "execution_count": 13,
   "metadata": {},
   "outputs": [
    {
     "data": {
      "text/plain": [
       "PREDISPATCHSEQNO      int64\n",
       "REGIONID             object\n",
       "PERIODID              int64\n",
       "FORECASTDEMAND      float64\n",
       "LASTCHANGED          object\n",
       "DATETIME             object\n",
       "dtype: object"
      ]
     },
     "execution_count": 13,
     "metadata": {},
     "output_type": "execute_result"
    }
   ],
   "source": [
    "#data types of the forecastdemand_nsw dataframe\n",
    "forecastdemand_nsw.dtypes"
   ]
  },
  {
   "cell_type": "code",
   "execution_count": 14,
   "metadata": {},
   "outputs": [
    {
     "data": {
      "text/plain": [
       "PREDISPATCHSEQNO    0\n",
       "REGIONID            0\n",
       "PERIODID            0\n",
       "FORECASTDEMAND      0\n",
       "LASTCHANGED         0\n",
       "DATETIME            0\n",
       "dtype: int64"
      ]
     },
     "execution_count": 14,
     "metadata": {},
     "output_type": "execute_result"
    }
   ],
   "source": [
    "#check for missing values\n",
    "forecastdemand_nsw.isnull().sum()"
   ]
  },
  {
   "cell_type": "code",
   "execution_count": 16,
   "metadata": {},
   "outputs": [
    {
     "data": {
      "text/html": [
       "<div>\n",
       "<style scoped>\n",
       "    .dataframe tbody tr th:only-of-type {\n",
       "        vertical-align: middle;\n",
       "    }\n",
       "\n",
       "    .dataframe tbody tr th {\n",
       "        vertical-align: top;\n",
       "    }\n",
       "\n",
       "    .dataframe thead th {\n",
       "        text-align: right;\n",
       "    }\n",
       "</style>\n",
       "<table border=\"1\" class=\"dataframe\">\n",
       "  <thead>\n",
       "    <tr style=\"text-align: right;\">\n",
       "      <th></th>\n",
       "      <th>PREDISPATCHSEQNO</th>\n",
       "      <th>REGIONID</th>\n",
       "      <th>PERIODID</th>\n",
       "      <th>FORECASTDEMAND</th>\n",
       "      <th>LASTCHANGED</th>\n",
       "      <th>DATETIME</th>\n",
       "    </tr>\n",
       "  </thead>\n",
       "  <tbody>\n",
       "    <tr>\n",
       "      <th>6920370</th>\n",
       "      <td>2017021023</td>\n",
       "      <td>NSW1</td>\n",
       "      <td>3</td>\n",
       "      <td>14736.66</td>\n",
       "      <td>2017-02-10 15:01:21</td>\n",
       "      <td>2017-02-10 16:30:00</td>\n",
       "    </tr>\n",
       "    <tr>\n",
       "      <th>6920365</th>\n",
       "      <td>2017021018</td>\n",
       "      <td>NSW1</td>\n",
       "      <td>8</td>\n",
       "      <td>14734.89</td>\n",
       "      <td>2017-02-10 12:31:40</td>\n",
       "      <td>2017-02-10 16:30:00</td>\n",
       "    </tr>\n",
       "    <tr>\n",
       "      <th>6920364</th>\n",
       "      <td>2017021017</td>\n",
       "      <td>NSW1</td>\n",
       "      <td>9</td>\n",
       "      <td>14734.40</td>\n",
       "      <td>2017-02-10 12:00:45</td>\n",
       "      <td>2017-02-10 16:30:00</td>\n",
       "    </tr>\n",
       "    <tr>\n",
       "      <th>6920362</th>\n",
       "      <td>2017021015</td>\n",
       "      <td>NSW1</td>\n",
       "      <td>11</td>\n",
       "      <td>14733.99</td>\n",
       "      <td>2017-02-10 11:00:48</td>\n",
       "      <td>2017-02-10 16:30:00</td>\n",
       "    </tr>\n",
       "    <tr>\n",
       "      <th>6920363</th>\n",
       "      <td>2017021016</td>\n",
       "      <td>NSW1</td>\n",
       "      <td>10</td>\n",
       "      <td>14732.91</td>\n",
       "      <td>2017-02-10 11:30:48</td>\n",
       "      <td>2017-02-10 16:30:00</td>\n",
       "    </tr>\n",
       "    <tr>\n",
       "      <th>6920369</th>\n",
       "      <td>2017021022</td>\n",
       "      <td>NSW1</td>\n",
       "      <td>4</td>\n",
       "      <td>14726.67</td>\n",
       "      <td>2017-02-10 14:31:33</td>\n",
       "      <td>2017-02-10 16:30:00</td>\n",
       "    </tr>\n",
       "    <tr>\n",
       "      <th>6920366</th>\n",
       "      <td>2017021019</td>\n",
       "      <td>NSW1</td>\n",
       "      <td>7</td>\n",
       "      <td>14724.60</td>\n",
       "      <td>2017-02-10 13:01:33</td>\n",
       "      <td>2017-02-10 16:30:00</td>\n",
       "    </tr>\n",
       "    <tr>\n",
       "      <th>6920368</th>\n",
       "      <td>2017021021</td>\n",
       "      <td>NSW1</td>\n",
       "      <td>5</td>\n",
       "      <td>14724.20</td>\n",
       "      <td>2017-02-10 14:01:29</td>\n",
       "      <td>2017-02-10 16:30:00</td>\n",
       "    </tr>\n",
       "    <tr>\n",
       "      <th>6920367</th>\n",
       "      <td>2017021020</td>\n",
       "      <td>NSW1</td>\n",
       "      <td>6</td>\n",
       "      <td>14721.74</td>\n",
       "      <td>2017-02-10 13:31:23</td>\n",
       "      <td>2017-02-10 16:30:00</td>\n",
       "    </tr>\n",
       "    <tr>\n",
       "      <th>6920418</th>\n",
       "      <td>2017021015</td>\n",
       "      <td>NSW1</td>\n",
       "      <td>12</td>\n",
       "      <td>14680.47</td>\n",
       "      <td>2017-02-10 11:00:48</td>\n",
       "      <td>2017-02-10 17:00:00</td>\n",
       "    </tr>\n",
       "  </tbody>\n",
       "</table>\n",
       "</div>"
      ],
      "text/plain": [
       "         PREDISPATCHSEQNO REGIONID  PERIODID  FORECASTDEMAND  \\\n",
       "6920370        2017021023     NSW1         3        14736.66   \n",
       "6920365        2017021018     NSW1         8        14734.89   \n",
       "6920364        2017021017     NSW1         9        14734.40   \n",
       "6920362        2017021015     NSW1        11        14733.99   \n",
       "6920363        2017021016     NSW1        10        14732.91   \n",
       "6920369        2017021022     NSW1         4        14726.67   \n",
       "6920366        2017021019     NSW1         7        14724.60   \n",
       "6920368        2017021021     NSW1         5        14724.20   \n",
       "6920367        2017021020     NSW1         6        14721.74   \n",
       "6920418        2017021015     NSW1        12        14680.47   \n",
       "\n",
       "                 LASTCHANGED             DATETIME  \n",
       "6920370  2017-02-10 15:01:21  2017-02-10 16:30:00  \n",
       "6920365  2017-02-10 12:31:40  2017-02-10 16:30:00  \n",
       "6920364  2017-02-10 12:00:45  2017-02-10 16:30:00  \n",
       "6920362  2017-02-10 11:00:48  2017-02-10 16:30:00  \n",
       "6920363  2017-02-10 11:30:48  2017-02-10 16:30:00  \n",
       "6920369  2017-02-10 14:31:33  2017-02-10 16:30:00  \n",
       "6920366  2017-02-10 13:01:33  2017-02-10 16:30:00  \n",
       "6920368  2017-02-10 14:01:29  2017-02-10 16:30:00  \n",
       "6920367  2017-02-10 13:31:23  2017-02-10 16:30:00  \n",
       "6920418  2017-02-10 11:00:48  2017-02-10 17:00:00  "
      ]
     },
     "execution_count": 16,
     "metadata": {},
     "output_type": "execute_result"
    }
   ],
   "source": [
    "#find rows for  10 max values of FORECASTDEMAND \n",
    "forecastdemand_nsw.nlargest(10, 'FORECASTDEMAND')\n"
   ]
  },
  {
   "cell_type": "code",
   "execution_count": 17,
   "metadata": {},
   "outputs": [
    {
     "data": {
      "text/html": [
       "<div>\n",
       "<style scoped>\n",
       "    .dataframe tbody tr th:only-of-type {\n",
       "        vertical-align: middle;\n",
       "    }\n",
       "\n",
       "    .dataframe tbody tr th {\n",
       "        vertical-align: top;\n",
       "    }\n",
       "\n",
       "    .dataframe thead th {\n",
       "        text-align: right;\n",
       "    }\n",
       "</style>\n",
       "<table border=\"1\" class=\"dataframe\">\n",
       "  <thead>\n",
       "    <tr style=\"text-align: right;\">\n",
       "      <th></th>\n",
       "      <th>PREDISPATCHSEQNO</th>\n",
       "      <th>REGIONID</th>\n",
       "      <th>PERIODID</th>\n",
       "      <th>FORECASTDEMAND</th>\n",
       "      <th>LASTCHANGED</th>\n",
       "      <th>DATETIME</th>\n",
       "    </tr>\n",
       "  </thead>\n",
       "  <tbody>\n",
       "    <tr>\n",
       "      <th>5168899</th>\n",
       "      <td>2015042319</td>\n",
       "      <td>NSW1</td>\n",
       "      <td>78</td>\n",
       "      <td>4422.46</td>\n",
       "      <td>2015-04-23 13:02:09</td>\n",
       "      <td>2015-04-25 04:00:00</td>\n",
       "    </tr>\n",
       "    <tr>\n",
       "      <th>5168900</th>\n",
       "      <td>2015042320</td>\n",
       "      <td>NSW1</td>\n",
       "      <td>77</td>\n",
       "      <td>4423.27</td>\n",
       "      <td>2015-04-23 13:32:15</td>\n",
       "      <td>2015-04-25 04:00:00</td>\n",
       "    </tr>\n",
       "    <tr>\n",
       "      <th>5168901</th>\n",
       "      <td>2015042321</td>\n",
       "      <td>NSW1</td>\n",
       "      <td>76</td>\n",
       "      <td>4423.39</td>\n",
       "      <td>2015-04-23 14:01:57</td>\n",
       "      <td>2015-04-25 04:00:00</td>\n",
       "    </tr>\n",
       "    <tr>\n",
       "      <th>5168902</th>\n",
       "      <td>2015042322</td>\n",
       "      <td>NSW1</td>\n",
       "      <td>75</td>\n",
       "      <td>4424.85</td>\n",
       "      <td>2015-04-23 14:32:18</td>\n",
       "      <td>2015-04-25 04:00:00</td>\n",
       "    </tr>\n",
       "    <tr>\n",
       "      <th>5168898</th>\n",
       "      <td>2015042318</td>\n",
       "      <td>NSW1</td>\n",
       "      <td>79</td>\n",
       "      <td>4426.58</td>\n",
       "      <td>2015-04-23 12:32:10</td>\n",
       "      <td>2015-04-25 04:00:00</td>\n",
       "    </tr>\n",
       "    <tr>\n",
       "      <th>5168821</th>\n",
       "      <td>2015042319</td>\n",
       "      <td>NSW1</td>\n",
       "      <td>77</td>\n",
       "      <td>4504.09</td>\n",
       "      <td>2015-04-23 13:02:09</td>\n",
       "      <td>2015-04-25 03:30:00</td>\n",
       "    </tr>\n",
       "    <tr>\n",
       "      <th>5168822</th>\n",
       "      <td>2015042320</td>\n",
       "      <td>NSW1</td>\n",
       "      <td>76</td>\n",
       "      <td>4505.09</td>\n",
       "      <td>2015-04-23 13:32:15</td>\n",
       "      <td>2015-04-25 03:30:00</td>\n",
       "    </tr>\n",
       "    <tr>\n",
       "      <th>5168823</th>\n",
       "      <td>2015042321</td>\n",
       "      <td>NSW1</td>\n",
       "      <td>75</td>\n",
       "      <td>4505.28</td>\n",
       "      <td>2015-04-23 14:01:57</td>\n",
       "      <td>2015-04-25 03:30:00</td>\n",
       "    </tr>\n",
       "    <tr>\n",
       "      <th>5168820</th>\n",
       "      <td>2015042318</td>\n",
       "      <td>NSW1</td>\n",
       "      <td>78</td>\n",
       "      <td>4506.25</td>\n",
       "      <td>2015-04-23 12:32:10</td>\n",
       "      <td>2015-04-25 03:30:00</td>\n",
       "    </tr>\n",
       "    <tr>\n",
       "      <th>5168824</th>\n",
       "      <td>2015042322</td>\n",
       "      <td>NSW1</td>\n",
       "      <td>74</td>\n",
       "      <td>4507.47</td>\n",
       "      <td>2015-04-23 14:32:18</td>\n",
       "      <td>2015-04-25 03:30:00</td>\n",
       "    </tr>\n",
       "  </tbody>\n",
       "</table>\n",
       "</div>"
      ],
      "text/plain": [
       "         PREDISPATCHSEQNO REGIONID  PERIODID  FORECASTDEMAND  \\\n",
       "5168899        2015042319     NSW1        78         4422.46   \n",
       "5168900        2015042320     NSW1        77         4423.27   \n",
       "5168901        2015042321     NSW1        76         4423.39   \n",
       "5168902        2015042322     NSW1        75         4424.85   \n",
       "5168898        2015042318     NSW1        79         4426.58   \n",
       "5168821        2015042319     NSW1        77         4504.09   \n",
       "5168822        2015042320     NSW1        76         4505.09   \n",
       "5168823        2015042321     NSW1        75         4505.28   \n",
       "5168820        2015042318     NSW1        78         4506.25   \n",
       "5168824        2015042322     NSW1        74         4507.47   \n",
       "\n",
       "                 LASTCHANGED             DATETIME  \n",
       "5168899  2015-04-23 13:02:09  2015-04-25 04:00:00  \n",
       "5168900  2015-04-23 13:32:15  2015-04-25 04:00:00  \n",
       "5168901  2015-04-23 14:01:57  2015-04-25 04:00:00  \n",
       "5168902  2015-04-23 14:32:18  2015-04-25 04:00:00  \n",
       "5168898  2015-04-23 12:32:10  2015-04-25 04:00:00  \n",
       "5168821  2015-04-23 13:02:09  2015-04-25 03:30:00  \n",
       "5168822  2015-04-23 13:32:15  2015-04-25 03:30:00  \n",
       "5168823  2015-04-23 14:01:57  2015-04-25 03:30:00  \n",
       "5168820  2015-04-23 12:32:10  2015-04-25 03:30:00  \n",
       "5168824  2015-04-23 14:32:18  2015-04-25 03:30:00  "
      ]
     },
     "execution_count": 17,
     "metadata": {},
     "output_type": "execute_result"
    }
   ],
   "source": [
    "#find rows for  10 min values of FORECASTDEMAND \n",
    "forecastdemand_nsw.nsmallest(10, 'FORECASTDEMAND')"
   ]
  },
  {
   "cell_type": "code",
   "execution_count": 18,
   "metadata": {},
   "outputs": [],
   "source": [
    "#change the data type of the DATETIME column to datetime\n",
    "forecastdemand_nsw['DATETIME'] = pd.to_datetime(forecastdemand_nsw['DATETIME'])\n"
   ]
  },
  {
   "cell_type": "code",
   "execution_count": 19,
   "metadata": {},
   "outputs": [
    {
     "data": {
      "text/plain": [
       "PREDISPATCHSEQNO             int64\n",
       "REGIONID                    object\n",
       "PERIODID                     int64\n",
       "FORECASTDEMAND             float64\n",
       "LASTCHANGED                 object\n",
       "DATETIME            datetime64[ns]\n",
       "dtype: object"
      ]
     },
     "execution_count": 19,
     "metadata": {},
     "output_type": "execute_result"
    }
   ],
   "source": [
    "forecastdemand_nsw.dtypes"
   ]
  },
  {
   "cell_type": "markdown",
   "metadata": {},
   "source": [
    "Total Demand NSW"
   ]
  },
  {
   "cell_type": "code",
   "execution_count": 20,
   "metadata": {},
   "outputs": [],
   "source": [
    "totaldemand_nsw = pd.read_csv('../data/totaldemand_nsw.csv')"
   ]
  },
  {
   "cell_type": "code",
   "execution_count": 21,
   "metadata": {},
   "outputs": [
    {
     "data": {
      "text/plain": [
       "(196513, 3)"
      ]
     },
     "execution_count": 21,
     "metadata": {},
     "output_type": "execute_result"
    }
   ],
   "source": [
    "totaldemand_nsw.shape"
   ]
  },
  {
   "cell_type": "code",
   "execution_count": 22,
   "metadata": {},
   "outputs": [
    {
     "data": {
      "text/plain": [
       "DATETIME       0\n",
       "TOTALDEMAND    0\n",
       "REGIONID       0\n",
       "dtype: int64"
      ]
     },
     "execution_count": 22,
     "metadata": {},
     "output_type": "execute_result"
    }
   ],
   "source": [
    "#check for missing values\n",
    "totaldemand_nsw.isnull().sum()"
   ]
  },
  {
   "cell_type": "code",
   "execution_count": 23,
   "metadata": {},
   "outputs": [
    {
     "data": {
      "text/html": [
       "<div>\n",
       "<style scoped>\n",
       "    .dataframe tbody tr th:only-of-type {\n",
       "        vertical-align: middle;\n",
       "    }\n",
       "\n",
       "    .dataframe tbody tr th {\n",
       "        vertical-align: top;\n",
       "    }\n",
       "\n",
       "    .dataframe thead th {\n",
       "        text-align: right;\n",
       "    }\n",
       "</style>\n",
       "<table border=\"1\" class=\"dataframe\">\n",
       "  <thead>\n",
       "    <tr style=\"text-align: right;\">\n",
       "      <th></th>\n",
       "      <th>TOTALDEMAND</th>\n",
       "    </tr>\n",
       "  </thead>\n",
       "  <tbody>\n",
       "    <tr>\n",
       "      <th>count</th>\n",
       "      <td>196513.000000</td>\n",
       "    </tr>\n",
       "    <tr>\n",
       "      <th>mean</th>\n",
       "      <td>8113.145859</td>\n",
       "    </tr>\n",
       "    <tr>\n",
       "      <th>std</th>\n",
       "      <td>1299.532774</td>\n",
       "    </tr>\n",
       "    <tr>\n",
       "      <th>min</th>\n",
       "      <td>5074.630000</td>\n",
       "    </tr>\n",
       "    <tr>\n",
       "      <th>25%</th>\n",
       "      <td>7150.070000</td>\n",
       "    </tr>\n",
       "    <tr>\n",
       "      <th>50%</th>\n",
       "      <td>8053.230000</td>\n",
       "    </tr>\n",
       "    <tr>\n",
       "      <th>75%</th>\n",
       "      <td>8958.550000</td>\n",
       "    </tr>\n",
       "    <tr>\n",
       "      <th>max</th>\n",
       "      <td>14579.860000</td>\n",
       "    </tr>\n",
       "  </tbody>\n",
       "</table>\n",
       "</div>"
      ],
      "text/plain": [
       "         TOTALDEMAND\n",
       "count  196513.000000\n",
       "mean     8113.145859\n",
       "std      1299.532774\n",
       "min      5074.630000\n",
       "25%      7150.070000\n",
       "50%      8053.230000\n",
       "75%      8958.550000\n",
       "max     14579.860000"
      ]
     },
     "execution_count": 23,
     "metadata": {},
     "output_type": "execute_result"
    }
   ],
   "source": [
    "#summary statistics of the totaldemand_nsw dataframe\n",
    "totaldemand_nsw.describe()"
   ]
  },
  {
   "cell_type": "code",
   "execution_count": 24,
   "metadata": {},
   "outputs": [
    {
     "data": {
      "text/plain": [
       "DATETIME        object\n",
       "TOTALDEMAND    float64\n",
       "REGIONID        object\n",
       "dtype: object"
      ]
     },
     "execution_count": 24,
     "metadata": {},
     "output_type": "execute_result"
    }
   ],
   "source": [
    "totaldemand_nsw.dtypes"
   ]
  },
  {
   "cell_type": "code",
   "execution_count": 25,
   "metadata": {},
   "outputs": [
    {
     "data": {
      "text/plain": [
       "('1/1/2010 0:00', '9/9/2020 9:30')"
      ]
     },
     "execution_count": 25,
     "metadata": {},
     "output_type": "execute_result"
    }
   ],
   "source": [
    "#min and max values in the totaldemand_nsw dataframe DATETIME column\n",
    "totaldemand_nsw['DATETIME'].min(), totaldemand_nsw['DATETIME'].max()"
   ]
  },
  {
   "cell_type": "code",
   "execution_count": 26,
   "metadata": {},
   "outputs": [
    {
     "data": {
      "text/plain": [
       "(5074.63, 14579.86)"
      ]
     },
     "execution_count": 26,
     "metadata": {},
     "output_type": "execute_result"
    }
   ],
   "source": [
    "#min and max values in the totaldemand_nsw dataframe TOTALDEMAND column\n",
    "totaldemand_nsw['TOTALDEMAND'].min(), totaldemand_nsw['TOTALDEMAND'].max()"
   ]
  },
  {
   "cell_type": "code",
   "execution_count": 27,
   "metadata": {},
   "outputs": [
    {
     "data": {
      "text/html": [
       "<div>\n",
       "<style scoped>\n",
       "    .dataframe tbody tr th:only-of-type {\n",
       "        vertical-align: middle;\n",
       "    }\n",
       "\n",
       "    .dataframe tbody tr th {\n",
       "        vertical-align: top;\n",
       "    }\n",
       "\n",
       "    .dataframe thead th {\n",
       "        text-align: right;\n",
       "    }\n",
       "</style>\n",
       "<table border=\"1\" class=\"dataframe\">\n",
       "  <thead>\n",
       "    <tr style=\"text-align: right;\">\n",
       "      <th></th>\n",
       "      <th>DATETIME</th>\n",
       "      <th>TOTALDEMAND</th>\n",
       "      <th>REGIONID</th>\n",
       "    </tr>\n",
       "  </thead>\n",
       "  <tbody>\n",
       "    <tr>\n",
       "      <th>19041</th>\n",
       "      <td>1/2/2011 16:30</td>\n",
       "      <td>14579.86</td>\n",
       "      <td>NSW1</td>\n",
       "    </tr>\n",
       "    <tr>\n",
       "      <th>19040</th>\n",
       "      <td>1/2/2011 16:00</td>\n",
       "      <td>14525.73</td>\n",
       "      <td>NSW1</td>\n",
       "    </tr>\n",
       "    <tr>\n",
       "      <th>19136</th>\n",
       "      <td>3/2/2011 16:00</td>\n",
       "      <td>14449.88</td>\n",
       "      <td>NSW1</td>\n",
       "    </tr>\n",
       "    <tr>\n",
       "      <th>19042</th>\n",
       "      <td>1/2/2011 17:00</td>\n",
       "      <td>14440.04</td>\n",
       "      <td>NSW1</td>\n",
       "    </tr>\n",
       "    <tr>\n",
       "      <th>19088</th>\n",
       "      <td>2/2/2011 16:00</td>\n",
       "      <td>14417.03</td>\n",
       "      <td>NSW1</td>\n",
       "    </tr>\n",
       "    <tr>\n",
       "      <th>19135</th>\n",
       "      <td>3/2/2011 15:30</td>\n",
       "      <td>14408.45</td>\n",
       "      <td>NSW1</td>\n",
       "    </tr>\n",
       "    <tr>\n",
       "      <th>19087</th>\n",
       "      <td>2/2/2011 15:30</td>\n",
       "      <td>14403.24</td>\n",
       "      <td>NSW1</td>\n",
       "    </tr>\n",
       "    <tr>\n",
       "      <th>19039</th>\n",
       "      <td>1/2/2011 15:30</td>\n",
       "      <td>14337.52</td>\n",
       "      <td>NSW1</td>\n",
       "    </tr>\n",
       "    <tr>\n",
       "      <th>19137</th>\n",
       "      <td>3/2/2011 16:30</td>\n",
       "      <td>14333.12</td>\n",
       "      <td>NSW1</td>\n",
       "    </tr>\n",
       "    <tr>\n",
       "      <th>19138</th>\n",
       "      <td>3/2/2011 17:00</td>\n",
       "      <td>14315.54</td>\n",
       "      <td>NSW1</td>\n",
       "    </tr>\n",
       "  </tbody>\n",
       "</table>\n",
       "</div>"
      ],
      "text/plain": [
       "             DATETIME  TOTALDEMAND REGIONID\n",
       "19041  1/2/2011 16:30     14579.86     NSW1\n",
       "19040  1/2/2011 16:00     14525.73     NSW1\n",
       "19136  3/2/2011 16:00     14449.88     NSW1\n",
       "19042  1/2/2011 17:00     14440.04     NSW1\n",
       "19088  2/2/2011 16:00     14417.03     NSW1\n",
       "19135  3/2/2011 15:30     14408.45     NSW1\n",
       "19087  2/2/2011 15:30     14403.24     NSW1\n",
       "19039  1/2/2011 15:30     14337.52     NSW1\n",
       "19137  3/2/2011 16:30     14333.12     NSW1\n",
       "19138  3/2/2011 17:00     14315.54     NSW1"
      ]
     },
     "execution_count": 27,
     "metadata": {},
     "output_type": "execute_result"
    }
   ],
   "source": [
    "#10 max values in the totaldemand_nsw dataframe TOTALDEMAND column\n",
    "totaldemand_nsw.nlargest(10, 'TOTALDEMAND')"
   ]
  },
  {
   "cell_type": "code",
   "execution_count": 29,
   "metadata": {},
   "outputs": [
    {
     "data": {
      "text/html": [
       "<div>\n",
       "<style scoped>\n",
       "    .dataframe tbody tr th:only-of-type {\n",
       "        vertical-align: middle;\n",
       "    }\n",
       "\n",
       "    .dataframe tbody tr th {\n",
       "        vertical-align: top;\n",
       "    }\n",
       "\n",
       "    .dataframe thead th {\n",
       "        text-align: right;\n",
       "    }\n",
       "</style>\n",
       "<table border=\"1\" class=\"dataframe\">\n",
       "  <thead>\n",
       "    <tr style=\"text-align: right;\">\n",
       "      <th></th>\n",
       "      <th>DATETIME</th>\n",
       "      <th>TOTALDEMAND</th>\n",
       "      <th>REGIONID</th>\n",
       "    </tr>\n",
       "  </thead>\n",
       "  <tbody>\n",
       "    <tr>\n",
       "      <th>52328</th>\n",
       "      <td>26/12/2012 4:00</td>\n",
       "      <td>5074.63</td>\n",
       "      <td>NSW1</td>\n",
       "    </tr>\n",
       "    <tr>\n",
       "      <th>52327</th>\n",
       "      <td>26/12/2012 3:30</td>\n",
       "      <td>5088.73</td>\n",
       "      <td>NSW1</td>\n",
       "    </tr>\n",
       "    <tr>\n",
       "      <th>69847</th>\n",
       "      <td>26/12/2013 3:30</td>\n",
       "      <td>5113.03</td>\n",
       "      <td>NSW1</td>\n",
       "    </tr>\n",
       "    <tr>\n",
       "      <th>69848</th>\n",
       "      <td>26/12/2013 4:00</td>\n",
       "      <td>5124.08</td>\n",
       "      <td>NSW1</td>\n",
       "    </tr>\n",
       "    <tr>\n",
       "      <th>87368</th>\n",
       "      <td>26/12/2014 4:00</td>\n",
       "      <td>5138.11</td>\n",
       "      <td>NSW1</td>\n",
       "    </tr>\n",
       "    <tr>\n",
       "      <th>52326</th>\n",
       "      <td>26/12/2012 3:00</td>\n",
       "      <td>5141.31</td>\n",
       "      <td>NSW1</td>\n",
       "    </tr>\n",
       "    <tr>\n",
       "      <th>87367</th>\n",
       "      <td>26/12/2014 3:30</td>\n",
       "      <td>5143.15</td>\n",
       "      <td>NSW1</td>\n",
       "    </tr>\n",
       "    <tr>\n",
       "      <th>52329</th>\n",
       "      <td>26/12/2012 4:30</td>\n",
       "      <td>5147.59</td>\n",
       "      <td>NSW1</td>\n",
       "    </tr>\n",
       "    <tr>\n",
       "      <th>69846</th>\n",
       "      <td>26/12/2013 3:00</td>\n",
       "      <td>5152.93</td>\n",
       "      <td>NSW1</td>\n",
       "    </tr>\n",
       "    <tr>\n",
       "      <th>69849</th>\n",
       "      <td>26/12/2013 4:30</td>\n",
       "      <td>5169.80</td>\n",
       "      <td>NSW1</td>\n",
       "    </tr>\n",
       "  </tbody>\n",
       "</table>\n",
       "</div>"
      ],
      "text/plain": [
       "              DATETIME  TOTALDEMAND REGIONID\n",
       "52328  26/12/2012 4:00      5074.63     NSW1\n",
       "52327  26/12/2012 3:30      5088.73     NSW1\n",
       "69847  26/12/2013 3:30      5113.03     NSW1\n",
       "69848  26/12/2013 4:00      5124.08     NSW1\n",
       "87368  26/12/2014 4:00      5138.11     NSW1\n",
       "52326  26/12/2012 3:00      5141.31     NSW1\n",
       "87367  26/12/2014 3:30      5143.15     NSW1\n",
       "52329  26/12/2012 4:30      5147.59     NSW1\n",
       "69846  26/12/2013 3:00      5152.93     NSW1\n",
       "69849  26/12/2013 4:30      5169.80     NSW1"
      ]
     },
     "execution_count": 29,
     "metadata": {},
     "output_type": "execute_result"
    }
   ],
   "source": [
    "#10 min values in the TOTALDEMAND\n",
    "totaldemand_nsw.nsmallest(10, 'TOTALDEMAND')"
   ]
  },
  {
   "cell_type": "code",
   "execution_count": 30,
   "metadata": {},
   "outputs": [
    {
     "data": {
      "text/plain": [
       "REGIONID\n",
       "NSW1    196513\n",
       "Name: count, dtype: int64"
      ]
     },
     "execution_count": 30,
     "metadata": {},
     "output_type": "execute_result"
    }
   ],
   "source": [
    "#count unique values in the totaldemand_nsw dataframe REGIONID column\n",
    "totaldemand_nsw['REGIONID'].value_counts()"
   ]
  },
  {
   "cell_type": "code",
   "execution_count": 31,
   "metadata": {},
   "outputs": [
    {
     "data": {
      "text/plain": [
       "(196513, 3)"
      ]
     },
     "execution_count": 31,
     "metadata": {},
     "output_type": "execute_result"
    }
   ],
   "source": [
    "#totaldemand_nsw dataframe shape\n",
    "totaldemand_nsw.shape"
   ]
  },
  {
   "cell_type": "markdown",
   "metadata": {},
   "source": [
    "### Temperature NSW Data\n"
   ]
  },
  {
   "cell_type": "code",
   "execution_count": 32,
   "metadata": {},
   "outputs": [],
   "source": [
    "#read csv files into pandas dataframes for temperature and totaldemand\n",
    "temperature_nsw = pd.read_csv('../data/temperature_nsw.csv')"
   ]
  },
  {
   "cell_type": "code",
   "execution_count": 33,
   "metadata": {},
   "outputs": [
    {
     "data": {
      "text/plain": [
       "(220326, 3)"
      ]
     },
     "execution_count": 33,
     "metadata": {},
     "output_type": "execute_result"
    }
   ],
   "source": [
    "#temperature_nsw dataframe shape\n",
    "temperature_nsw.shape"
   ]
  },
  {
   "cell_type": "code",
   "execution_count": 34,
   "metadata": {},
   "outputs": [
    {
     "data": {
      "text/plain": [
       "LOCATION       0\n",
       "DATETIME       0\n",
       "TEMPERATURE    0\n",
       "dtype: int64"
      ]
     },
     "execution_count": 34,
     "metadata": {},
     "output_type": "execute_result"
    }
   ],
   "source": [
    "#check for missing values\n",
    "temperature_nsw.isnull().sum()"
   ]
  },
  {
   "cell_type": "code",
   "execution_count": 35,
   "metadata": {},
   "outputs": [
    {
     "data": {
      "text/html": [
       "<div>\n",
       "<style scoped>\n",
       "    .dataframe tbody tr th:only-of-type {\n",
       "        vertical-align: middle;\n",
       "    }\n",
       "\n",
       "    .dataframe tbody tr th {\n",
       "        vertical-align: top;\n",
       "    }\n",
       "\n",
       "    .dataframe thead th {\n",
       "        text-align: right;\n",
       "    }\n",
       "</style>\n",
       "<table border=\"1\" class=\"dataframe\">\n",
       "  <thead>\n",
       "    <tr style=\"text-align: right;\">\n",
       "      <th></th>\n",
       "      <th>TEMPERATURE</th>\n",
       "    </tr>\n",
       "  </thead>\n",
       "  <tbody>\n",
       "    <tr>\n",
       "      <th>count</th>\n",
       "      <td>220326.000000</td>\n",
       "    </tr>\n",
       "    <tr>\n",
       "      <th>mean</th>\n",
       "      <td>17.418827</td>\n",
       "    </tr>\n",
       "    <tr>\n",
       "      <th>std</th>\n",
       "      <td>5.849763</td>\n",
       "    </tr>\n",
       "    <tr>\n",
       "      <th>min</th>\n",
       "      <td>-1.300000</td>\n",
       "    </tr>\n",
       "    <tr>\n",
       "      <th>25%</th>\n",
       "      <td>13.400000</td>\n",
       "    </tr>\n",
       "    <tr>\n",
       "      <th>50%</th>\n",
       "      <td>17.700000</td>\n",
       "    </tr>\n",
       "    <tr>\n",
       "      <th>75%</th>\n",
       "      <td>21.300000</td>\n",
       "    </tr>\n",
       "    <tr>\n",
       "      <th>max</th>\n",
       "      <td>44.700000</td>\n",
       "    </tr>\n",
       "  </tbody>\n",
       "</table>\n",
       "</div>"
      ],
      "text/plain": [
       "         TEMPERATURE\n",
       "count  220326.000000\n",
       "mean       17.418827\n",
       "std         5.849763\n",
       "min        -1.300000\n",
       "25%        13.400000\n",
       "50%        17.700000\n",
       "75%        21.300000\n",
       "max        44.700000"
      ]
     },
     "execution_count": 35,
     "metadata": {},
     "output_type": "execute_result"
    }
   ],
   "source": [
    "#summary statistics of the temperature_nsw dataframe\n",
    "temperature_nsw.describe()"
   ]
  },
  {
   "cell_type": "code",
   "execution_count": 36,
   "metadata": {},
   "outputs": [
    {
     "data": {
      "text/html": [
       "<div>\n",
       "<style scoped>\n",
       "    .dataframe tbody tr th:only-of-type {\n",
       "        vertical-align: middle;\n",
       "    }\n",
       "\n",
       "    .dataframe tbody tr th {\n",
       "        vertical-align: top;\n",
       "    }\n",
       "\n",
       "    .dataframe thead th {\n",
       "        text-align: right;\n",
       "    }\n",
       "</style>\n",
       "<table border=\"1\" class=\"dataframe\">\n",
       "  <thead>\n",
       "    <tr style=\"text-align: right;\">\n",
       "      <th></th>\n",
       "      <th>LOCATION</th>\n",
       "      <th>DATETIME</th>\n",
       "      <th>TEMPERATURE</th>\n",
       "    </tr>\n",
       "  </thead>\n",
       "  <tbody>\n",
       "    <tr>\n",
       "      <th>196404</th>\n",
       "      <td>Bankstown</td>\n",
       "      <td>4/1/2020 13:00</td>\n",
       "      <td>44.7</td>\n",
       "    </tr>\n",
       "    <tr>\n",
       "      <th>196405</th>\n",
       "      <td>Bankstown</td>\n",
       "      <td>4/1/2020 13:30</td>\n",
       "      <td>44.6</td>\n",
       "    </tr>\n",
       "    <tr>\n",
       "      <th>59193</th>\n",
       "      <td>Bankstown</td>\n",
       "      <td>18/1/2013 13:00</td>\n",
       "      <td>44.4</td>\n",
       "    </tr>\n",
       "    <tr>\n",
       "      <th>196403</th>\n",
       "      <td>Bankstown</td>\n",
       "      <td>4/1/2020 12:30</td>\n",
       "      <td>44.1</td>\n",
       "    </tr>\n",
       "    <tr>\n",
       "      <th>157349</th>\n",
       "      <td>Bankstown</td>\n",
       "      <td>7/1/2018 13:00</td>\n",
       "      <td>43.9</td>\n",
       "    </tr>\n",
       "    <tr>\n",
       "      <th>196402</th>\n",
       "      <td>Bankstown</td>\n",
       "      <td>4/1/2020 12:00</td>\n",
       "      <td>43.9</td>\n",
       "    </tr>\n",
       "    <tr>\n",
       "      <th>59191</th>\n",
       "      <td>Bankstown</td>\n",
       "      <td>18/1/2013 12:28</td>\n",
       "      <td>43.6</td>\n",
       "    </tr>\n",
       "    <tr>\n",
       "      <th>59190</th>\n",
       "      <td>Bankstown</td>\n",
       "      <td>18/1/2013 12:09</td>\n",
       "      <td>43.5</td>\n",
       "    </tr>\n",
       "    <tr>\n",
       "      <th>59192</th>\n",
       "      <td>Bankstown</td>\n",
       "      <td>18/1/2013 12:30</td>\n",
       "      <td>43.5</td>\n",
       "    </tr>\n",
       "    <tr>\n",
       "      <th>59194</th>\n",
       "      <td>Bankstown</td>\n",
       "      <td>18/1/2013 13:09</td>\n",
       "      <td>43.5</td>\n",
       "    </tr>\n",
       "  </tbody>\n",
       "</table>\n",
       "</div>"
      ],
      "text/plain": [
       "         LOCATION         DATETIME  TEMPERATURE\n",
       "196404  Bankstown   4/1/2020 13:00         44.7\n",
       "196405  Bankstown   4/1/2020 13:30         44.6\n",
       "59193   Bankstown  18/1/2013 13:00         44.4\n",
       "196403  Bankstown   4/1/2020 12:30         44.1\n",
       "157349  Bankstown   7/1/2018 13:00         43.9\n",
       "196402  Bankstown   4/1/2020 12:00         43.9\n",
       "59191   Bankstown  18/1/2013 12:28         43.6\n",
       "59190   Bankstown  18/1/2013 12:09         43.5\n",
       "59192   Bankstown  18/1/2013 12:30         43.5\n",
       "59194   Bankstown  18/1/2013 13:09         43.5"
      ]
     },
     "execution_count": 36,
     "metadata": {},
     "output_type": "execute_result"
    }
   ],
   "source": [
    "#highest 10 temperature in the temperature_nsw dataframe\n",
    "temperature_nsw.nlargest(10, 'TEMPERATURE')"
   ]
  },
  {
   "cell_type": "code",
   "execution_count": 37,
   "metadata": {},
   "outputs": [
    {
     "data": {
      "text/html": [
       "<div>\n",
       "<style scoped>\n",
       "    .dataframe tbody tr th:only-of-type {\n",
       "        vertical-align: middle;\n",
       "    }\n",
       "\n",
       "    .dataframe tbody tr th {\n",
       "        vertical-align: top;\n",
       "    }\n",
       "\n",
       "    .dataframe thead th {\n",
       "        text-align: right;\n",
       "    }\n",
       "</style>\n",
       "<table border=\"1\" class=\"dataframe\">\n",
       "  <thead>\n",
       "    <tr style=\"text-align: right;\">\n",
       "      <th></th>\n",
       "      <th>LOCATION</th>\n",
       "      <th>DATETIME</th>\n",
       "      <th>TEMPERATURE</th>\n",
       "    </tr>\n",
       "  </thead>\n",
       "  <tbody>\n",
       "    <tr>\n",
       "      <th>167568</th>\n",
       "      <td>Bankstown</td>\n",
       "      <td>16/7/2018 6:30</td>\n",
       "      <td>-1.3</td>\n",
       "    </tr>\n",
       "    <tr>\n",
       "      <th>167567</th>\n",
       "      <td>Bankstown</td>\n",
       "      <td>16/7/2018 6:00</td>\n",
       "      <td>-1.2</td>\n",
       "    </tr>\n",
       "    <tr>\n",
       "      <th>167564</th>\n",
       "      <td>Bankstown</td>\n",
       "      <td>16/7/2018 4:30</td>\n",
       "      <td>-0.9</td>\n",
       "    </tr>\n",
       "    <tr>\n",
       "      <th>167565</th>\n",
       "      <td>Bankstown</td>\n",
       "      <td>16/7/2018 5:00</td>\n",
       "      <td>-0.7</td>\n",
       "    </tr>\n",
       "    <tr>\n",
       "      <th>167566</th>\n",
       "      <td>Bankstown</td>\n",
       "      <td>16/7/2018 5:30</td>\n",
       "      <td>-0.7</td>\n",
       "    </tr>\n",
       "    <tr>\n",
       "      <th>167569</th>\n",
       "      <td>Bankstown</td>\n",
       "      <td>16/7/2018 7:00</td>\n",
       "      <td>-0.6</td>\n",
       "    </tr>\n",
       "    <tr>\n",
       "      <th>9401</th>\n",
       "      <td>Bankstown</td>\n",
       "      <td>30/6/2010 5:00</td>\n",
       "      <td>-0.5</td>\n",
       "    </tr>\n",
       "    <tr>\n",
       "      <th>167560</th>\n",
       "      <td>Bankstown</td>\n",
       "      <td>16/7/2018 2:30</td>\n",
       "      <td>-0.5</td>\n",
       "    </tr>\n",
       "    <tr>\n",
       "      <th>9402</th>\n",
       "      <td>Bankstown</td>\n",
       "      <td>30/6/2010 5:30</td>\n",
       "      <td>-0.4</td>\n",
       "    </tr>\n",
       "    <tr>\n",
       "      <th>167562</th>\n",
       "      <td>Bankstown</td>\n",
       "      <td>16/7/2018 3:30</td>\n",
       "      <td>-0.4</td>\n",
       "    </tr>\n",
       "  </tbody>\n",
       "</table>\n",
       "</div>"
      ],
      "text/plain": [
       "         LOCATION        DATETIME  TEMPERATURE\n",
       "167568  Bankstown  16/7/2018 6:30         -1.3\n",
       "167567  Bankstown  16/7/2018 6:00         -1.2\n",
       "167564  Bankstown  16/7/2018 4:30         -0.9\n",
       "167565  Bankstown  16/7/2018 5:00         -0.7\n",
       "167566  Bankstown  16/7/2018 5:30         -0.7\n",
       "167569  Bankstown  16/7/2018 7:00         -0.6\n",
       "9401    Bankstown  30/6/2010 5:00         -0.5\n",
       "167560  Bankstown  16/7/2018 2:30         -0.5\n",
       "9402    Bankstown  30/6/2010 5:30         -0.4\n",
       "167562  Bankstown  16/7/2018 3:30         -0.4"
      ]
     },
     "execution_count": 37,
     "metadata": {},
     "output_type": "execute_result"
    }
   ],
   "source": [
    "#lowest 10 temperature in the temperature_nsw dataframe\n",
    "temperature_nsw.nsmallest(10, 'TEMPERATURE')"
   ]
  },
  {
   "cell_type": "markdown",
   "metadata": {},
   "source": [
    "### Data wrangling"
   ]
  },
  {
   "cell_type": "code",
   "execution_count": null,
   "metadata": {},
   "outputs": [],
   "source": []
  },
  {
   "cell_type": "code",
   "execution_count": 38,
   "metadata": {},
   "outputs": [],
   "source": [
    "#copy totaldemand_nsw to a new dataframe\n",
    "totaldemand_nsw_copy = totaldemand_nsw.copy()\n",
    "#remove REGIONID column from totaldemand_nsw_copy dataframe\n",
    "totaldemand_nsw_copy.drop('REGIONID', axis=1, inplace=True)"
   ]
  },
  {
   "cell_type": "code",
   "execution_count": 39,
   "metadata": {},
   "outputs": [
    {
     "data": {
      "text/html": [
       "<div>\n",
       "<style scoped>\n",
       "    .dataframe tbody tr th:only-of-type {\n",
       "        vertical-align: middle;\n",
       "    }\n",
       "\n",
       "    .dataframe tbody tr th {\n",
       "        vertical-align: top;\n",
       "    }\n",
       "\n",
       "    .dataframe thead th {\n",
       "        text-align: right;\n",
       "    }\n",
       "</style>\n",
       "<table border=\"1\" class=\"dataframe\">\n",
       "  <thead>\n",
       "    <tr style=\"text-align: right;\">\n",
       "      <th></th>\n",
       "      <th>DATETIME</th>\n",
       "      <th>TOTALDEMAND</th>\n",
       "    </tr>\n",
       "  </thead>\n",
       "  <tbody>\n",
       "    <tr>\n",
       "      <th>0</th>\n",
       "      <td>1/1/2010 0:00</td>\n",
       "      <td>8038.00</td>\n",
       "    </tr>\n",
       "    <tr>\n",
       "      <th>1</th>\n",
       "      <td>1/1/2010 0:30</td>\n",
       "      <td>7809.31</td>\n",
       "    </tr>\n",
       "    <tr>\n",
       "      <th>2</th>\n",
       "      <td>1/1/2010 1:00</td>\n",
       "      <td>7483.69</td>\n",
       "    </tr>\n",
       "    <tr>\n",
       "      <th>3</th>\n",
       "      <td>1/1/2010 1:30</td>\n",
       "      <td>7117.23</td>\n",
       "    </tr>\n",
       "    <tr>\n",
       "      <th>4</th>\n",
       "      <td>1/1/2010 2:00</td>\n",
       "      <td>6812.03</td>\n",
       "    </tr>\n",
       "  </tbody>\n",
       "</table>\n",
       "</div>"
      ],
      "text/plain": [
       "        DATETIME  TOTALDEMAND\n",
       "0  1/1/2010 0:00      8038.00\n",
       "1  1/1/2010 0:30      7809.31\n",
       "2  1/1/2010 1:00      7483.69\n",
       "3  1/1/2010 1:30      7117.23\n",
       "4  1/1/2010 2:00      6812.03"
      ]
     },
     "execution_count": 39,
     "metadata": {},
     "output_type": "execute_result"
    }
   ],
   "source": [
    "totaldemand_nsw_copy.head()"
   ]
  },
  {
   "cell_type": "code",
   "execution_count": 40,
   "metadata": {},
   "outputs": [],
   "source": [
    "#create a new DATE column with only date from DATETIME table datetime format is YYYY-MM-DD HH:MM:SS\n",
    "totaldemand_nsw_copy['DATE'] = totaldemand_nsw_copy['DATETIME'].str.split(' ').str[0]"
   ]
  },
  {
   "cell_type": "code",
   "execution_count": 41,
   "metadata": {},
   "outputs": [],
   "source": [
    "#convert datetime format to %m/%d/%Y %H:%M \n",
    "totaldemand_nsw_copy['DATETIME'] = pd.to_datetime(totaldemand_nsw_copy['DATETIME'], format='%d/%m/%Y %H:%M')"
   ]
  },
  {
   "cell_type": "code",
   "execution_count": 42,
   "metadata": {},
   "outputs": [],
   "source": [
    "#convert DATE column to datetime data type\n",
    "totaldemand_nsw_copy['DATE'] = pd.to_datetime(totaldemand_nsw_copy['DATE'], format='%d/%m/%Y')"
   ]
  },
  {
   "cell_type": "code",
   "execution_count": 43,
   "metadata": {},
   "outputs": [],
   "source": [
    "#copy year from DATE column to a new column\n",
    "totaldemand_nsw_copy['YEAR'] = totaldemand_nsw_copy['DATE'].dt.year"
   ]
  },
  {
   "cell_type": "code",
   "execution_count": 90,
   "metadata": {},
   "outputs": [
    {
     "data": {
      "text/plain": [
       "DATETIME       datetime64[ns]\n",
       "TOTALDEMAND           float64\n",
       "DATE           datetime64[ns]\n",
       "YEAR                    int32\n",
       "dtype: object"
      ]
     },
     "execution_count": 90,
     "metadata": {},
     "output_type": "execute_result"
    }
   ],
   "source": [
    "totaldemand_nsw_copy.dtypes"
   ]
  },
  {
   "cell_type": "code",
   "execution_count": 44,
   "metadata": {},
   "outputs": [
    {
     "data": {
      "text/plain": [
       "YEAR\n",
       "2010    1.543019e+08\n",
       "2011    1.529197e+08\n",
       "2012    1.449939e+08\n",
       "2013    1.398375e+08\n",
       "2014    1.387199e+08\n",
       "2015    1.398054e+08\n",
       "2016    1.401571e+08\n",
       "2017    1.411039e+08\n",
       "2018    1.401582e+08\n",
       "2019    1.395390e+08\n",
       "2020    1.354453e+08\n",
       "2021    2.735699e+07\n",
       "Name: TOTALDEMAND, dtype: float64"
      ]
     },
     "execution_count": 44,
     "metadata": {},
     "output_type": "execute_result"
    }
   ],
   "source": [
    "#show TOTALDEMAND data aggregated by YEAR\n",
    "totaldemand_nsw_copy.groupby('YEAR')['TOTALDEMAND'].sum()"
   ]
  },
  {
   "cell_type": "code",
   "execution_count": 45,
   "metadata": {},
   "outputs": [
    {
     "data": {
      "text/plain": [
       "YEAR\n",
       "2010    1.543019e+08\n",
       "2011    1.529197e+08\n",
       "2012    1.449939e+08\n",
       "2013    1.398375e+08\n",
       "2014    1.387199e+08\n",
       "2015    1.398054e+08\n",
       "2016    1.401571e+08\n",
       "2017    1.411039e+08\n",
       "2018    1.401582e+08\n",
       "2019    1.395390e+08\n",
       "2020    1.354453e+08\n",
       "2021    2.735699e+07\n",
       "Name: TOTALDEMAND, dtype: float64"
      ]
     },
     "execution_count": 45,
     "metadata": {},
     "output_type": "execute_result"
    }
   ],
   "source": [
    "\n",
    "#copy TOTALDEMAND data aggregated by YEAR in a new df\n",
    "total_demand_nsw_year = totaldemand_nsw_copy.groupby('YEAR')['TOTALDEMAND'].sum()\n",
    "total_demand_nsw_year"
   ]
  },
  {
   "cell_type": "code",
   "execution_count": null,
   "metadata": {},
   "outputs": [],
   "source": []
  },
  {
   "cell_type": "code",
   "execution_count": 46,
   "metadata": {},
   "outputs": [
    {
     "data": {
      "image/png": "[encoded data removed]",
      "text/plain": [
       "<Figure size 640x480 with 1 Axes>"
      ]
     },
     "metadata": {},
     "output_type": "display_data"
    }
   ],
   "source": [
    "#plot totaldemand_nsw_copy data using matplotlib with YEAR 2015 data\n",
    "import matplotlib.pyplot as plt\n",
    "totaldemand_nsw_copy[totaldemand_nsw_copy['YEAR'] == 2015].plot(x='DATE', y='TOTALDEMAND', title='Total Demand in NSW in 2015')\n",
    "plt.show()"
   ]
  },
  {
   "cell_type": "code",
   "execution_count": 47,
   "metadata": {},
   "outputs": [
    {
     "data": {
      "text/plain": [
       "<Axes: title={'center': 'Total Demand in NSW in 2010'}, xlabel='DATE'>"
      ]
     },
     "execution_count": 47,
     "metadata": {},
     "output_type": "execute_result"
    },
    {
     "data": {
      "image/png": "[encoded data removed]",
      "text/plain": [
       "<Figure size 640x480 with 1 Axes>"
      ]
     },
     "metadata": {},
     "output_type": "display_data"
    }
   ],
   "source": [
    "#plot totaldemand_nsw_copy data using matplotlib with YEAR 2020 data\n",
    "totaldemand_nsw_copy[totaldemand_nsw_copy['YEAR'] == 2020].plot(x='DATE', y='TOTALDEMAND', title='Total Demand in NSW in 2010')"
   ]
  },
  {
   "cell_type": "code",
   "execution_count": 48,
   "metadata": {},
   "outputs": [
    {
     "data": {
      "text/plain": [
       "DATE\n",
       "2010-01-01    374464.94\n",
       "2010-01-02    384838.07\n",
       "2010-01-03    355195.18\n",
       "2010-01-04    395602.57\n",
       "2010-01-05    423735.03\n",
       "                ...    \n",
       "2021-03-14    340444.05\n",
       "2021-03-15    332669.89\n",
       "2021-03-16    351858.01\n",
       "2021-03-17    356553.02\n",
       "2021-03-18      7094.51\n",
       "Name: TOTALDEMAND, Length: 4095, dtype: float64"
      ]
     },
     "execution_count": 48,
     "metadata": {},
     "output_type": "execute_result"
    }
   ],
   "source": [
    "#create a dataframe with totaldemand_nsw_copy data aggregated by DATE\n",
    "total_demand_nsw_date = totaldemand_nsw_copy.groupby('DATE')['TOTALDEMAND'].sum()\n",
    "total_demand_nsw_date"
   ]
  },
  {
   "cell_type": "code",
   "execution_count": 49,
   "metadata": {},
   "outputs": [
    {
     "data": {
      "text/plain": [
       "DATE\n",
       "2020-01-01    339887.61\n",
       "2020-01-02    364425.94\n",
       "2020-01-03    403666.87\n",
       "2020-01-04    449051.87\n",
       "2020-01-05    349984.93\n",
       "                ...    \n",
       "2020-12-27    317503.11\n",
       "2020-12-28    322861.85\n",
       "2020-12-29    327193.07\n",
       "2020-12-30    329192.35\n",
       "2020-12-31    326846.72\n",
       "Name: TOTALDEMAND, Length: 366, dtype: float64"
      ]
     },
     "execution_count": 49,
     "metadata": {},
     "output_type": "execute_result"
    }
   ],
   "source": [
    "#create a dataframe with totaldemand_nsw_date data only for 2020\n",
    "total_demand_nsw_date_2020 = total_demand_nsw_date['2020']\n",
    "total_demand_nsw_date_2020"
   ]
  },
  {
   "cell_type": "code",
   "execution_count": 55,
   "metadata": {},
   "outputs": [
    {
     "data": {
      "text/plain": [
       "DATE\n",
       "2010-01-01    374464.94\n",
       "2010-01-02    384838.07\n",
       "2010-01-03    355195.18\n",
       "2010-01-04    395602.57\n",
       "2010-01-05    423735.03\n",
       "                ...    \n",
       "2021-03-14    340444.05\n",
       "2021-03-15    332669.89\n",
       "2021-03-16    351858.01\n",
       "2021-03-17    356553.02\n",
       "2021-03-18      7094.51\n",
       "Name: TOTALDEMAND, Length: 4095, dtype: float64"
      ]
     },
     "execution_count": 55,
     "metadata": {},
     "output_type": "execute_result"
    }
   ],
   "source": [
    "#create a dataframe with totaldemand_nsw_copy data aggregated by DATE\n",
    "total_demand_nsw_1 = totaldemand_nsw_copy.groupby('DATE')['TOTALDEMAND'].sum()\n",
    "total_demand_nsw_1"
   ]
  },
  {
   "cell_type": "code",
   "execution_count": 60,
   "metadata": {},
   "outputs": [
    {
     "data": {
      "text/plain": [
       "DATETIME        object\n",
       "TOTALDEMAND    float64\n",
       "REGIONID        object\n",
       "dtype: object"
      ]
     },
     "execution_count": 60,
     "metadata": {},
     "output_type": "execute_result"
    }
   ],
   "source": [
    "totaldemand_nsw.dtypes"
   ]
  },
  {
   "cell_type": "code",
   "execution_count": 61,
   "metadata": {},
   "outputs": [
    {
     "data": {
      "text/html": [
       "<div>\n",
       "<style scoped>\n",
       "    .dataframe tbody tr th:only-of-type {\n",
       "        vertical-align: middle;\n",
       "    }\n",
       "\n",
       "    .dataframe tbody tr th {\n",
       "        vertical-align: top;\n",
       "    }\n",
       "\n",
       "    .dataframe thead th {\n",
       "        text-align: right;\n",
       "    }\n",
       "</style>\n",
       "<table border=\"1\" class=\"dataframe\">\n",
       "  <thead>\n",
       "    <tr style=\"text-align: right;\">\n",
       "      <th></th>\n",
       "      <th>DATETIME</th>\n",
       "      <th>TOTALDEMAND</th>\n",
       "      <th>REGIONID</th>\n",
       "    </tr>\n",
       "  </thead>\n",
       "  <tbody>\n",
       "    <tr>\n",
       "      <th>0</th>\n",
       "      <td>1/1/2010 0:00</td>\n",
       "      <td>8038.00</td>\n",
       "      <td>NSW1</td>\n",
       "    </tr>\n",
       "    <tr>\n",
       "      <th>1</th>\n",
       "      <td>1/1/2010 0:30</td>\n",
       "      <td>7809.31</td>\n",
       "      <td>NSW1</td>\n",
       "    </tr>\n",
       "    <tr>\n",
       "      <th>2</th>\n",
       "      <td>1/1/2010 1:00</td>\n",
       "      <td>7483.69</td>\n",
       "      <td>NSW1</td>\n",
       "    </tr>\n",
       "    <tr>\n",
       "      <th>3</th>\n",
       "      <td>1/1/2010 1:30</td>\n",
       "      <td>7117.23</td>\n",
       "      <td>NSW1</td>\n",
       "    </tr>\n",
       "    <tr>\n",
       "      <th>4</th>\n",
       "      <td>1/1/2010 2:00</td>\n",
       "      <td>6812.03</td>\n",
       "      <td>NSW1</td>\n",
       "    </tr>\n",
       "  </tbody>\n",
       "</table>\n",
       "</div>"
      ],
      "text/plain": [
       "        DATETIME  TOTALDEMAND REGIONID\n",
       "0  1/1/2010 0:00      8038.00     NSW1\n",
       "1  1/1/2010 0:30      7809.31     NSW1\n",
       "2  1/1/2010 1:00      7483.69     NSW1\n",
       "3  1/1/2010 1:30      7117.23     NSW1\n",
       "4  1/1/2010 2:00      6812.03     NSW1"
      ]
     },
     "execution_count": 61,
     "metadata": {},
     "output_type": "execute_result"
    }
   ],
   "source": [
    "totaldemand_nsw.head()"
   ]
  },
  {
   "cell_type": "code",
   "execution_count": 62,
   "metadata": {},
   "outputs": [
    {
     "data": {
      "text/html": [
       "<div>\n",
       "<style scoped>\n",
       "    .dataframe tbody tr th:only-of-type {\n",
       "        vertical-align: middle;\n",
       "    }\n",
       "\n",
       "    .dataframe tbody tr th {\n",
       "        vertical-align: top;\n",
       "    }\n",
       "\n",
       "    .dataframe thead th {\n",
       "        text-align: right;\n",
       "    }\n",
       "</style>\n",
       "<table border=\"1\" class=\"dataframe\">\n",
       "  <thead>\n",
       "    <tr style=\"text-align: right;\">\n",
       "      <th></th>\n",
       "      <th>DATETIME</th>\n",
       "      <th>FORECASTDEMAND</th>\n",
       "    </tr>\n",
       "  </thead>\n",
       "  <tbody>\n",
       "    <tr>\n",
       "      <th>0</th>\n",
       "      <td>2010-01-01</td>\n",
       "      <td>7832.04</td>\n",
       "    </tr>\n",
       "    <tr>\n",
       "      <th>1</th>\n",
       "      <td>2010-01-01</td>\n",
       "      <td>7832.04</td>\n",
       "    </tr>\n",
       "    <tr>\n",
       "      <th>2</th>\n",
       "      <td>2010-01-01</td>\n",
       "      <td>7832.03</td>\n",
       "    </tr>\n",
       "    <tr>\n",
       "      <th>3</th>\n",
       "      <td>2010-01-01</td>\n",
       "      <td>7832.03</td>\n",
       "    </tr>\n",
       "    <tr>\n",
       "      <th>4</th>\n",
       "      <td>2010-01-01</td>\n",
       "      <td>7830.96</td>\n",
       "    </tr>\n",
       "    <tr>\n",
       "      <th>...</th>\n",
       "      <td>...</td>\n",
       "      <td>...</td>\n",
       "    </tr>\n",
       "    <tr>\n",
       "      <th>10906014</th>\n",
       "      <td>2021-03-18</td>\n",
       "      <td>7028.45</td>\n",
       "    </tr>\n",
       "    <tr>\n",
       "      <th>10906015</th>\n",
       "      <td>2021-03-18</td>\n",
       "      <td>7041.65</td>\n",
       "    </tr>\n",
       "    <tr>\n",
       "      <th>10906016</th>\n",
       "      <td>2021-03-18</td>\n",
       "      <td>7087.60</td>\n",
       "    </tr>\n",
       "    <tr>\n",
       "      <th>10906017</th>\n",
       "      <td>2021-03-18</td>\n",
       "      <td>7087.28</td>\n",
       "    </tr>\n",
       "    <tr>\n",
       "      <th>10906018</th>\n",
       "      <td>2021-03-18</td>\n",
       "      <td>7126.37</td>\n",
       "    </tr>\n",
       "  </tbody>\n",
       "</table>\n",
       "<p>10906019 rows × 2 columns</p>\n",
       "</div>"
      ],
      "text/plain": [
       "           DATETIME  FORECASTDEMAND\n",
       "0        2010-01-01         7832.04\n",
       "1        2010-01-01         7832.04\n",
       "2        2010-01-01         7832.03\n",
       "3        2010-01-01         7832.03\n",
       "4        2010-01-01         7830.96\n",
       "...             ...             ...\n",
       "10906014 2021-03-18         7028.45\n",
       "10906015 2021-03-18         7041.65\n",
       "10906016 2021-03-18         7087.60\n",
       "10906017 2021-03-18         7087.28\n",
       "10906018 2021-03-18         7126.37\n",
       "\n",
       "[10906019 rows x 2 columns]"
      ]
     },
     "execution_count": 62,
     "metadata": {},
     "output_type": "execute_result"
    }
   ],
   "source": [
    "#copy DATETIME and FORECASTDEMAND column to a new dataframe\n",
    "forecastdemand_nsw_daily = forecastdemand_nsw[['DATETIME', 'FORECASTDEMAND']].copy()\n",
    "forecastdemand_nsw_daily"
   ]
  },
  {
   "cell_type": "code",
   "execution_count": 63,
   "metadata": {},
   "outputs": [],
   "source": [
    "#convert DATE column to datetime object\n",
    "forecastdemand_nsw_daily['DATETIME'] = pd.to_datetime(forecastdemand_nsw_daily['DATETIME'])"
   ]
  },
  {
   "cell_type": "code",
   "execution_count": 64,
   "metadata": {},
   "outputs": [
    {
     "data": {
      "text/plain": [
       "DATETIME          datetime64[ns]\n",
       "FORECASTDEMAND           float64\n",
       "dtype: object"
      ]
     },
     "execution_count": 64,
     "metadata": {},
     "output_type": "execute_result"
    }
   ],
   "source": [
    "forecastdemand_nsw_daily.dtypes"
   ]
  },
  {
   "cell_type": "code",
   "execution_count": 65,
   "metadata": {},
   "outputs": [
    {
     "data": {
      "text/html": [
       "<div>\n",
       "<style scoped>\n",
       "    .dataframe tbody tr th:only-of-type {\n",
       "        vertical-align: middle;\n",
       "    }\n",
       "\n",
       "    .dataframe tbody tr th {\n",
       "        vertical-align: top;\n",
       "    }\n",
       "\n",
       "    .dataframe thead th {\n",
       "        text-align: right;\n",
       "    }\n",
       "</style>\n",
       "<table border=\"1\" class=\"dataframe\">\n",
       "  <thead>\n",
       "    <tr style=\"text-align: right;\">\n",
       "      <th></th>\n",
       "      <th>DATETIME</th>\n",
       "      <th>FORECASTDEMAND</th>\n",
       "      <th>DATE</th>\n",
       "    </tr>\n",
       "  </thead>\n",
       "  <tbody>\n",
       "    <tr>\n",
       "      <th>0</th>\n",
       "      <td>2010-01-01</td>\n",
       "      <td>7832.04</td>\n",
       "      <td>2010-01-01</td>\n",
       "    </tr>\n",
       "    <tr>\n",
       "      <th>1</th>\n",
       "      <td>2010-01-01</td>\n",
       "      <td>7832.04</td>\n",
       "      <td>2010-01-01</td>\n",
       "    </tr>\n",
       "    <tr>\n",
       "      <th>2</th>\n",
       "      <td>2010-01-01</td>\n",
       "      <td>7832.03</td>\n",
       "      <td>2010-01-01</td>\n",
       "    </tr>\n",
       "    <tr>\n",
       "      <th>3</th>\n",
       "      <td>2010-01-01</td>\n",
       "      <td>7832.03</td>\n",
       "      <td>2010-01-01</td>\n",
       "    </tr>\n",
       "    <tr>\n",
       "      <th>4</th>\n",
       "      <td>2010-01-01</td>\n",
       "      <td>7830.96</td>\n",
       "      <td>2010-01-01</td>\n",
       "    </tr>\n",
       "    <tr>\n",
       "      <th>...</th>\n",
       "      <td>...</td>\n",
       "      <td>...</td>\n",
       "      <td>...</td>\n",
       "    </tr>\n",
       "    <tr>\n",
       "      <th>10906014</th>\n",
       "      <td>2021-03-18</td>\n",
       "      <td>7028.45</td>\n",
       "      <td>2021-03-18</td>\n",
       "    </tr>\n",
       "    <tr>\n",
       "      <th>10906015</th>\n",
       "      <td>2021-03-18</td>\n",
       "      <td>7041.65</td>\n",
       "      <td>2021-03-18</td>\n",
       "    </tr>\n",
       "    <tr>\n",
       "      <th>10906016</th>\n",
       "      <td>2021-03-18</td>\n",
       "      <td>7087.60</td>\n",
       "      <td>2021-03-18</td>\n",
       "    </tr>\n",
       "    <tr>\n",
       "      <th>10906017</th>\n",
       "      <td>2021-03-18</td>\n",
       "      <td>7087.28</td>\n",
       "      <td>2021-03-18</td>\n",
       "    </tr>\n",
       "    <tr>\n",
       "      <th>10906018</th>\n",
       "      <td>2021-03-18</td>\n",
       "      <td>7126.37</td>\n",
       "      <td>2021-03-18</td>\n",
       "    </tr>\n",
       "  </tbody>\n",
       "</table>\n",
       "<p>10906019 rows × 3 columns</p>\n",
       "</div>"
      ],
      "text/plain": [
       "           DATETIME  FORECASTDEMAND        DATE\n",
       "0        2010-01-01         7832.04  2010-01-01\n",
       "1        2010-01-01         7832.04  2010-01-01\n",
       "2        2010-01-01         7832.03  2010-01-01\n",
       "3        2010-01-01         7832.03  2010-01-01\n",
       "4        2010-01-01         7830.96  2010-01-01\n",
       "...             ...             ...         ...\n",
       "10906014 2021-03-18         7028.45  2021-03-18\n",
       "10906015 2021-03-18         7041.65  2021-03-18\n",
       "10906016 2021-03-18         7087.60  2021-03-18\n",
       "10906017 2021-03-18         7087.28  2021-03-18\n",
       "10906018 2021-03-18         7126.37  2021-03-18\n",
       "\n",
       "[10906019 rows x 3 columns]"
      ]
     },
     "execution_count": 65,
     "metadata": {},
     "output_type": "execute_result"
    }
   ],
   "source": [
    "#create a new column DATE with only date from DATETIME column in forecastdemand_nsw_daily dataframe\n",
    "forecastdemand_nsw_daily['DATE'] = forecastdemand_nsw_daily['DATETIME'].dt.date\n",
    "forecastdemand_nsw_daily"
   ]
  },
  {
   "cell_type": "code",
   "execution_count": null,
   "metadata": {},
   "outputs": [],
   "source": []
  },
  {
   "cell_type": "code",
   "execution_count": 66,
   "metadata": {},
   "outputs": [
    {
     "data": {
      "text/plain": [
       "DATE\n",
       "2010-01-01    20640969.31\n",
       "2010-01-02    20686269.81\n",
       "2010-01-03    19879793.07\n",
       "2010-01-04    22557183.97\n",
       "2010-01-05    23402575.12\n",
       "                 ...     \n",
       "2021-03-14    18711971.46\n",
       "2021-03-15    18793446.56\n",
       "2021-03-16    19473031.17\n",
       "2021-03-17    19513448.59\n",
       "2021-03-18      494236.46\n",
       "Name: FORECASTDEMAND, Length: 4095, dtype: float64"
      ]
     },
     "execution_count": 66,
     "metadata": {},
     "output_type": "execute_result"
    }
   ],
   "source": [
    "#copy FORECASTDEMAND data aggregated by DATE in a new dataframe\n",
    "forecast_demand_nsw_date = forecastdemand_nsw_daily.groupby('DATE')['FORECASTDEMAND'].sum()\n",
    "forecast_demand_nsw_date"
   ]
  },
  {
   "cell_type": "code",
   "execution_count": 68,
   "metadata": {},
   "outputs": [
    {
     "data": {
      "text/plain": [
       "DATE\n",
       "2020-01-01    339887.61\n",
       "2020-01-02    364425.94\n",
       "2020-01-03    403666.87\n",
       "2020-01-04    449051.87\n",
       "2020-01-05    349984.93\n",
       "                ...    \n",
       "2020-12-27    317503.11\n",
       "2020-12-28    322861.85\n",
       "2020-12-29    327193.07\n",
       "2020-12-30    329192.35\n",
       "2020-12-31    326846.72\n",
       "Name: TOTALDEMAND, Length: 366, dtype: float64"
      ]
     },
     "execution_count": 68,
     "metadata": {},
     "output_type": "execute_result"
    }
   ],
   "source": [
    "total_demand_nsw_date_2020"
   ]
  },
  {
   "cell_type": "code",
   "execution_count": 69,
   "metadata": {},
   "outputs": [
    {
     "data": {
      "text/plain": [
       "DATE\n",
       "2010-01-01    20640969.31\n",
       "2010-01-02    20686269.81\n",
       "2010-01-03    19879793.07\n",
       "2010-01-04    22557183.97\n",
       "2010-01-05    23402575.12\n",
       "                 ...     \n",
       "2021-03-14    18711971.46\n",
       "2021-03-15    18793446.56\n",
       "2021-03-16    19473031.17\n",
       "2021-03-17    19513448.59\n",
       "2021-03-18      494236.46\n",
       "Name: FORECASTDEMAND, Length: 4095, dtype: float64"
      ]
     },
     "execution_count": 69,
     "metadata": {},
     "output_type": "execute_result"
    }
   ],
   "source": [
    "forecast_demand_nsw_date"
   ]
  },
  {
   "cell_type": "code",
   "execution_count": 70,
   "metadata": {},
   "outputs": [
    {
     "data": {
      "text/plain": [
       "dtype('float64')"
      ]
     },
     "execution_count": 70,
     "metadata": {},
     "output_type": "execute_result"
    }
   ],
   "source": [
    "forecast_demand_nsw_date.dtype"
   ]
  },
  {
   "cell_type": "code",
   "execution_count": 71,
   "metadata": {},
   "outputs": [
    {
     "data": {
      "text/html": [
       "<div>\n",
       "<style scoped>\n",
       "    .dataframe tbody tr th:only-of-type {\n",
       "        vertical-align: middle;\n",
       "    }\n",
       "\n",
       "    .dataframe tbody tr th {\n",
       "        vertical-align: top;\n",
       "    }\n",
       "\n",
       "    .dataframe thead th {\n",
       "        text-align: right;\n",
       "    }\n",
       "</style>\n",
       "<table border=\"1\" class=\"dataframe\">\n",
       "  <thead>\n",
       "    <tr style=\"text-align: right;\">\n",
       "      <th></th>\n",
       "      <th>FORECASTDEMAND</th>\n",
       "    </tr>\n",
       "    <tr>\n",
       "      <th>DATE</th>\n",
       "      <th></th>\n",
       "    </tr>\n",
       "  </thead>\n",
       "  <tbody>\n",
       "    <tr>\n",
       "      <th>2010-01-01</th>\n",
       "      <td>20640969.31</td>\n",
       "    </tr>\n",
       "    <tr>\n",
       "      <th>2010-01-02</th>\n",
       "      <td>20686269.81</td>\n",
       "    </tr>\n",
       "    <tr>\n",
       "      <th>2010-01-03</th>\n",
       "      <td>19879793.07</td>\n",
       "    </tr>\n",
       "    <tr>\n",
       "      <th>2010-01-04</th>\n",
       "      <td>22557183.97</td>\n",
       "    </tr>\n",
       "    <tr>\n",
       "      <th>2010-01-05</th>\n",
       "      <td>23402575.12</td>\n",
       "    </tr>\n",
       "    <tr>\n",
       "      <th>...</th>\n",
       "      <td>...</td>\n",
       "    </tr>\n",
       "    <tr>\n",
       "      <th>2021-03-14</th>\n",
       "      <td>18711971.46</td>\n",
       "    </tr>\n",
       "    <tr>\n",
       "      <th>2021-03-15</th>\n",
       "      <td>18793446.56</td>\n",
       "    </tr>\n",
       "    <tr>\n",
       "      <th>2021-03-16</th>\n",
       "      <td>19473031.17</td>\n",
       "    </tr>\n",
       "    <tr>\n",
       "      <th>2021-03-17</th>\n",
       "      <td>19513448.59</td>\n",
       "    </tr>\n",
       "    <tr>\n",
       "      <th>2021-03-18</th>\n",
       "      <td>494236.46</td>\n",
       "    </tr>\n",
       "  </tbody>\n",
       "</table>\n",
       "<p>4095 rows × 1 columns</p>\n",
       "</div>"
      ],
      "text/plain": [
       "            FORECASTDEMAND\n",
       "DATE                      \n",
       "2010-01-01     20640969.31\n",
       "2010-01-02     20686269.81\n",
       "2010-01-03     19879793.07\n",
       "2010-01-04     22557183.97\n",
       "2010-01-05     23402575.12\n",
       "...                    ...\n",
       "2021-03-14     18711971.46\n",
       "2021-03-15     18793446.56\n",
       "2021-03-16     19473031.17\n",
       "2021-03-17     19513448.59\n",
       "2021-03-18       494236.46\n",
       "\n",
       "[4095 rows x 1 columns]"
      ]
     },
     "execution_count": 71,
     "metadata": {},
     "output_type": "execute_result"
    }
   ],
   "source": [
    "#create a new dataframe with forecast_demand_nsw_date\n",
    "forecast_demand_nsw_date_df = pd.DataFrame(forecast_demand_nsw_date)\n",
    "forecast_demand_nsw_date_df\n"
   ]
  },
  {
   "cell_type": "code",
   "execution_count": 72,
   "metadata": {},
   "outputs": [
    {
     "data": {
      "text/plain": [
       "FORECASTDEMAND    float64\n",
       "dtype: object"
      ]
     },
     "execution_count": 72,
     "metadata": {},
     "output_type": "execute_result"
    }
   ],
   "source": [
    "forecast_demand_nsw_date_df.dtypes"
   ]
  },
  {
   "cell_type": "code",
   "execution_count": 73,
   "metadata": {},
   "outputs": [
    {
     "data": {
      "text/html": [
       "<div>\n",
       "<style scoped>\n",
       "    .dataframe tbody tr th:only-of-type {\n",
       "        vertical-align: middle;\n",
       "    }\n",
       "\n",
       "    .dataframe tbody tr th {\n",
       "        vertical-align: top;\n",
       "    }\n",
       "\n",
       "    .dataframe thead th {\n",
       "        text-align: right;\n",
       "    }\n",
       "</style>\n",
       "<table border=\"1\" class=\"dataframe\">\n",
       "  <thead>\n",
       "    <tr style=\"text-align: right;\">\n",
       "      <th></th>\n",
       "      <th>FORECASTDEMAND</th>\n",
       "    </tr>\n",
       "    <tr>\n",
       "      <th>DATE</th>\n",
       "      <th></th>\n",
       "    </tr>\n",
       "  </thead>\n",
       "  <tbody>\n",
       "    <tr>\n",
       "      <th>2010-01-01</th>\n",
       "      <td>20640969.31</td>\n",
       "    </tr>\n",
       "    <tr>\n",
       "      <th>2010-01-02</th>\n",
       "      <td>20686269.81</td>\n",
       "    </tr>\n",
       "    <tr>\n",
       "      <th>2010-01-03</th>\n",
       "      <td>19879793.07</td>\n",
       "    </tr>\n",
       "    <tr>\n",
       "      <th>2010-01-04</th>\n",
       "      <td>22557183.97</td>\n",
       "    </tr>\n",
       "    <tr>\n",
       "      <th>2010-01-05</th>\n",
       "      <td>23402575.12</td>\n",
       "    </tr>\n",
       "    <tr>\n",
       "      <th>...</th>\n",
       "      <td>...</td>\n",
       "    </tr>\n",
       "    <tr>\n",
       "      <th>2021-03-14</th>\n",
       "      <td>18711971.46</td>\n",
       "    </tr>\n",
       "    <tr>\n",
       "      <th>2021-03-15</th>\n",
       "      <td>18793446.56</td>\n",
       "    </tr>\n",
       "    <tr>\n",
       "      <th>2021-03-16</th>\n",
       "      <td>19473031.17</td>\n",
       "    </tr>\n",
       "    <tr>\n",
       "      <th>2021-03-17</th>\n",
       "      <td>19513448.59</td>\n",
       "    </tr>\n",
       "    <tr>\n",
       "      <th>2021-03-18</th>\n",
       "      <td>494236.46</td>\n",
       "    </tr>\n",
       "  </tbody>\n",
       "</table>\n",
       "<p>4095 rows × 1 columns</p>\n",
       "</div>"
      ],
      "text/plain": [
       "            FORECASTDEMAND\n",
       "DATE                      \n",
       "2010-01-01     20640969.31\n",
       "2010-01-02     20686269.81\n",
       "2010-01-03     19879793.07\n",
       "2010-01-04     22557183.97\n",
       "2010-01-05     23402575.12\n",
       "...                    ...\n",
       "2021-03-14     18711971.46\n",
       "2021-03-15     18793446.56\n",
       "2021-03-16     19473031.17\n",
       "2021-03-17     19513448.59\n",
       "2021-03-18       494236.46\n",
       "\n",
       "[4095 rows x 1 columns]"
      ]
     },
     "execution_count": 73,
     "metadata": {},
     "output_type": "execute_result"
    }
   ],
   "source": [
    "#reindex forecast_demand_nsw_date_df dataframe to DatetimeIndex\n",
    "forecast_demand_nsw_date_df.index = pd.to_datetime(forecast_demand_nsw_date_df.index)\n",
    "forecast_demand_nsw_date_df"
   ]
  },
  {
   "cell_type": "code",
   "execution_count": 74,
   "metadata": {},
   "outputs": [
    {
     "data": {
      "text/plain": [
       "FORECASTDEMAND    float64\n",
       "dtype: object"
      ]
     },
     "execution_count": 74,
     "metadata": {},
     "output_type": "execute_result"
    }
   ],
   "source": [
    "forecast_demand_nsw_date_df.dtypes"
   ]
  }
 ],
 "metadata": {
  "kernelspec": {
   "display_name": "zzsc9020-group3",
   "language": "python",
   "name": "python3"
  },
  "language_info": {
   "codemirror_mode": {
    "name": "ipython",
    "version": 3
   },
   "file_extension": ".py",
   "mimetype": "text/x-python",
   "name": "python",
   "nbconvert_exporter": "python",
   "pygments_lexer": "ipython3",
   "version": "3.10.13"
  }
 },
 "nbformat": 4,
 "nbformat_minor": 2
}
