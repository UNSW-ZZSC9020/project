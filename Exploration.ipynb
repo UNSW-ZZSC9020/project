{
 "cells": [
  {
   "cell_type": "code",
   "execution_count": 145,
   "id": "9a53e1b5-e3d8-4df6-92de-6b1d97c37f08",
   "metadata": {},
   "outputs": [],
   "source": [
    "import pandas as pd\n",
    "from glob import glob\n",
    "from re import match\n",
    "from missingno import matrix as mmatrix\n",
    "from matplotlib import pyplot as plt\n"
   ]
  },
  {
   "cell_type": "code",
   "execution_count": 77,
   "id": "7ff0158c-9a8f-4156-82a3-6816a1f1b4f6",
   "metadata": {},
   "outputs": [
    {
     "name": "stdout",
     "output_type": "stream",
     "text": [
      "forecastdemand_qld\n",
      "forecastdemand_sa\n",
      "forecastdemand_vic\n",
      "temprature_qld\n",
      "temprature_sa\n",
      "temprature_vic\n",
      "totaldemand_qld\n",
      "totaldemand_sa\n",
      "totaldemand_vic\n",
      "forecastdemand_nsw\n",
      "temperature_nsw\n",
      "totaldemand_nsw\n"
     ]
    }
   ],
   "source": [
    "CSVs = glob('data/*/*.csv')\n",
    "\n",
    "for csv in CSVs:\n",
    "    csv = csv.replace('\\\\', '/')\n",
    "    file = match(r'data.*/(.*?)\\.csv', csv).group(1)\n",
    "    print(file)\n",
    "    exec(f'{file} = pd.read_csv(\"{csv}\")')\n",
    "    exec(f'{file}[\"state\"] = \"{file.split('_')[-1].upper()}\"')\n"
   ]
  },
  {
   "cell_type": "code",
   "execution_count": 153,
   "id": "155af887-42ad-433d-b301-1cf4058c1824",
   "metadata": {},
   "outputs": [
    {
     "name": "stdout",
     "output_type": "stream",
     "text": [
      "DATETIME       0\n",
      "TOTALDEMAND    0\n",
      "state          0\n",
      "dtype: int64\n"
     ]
    },
    {
     "data": {
      "text/html": [
       "<div>\n",
       "<style scoped>\n",
       "    .dataframe tbody tr th:only-of-type {\n",
       "        vertical-align: middle;\n",
       "    }\n",
       "\n",
       "    .dataframe tbody tr th {\n",
       "        vertical-align: top;\n",
       "    }\n",
       "\n",
       "    .dataframe thead th {\n",
       "        text-align: right;\n",
       "    }\n",
       "</style>\n",
       "<table border=\"1\" class=\"dataframe\">\n",
       "  <thead>\n",
       "    <tr style=\"text-align: right;\">\n",
       "      <th></th>\n",
       "      <th>DATETIME</th>\n",
       "      <th>TOTALDEMAND</th>\n",
       "      <th>state</th>\n",
       "    </tr>\n",
       "  </thead>\n",
       "  <tbody>\n",
       "    <tr>\n",
       "      <th>0</th>\n",
       "      <td>2010-01-01 00:00:00</td>\n",
       "      <td>5561.21</td>\n",
       "      <td>QLD</td>\n",
       "    </tr>\n",
       "    <tr>\n",
       "      <th>1</th>\n",
       "      <td>2010-01-01 00:30:00</td>\n",
       "      <td>5422.25</td>\n",
       "      <td>QLD</td>\n",
       "    </tr>\n",
       "    <tr>\n",
       "      <th>2</th>\n",
       "      <td>2010-01-01 01:00:00</td>\n",
       "      <td>5315.98</td>\n",
       "      <td>QLD</td>\n",
       "    </tr>\n",
       "    <tr>\n",
       "      <th>3</th>\n",
       "      <td>2010-01-01 01:30:00</td>\n",
       "      <td>5186.70</td>\n",
       "      <td>QLD</td>\n",
       "    </tr>\n",
       "    <tr>\n",
       "      <th>4</th>\n",
       "      <td>2010-01-01 02:00:00</td>\n",
       "      <td>5050.83</td>\n",
       "      <td>QLD</td>\n",
       "    </tr>\n",
       "    <tr>\n",
       "      <th>...</th>\n",
       "      <td>...</td>\n",
       "      <td>...</td>\n",
       "      <td>...</td>\n",
       "    </tr>\n",
       "    <tr>\n",
       "      <th>786046</th>\n",
       "      <td>2021-03-17 22:00:00</td>\n",
       "      <td>7419.77</td>\n",
       "      <td>NSW</td>\n",
       "    </tr>\n",
       "    <tr>\n",
       "      <th>786047</th>\n",
       "      <td>2021-03-17 22:30:00</td>\n",
       "      <td>7417.91</td>\n",
       "      <td>NSW</td>\n",
       "    </tr>\n",
       "    <tr>\n",
       "      <th>786048</th>\n",
       "      <td>2021-03-17 23:00:00</td>\n",
       "      <td>7287.32</td>\n",
       "      <td>NSW</td>\n",
       "    </tr>\n",
       "    <tr>\n",
       "      <th>786049</th>\n",
       "      <td>2021-03-17 23:30:00</td>\n",
       "      <td>7172.39</td>\n",
       "      <td>NSW</td>\n",
       "    </tr>\n",
       "    <tr>\n",
       "      <th>786050</th>\n",
       "      <td>2021-03-18 00:00:00</td>\n",
       "      <td>7094.51</td>\n",
       "      <td>NSW</td>\n",
       "    </tr>\n",
       "  </tbody>\n",
       "</table>\n",
       "<p>786051 rows × 3 columns</p>\n",
       "</div>"
      ],
      "text/plain": [
       "                  DATETIME  TOTALDEMAND state\n",
       "0      2010-01-01 00:00:00      5561.21   QLD\n",
       "1      2010-01-01 00:30:00      5422.25   QLD\n",
       "2      2010-01-01 01:00:00      5315.98   QLD\n",
       "3      2010-01-01 01:30:00      5186.70   QLD\n",
       "4      2010-01-01 02:00:00      5050.83   QLD\n",
       "...                    ...          ...   ...\n",
       "786046 2021-03-17 22:00:00      7419.77   NSW\n",
       "786047 2021-03-17 22:30:00      7417.91   NSW\n",
       "786048 2021-03-17 23:00:00      7287.32   NSW\n",
       "786049 2021-03-17 23:30:00      7172.39   NSW\n",
       "786050 2021-03-18 00:00:00      7094.51   NSW\n",
       "\n",
       "[786051 rows x 3 columns]"
      ]
     },
     "execution_count": 153,
     "metadata": {},
     "output_type": "execute_result"
    }
   ],
   "source": [
    "dem = pd.concat([totaldemand_qld, totaldemand_sa, totaldemand_vic])\n",
    "\n",
    "dem.DATETIME = pd.to_datetime(dem.DATETIME, format=\"%Y-%m-%d %H:%M:%S\")\n",
    "totaldemand_nsw.DATETIME = pd.to_datetime(totaldemand_nsw.DATETIME, format=\"%d/%m/%Y %H:%M\")\n",
    "dem = pd.concat([dem, totaldemand_nsw]).reset_index(drop=True)\\\n",
    "    .drop(columns=['REGIONID'])\n",
    "\n",
    "print(dem.isnull().sum())\n",
    "\n",
    "dem\n"
   ]
  },
  {
   "cell_type": "code",
   "execution_count": null,
   "id": "dfad2928-a1f2-437e-b378-b9543e0c64b1",
   "metadata": {},
   "outputs": [],
   "source": []
  },
  {
   "cell_type": "code",
   "execution_count": 204,
   "id": "387b73c2-1074-4b2e-8ea4-e9227f9bdec9",
   "metadata": {},
   "outputs": [
    {
     "name": "stdout",
     "output_type": "stream",
     "text": [
      "PREDISPATCHSEQNO    0\n",
      "PERIODID            0\n",
      "FORECASTDEMAND      0\n",
      "LASTCHANGED         0\n",
      "DATETIME            0\n",
      "state               0\n",
      "dtype: int64\n"
     ]
    },
    {
     "data": {
      "text/html": [
       "<div>\n",
       "<style scoped>\n",
       "    .dataframe tbody tr th:only-of-type {\n",
       "        vertical-align: middle;\n",
       "    }\n",
       "\n",
       "    .dataframe tbody tr th {\n",
       "        vertical-align: top;\n",
       "    }\n",
       "\n",
       "    .dataframe thead th {\n",
       "        text-align: right;\n",
       "    }\n",
       "</style>\n",
       "<table border=\"1\" class=\"dataframe\">\n",
       "  <thead>\n",
       "    <tr style=\"text-align: right;\">\n",
       "      <th></th>\n",
       "      <th>PREDISPATCHSEQNO</th>\n",
       "      <th>PERIODID</th>\n",
       "      <th>FORECASTDEMAND</th>\n",
       "      <th>LASTCHANGED</th>\n",
       "      <th>DATETIME</th>\n",
       "      <th>state</th>\n",
       "    </tr>\n",
       "  </thead>\n",
       "  <tbody>\n",
       "    <tr>\n",
       "      <th>0</th>\n",
       "      <td>2016123018</td>\n",
       "      <td>71</td>\n",
       "      <td>6425.36</td>\n",
       "      <td>2016-12-30 12:31:25</td>\n",
       "      <td>2017-01-01 00:00:00</td>\n",
       "      <td>QLD</td>\n",
       "    </tr>\n",
       "    <tr>\n",
       "      <th>1</th>\n",
       "      <td>2016123018</td>\n",
       "      <td>72</td>\n",
       "      <td>6193.34</td>\n",
       "      <td>2016-12-30 12:31:25</td>\n",
       "      <td>2017-01-01 00:30:00</td>\n",
       "      <td>QLD</td>\n",
       "    </tr>\n",
       "    <tr>\n",
       "      <th>2</th>\n",
       "      <td>2016123018</td>\n",
       "      <td>73</td>\n",
       "      <td>6016.45</td>\n",
       "      <td>2016-12-30 12:31:25</td>\n",
       "      <td>2017-01-01 01:00:00</td>\n",
       "      <td>QLD</td>\n",
       "    </tr>\n",
       "    <tr>\n",
       "      <th>3</th>\n",
       "      <td>2016123018</td>\n",
       "      <td>74</td>\n",
       "      <td>5859.23</td>\n",
       "      <td>2016-12-30 12:31:25</td>\n",
       "      <td>2017-01-01 01:30:00</td>\n",
       "      <td>QLD</td>\n",
       "    </tr>\n",
       "    <tr>\n",
       "      <th>4</th>\n",
       "      <td>2016123018</td>\n",
       "      <td>75</td>\n",
       "      <td>5767.15</td>\n",
       "      <td>2016-12-30 12:31:25</td>\n",
       "      <td>2017-01-01 02:00:00</td>\n",
       "      <td>QLD</td>\n",
       "    </tr>\n",
       "    <tr>\n",
       "      <th>...</th>\n",
       "      <td>...</td>\n",
       "      <td>...</td>\n",
       "      <td>...</td>\n",
       "      <td>...</td>\n",
       "      <td>...</td>\n",
       "      <td>...</td>\n",
       "    </tr>\n",
       "    <tr>\n",
       "      <th>10906014</th>\n",
       "      <td>2021031736</td>\n",
       "      <td>5</td>\n",
       "      <td>7028.45</td>\n",
       "      <td>2021-03-17 21:31:31</td>\n",
       "      <td>2021-03-18 00:00:00</td>\n",
       "      <td>NSW</td>\n",
       "    </tr>\n",
       "    <tr>\n",
       "      <th>10906015</th>\n",
       "      <td>2021031737</td>\n",
       "      <td>4</td>\n",
       "      <td>7041.65</td>\n",
       "      <td>2021-03-17 22:01:34</td>\n",
       "      <td>2021-03-18 00:00:00</td>\n",
       "      <td>NSW</td>\n",
       "    </tr>\n",
       "    <tr>\n",
       "      <th>10906016</th>\n",
       "      <td>2021031738</td>\n",
       "      <td>3</td>\n",
       "      <td>7087.60</td>\n",
       "      <td>2021-03-17 22:31:36</td>\n",
       "      <td>2021-03-18 00:00:00</td>\n",
       "      <td>NSW</td>\n",
       "    </tr>\n",
       "    <tr>\n",
       "      <th>10906017</th>\n",
       "      <td>2021031739</td>\n",
       "      <td>2</td>\n",
       "      <td>7087.28</td>\n",
       "      <td>2021-03-17 23:01:36</td>\n",
       "      <td>2021-03-18 00:00:00</td>\n",
       "      <td>NSW</td>\n",
       "    </tr>\n",
       "    <tr>\n",
       "      <th>10906018</th>\n",
       "      <td>2021031740</td>\n",
       "      <td>1</td>\n",
       "      <td>7126.37</td>\n",
       "      <td>2021-03-17 23:31:33</td>\n",
       "      <td>2021-03-18 00:00:00</td>\n",
       "      <td>NSW</td>\n",
       "    </tr>\n",
       "  </tbody>\n",
       "</table>\n",
       "<p>23192795 rows × 6 columns</p>\n",
       "</div>"
      ],
      "text/plain": [
       "          PREDISPATCHSEQNO  PERIODID  FORECASTDEMAND         LASTCHANGED  \\\n",
       "0               2016123018        71         6425.36 2016-12-30 12:31:25   \n",
       "1               2016123018        72         6193.34 2016-12-30 12:31:25   \n",
       "2               2016123018        73         6016.45 2016-12-30 12:31:25   \n",
       "3               2016123018        74         5859.23 2016-12-30 12:31:25   \n",
       "4               2016123018        75         5767.15 2016-12-30 12:31:25   \n",
       "...                    ...       ...             ...                 ...   \n",
       "10906014        2021031736         5         7028.45 2021-03-17 21:31:31   \n",
       "10906015        2021031737         4         7041.65 2021-03-17 22:01:34   \n",
       "10906016        2021031738         3         7087.60 2021-03-17 22:31:36   \n",
       "10906017        2021031739         2         7087.28 2021-03-17 23:01:36   \n",
       "10906018        2021031740         1         7126.37 2021-03-17 23:31:33   \n",
       "\n",
       "                    DATETIME state  \n",
       "0        2017-01-01 00:00:00   QLD  \n",
       "1        2017-01-01 00:30:00   QLD  \n",
       "2        2017-01-01 01:00:00   QLD  \n",
       "3        2017-01-01 01:30:00   QLD  \n",
       "4        2017-01-01 02:00:00   QLD  \n",
       "...                      ...   ...  \n",
       "10906014 2021-03-18 00:00:00   NSW  \n",
       "10906015 2021-03-18 00:00:00   NSW  \n",
       "10906016 2021-03-18 00:00:00   NSW  \n",
       "10906017 2021-03-18 00:00:00   NSW  \n",
       "10906018 2021-03-18 00:00:00   NSW  \n",
       "\n",
       "[23192795 rows x 6 columns]"
      ]
     },
     "execution_count": 204,
     "metadata": {},
     "output_type": "execute_result"
    }
   ],
   "source": [
    "fore = pd.concat([\n",
    "    forecastdemand_qld, forecastdemand_sa, forecastdemand_vic, forecastdemand_nsw\n",
    "]).drop(columns=['REGIONID'])\n",
    "\n",
    "for col in [\"LASTCHANGED\", \"DATETIME\"]:\n",
    "    fore[col] = pd.to_datetime(fore[col], format=\"%Y-%m-%d %H:%M:%S\")\n",
    "\n",
    "print(fore.isnull().sum())\n",
    "\n",
    "fore\n"
   ]
  },
  {
   "cell_type": "code",
   "execution_count": null,
   "id": "876a25a4-036a-4fc9-b272-3a05ce44f706",
   "metadata": {},
   "outputs": [],
   "source": []
  },
  {
   "cell_type": "code",
   "execution_count": 162,
   "id": "c6e68f1e-e327-460d-9edb-1ba4bbc0f793",
   "metadata": {
    "scrolled": true
   },
   "outputs": [
    {
     "name": "stdout",
     "output_type": "stream",
     "text": [
      "DATETIME       0\n",
      "TEMPERATURE    0\n",
      "state          0\n",
      "dtype: int64\n"
     ]
    },
    {
     "data": {
      "text/html": [
       "<div>\n",
       "<style scoped>\n",
       "    .dataframe tbody tr th:only-of-type {\n",
       "        vertical-align: middle;\n",
       "    }\n",
       "\n",
       "    .dataframe tbody tr th {\n",
       "        vertical-align: top;\n",
       "    }\n",
       "\n",
       "    .dataframe thead th {\n",
       "        text-align: right;\n",
       "    }\n",
       "</style>\n",
       "<table border=\"1\" class=\"dataframe\">\n",
       "  <thead>\n",
       "    <tr style=\"text-align: right;\">\n",
       "      <th></th>\n",
       "      <th>DATETIME</th>\n",
       "      <th>TEMPERATURE</th>\n",
       "      <th>state</th>\n",
       "    </tr>\n",
       "  </thead>\n",
       "  <tbody>\n",
       "    <tr>\n",
       "      <th>0</th>\n",
       "      <td>2010-01-01 00:00:00</td>\n",
       "      <td>23.6</td>\n",
       "      <td>QLD</td>\n",
       "    </tr>\n",
       "    <tr>\n",
       "      <th>1</th>\n",
       "      <td>2010-01-01 00:30:00</td>\n",
       "      <td>23.7</td>\n",
       "      <td>QLD</td>\n",
       "    </tr>\n",
       "    <tr>\n",
       "      <th>2</th>\n",
       "      <td>2010-01-01 01:00:00</td>\n",
       "      <td>23.5</td>\n",
       "      <td>QLD</td>\n",
       "    </tr>\n",
       "    <tr>\n",
       "      <th>3</th>\n",
       "      <td>2010-01-01 01:30:00</td>\n",
       "      <td>22.6</td>\n",
       "      <td>QLD</td>\n",
       "    </tr>\n",
       "    <tr>\n",
       "      <th>4</th>\n",
       "      <td>2010-01-01 02:00:00</td>\n",
       "      <td>22.0</td>\n",
       "      <td>QLD</td>\n",
       "    </tr>\n",
       "    <tr>\n",
       "      <th>...</th>\n",
       "      <td>...</td>\n",
       "      <td>...</td>\n",
       "      <td>...</td>\n",
       "    </tr>\n",
       "    <tr>\n",
       "      <th>778172</th>\n",
       "      <td>2021-03-17 22:00:00</td>\n",
       "      <td>19.6</td>\n",
       "      <td>SA</td>\n",
       "    </tr>\n",
       "    <tr>\n",
       "      <th>778173</th>\n",
       "      <td>2021-03-17 22:30:00</td>\n",
       "      <td>19.5</td>\n",
       "      <td>SA</td>\n",
       "    </tr>\n",
       "    <tr>\n",
       "      <th>778174</th>\n",
       "      <td>2021-03-17 23:00:00</td>\n",
       "      <td>19.4</td>\n",
       "      <td>SA</td>\n",
       "    </tr>\n",
       "    <tr>\n",
       "      <th>778175</th>\n",
       "      <td>2021-03-17 23:30:00</td>\n",
       "      <td>19.6</td>\n",
       "      <td>SA</td>\n",
       "    </tr>\n",
       "    <tr>\n",
       "      <th>778176</th>\n",
       "      <td>2021-03-18 00:00:00</td>\n",
       "      <td>19.5</td>\n",
       "      <td>SA</td>\n",
       "    </tr>\n",
       "  </tbody>\n",
       "</table>\n",
       "<p>778177 rows × 3 columns</p>\n",
       "</div>"
      ],
      "text/plain": [
       "                  DATETIME  TEMPERATURE state\n",
       "0      2010-01-01 00:00:00         23.6   QLD\n",
       "1      2010-01-01 00:30:00         23.7   QLD\n",
       "2      2010-01-01 01:00:00         23.5   QLD\n",
       "3      2010-01-01 01:30:00         22.6   QLD\n",
       "4      2010-01-01 02:00:00         22.0   QLD\n",
       "...                    ...          ...   ...\n",
       "778172 2021-03-17 22:00:00         19.6    SA\n",
       "778173 2021-03-17 22:30:00         19.5    SA\n",
       "778174 2021-03-17 23:00:00         19.4    SA\n",
       "778175 2021-03-17 23:30:00         19.6    SA\n",
       "778176 2021-03-18 00:00:00         19.5    SA\n",
       "\n",
       "[778177 rows x 3 columns]"
      ]
     },
     "execution_count": 162,
     "metadata": {},
     "output_type": "execute_result"
    }
   ],
   "source": [
    "temp = pd.concat([temprature_qld, temperature_nsw, temprature_vic])\n",
    "temp.DATETIME = pd.to_datetime(temp.DATETIME, format=\"%d/%m/%Y %H:%M\")\n",
    "\n",
    "temprature_sa.DATETIME = pd.to_datetime(temprature_sa.DATETIME, format=\"%Y-%m-%d %H:%M:%S\")\n",
    "temp = pd.concat([temp, temprature_sa])\\\n",
    "    .drop(columns = ['Unnamed: 0', 'LOCATION']).reset_index(drop=True)\n",
    "\n",
    "print(temp.isnull().sum())\n",
    "\n",
    "temp\n"
   ]
  },
  {
   "cell_type": "code",
   "execution_count": 171,
   "id": "998541bb-8fc2-42fe-bf98-1c6a9e7cc685",
   "metadata": {},
   "outputs": [
    {
     "data": {
      "text/plain": [
       "<Axes: >"
      ]
     },
     "execution_count": 171,
     "metadata": {},
     "output_type": "execute_result"
    },
    {
     "data": {
      "image/png": "[encoded data removed]",
      "text/plain": [
       "<Figure size 2500x1000 with 2 Axes>"
      ]
     },
     "metadata": {},
     "output_type": "display_data"
    }
   ],
   "source": [
    "mmatrix(pd.merge(temp, dem, on=['DATETIME', 'state'], how='outer'))\n"
   ]
  },
  {
   "cell_type": "code",
   "execution_count": null,
   "id": "de0dc4b3-bc84-444b-a3d4-7aa4b9599a33",
   "metadata": {},
   "outputs": [],
   "source": []
  },
  {
   "cell_type": "code",
   "execution_count": null,
   "id": "266308a6-9592-4a8e-b04f-6c91f1ce98b2",
   "metadata": {
    "scrolled": true
   },
   "outputs": [],
   "source": []
  },
  {
   "cell_type": "code",
   "execution_count": null,
   "id": "e82b904c-8759-4d8b-b16e-142de21921ec",
   "metadata": {},
   "outputs": [],
   "source": []
  },
  {
   "cell_type": "code",
   "execution_count": null,
   "id": "d0f4a700-0807-48fb-b563-dfbac4293512",
   "metadata": {},
   "outputs": [],
   "source": []
  },
  {
   "cell_type": "code",
   "execution_count": null,
   "id": "108763e1-9dd0-4384-a67f-ad53ff6f96d1",
   "metadata": {},
   "outputs": [],
   "source": []
  },
  {
   "cell_type": "code",
   "execution_count": 121,
   "id": "b0943845-bec1-41f8-96f1-076b9f9f142a",
   "metadata": {},
   "outputs": [],
   "source": [
    "from pymongo.mongo_client import MongoClient\n",
    "from pymongo.server_api import ServerApi\n",
    "from urllib.parse import quote_plus\n"
   ]
  },
  {
   "cell_type": "code",
   "execution_count": 132,
   "id": "3ec5b50d-0db8-426c-8296-9792205dc9f3",
   "metadata": {},
   "outputs": [
    {
     "name": "stdout",
     "output_type": "stream",
     "text": [
      "Pinged your deployment. You successfully connected to MongoDB!\n"
     ]
    }
   ],
   "source": [
    "uri = \"mongodb+srv://<user>:<password>@project-data.cfluj8d.mongodb.net/?retryWrites=true&w=majority&appName=project-data\"\\\n",
    "    .replace('<user>', quote_plus(user)).replace('<password>', quote_plus(psw))\n",
    "\n",
    "# Create a new client and connect to the server\n",
    "client = MongoClient(uri, server_api=ServerApi('1'))\n",
    "\n",
    "# Send a ping to confirm a successful connection\n",
    "client.admin.command('ping')\n",
    "print(\"Pinged your deployment. You successfully connected to MongoDB!\")\n",
    "\n"
   ]
  },
  {
   "cell_type": "code",
   "execution_count": 207,
   "id": "82f35755-48ea-4723-a05e-097bd4b2fc60",
   "metadata": {},
   "outputs": [
    {
     "name": "stdout",
     "output_type": "stream",
     "text": [
      "['data', 'admin']\n",
      "['forecast_demand', 'total_demand', 'temperature']\n"
     ]
    }
   ],
   "source": [
    "print(client.list_database_names())\n"
   ]
  },
  {
   "cell_type": "code",
   "execution_count": 208,
   "id": "0a785ab5-9e04-4046-9bdb-53a98dcfeedb",
   "metadata": {},
   "outputs": [],
   "source": [
    "# client['data']['temperature'].insert_many(temp.to_dict(orient='records'))\n",
    "# client['data']['total_demand'].insert_many(dem.to_dict(orient='records'))\n",
    "# client['data']['forecast_demand'].insert_many(fore.to_dict(orient='records'))\n"
   ]
  },
  {
   "cell_type": "code",
   "execution_count": 210,
   "id": "81e8dc8e-439b-4f48-b87b-bd8020af9024",
   "metadata": {},
   "outputs": [
    {
     "name": "stdout",
     "output_type": "stream",
     "text": [
      "forecast_demand: 23,192,795 records\n",
      "total_demand: 786,051 records\n",
      "temperature: 778,177 records\n"
     ]
    }
   ],
   "source": [
    "for col in client['data'].list_collection_names():\n",
    "    print(f\"{col}: {client['data'][col].count_documents({}):,} records\")\n",
    "    "
   ]
  },
  {
   "cell_type": "code",
   "execution_count": null,
   "id": "f313bd30-9565-4e6d-8857-2cc0338d3469",
   "metadata": {},
   "outputs": [],
   "source": []
  },
  {
   "cell_type": "code",
   "execution_count": null,
   "id": "826063ca-964f-488e-841e-205a180073d3",
   "metadata": {},
   "outputs": [],
   "source": []
  },
  {
   "cell_type": "code",
   "execution_count": null,
   "id": "fd2e4b24-f105-4408-9694-dad5af9f4e23",
   "metadata": {},
   "outputs": [],
   "source": []
  },
  {
   "cell_type": "code",
   "execution_count": null,
   "id": "dab67998-da5e-49c4-a4ec-8e494e979476",
   "metadata": {},
   "outputs": [],
   "source": []
  },
  {
   "cell_type": "code",
   "execution_count": null,
   "id": "94f6e7f4-b4ef-4962-9977-21b5ef920894",
   "metadata": {},
   "outputs": [],
   "source": []
  },
  {
   "cell_type": "code",
   "execution_count": null,
   "id": "720a060e-8dff-4937-b832-39bd33afdb59",
   "metadata": {},
   "outputs": [],
   "source": []
  },
  {
   "cell_type": "code",
   "execution_count": null,
   "id": "901cd93b-0345-4a9c-8bbe-b61bfea7f59a",
   "metadata": {},
   "outputs": [],
   "source": []
  },
  {
   "cell_type": "code",
   "execution_count": null,
   "id": "e205e906-be4d-4f4e-88fd-b2ab6f80182f",
   "metadata": {},
   "outputs": [],
   "source": []
  },
  {
   "cell_type": "code",
   "execution_count": null,
   "id": "6b37b1f4-ebf8-4adc-a810-8e7c4924e091",
   "metadata": {},
   "outputs": [],
   "source": []
  },
  {
   "cell_type": "code",
   "execution_count": null,
   "id": "6807373e-925c-481a-9f68-d15a084c8662",
   "metadata": {},
   "outputs": [],
   "source": []
  },
  {
   "cell_type": "code",
   "execution_count": null,
   "id": "58476a86-1e3c-4b32-8eee-9d872453aaf7",
   "metadata": {},
   "outputs": [],
   "source": []
  },
  {
   "cell_type": "code",
   "execution_count": null,
   "id": "ed0c2de9-6ae5-4829-8d3b-a807d5c6df62",
   "metadata": {},
   "outputs": [],
   "source": []
  },
  {
   "cell_type": "code",
   "execution_count": null,
   "id": "d92b02fc-f474-43f1-aed9-1c2c117c4967",
   "metadata": {},
   "outputs": [],
   "source": []
  },
  {
   "cell_type": "code",
   "execution_count": null,
   "id": "7d28a515-09af-4ecd-a019-ecd0c201ce5a",
   "metadata": {},
   "outputs": [],
   "source": []
  },
  {
   "cell_type": "code",
   "execution_count": null,
   "id": "3a55a95b-090d-4b40-84e6-086ab0571252",
   "metadata": {},
   "outputs": [],
   "source": []
  },
  {
   "cell_type": "code",
   "execution_count": null,
   "id": "a70c941e-5812-44ff-866e-54d1bbaccad2",
   "metadata": {},
   "outputs": [],
   "source": []
  },
  {
   "cell_type": "code",
   "execution_count": null,
   "id": "48fd749b-5f73-4e33-b5e0-08c3d727d268",
   "metadata": {},
   "outputs": [],
   "source": []
  },
  {
   "cell_type": "code",
   "execution_count": null,
   "id": "e4718ef0-9d55-421e-9e18-105fca161e05",
   "metadata": {},
   "outputs": [],
   "source": []
  },
  {
   "cell_type": "code",
   "execution_count": null,
   "id": "29126113-fe7a-4815-8e55-f1b699cd6efd",
   "metadata": {},
   "outputs": [],
   "source": []
  },
  {
   "cell_type": "code",
   "execution_count": null,
   "id": "d5e36a6a-7e0e-419b-ba33-2a300f809da0",
   "metadata": {},
   "outputs": [],
   "source": []
  },
  {
   "cell_type": "code",
   "execution_count": null,
   "id": "101d7d72-2e19-4979-b40e-961e4d6cca73",
   "metadata": {},
   "outputs": [],
   "source": []
  },
  {
   "cell_type": "code",
   "execution_count": null,
   "id": "fe4703f0-c93d-480a-83e2-68362da9cf86",
   "metadata": {},
   "outputs": [],
   "source": []
  },
  {
   "cell_type": "code",
   "execution_count": null,
   "id": "458c2d6a-5f01-41c4-85e7-2ef385d8702c",
   "metadata": {},
   "outputs": [],
   "source": []
  },
  {
   "cell_type": "code",
   "execution_count": null,
   "id": "6a11608e-b896-4943-829f-116c6e8658f2",
   "metadata": {},
   "outputs": [],
   "source": []
  },
  {
   "cell_type": "code",
   "execution_count": null,
   "id": "3e4cbf90-caa8-4d9c-aab2-c8469117cb78",
   "metadata": {},
   "outputs": [],
   "source": []
  },
  {
   "cell_type": "code",
   "execution_count": null,
   "id": "3481cfe2-6bd1-4583-be83-8b203647d6f6",
   "metadata": {},
   "outputs": [],
   "source": []
  },
  {
   "cell_type": "code",
   "execution_count": null,
   "id": "42965461-7eff-4722-8617-ce80c6c2f0fc",
   "metadata": {},
   "outputs": [],
   "source": []
  },
  {
   "cell_type": "code",
   "execution_count": null,
   "id": "607f014d-bc14-414a-8d49-46965d2f92c7",
   "metadata": {},
   "outputs": [],
   "source": []
  },
  {
   "cell_type": "code",
   "execution_count": null,
   "id": "8243060a-ce43-485d-a07d-92d1c0b4d5f3",
   "metadata": {},
   "outputs": [],
   "source": []
  },
  {
   "cell_type": "code",
   "execution_count": null,
   "id": "461ce264-a66d-4858-98d3-8207748c0953",
   "metadata": {},
   "outputs": [],
   "source": []
  }
 ],
 "metadata": {
  "kernelspec": {
   "display_name": "Python 3 (ipykernel)",
   "language": "python",
   "name": "python3"
  },
  "language_info": {
   "codemirror_mode": {
    "name": "ipython",
    "version": 3
   },
   "file_extension": ".py",
   "mimetype": "text/x-python",
   "name": "python",
   "nbconvert_exporter": "python",
   "pygments_lexer": "ipython3",
   "version": "3.12.0"
  }
 },
 "nbformat": 4,
 "nbformat_minor": 5
}
